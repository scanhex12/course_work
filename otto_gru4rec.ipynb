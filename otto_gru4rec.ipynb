{
  "cells": [
    {
      "cell_type": "code",
      "execution_count": null,
      "id": "02bd31bd",
      "metadata": {
        "execution": {
          "iopub.execute_input": "2022-12-18T23:41:55.294943Z",
          "iopub.status.busy": "2022-12-18T23:41:55.294543Z",
          "iopub.status.idle": "2022-12-18T23:42:07.739344Z",
          "shell.execute_reply": "2022-12-18T23:42:07.738169Z"
        },
        "papermill": {
          "duration": 12.452762,
          "end_time": "2022-12-18T23:42:07.742275",
          "exception": false,
          "start_time": "2022-12-18T23:41:55.289513",
          "status": "completed"
        },
        "tags": [],
        "id": "02bd31bd",
        "outputId": "3ac8c1fa-065d-478b-883d-228ba7083f92"
      },
      "outputs": [
        {
          "name": "stdout",
          "output_type": "stream",
          "text": [
            "Collecting polars\r\n",
            "  Downloading polars-0.15.7-cp37-abi3-manylinux_2_17_x86_64.manylinux2014_x86_64.whl (14.6 MB)\r\n",
            "\u001b[2K     \u001b[90m━━━━━━━━━━━━━━━━━━━━━━━━━━━━━━━━━━━━━━━━\u001b[0m \u001b[32m14.6/14.6 MB\u001b[0m \u001b[31m24.9 MB/s\u001b[0m eta \u001b[36m0:00:00\u001b[0m\r\n",
            "\u001b[?25hRequirement already satisfied: typing_extensions>=4.0.0 in /opt/conda/lib/python3.7/site-packages (from polars) (4.1.1)\r\n",
            "Installing collected packages: polars\r\n",
            "Successfully installed polars-0.15.7\r\n",
            "\u001b[33mWARNING: Running pip as the 'root' user can result in broken permissions and conflicting behaviour with the system package manager. It is recommended to use a virtual environment instead: https://pip.pypa.io/warnings/venv\u001b[0m\u001b[33m\r\n",
            "\u001b[0m"
          ]
        }
      ],
      "source": [
        "!pip install polars"
      ]
    },
    {
      "cell_type": "code",
      "execution_count": null,
      "id": "d436e3b9",
      "metadata": {
        "execution": {
          "iopub.execute_input": "2022-12-18T23:42:07.754731Z",
          "iopub.status.busy": "2022-12-18T23:42:07.754417Z",
          "iopub.status.idle": "2022-12-18T23:42:19.544581Z",
          "shell.execute_reply": "2022-12-18T23:42:19.543379Z"
        },
        "papermill": {
          "duration": 11.799375,
          "end_time": "2022-12-18T23:42:19.547332",
          "exception": false,
          "start_time": "2022-12-18T23:42:07.747957",
          "status": "completed"
        },
        "tags": [],
        "id": "d436e3b9",
        "outputId": "3254a9aa-c6aa-4376-b0aa-af812d8cbb99"
      },
      "outputs": [
        {
          "name": "stdout",
          "output_type": "stream",
          "text": [
            "Collecting recbole\r\n",
            "  Downloading recbole-1.1.1-py3-none-any.whl (2.1 MB)\r\n",
            "\u001b[2K     \u001b[90m━━━━━━━━━━━━━━━━━━━━━━━━━━━━━━━━━━━━━━━━\u001b[0m \u001b[32m2.1/2.1 MB\u001b[0m \u001b[31m4.1 MB/s\u001b[0m eta \u001b[36m0:00:00\u001b[0m\r\n",
            "\u001b[?25hCollecting thop>=0.1.1.post2207130030\r\n",
            "  Downloading thop-0.1.1.post2209072238-py3-none-any.whl (15 kB)\r\n",
            "Requirement already satisfied: scikit-learn>=0.23.2 in /opt/conda/lib/python3.7/site-packages (from recbole) (1.0.2)\r\n",
            "Requirement already satisfied: pandas>=1.0.5 in /opt/conda/lib/python3.7/site-packages (from recbole) (1.3.5)\r\n",
            "Requirement already satisfied: plotly>=4.0.0 in /opt/conda/lib/python3.7/site-packages (from recbole) (5.10.0)\r\n",
            "Collecting colorama==0.4.4\r\n",
            "  Downloading colorama-0.4.4-py2.py3-none-any.whl (16 kB)\r\n",
            "Requirement already satisfied: torch>=1.10.0 in /opt/conda/lib/python3.7/site-packages (from recbole) (1.11.0)\r\n",
            "Requirement already satisfied: tabulate>=0.8.10 in /opt/conda/lib/python3.7/site-packages (from recbole) (0.9.0)\r\n",
            "Requirement already satisfied: pyyaml>=5.1.0 in /opt/conda/lib/python3.7/site-packages (from recbole) (6.0)\r\n",
            "Collecting colorlog==4.7.2\r\n",
            "  Downloading colorlog-4.7.2-py2.py3-none-any.whl (10 kB)\r\n",
            "Requirement already satisfied: tensorboard>=2.5.0 in /opt/conda/lib/python3.7/site-packages (from recbole) (2.10.1)\r\n",
            "Requirement already satisfied: numpy>=1.17.2 in /opt/conda/lib/python3.7/site-packages (from recbole) (1.21.6)\r\n",
            "Requirement already satisfied: tqdm>=4.48.2 in /opt/conda/lib/python3.7/site-packages (from recbole) (4.64.0)\r\n",
            "Requirement already satisfied: scipy>=1.6.0 in /opt/conda/lib/python3.7/site-packages (from recbole) (1.7.3)\r\n",
            "Requirement already satisfied: python-dateutil>=2.7.3 in /opt/conda/lib/python3.7/site-packages (from pandas>=1.0.5->recbole) (2.8.2)\r\n",
            "Requirement already satisfied: pytz>=2017.3 in /opt/conda/lib/python3.7/site-packages (from pandas>=1.0.5->recbole) (2022.1)\r\n",
            "Requirement already satisfied: tenacity>=6.2.0 in /opt/conda/lib/python3.7/site-packages (from plotly>=4.0.0->recbole) (8.0.1)\r\n",
            "Requirement already satisfied: threadpoolctl>=2.0.0 in /opt/conda/lib/python3.7/site-packages (from scikit-learn>=0.23.2->recbole) (3.1.0)\r\n",
            "Requirement already satisfied: joblib>=0.11 in /opt/conda/lib/python3.7/site-packages (from scikit-learn>=0.23.2->recbole) (1.0.1)\r\n",
            "Requirement already satisfied: wheel>=0.26 in /opt/conda/lib/python3.7/site-packages (from tensorboard>=2.5.0->recbole) (0.37.1)\r\n",
            "Requirement already satisfied: tensorboard-plugin-wit>=1.6.0 in /opt/conda/lib/python3.7/site-packages (from tensorboard>=2.5.0->recbole) (1.8.1)\r\n",
            "Requirement already satisfied: google-auth-oauthlib<0.5,>=0.4.1 in /opt/conda/lib/python3.7/site-packages (from tensorboard>=2.5.0->recbole) (0.4.6)\r\n",
            "Requirement already satisfied: google-auth<3,>=1.6.3 in /opt/conda/lib/python3.7/site-packages (from tensorboard>=2.5.0->recbole) (1.35.0)\r\n",
            "Requirement already satisfied: requests<3,>=2.21.0 in /opt/conda/lib/python3.7/site-packages (from tensorboard>=2.5.0->recbole) (2.28.1)\r\n",
            "Requirement already satisfied: grpcio>=1.24.3 in /opt/conda/lib/python3.7/site-packages (from tensorboard>=2.5.0->recbole) (1.43.0)\r\n",
            "Requirement already satisfied: setuptools>=41.0.0 in /opt/conda/lib/python3.7/site-packages (from tensorboard>=2.5.0->recbole) (59.8.0)\r\n",
            "Requirement already satisfied: tensorboard-data-server<0.7.0,>=0.6.0 in /opt/conda/lib/python3.7/site-packages (from tensorboard>=2.5.0->recbole) (0.6.1)\r\n",
            "Requirement already satisfied: absl-py>=0.4 in /opt/conda/lib/python3.7/site-packages (from tensorboard>=2.5.0->recbole) (0.15.0)\r\n",
            "Requirement already satisfied: werkzeug>=1.0.1 in /opt/conda/lib/python3.7/site-packages (from tensorboard>=2.5.0->recbole) (2.2.2)\r\n",
            "Requirement already satisfied: markdown>=2.6.8 in /opt/conda/lib/python3.7/site-packages (from tensorboard>=2.5.0->recbole) (3.3.7)\r\n",
            "Requirement already satisfied: protobuf<3.20,>=3.9.2 in /opt/conda/lib/python3.7/site-packages (from tensorboard>=2.5.0->recbole) (3.19.4)\r\n",
            "Requirement already satisfied: typing-extensions in /opt/conda/lib/python3.7/site-packages (from torch>=1.10.0->recbole) (4.1.1)\r\n",
            "Requirement already satisfied: six in /opt/conda/lib/python3.7/site-packages (from absl-py>=0.4->tensorboard>=2.5.0->recbole) (1.15.0)\r\n",
            "Requirement already satisfied: cachetools<5.0,>=2.0.0 in /opt/conda/lib/python3.7/site-packages (from google-auth<3,>=1.6.3->tensorboard>=2.5.0->recbole) (4.2.4)\r\n",
            "Requirement already satisfied: rsa<5,>=3.1.4 in /opt/conda/lib/python3.7/site-packages (from google-auth<3,>=1.6.3->tensorboard>=2.5.0->recbole) (4.8)\r\n",
            "Requirement already satisfied: pyasn1-modules>=0.2.1 in /opt/conda/lib/python3.7/site-packages (from google-auth<3,>=1.6.3->tensorboard>=2.5.0->recbole) (0.2.7)\r\n",
            "Requirement already satisfied: requests-oauthlib>=0.7.0 in /opt/conda/lib/python3.7/site-packages (from google-auth-oauthlib<0.5,>=0.4.1->tensorboard>=2.5.0->recbole) (1.3.1)\r\n",
            "Requirement already satisfied: importlib-metadata>=4.4 in /opt/conda/lib/python3.7/site-packages (from markdown>=2.6.8->tensorboard>=2.5.0->recbole) (4.13.0)\r\n",
            "Requirement already satisfied: idna<4,>=2.5 in /opt/conda/lib/python3.7/site-packages (from requests<3,>=2.21.0->tensorboard>=2.5.0->recbole) (3.3)\r\n",
            "Requirement already satisfied: charset-normalizer<3,>=2 in /opt/conda/lib/python3.7/site-packages (from requests<3,>=2.21.0->tensorboard>=2.5.0->recbole) (2.1.0)\r\n",
            "Requirement already satisfied: certifi>=2017.4.17 in /opt/conda/lib/python3.7/site-packages (from requests<3,>=2.21.0->tensorboard>=2.5.0->recbole) (2022.9.24)\r\n",
            "Requirement already satisfied: urllib3<1.27,>=1.21.1 in /opt/conda/lib/python3.7/site-packages (from requests<3,>=2.21.0->tensorboard>=2.5.0->recbole) (1.26.12)\r\n",
            "Requirement already satisfied: MarkupSafe>=2.1.1 in /opt/conda/lib/python3.7/site-packages (from werkzeug>=1.0.1->tensorboard>=2.5.0->recbole) (2.1.1)\r\n",
            "Requirement already satisfied: zipp>=0.5 in /opt/conda/lib/python3.7/site-packages (from importlib-metadata>=4.4->markdown>=2.6.8->tensorboard>=2.5.0->recbole) (3.8.0)\r\n",
            "Requirement already satisfied: pyasn1<0.5.0,>=0.4.6 in /opt/conda/lib/python3.7/site-packages (from pyasn1-modules>=0.2.1->google-auth<3,>=1.6.3->tensorboard>=2.5.0->recbole) (0.4.8)\r\n",
            "Requirement already satisfied: oauthlib>=3.0.0 in /opt/conda/lib/python3.7/site-packages (from requests-oauthlib>=0.7.0->google-auth-oauthlib<0.5,>=0.4.1->tensorboard>=2.5.0->recbole) (3.2.0)\r\n",
            "Installing collected packages: colorlog, colorama, thop, recbole\r\n",
            "  Attempting uninstall: colorlog\r\n",
            "    Found existing installation: colorlog 6.7.0\r\n",
            "    Uninstalling colorlog-6.7.0:\r\n",
            "      Successfully uninstalled colorlog-6.7.0\r\n",
            "  Attempting uninstall: colorama\r\n",
            "    Found existing installation: colorama 0.4.5\r\n",
            "    Uninstalling colorama-0.4.5:\r\n",
            "      Successfully uninstalled colorama-0.4.5\r\n",
            "Successfully installed colorama-0.4.4 colorlog-4.7.2 recbole-1.1.1 thop-0.1.1.post2209072238\r\n",
            "\u001b[33mWARNING: Running pip as the 'root' user can result in broken permissions and conflicting behaviour with the system package manager. It is recommended to use a virtual environment instead: https://pip.pypa.io/warnings/venv\u001b[0m\u001b[33m\r\n",
            "\u001b[0m"
          ]
        }
      ],
      "source": [
        "!pip install recbole"
      ]
    },
    {
      "cell_type": "code",
      "execution_count": null,
      "id": "21a62ea0",
      "metadata": {
        "execution": {
          "iopub.execute_input": "2022-12-18T23:42:19.562728Z",
          "iopub.status.busy": "2022-12-18T23:42:19.562405Z",
          "iopub.status.idle": "2022-12-18T23:42:20.449425Z",
          "shell.execute_reply": "2022-12-18T23:42:20.448479Z"
        },
        "papermill": {
          "duration": 0.897307,
          "end_time": "2022-12-18T23:42:20.451838",
          "exception": false,
          "start_time": "2022-12-18T23:42:19.554531",
          "status": "completed"
        },
        "tags": [],
        "id": "21a62ea0"
      },
      "outputs": [],
      "source": [
        "import tqdm\n",
        "import polars as pl\n",
        "import numpy as np\n",
        "import pandas as pd\n",
        "import seaborn as sns\n",
        "import random\n",
        "import os \n",
        "import h5py\n",
        "import sys\n",
        "import gc\n",
        "\n",
        "from matplotlib import pyplot as plt\n",
        "import pyarrow.parquet as pq"
      ]
    },
    {
      "cell_type": "code",
      "execution_count": null,
      "id": "4c7e173b",
      "metadata": {
        "execution": {
          "iopub.execute_input": "2022-12-18T23:42:20.479028Z",
          "iopub.status.busy": "2022-12-18T23:42:20.478725Z",
          "iopub.status.idle": "2022-12-18T23:42:23.490548Z",
          "shell.execute_reply": "2022-12-18T23:42:23.489545Z"
        },
        "papermill": {
          "duration": 3.02189,
          "end_time": "2022-12-18T23:42:23.493317",
          "exception": false,
          "start_time": "2022-12-18T23:42:20.471427",
          "status": "completed"
        },
        "tags": [],
        "id": "4c7e173b"
      },
      "outputs": [],
      "source": [
        "train = pl.read_parquet('/kaggle/input/otto-train-and-test-data-for-local-validation/test.parquet')\n",
        "test = pl.read_parquet('/kaggle/input/otto-full-optimized-memory-footprint/test.parquet')\n",
        "\n",
        "df = pl.concat([train, test])\n",
        "\n",
        "df = df.sort(['session', 'aid', 'ts'])\n",
        "df = df.with_columns((pl.col('ts') * 1e9).alias('ts'))\n",
        "df = df.rename({'session': 'session:token', 'aid': 'aid:token', 'ts': 'ts:float'})"
      ]
    },
    {
      "cell_type": "code",
      "execution_count": null,
      "id": "f54a9153",
      "metadata": {
        "execution": {
          "iopub.execute_input": "2022-12-18T23:42:23.509119Z",
          "iopub.status.busy": "2022-12-18T23:42:23.508096Z",
          "iopub.status.idle": "2022-12-18T23:42:28.091122Z",
          "shell.execute_reply": "2022-12-18T23:42:28.090064Z"
        },
        "papermill": {
          "duration": 4.592884,
          "end_time": "2022-12-18T23:42:28.093276",
          "exception": false,
          "start_time": "2022-12-18T23:42:23.500392",
          "status": "completed"
        },
        "tags": [],
        "id": "f54a9153",
        "outputId": "f87b9f21-54ce-4ffb-cdb7-e59e4403eff1"
      },
      "outputs": [
        {
          "data": {
            "text/plain": [
              "51"
            ]
          },
          "execution_count": 5,
          "metadata": {},
          "output_type": "execute_result"
        }
      ],
      "source": [
        "!mkdir /kaggle/working/recbox_data\n",
        "df['session:token', 'aid:token', 'ts:float'].write_csv('/kaggle/working/recbox_data/recbox_data.inter', sep='\\t')\n",
        "\n",
        "del df, train, test\n",
        "gc.collect()"
      ]
    },
    {
      "cell_type": "code",
      "execution_count": null,
      "id": "6da7733b",
      "metadata": {
        "execution": {
          "iopub.execute_input": "2022-12-18T23:42:28.122898Z",
          "iopub.status.busy": "2022-12-18T23:42:28.122121Z",
          "iopub.status.idle": "2022-12-18T23:42:29.741500Z",
          "shell.execute_reply": "2022-12-18T23:42:29.740478Z"
        },
        "papermill": {
          "duration": 1.62961,
          "end_time": "2022-12-18T23:42:29.743862",
          "exception": false,
          "start_time": "2022-12-18T23:42:28.114252",
          "status": "completed"
        },
        "tags": [],
        "id": "6da7733b"
      },
      "outputs": [],
      "source": [
        "import logging\n",
        "from logging import getLogger\n",
        "from recbole.config import Config\n",
        "from recbole.data import create_dataset, data_preparation\n",
        "from recbole.model.sequential_recommender import GRU4Rec\n",
        "from recbole.trainer import Trainer\n",
        "from recbole.utils import init_seed, init_logger\n",
        "\n",
        "from recbole.utils.case_study import full_sort_topk"
      ]
    },
    {
      "cell_type": "code",
      "execution_count": null,
      "id": "5cc0955e",
      "metadata": {
        "execution": {
          "iopub.execute_input": "2022-12-18T23:42:29.759825Z",
          "iopub.status.busy": "2022-12-18T23:42:29.759275Z",
          "iopub.status.idle": "2022-12-18T23:42:30.158848Z",
          "shell.execute_reply": "2022-12-18T23:42:30.157204Z"
        },
        "papermill": {
          "duration": 0.701884,
          "end_time": "2022-12-18T23:42:30.453014",
          "exception": false,
          "start_time": "2022-12-18T23:42:29.751130",
          "status": "completed"
        },
        "tags": [],
        "id": "5cc0955e",
        "outputId": "f6e9dedf-7bee-4e77-f1a8-8282b4ad8e3a"
      },
      "outputs": [
        {
          "name": "stderr",
          "output_type": "stream",
          "text": [
            "\n",
            "General Hyper Parameters:\n",
            "gpu_id = 0\n",
            "use_gpu = True\n",
            "seed = 2020\n",
            "state = INFO\n",
            "reproducibility = True\n",
            "data_path = /kaggle/working/recbox_data\n",
            "checkpoint_dir = saved\n",
            "show_progress = True\n",
            "save_dataset = False\n",
            "dataset_save_path = None\n",
            "save_dataloaders = False\n",
            "dataloaders_save_path = None\n",
            "log_wandb = False\n",
            "\n",
            "Training Hyper Parameters:\n",
            "epochs = 10\n",
            "train_batch_size = 2048\n",
            "learner = adam\n",
            "learning_rate = 0.001\n",
            "train_neg_sample_args = {'distribution': 'none', 'sample_num': 'none', 'alpha': 'none', 'dynamic': False, 'candidate_num': 0}\n",
            "eval_step = 1\n",
            "stopping_step = 3\n",
            "clip_grad_norm = None\n",
            "weight_decay = 0.0\n",
            "loss_decimal_place = 4\n",
            "\n",
            "Evaluation Hyper Parameters:\n",
            "eval_args = {'split': {'RS': [9, 1, 0]}, 'group_by': 'user', 'order': 'TO', 'mode': 'full'}\n",
            "repeatable = True\n",
            "metrics = ['Recall', 'MRR', 'NDCG', 'Hit', 'Precision']\n",
            "topk = [10]\n",
            "valid_metric = MRR@10\n",
            "valid_metric_bigger = True\n",
            "eval_batch_size = 1024\n",
            "metric_decimal_place = 4\n",
            "\n",
            "Dataset Hyper Parameters:\n",
            "field_separator = \t\n",
            "seq_separator =  \n",
            "USER_ID_FIELD = session\n",
            "ITEM_ID_FIELD = aid\n",
            "RATING_FIELD = rating\n",
            "TIME_FIELD = ts\n",
            "seq_len = None\n",
            "LABEL_FIELD = label\n",
            "threshold = None\n",
            "NEG_PREFIX = neg_\n",
            "load_col = {'inter': ['session', 'aid', 'ts']}\n",
            "unload_col = None\n",
            "unused_col = None\n",
            "additional_feat_suffix = None\n",
            "rm_dup_inter = None\n",
            "val_interval = None\n",
            "filter_inter_by_user_or_item = True\n",
            "user_inter_num_interval = [5,Inf)\n",
            "item_inter_num_interval = [5,Inf)\n",
            "alias_of_user_id = None\n",
            "alias_of_item_id = None\n",
            "alias_of_entity_id = None\n",
            "alias_of_relation_id = None\n",
            "preload_weight = None\n",
            "normalize_field = None\n",
            "normalize_all = None\n",
            "ITEM_LIST_LENGTH_FIELD = item_length\n",
            "LIST_SUFFIX = _list\n",
            "MAX_ITEM_LIST_LENGTH = 20\n",
            "POSITION_FIELD = position_id\n",
            "HEAD_ENTITY_ID_FIELD = head_id\n",
            "TAIL_ENTITY_ID_FIELD = tail_id\n",
            "RELATION_ID_FIELD = relation_id\n",
            "ENTITY_ID_FIELD = entity_id\n",
            "benchmark_filename = None\n",
            "\n",
            "Other Hyper Parameters: \n",
            "worker = 0\n",
            "wandb_project = recbole\n",
            "shuffle = True\n",
            "require_pow = False\n",
            "enable_amp = False\n",
            "enable_scaler = False\n",
            "transform = None\n",
            "embedding_size = 64\n",
            "hidden_size = 128\n",
            "num_layers = 1\n",
            "dropout_prob = 0.3\n",
            "loss_type = CE\n",
            "numerical_features = []\n",
            "discretization = None\n",
            "kg_reverse_r = False\n",
            "entity_kg_num_interval = [0,inf)\n",
            "relation_kg_num_interval = [0,inf)\n",
            "MODEL_TYPE = ModelType.SEQUENTIAL\n",
            "MODEL_INPUT_TYPE = InputType.POINTWISE\n",
            "eval_type = EvaluatorType.RANKING\n",
            "single_spec = True\n",
            "local_rank = 0\n",
            "device = cuda\n",
            "eval_neg_sample_args = {'distribution': 'uniform', 'sample_num': 'none'}\n",
            "\n",
            "\n"
          ]
        }
      ],
      "source": [
        "MAX_ITEM = 20\n",
        "\n",
        "parameter_dict = {\n",
        "    'data_path': '/kaggle/working/',\n",
        "    'USER_ID_FIELD': 'session',\n",
        "    'ITEM_ID_FIELD': 'aid',\n",
        "    'TIME_FIELD': 'ts',\n",
        "    'user_inter_num_interval': \"[5,Inf)\",\n",
        "    'item_inter_num_interval': \"[5,Inf)\",\n",
        "    'load_col': {'inter': ['session', 'aid', 'ts']},\n",
        "    'train_neg_sample_args': None,\n",
        "    'epochs': 10,\n",
        "    'stopping_step':3,\n",
        "    \n",
        "    'eval_batch_size': 1024,\n",
        "    #'train_batch_size': 1024,\n",
        "#    'enable_amp':True,\n",
        "    'MAX_ITEM_LIST_LENGTH': MAX_ITEM,\n",
        "    'eval_args': {\n",
        "        'split': {'RS': [9, 1, 0]},\n",
        "        'group_by': 'user',\n",
        "        'order': 'TO',\n",
        "        'mode': 'full'}\n",
        "}\n",
        "\n",
        "config = Config(model='GRU4Rec', dataset='recbox_data', config_dict=parameter_dict)\n",
        "\n",
        "init_seed(config['seed'], config['reproducibility'])\n",
        "\n",
        "init_logger(config)\n",
        "logger = getLogger()\n",
        "\n",
        "c_handler = logging.StreamHandler()\n",
        "c_handler.setLevel(logging.INFO)\n",
        "logger.addHandler(c_handler)\n",
        "\n",
        "logger.info(config)"
      ]
    },
    {
      "cell_type": "code",
      "execution_count": null,
      "id": "ef2e6128",
      "metadata": {
        "execution": {
          "iopub.execute_input": "2022-12-18T23:42:30.502739Z",
          "iopub.status.busy": "2022-12-18T23:42:30.502412Z",
          "iopub.status.idle": "2022-12-18T23:44:54.287618Z",
          "shell.execute_reply": "2022-12-18T23:44:54.286830Z"
        },
        "papermill": {
          "duration": 143.847865,
          "end_time": "2022-12-18T23:44:54.325474",
          "exception": false,
          "start_time": "2022-12-18T23:42:30.477609",
          "status": "completed"
        },
        "tags": [],
        "id": "ef2e6128",
        "outputId": "943b4cdb-fd01-416b-a743-b1650b941cd5"
      },
      "outputs": [
        {
          "name": "stderr",
          "output_type": "stream",
          "text": [
            "recbox_data\n",
            "The number of users: 679936\n",
            "Average actions of users: 12.514587423797863\n",
            "The number of items: 315004\n",
            "Average actions of items: 27.012777656085817\n",
            "The number of inters: 8509106\n",
            "The sparsity of the dataset: 99.9960271713952%\n",
            "Remain Fields: ['session', 'aid', 'ts']\n"
          ]
        }
      ],
      "source": [
        "dataset = create_dataset(config)\n",
        "logger.info(dataset)"
      ]
    },
    {
      "cell_type": "code",
      "execution_count": null,
      "id": "d648578a",
      "metadata": {
        "execution": {
          "iopub.execute_input": "2022-12-18T23:44:54.376666Z",
          "iopub.status.busy": "2022-12-18T23:44:54.376360Z",
          "iopub.status.idle": "2022-12-18T23:46:43.669747Z",
          "shell.execute_reply": "2022-12-18T23:46:43.669036Z"
        },
        "papermill": {
          "duration": 109.354417,
          "end_time": "2022-12-18T23:46:43.705217",
          "exception": false,
          "start_time": "2022-12-18T23:44:54.350800",
          "status": "completed"
        },
        "tags": [],
        "id": "d648578a",
        "outputId": "41752af9-7115-4ea6-eab2-df93e9187a67"
      },
      "outputs": [
        {
          "name": "stderr",
          "output_type": "stream",
          "text": [
            "[Training]: train_batch_size = [2048] train_neg_sample_args: [{'distribution': 'none', 'sample_num': 'none', 'alpha': 'none', 'dynamic': False, 'candidate_num': 0}]\n",
            "[Evaluation]: eval_batch_size = [1024] eval_args: [{'split': {'RS': [9, 1, 0]}, 'group_by': 'user', 'order': 'TO', 'mode': 'full'}]\n"
          ]
        }
      ],
      "source": [
        "train_data, valid_data, test_data = data_preparation(config, dataset)"
      ]
    },
    {
      "cell_type": "code",
      "execution_count": null,
      "id": "80a60726",
      "metadata": {
        "execution": {
          "iopub.execute_input": "2022-12-18T23:46:43.758074Z",
          "iopub.status.busy": "2022-12-18T23:46:43.757763Z",
          "iopub.status.idle": "2022-12-19T01:02:18.755337Z",
          "shell.execute_reply": "2022-12-19T01:02:18.754431Z"
        },
        "papermill": {
          "duration": 4535.026086,
          "end_time": "2022-12-19T01:02:18.757518",
          "exception": false,
          "start_time": "2022-12-18T23:46:43.731432",
          "status": "completed"
        },
        "scrolled": true,
        "tags": [],
        "id": "80a60726",
        "outputId": "0528cfb2-ae44-441f-f1d1-a54991f69346"
      },
      "outputs": [
        {
          "name": "stderr",
          "output_type": "stream",
          "text": [
            "GRU4Rec(\n",
            "  (item_embedding): Embedding(315004, 64, padding_idx=0)\n",
            "  (emb_dropout): Dropout(p=0.3, inplace=False)\n",
            "  (gru_layers): GRU(64, 128, bias=False, batch_first=True)\n",
            "  (dense): Linear(in_features=128, out_features=64, bias=True)\n",
            "  (loss_fct): CrossEntropyLoss()\n",
            ")\n",
            "Trainable parameters: 20242240\n",
            "epoch 0 training [time: 391.31s, train loss: 32578.8810]\n",
            "epoch 0 evaluating [time: 63.03s, valid_score: 0.120900]\n",
            "valid result: \n",
            "recall@10 : 0.2298    mrr@10 : 0.1209    ndcg@10 : 0.1465    hit@10 : 0.2298    precision@10 : 0.023\n",
            "Saving current: saved/GRU4Rec-Dec-18-2022_23-46-51.pth\n",
            "epoch 1 training [time: 388.38s, train loss: 23761.4154]\n",
            "epoch 1 evaluating [time: 62.90s, valid_score: 0.217200]\n",
            "valid result: \n",
            "recall@10 : 0.3688    mrr@10 : 0.2172    ndcg@10 : 0.2531    hit@10 : 0.3688    precision@10 : 0.0369\n",
            "Saving current: saved/GRU4Rec-Dec-18-2022_23-46-51.pth\n",
            "epoch 2 training [time: 388.48s, train loss: 20762.3218]\n",
            "epoch 2 evaluating [time: 63.92s, valid_score: 0.260800]\n",
            "valid result: \n",
            "recall@10 : 0.4236    mrr@10 : 0.2608    ndcg@10 : 0.2995    hit@10 : 0.4236    precision@10 : 0.0424\n",
            "Saving current: saved/GRU4Rec-Dec-18-2022_23-46-51.pth\n",
            "epoch 3 training [time: 388.24s, train loss: 19348.7995]\n",
            "epoch 3 evaluating [time: 63.26s, valid_score: 0.280100]\n",
            "valid result: \n",
            "recall@10 : 0.4481    mrr@10 : 0.2801    ndcg@10 : 0.3201    hit@10 : 0.4481    precision@10 : 0.0448\n",
            "Saving current: saved/GRU4Rec-Dec-18-2022_23-46-51.pth\n",
            "epoch 4 training [time: 388.20s, train loss: 18521.3544]\n",
            "epoch 4 evaluating [time: 63.27s, valid_score: 0.289900]\n",
            "valid result: \n",
            "recall@10 : 0.4607    mrr@10 : 0.2899    ndcg@10 : 0.3307    hit@10 : 0.4607    precision@10 : 0.0461\n",
            "Saving current: saved/GRU4Rec-Dec-18-2022_23-46-51.pth\n",
            "epoch 5 training [time: 388.27s, train loss: 17971.2045]\n",
            "epoch 5 evaluating [time: 63.35s, valid_score: 0.294800]\n",
            "valid result: \n",
            "recall@10 : 0.468    mrr@10 : 0.2948    ndcg@10 : 0.3361    hit@10 : 0.468    precision@10 : 0.0468\n",
            "Saving current: saved/GRU4Rec-Dec-18-2022_23-46-51.pth\n",
            "epoch 6 training [time: 388.54s, train loss: 17564.9533]\n",
            "epoch 6 evaluating [time: 62.79s, valid_score: 0.298000]\n",
            "valid result: \n",
            "recall@10 : 0.4723    mrr@10 : 0.298    ndcg@10 : 0.3396    hit@10 : 0.4723    precision@10 : 0.0472\n",
            "Saving current: saved/GRU4Rec-Dec-18-2022_23-46-51.pth\n",
            "epoch 7 training [time: 388.84s, train loss: 17245.6215]\n",
            "epoch 7 evaluating [time: 63.64s, valid_score: 0.300300]\n",
            "valid result: \n",
            "recall@10 : 0.4748    mrr@10 : 0.3003    ndcg@10 : 0.342    hit@10 : 0.4748    precision@10 : 0.0475\n",
            "Saving current: saved/GRU4Rec-Dec-18-2022_23-46-51.pth\n",
            "epoch 8 training [time: 388.60s, train loss: 16986.4290]\n",
            "epoch 8 evaluating [time: 62.71s, valid_score: 0.301200]\n",
            "valid result: \n",
            "recall@10 : 0.4765    mrr@10 : 0.3012    ndcg@10 : 0.3431    hit@10 : 0.4765    precision@10 : 0.0477\n",
            "Saving current: saved/GRU4Rec-Dec-18-2022_23-46-51.pth\n",
            "epoch 9 training [time: 388.04s, train loss: 16769.9042]\n",
            "epoch 9 evaluating [time: 62.93s, valid_score: 0.302300]\n",
            "valid result: \n",
            "recall@10 : 0.4779    mrr@10 : 0.3023    ndcg@10 : 0.3443    hit@10 : 0.4779    precision@10 : 0.0478\n",
            "Saving current: saved/GRU4Rec-Dec-18-2022_23-46-51.pth\n"
          ]
        }
      ],
      "source": [
        "model = GRU4Rec(config, train_data.dataset).to(config['device'])\n",
        "logger.info(model)\n",
        "\n",
        "trainer = Trainer(config, model)\n",
        "\n",
        "best_valid_score, best_valid_result = trainer.fit(train_data, valid_data)\n"
      ]
    },
    {
      "cell_type": "code",
      "execution_count": null,
      "id": "23e1e9ac",
      "metadata": {
        "execution": {
          "iopub.execute_input": "2022-12-19T01:02:18.827534Z",
          "iopub.status.busy": "2022-12-19T01:02:18.826023Z",
          "iopub.status.idle": "2022-12-19T01:02:18.831574Z",
          "shell.execute_reply": "2022-12-19T01:02:18.830705Z"
        },
        "papermill": {
          "duration": 0.042044,
          "end_time": "2022-12-19T01:02:18.833463",
          "exception": false,
          "start_time": "2022-12-19T01:02:18.791419",
          "status": "completed"
        },
        "tags": [],
        "id": "23e1e9ac"
      },
      "outputs": [],
      "source": [
        "import gc\n",
        "del trainer, train_data, valid_data, test_data"
      ]
    },
    {
      "cell_type": "code",
      "execution_count": null,
      "id": "f6e916a1",
      "metadata": {
        "execution": {
          "iopub.execute_input": "2022-12-19T01:02:18.902468Z",
          "iopub.status.busy": "2022-12-19T01:02:18.901065Z",
          "iopub.status.idle": "2022-12-19T01:02:19.490425Z",
          "shell.execute_reply": "2022-12-19T01:02:19.489524Z"
        },
        "papermill": {
          "duration": 0.626057,
          "end_time": "2022-12-19T01:02:19.492637",
          "exception": false,
          "start_time": "2022-12-19T01:02:18.866580",
          "status": "completed"
        },
        "tags": [],
        "id": "f6e916a1",
        "outputId": "51db9a2b-98d7-4567-a60b-abdacd41e18d"
      },
      "outputs": [
        {
          "data": {
            "text/plain": [
              "250"
            ]
          },
          "execution_count": 12,
          "metadata": {},
          "output_type": "execute_result"
        }
      ],
      "source": [
        "gc.collect()"
      ]
    },
    {
      "cell_type": "code",
      "execution_count": null,
      "id": "bc9eb2a1",
      "metadata": {
        "execution": {
          "iopub.execute_input": "2022-12-19T01:02:19.628473Z",
          "iopub.status.busy": "2022-12-19T01:02:19.627782Z",
          "iopub.status.idle": "2022-12-19T01:02:19.733230Z",
          "shell.execute_reply": "2022-12-19T01:02:19.732330Z"
        },
        "papermill": {
          "duration": 0.142089,
          "end_time": "2022-12-19T01:02:19.735412",
          "exception": false,
          "start_time": "2022-12-19T01:02:19.593323",
          "status": "completed"
        },
        "tags": [],
        "id": "bc9eb2a1"
      },
      "outputs": [],
      "source": [
        "from typing import List, Tuple\n",
        "import numpy as np\n",
        "import torch\n",
        "\n",
        "from pydantic import BaseModel\n",
        "from recbole.data import create_dataset\n",
        "from recbole.data.dataset.sequential_dataset import SequentialDataset\n",
        "from recbole.data.interaction import Interaction\n",
        "from recbole.model.sequential_recommender.sine import SINE\n",
        "from recbole.utils import get_model, init_seed\n",
        "\n",
        "class ItemHistory(BaseModel):\n",
        "    sequence: List[str]\n",
        "    topk: int\n",
        "\n",
        "class RecommendedItems(BaseModel):\n",
        "    score_list: List[float]\n",
        "    item_list: List[str]\n",
        "\n",
        "\n",
        "def pred_user_to_item(item_history: ItemHistory):\n",
        "    item_history_dict = item_history.dict()\n",
        "    item_sequence = item_history_dict[\"sequence\"]\n",
        "    item_length = len(item_sequence)\n",
        "    pad_length = MAX_ITEM  # pre-defined by recbole\n",
        "\n",
        "    padded_item_sequence = torch.nn.functional.pad(\n",
        "        torch.tensor(dataset.token2id(dataset.iid_field, item_sequence)),\n",
        "        (0, pad_length - item_length),\n",
        "        \"constant\",\n",
        "        0,\n",
        "    )\n",
        "\n",
        "    input_interaction = Interaction(\n",
        "        {\n",
        "            \"aid_list\": padded_item_sequence.reshape(1, -1),\n",
        "            \"item_length\": torch.tensor([item_length]),\n",
        "        }\n",
        "    )\n",
        "    scores = model.full_sort_predict(input_interaction.to(model.device))\n",
        "    scores = scores.view(-1, dataset.item_num)\n",
        "    scores[:, 0] = -np.inf  # pad item score -> -inf\n",
        "    topk_score, topk_iid_list = torch.topk(scores, item_history_dict[\"topk\"])\n",
        "\n",
        "    predicted_score_list = topk_score.tolist()[0]\n",
        "    predicted_item_list = dataset.id2token(\n",
        "        dataset.iid_field, topk_iid_list.tolist()\n",
        "    ).tolist()\n",
        "\n",
        "    recommended_items = {\n",
        "        \"score_list\": predicted_score_list,\n",
        "        \"item_list\": predicted_item_list,\n",
        "    }\n",
        "    return recommended_items"
      ]
    },
    {
      "cell_type": "code",
      "execution_count": null,
      "id": "ce24811c",
      "metadata": {
        "execution": {
          "iopub.execute_input": "2022-12-19T01:02:19.805128Z",
          "iopub.status.busy": "2022-12-19T01:02:19.804215Z",
          "iopub.status.idle": "2022-12-19T03:35:06.880589Z",
          "shell.execute_reply": "2022-12-19T03:35:06.879554Z"
        },
        "papermill": {
          "duration": 9167.113789,
          "end_time": "2022-12-19T03:35:06.883346",
          "exception": false,
          "start_time": "2022-12-19T01:02:19.769557",
          "status": "completed"
        },
        "tags": [],
        "id": "ce24811c",
        "outputId": "1f927f13-a753-45bf-ec41-6fb0510e51e7"
      },
      "outputs": [
        {
          "name": "stderr",
          "output_type": "stream",
          "text": [
            "/opt/conda/lib/python3.7/site-packages/recbole/data/dataset/dataset.py:1376: FutureWarning: Using a non-tuple sequence for multidimensional indexing is deprecated; use `arr[tuple(seq)]` instead of `arr[seq]`. In the future this will be interpreted as an array index, `arr[np.array(seq)]`, which will result either in an error or a different result.\n",
            "  return self.field2id_token[field][ids]\n"
          ]
        }
      ],
      "source": [
        "test = pl.read_parquet('../input/otto-full-optimized-memory-footprint/test.parquet')\n",
        "\n",
        "import pandas as pd\n",
        "import numpy as np\n",
        "\n",
        "from collections import defaultdict\n",
        "\n",
        "\n",
        "session_types = ['clicks', 'carts', 'orders']\n",
        "test_session_AIDs = test.to_pandas().reset_index(drop=True).groupby('session')['aid'].apply(list)\n",
        "test_session_types = test.to_pandas().reset_index(drop=True).groupby('session')['type'].apply(list)\n",
        "\n",
        "del test\n",
        "gc.collect()\n",
        "\n",
        "labels = []\n",
        "\n",
        "type_weight_multipliers = {0: 1, 1: 6, 2: 3}\n",
        "for AIDs, types in zip(test_session_AIDs, test_session_types):\n",
        "    if len(AIDs) >= 20:\n",
        "        weights=np.logspace(0.1,1,len(AIDs),base=2, endpoint=True)-1\n",
        "        aids_temp=defaultdict(lambda: 0)\n",
        "        for aid,w,t in zip(AIDs,weights,types): \n",
        "            aids_temp[aid]+= w * type_weight_multipliers[t]\n",
        "            \n",
        "        sorted_aids=[k for k, v in sorted(aids_temp.items(), key=lambda item: -item[1])]\n",
        "        labels.append(sorted_aids[:20])\n",
        "    else:\n",
        "        AIDs = list(dict.fromkeys(AIDs))\n",
        "        item = ItemHistory(sequence=AIDs, topk=20)\n",
        "        try:\n",
        "            nns = [ int(v) for v in pred_user_to_item(item)['item_list']]\n",
        "        except:\n",
        "            nns = []\n",
        "\n",
        "        for word in nns:\n",
        "            if len(AIDs) == 20:\n",
        "                break\n",
        "            if int(word) not in AIDs:\n",
        "                AIDs.append(word)\n",
        "\n",
        "        labels.append(AIDs[:20])"
      ]
    },
    {
      "cell_type": "code",
      "execution_count": null,
      "id": "3ed30323",
      "metadata": {
        "execution": {
          "iopub.execute_input": "2022-12-19T03:35:06.953247Z",
          "iopub.status.busy": "2022-12-19T03:35:06.952932Z",
          "iopub.status.idle": "2022-12-19T03:35:06.967437Z",
          "shell.execute_reply": "2022-12-19T03:35:06.966442Z"
        },
        "papermill": {
          "duration": 0.050846,
          "end_time": "2022-12-19T03:35:06.969479",
          "exception": false,
          "start_time": "2022-12-19T03:35:06.918633",
          "status": "completed"
        },
        "tags": [],
        "id": "3ed30323",
        "outputId": "60be781c-aa23-49ec-c257-b443f50d787a"
      },
      "outputs": [
        {
          "data": {
            "text/plain": [
              "['1100210',\n",
              " '1684953',\n",
              " '1158237',\n",
              " '462056',\n",
              " '775327',\n",
              " '1401429',\n",
              " '1791780',\n",
              " '622489',\n",
              " '1217415',\n",
              " '1236674',\n",
              " '984794',\n",
              " '785201',\n",
              " '647374',\n",
              " '1196716',\n",
              " '978060',\n",
              " '870028',\n",
              " '403920',\n",
              " '1712751',\n",
              " '636390',\n",
              " '224347']"
            ]
          },
          "execution_count": 15,
          "metadata": {},
          "output_type": "execute_result"
        }
      ],
      "source": [
        "pred_user_to_item(item)['item_list']"
      ]
    },
    {
      "cell_type": "code",
      "execution_count": null,
      "id": "c0b29610",
      "metadata": {
        "execution": {
          "iopub.execute_input": "2022-12-19T03:35:07.097825Z",
          "iopub.status.busy": "2022-12-19T03:35:07.096873Z",
          "iopub.status.idle": "2022-12-19T03:35:13.675075Z",
          "shell.execute_reply": "2022-12-19T03:35:13.674028Z"
        },
        "papermill": {
          "duration": 6.615776,
          "end_time": "2022-12-19T03:35:13.677514",
          "exception": false,
          "start_time": "2022-12-19T03:35:07.061738",
          "status": "completed"
        },
        "tags": [],
        "id": "c0b29610"
      },
      "outputs": [],
      "source": [
        "labels_as_strings = [' '.join([str(l) for l in lls]) for lls in labels]\n",
        "predictions = pd.DataFrame(data={'session_type': test_session_AIDs.index, 'labels': labels_as_strings})"
      ]
    },
    {
      "cell_type": "code",
      "execution_count": null,
      "id": "f59e4055",
      "metadata": {
        "execution": {
          "iopub.execute_input": "2022-12-19T03:35:13.747772Z",
          "iopub.status.busy": "2022-12-19T03:35:13.746820Z",
          "iopub.status.idle": "2022-12-19T03:35:37.691637Z",
          "shell.execute_reply": "2022-12-19T03:35:37.690619Z"
        },
        "papermill": {
          "duration": 23.98229,
          "end_time": "2022-12-19T03:35:37.694148",
          "exception": false,
          "start_time": "2022-12-19T03:35:13.711858",
          "status": "completed"
        },
        "tags": [],
        "id": "f59e4055"
      },
      "outputs": [],
      "source": [
        "labels_as_strings = [' '.join([str(l) for l in lls]) for lls in labels]\n",
        "\n",
        "predictions = pd.DataFrame(data={'session_type': test_session_AIDs.index, 'labels': labels_as_strings})\n",
        "\n",
        "prediction_dfs = []\n",
        "\n",
        "for st in session_types:\n",
        "    modified_predictions = predictions.copy()\n",
        "    modified_predictions.session_type = modified_predictions.session_type.astype('str') + f'_{st}'\n",
        "    prediction_dfs.append(modified_predictions)\n",
        "\n",
        "submission = pd.concat(prediction_dfs).reset_index(drop=True)\n",
        "submission.to_csv('submission.csv', index=False)"
      ]
    }
  ],
  "metadata": {
    "kernelspec": {
      "display_name": "Python 3",
      "language": "python",
      "name": "python3"
    },
    "language_info": {
      "codemirror_mode": {
        "name": "ipython",
        "version": 3
      },
      "file_extension": ".py",
      "mimetype": "text/x-python",
      "name": "python",
      "nbconvert_exporter": "python",
      "pygments_lexer": "ipython3",
      "version": "3.7.12"
    },
    "papermill": {
      "default_parameters": {},
      "duration": 14032.607485,
      "end_time": "2022-12-19T03:35:40.573576",
      "environment_variables": {},
      "exception": null,
      "input_path": "__notebook__.ipynb",
      "output_path": "__notebook__.ipynb",
      "parameters": {},
      "start_time": "2022-12-18T23:41:47.966091",
      "version": "2.3.4"
    },
    "colab": {
      "provenance": []
    }
  },
  "nbformat": 4,
  "nbformat_minor": 5
}