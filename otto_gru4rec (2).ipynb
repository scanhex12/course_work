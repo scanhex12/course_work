{
 "cells": [
  {
   "cell_type": "code",
   "execution_count": 1,
   "id": "ae0989ee",
   "metadata": {
    "_cell_guid": "b1076dfc-b9ad-4769-8c92-a6c4dae69d19",
    "_uuid": "8f2839f25d086af736a60e9eeb907d3b93b6e0e5",
    "execution": {
     "iopub.execute_input": "2022-12-28T06:16:09.726983Z",
     "iopub.status.busy": "2022-12-28T06:16:09.725923Z",
     "iopub.status.idle": "2022-12-28T06:16:32.021760Z",
     "shell.execute_reply": "2022-12-28T06:16:32.020477Z"
    },
    "papermill": {
     "duration": 22.30395,
     "end_time": "2022-12-28T06:16:32.024847",
     "exception": false,
     "start_time": "2022-12-28T06:16:09.720897",
     "status": "completed"
    },
    "tags": []
   },
   "outputs": [
    {
     "name": "stdout",
     "output_type": "stream",
     "text": [
      "Collecting polars\r\n",
      "  Downloading polars-0.15.8-cp37-abi3-manylinux_2_17_x86_64.manylinux2014_x86_64.whl (14.6 MB)\r\n",
      "\u001b[2K     \u001b[90m━━━━━━━━━━━━━━━━━━━━━━━━━━━━━━━━━━━━━━━━\u001b[0m \u001b[32m14.6/14.6 MB\u001b[0m \u001b[31m63.1 MB/s\u001b[0m eta \u001b[36m0:00:00\u001b[0m\r\n",
      "\u001b[?25hRequirement already satisfied: typing_extensions>=4.0.0 in /opt/conda/lib/python3.7/site-packages (from polars) (4.1.1)\r\n",
      "Installing collected packages: polars\r\n",
      "Successfully installed polars-0.15.8\r\n",
      "\u001b[33mWARNING: Running pip as the 'root' user can result in broken permissions and conflicting behaviour with the system package manager. It is recommended to use a virtual environment instead: https://pip.pypa.io/warnings/venv\u001b[0m\u001b[33m\r\n",
      "\u001b[0mCollecting recbole\r\n",
      "  Downloading recbole-1.1.1-py3-none-any.whl (2.1 MB)\r\n",
      "\u001b[2K     \u001b[90m━━━━━━━━━━━━━━━━━━━━━━━━━━━━━━━━━━━━━━━━\u001b[0m \u001b[32m2.1/2.1 MB\u001b[0m \u001b[31m23.0 MB/s\u001b[0m eta \u001b[36m0:00:00\u001b[0m\r\n",
      "\u001b[?25hCollecting colorama==0.4.4\r\n",
      "  Downloading colorama-0.4.4-py2.py3-none-any.whl (16 kB)\r\n",
      "Requirement already satisfied: pandas>=1.0.5 in /opt/conda/lib/python3.7/site-packages (from recbole) (1.3.5)\r\n",
      "Requirement already satisfied: plotly>=4.0.0 in /opt/conda/lib/python3.7/site-packages (from recbole) (5.10.0)\r\n",
      "Collecting colorlog==4.7.2\r\n",
      "  Downloading colorlog-4.7.2-py2.py3-none-any.whl (10 kB)\r\n",
      "Requirement already satisfied: tensorboard>=2.5.0 in /opt/conda/lib/python3.7/site-packages (from recbole) (2.10.1)\r\n",
      "Requirement already satisfied: pyyaml>=5.1.0 in /opt/conda/lib/python3.7/site-packages (from recbole) (6.0)\r\n",
      "Requirement already satisfied: tqdm>=4.48.2 in /opt/conda/lib/python3.7/site-packages (from recbole) (4.64.0)\r\n",
      "Requirement already satisfied: numpy>=1.17.2 in /opt/conda/lib/python3.7/site-packages (from recbole) (1.21.6)\r\n",
      "Requirement already satisfied: tabulate>=0.8.10 in /opt/conda/lib/python3.7/site-packages (from recbole) (0.9.0)\r\n",
      "Collecting thop>=0.1.1.post2207130030\r\n",
      "  Downloading thop-0.1.1.post2209072238-py3-none-any.whl (15 kB)\r\n",
      "Requirement already satisfied: torch>=1.10.0 in /opt/conda/lib/python3.7/site-packages (from recbole) (1.11.0)\r\n",
      "Requirement already satisfied: scipy>=1.6.0 in /opt/conda/lib/python3.7/site-packages (from recbole) (1.7.3)\r\n",
      "Requirement already satisfied: scikit-learn>=0.23.2 in /opt/conda/lib/python3.7/site-packages (from recbole) (1.0.2)\r\n",
      "Requirement already satisfied: python-dateutil>=2.7.3 in /opt/conda/lib/python3.7/site-packages (from pandas>=1.0.5->recbole) (2.8.2)\r\n",
      "Requirement already satisfied: pytz>=2017.3 in /opt/conda/lib/python3.7/site-packages (from pandas>=1.0.5->recbole) (2022.1)\r\n",
      "Requirement already satisfied: tenacity>=6.2.0 in /opt/conda/lib/python3.7/site-packages (from plotly>=4.0.0->recbole) (8.0.1)\r\n",
      "Requirement already satisfied: joblib>=0.11 in /opt/conda/lib/python3.7/site-packages (from scikit-learn>=0.23.2->recbole) (1.0.1)\r\n",
      "Requirement already satisfied: threadpoolctl>=2.0.0 in /opt/conda/lib/python3.7/site-packages (from scikit-learn>=0.23.2->recbole) (3.1.0)\r\n",
      "Requirement already satisfied: tensorboard-plugin-wit>=1.6.0 in /opt/conda/lib/python3.7/site-packages (from tensorboard>=2.5.0->recbole) (1.8.1)\r\n",
      "Requirement already satisfied: tensorboard-data-server<0.7.0,>=0.6.0 in /opt/conda/lib/python3.7/site-packages (from tensorboard>=2.5.0->recbole) (0.6.1)\r\n",
      "Requirement already satisfied: werkzeug>=1.0.1 in /opt/conda/lib/python3.7/site-packages (from tensorboard>=2.5.0->recbole) (2.2.2)\r\n",
      "Requirement already satisfied: grpcio>=1.24.3 in /opt/conda/lib/python3.7/site-packages (from tensorboard>=2.5.0->recbole) (1.43.0)\r\n",
      "Requirement already satisfied: markdown>=2.6.8 in /opt/conda/lib/python3.7/site-packages (from tensorboard>=2.5.0->recbole) (3.3.7)\r\n",
      "Requirement already satisfied: protobuf<3.20,>=3.9.2 in /opt/conda/lib/python3.7/site-packages (from tensorboard>=2.5.0->recbole) (3.19.4)\r\n",
      "Requirement already satisfied: wheel>=0.26 in /opt/conda/lib/python3.7/site-packages (from tensorboard>=2.5.0->recbole) (0.37.1)\r\n",
      "Requirement already satisfied: google-auth-oauthlib<0.5,>=0.4.1 in /opt/conda/lib/python3.7/site-packages (from tensorboard>=2.5.0->recbole) (0.4.6)\r\n",
      "Requirement already satisfied: google-auth<3,>=1.6.3 in /opt/conda/lib/python3.7/site-packages (from tensorboard>=2.5.0->recbole) (1.35.0)\r\n",
      "Requirement already satisfied: setuptools>=41.0.0 in /opt/conda/lib/python3.7/site-packages (from tensorboard>=2.5.0->recbole) (59.8.0)\r\n",
      "Requirement already satisfied: absl-py>=0.4 in /opt/conda/lib/python3.7/site-packages (from tensorboard>=2.5.0->recbole) (0.15.0)\r\n",
      "Requirement already satisfied: requests<3,>=2.21.0 in /opt/conda/lib/python3.7/site-packages (from tensorboard>=2.5.0->recbole) (2.28.1)\r\n",
      "Requirement already satisfied: typing-extensions in /opt/conda/lib/python3.7/site-packages (from torch>=1.10.0->recbole) (4.1.1)\r\n",
      "Requirement already satisfied: six in /opt/conda/lib/python3.7/site-packages (from absl-py>=0.4->tensorboard>=2.5.0->recbole) (1.15.0)\r\n",
      "Requirement already satisfied: pyasn1-modules>=0.2.1 in /opt/conda/lib/python3.7/site-packages (from google-auth<3,>=1.6.3->tensorboard>=2.5.0->recbole) (0.2.7)\r\n",
      "Requirement already satisfied: cachetools<5.0,>=2.0.0 in /opt/conda/lib/python3.7/site-packages (from google-auth<3,>=1.6.3->tensorboard>=2.5.0->recbole) (4.2.4)\r\n",
      "Requirement already satisfied: rsa<5,>=3.1.4 in /opt/conda/lib/python3.7/site-packages (from google-auth<3,>=1.6.3->tensorboard>=2.5.0->recbole) (4.8)\r\n",
      "Requirement already satisfied: requests-oauthlib>=0.7.0 in /opt/conda/lib/python3.7/site-packages (from google-auth-oauthlib<0.5,>=0.4.1->tensorboard>=2.5.0->recbole) (1.3.1)\r\n",
      "Requirement already satisfied: importlib-metadata>=4.4 in /opt/conda/lib/python3.7/site-packages (from markdown>=2.6.8->tensorboard>=2.5.0->recbole) (4.13.0)\r\n",
      "Requirement already satisfied: urllib3<1.27,>=1.21.1 in /opt/conda/lib/python3.7/site-packages (from requests<3,>=2.21.0->tensorboard>=2.5.0->recbole) (1.26.12)\r\n",
      "Requirement already satisfied: certifi>=2017.4.17 in /opt/conda/lib/python3.7/site-packages (from requests<3,>=2.21.0->tensorboard>=2.5.0->recbole) (2022.9.24)\r\n",
      "Requirement already satisfied: charset-normalizer<3,>=2 in /opt/conda/lib/python3.7/site-packages (from requests<3,>=2.21.0->tensorboard>=2.5.0->recbole) (2.1.0)\r\n",
      "Requirement already satisfied: idna<4,>=2.5 in /opt/conda/lib/python3.7/site-packages (from requests<3,>=2.21.0->tensorboard>=2.5.0->recbole) (3.3)\r\n",
      "Requirement already satisfied: MarkupSafe>=2.1.1 in /opt/conda/lib/python3.7/site-packages (from werkzeug>=1.0.1->tensorboard>=2.5.0->recbole) (2.1.1)\r\n",
      "Requirement already satisfied: zipp>=0.5 in /opt/conda/lib/python3.7/site-packages (from importlib-metadata>=4.4->markdown>=2.6.8->tensorboard>=2.5.0->recbole) (3.8.0)\r\n",
      "Requirement already satisfied: pyasn1<0.5.0,>=0.4.6 in /opt/conda/lib/python3.7/site-packages (from pyasn1-modules>=0.2.1->google-auth<3,>=1.6.3->tensorboard>=2.5.0->recbole) (0.4.8)\r\n",
      "Requirement already satisfied: oauthlib>=3.0.0 in /opt/conda/lib/python3.7/site-packages (from requests-oauthlib>=0.7.0->google-auth-oauthlib<0.5,>=0.4.1->tensorboard>=2.5.0->recbole) (3.2.0)\r\n",
      "Installing collected packages: colorlog, colorama, thop, recbole\r\n",
      "  Attempting uninstall: colorlog\r\n",
      "    Found existing installation: colorlog 6.7.0\r\n",
      "    Uninstalling colorlog-6.7.0:\r\n",
      "      Successfully uninstalled colorlog-6.7.0\r\n",
      "  Attempting uninstall: colorama\r\n",
      "    Found existing installation: colorama 0.4.5\r\n",
      "    Uninstalling colorama-0.4.5:\r\n",
      "      Successfully uninstalled colorama-0.4.5\r\n",
      "Successfully installed colorama-0.4.4 colorlog-4.7.2 recbole-1.1.1 thop-0.1.1.post2209072238\r\n",
      "\u001b[33mWARNING: Running pip as the 'root' user can result in broken permissions and conflicting behaviour with the system package manager. It is recommended to use a virtual environment instead: https://pip.pypa.io/warnings/venv\u001b[0m\u001b[33m\r\n",
      "\u001b[0m"
     ]
    }
   ],
   "source": [
    "!pip install polars\n",
    "!pip install recbole"
   ]
  },
  {
   "cell_type": "code",
   "execution_count": 2,
   "id": "e9f149fd",
   "metadata": {
    "execution": {
     "iopub.execute_input": "2022-12-28T06:16:32.036351Z",
     "iopub.status.busy": "2022-12-28T06:16:32.035592Z",
     "iopub.status.idle": "2022-12-28T06:16:35.282268Z",
     "shell.execute_reply": "2022-12-28T06:16:35.281340Z"
    },
    "papermill": {
     "duration": 3.254816,
     "end_time": "2022-12-28T06:16:35.284652",
     "exception": false,
     "start_time": "2022-12-28T06:16:32.029836",
     "status": "completed"
    },
    "tags": []
   },
   "outputs": [],
   "source": [
    "import logging\n",
    "from logging import getLogger\n",
    "from recbole.config import Config\n",
    "from recbole.data import create_dataset, data_preparation\n",
    "from recbole.model.sequential_recommender import GRU4Rec\n",
    "from recbole.trainer import Trainer\n",
    "from recbole.utils import init_seed, init_logger\n",
    "from recbole.utils.case_study import full_sort_topk\n",
    "from typing import List, Tuple\n",
    "import numpy as np\n",
    "import pandas as pd\n",
    "from collections import defaultdict\n",
    "import torch\n",
    "from pydantic import BaseModel\n",
    "from recbole.data import create_dataset\n",
    "from recbole.data.dataset.sequential_dataset import SequentialDataset\n",
    "import polars as pl\n",
    "from recbole.data.interaction import Interaction\n",
    "from recbole.model.sequential_recommender.sine import SINE\n",
    "from recbole.utils import get_model, init_seed\n",
    "\n",
    "\n",
    "class ItemHistory(BaseModel):\n",
    "    sequence: List[str]\n",
    "    topk: int\n",
    "\n",
    "class RecommendedItems(BaseModel):\n",
    "    score_list: List[float]\n",
    "    item_list: List[str]\n",
    "\n",
    "\n"
   ]
  },
  {
   "cell_type": "code",
   "execution_count": 3,
   "id": "b41a3987",
   "metadata": {
    "execution": {
     "iopub.execute_input": "2022-12-28T06:16:35.296507Z",
     "iopub.status.busy": "2022-12-28T06:16:35.294851Z",
     "iopub.status.idle": "2022-12-28T06:16:35.301260Z",
     "shell.execute_reply": "2022-12-28T06:16:35.300428Z"
    },
    "papermill": {
     "duration": 0.013797,
     "end_time": "2022-12-28T06:16:35.303169",
     "exception": false,
     "start_time": "2022-12-28T06:16:35.289372",
     "status": "completed"
    },
    "tags": []
   },
   "outputs": [],
   "source": [
    "parameter_dict = {\n",
    "    'data_path': '/kaggle/input/otto-prepared-data',\n",
    "    'USER_ID_FIELD': 'session',\n",
    "    'ITEM_ID_FIELD': 'aid',\n",
    "    'TIME_FIELD': 'ts',\n",
    "    'user_inter_num_interval': \"[5,Inf)\",\n",
    "    'item_inter_num_interval': \"[5,Inf)\",\n",
    "    'load_col': {'inter': ['session', 'aid', 'ts']},\n",
    "    'train_neg_sample_args': None,\n",
    "    'epochs': 10,\n",
    "    'stopping_step':3,\n",
    "    'eval_batch_size': 1024,\n",
    "    'MAX_ITEM_LIST_LENGTH': 20,\n",
    "    'eval_args': {\n",
    "        'split': {'RS': [9, 1, 0]},\n",
    "        'group_by': 'user',\n",
    "        'order': 'TO',\n",
    "        'mode': 'full'}\n",
    "}\n"
   ]
  },
  {
   "cell_type": "code",
   "execution_count": 4,
   "id": "db769624",
   "metadata": {
    "execution": {
     "iopub.execute_input": "2022-12-28T06:16:35.313220Z",
     "iopub.status.busy": "2022-12-28T06:16:35.312955Z",
     "iopub.status.idle": "2022-12-28T06:16:35.730183Z",
     "shell.execute_reply": "2022-12-28T06:16:35.729369Z"
    },
    "papermill": {
     "duration": 0.675554,
     "end_time": "2022-12-28T06:16:35.983126",
     "exception": false,
     "start_time": "2022-12-28T06:16:35.307572",
     "status": "completed"
    },
    "tags": []
   },
   "outputs": [
    {
     "name": "stderr",
     "output_type": "stream",
     "text": [
      "\n",
      "General Hyper Parameters:\n",
      "gpu_id = 0\n",
      "use_gpu = True\n",
      "seed = 2020\n",
      "state = INFO\n",
      "reproducibility = True\n",
      "data_path = /kaggle/input/otto-prepared-data/recbox_data\n",
      "checkpoint_dir = saved\n",
      "show_progress = True\n",
      "save_dataset = False\n",
      "dataset_save_path = None\n",
      "save_dataloaders = False\n",
      "dataloaders_save_path = None\n",
      "log_wandb = False\n",
      "\n",
      "Training Hyper Parameters:\n",
      "epochs = 10\n",
      "train_batch_size = 2048\n",
      "learner = adam\n",
      "learning_rate = 0.001\n",
      "train_neg_sample_args = {'distribution': 'none', 'sample_num': 'none', 'alpha': 'none', 'dynamic': False, 'candidate_num': 0}\n",
      "eval_step = 1\n",
      "stopping_step = 3\n",
      "clip_grad_norm = None\n",
      "weight_decay = 0.0\n",
      "loss_decimal_place = 4\n",
      "\n",
      "Evaluation Hyper Parameters:\n",
      "eval_args = {'split': {'RS': [9, 1, 0]}, 'group_by': 'user', 'order': 'TO', 'mode': 'full'}\n",
      "repeatable = True\n",
      "metrics = ['Recall', 'MRR', 'NDCG', 'Hit', 'Precision']\n",
      "topk = [10]\n",
      "valid_metric = MRR@10\n",
      "valid_metric_bigger = True\n",
      "eval_batch_size = 1024\n",
      "metric_decimal_place = 4\n",
      "\n",
      "Dataset Hyper Parameters:\n",
      "field_separator = \t\n",
      "seq_separator =  \n",
      "USER_ID_FIELD = session\n",
      "ITEM_ID_FIELD = aid\n",
      "RATING_FIELD = rating\n",
      "TIME_FIELD = ts\n",
      "seq_len = None\n",
      "LABEL_FIELD = label\n",
      "threshold = None\n",
      "NEG_PREFIX = neg_\n",
      "load_col = {'inter': ['session', 'aid', 'ts']}\n",
      "unload_col = None\n",
      "unused_col = None\n",
      "additional_feat_suffix = None\n",
      "rm_dup_inter = None\n",
      "val_interval = None\n",
      "filter_inter_by_user_or_item = True\n",
      "user_inter_num_interval = [5,Inf)\n",
      "item_inter_num_interval = [5,Inf)\n",
      "alias_of_user_id = None\n",
      "alias_of_item_id = None\n",
      "alias_of_entity_id = None\n",
      "alias_of_relation_id = None\n",
      "preload_weight = None\n",
      "normalize_field = None\n",
      "normalize_all = None\n",
      "ITEM_LIST_LENGTH_FIELD = item_length\n",
      "LIST_SUFFIX = _list\n",
      "MAX_ITEM_LIST_LENGTH = 20\n",
      "POSITION_FIELD = position_id\n",
      "HEAD_ENTITY_ID_FIELD = head_id\n",
      "TAIL_ENTITY_ID_FIELD = tail_id\n",
      "RELATION_ID_FIELD = relation_id\n",
      "ENTITY_ID_FIELD = entity_id\n",
      "benchmark_filename = None\n",
      "\n",
      "Other Hyper Parameters: \n",
      "worker = 0\n",
      "wandb_project = recbole\n",
      "shuffle = True\n",
      "require_pow = False\n",
      "enable_amp = False\n",
      "enable_scaler = False\n",
      "transform = None\n",
      "embedding_size = 64\n",
      "hidden_size = 128\n",
      "num_layers = 1\n",
      "dropout_prob = 0.3\n",
      "loss_type = CE\n",
      "numerical_features = []\n",
      "discretization = None\n",
      "kg_reverse_r = False\n",
      "entity_kg_num_interval = [0,inf)\n",
      "relation_kg_num_interval = [0,inf)\n",
      "MODEL_TYPE = ModelType.SEQUENTIAL\n",
      "MODEL_INPUT_TYPE = InputType.POINTWISE\n",
      "eval_type = EvaluatorType.RANKING\n",
      "single_spec = True\n",
      "local_rank = 0\n",
      "device = cuda\n",
      "eval_neg_sample_args = {'distribution': 'uniform', 'sample_num': 'none'}\n",
      "\n",
      "\n"
     ]
    }
   ],
   "source": [
    "config = Config(model='GRU4Rec', dataset='recbox_data', config_dict=parameter_dict)\n",
    "init_logger(config)\n",
    "logger = getLogger()\n",
    "\n",
    "c_handler = logging.StreamHandler()\n",
    "c_handler.setLevel(logging.INFO)\n",
    "logger.addHandler(c_handler)\n",
    "\n",
    "logger.info(config)"
   ]
  },
  {
   "cell_type": "code",
   "execution_count": 5,
   "id": "e1cc5f0e",
   "metadata": {
    "execution": {
     "iopub.execute_input": "2022-12-28T06:16:36.029684Z",
     "iopub.status.busy": "2022-12-28T06:16:36.029151Z",
     "iopub.status.idle": "2022-12-28T06:20:57.603184Z",
     "shell.execute_reply": "2022-12-28T06:20:57.602135Z"
    },
    "papermill": {
     "duration": 261.600272,
     "end_time": "2022-12-28T06:20:57.605663",
     "exception": false,
     "start_time": "2022-12-28T06:16:36.005391",
     "status": "completed"
    },
    "tags": []
   },
   "outputs": [
    {
     "name": "stderr",
     "output_type": "stream",
     "text": [
      "[Training]: train_batch_size = [2048] train_neg_sample_args: [{'distribution': 'none', 'sample_num': 'none', 'alpha': 'none', 'dynamic': False, 'candidate_num': 0}]\n",
      "[Evaluation]: eval_batch_size = [1024] eval_args: [{'split': {'RS': [9, 1, 0]}, 'group_by': 'user', 'order': 'TO', 'mode': 'full'}]\n"
     ]
    }
   ],
   "source": [
    "dataset = create_dataset(config)\n",
    "train_data, valid_data, test_data = data_preparation(config, dataset)\n",
    "model = GRU4Rec(config, train_data.dataset).to(config['device'])\n",
    "trainer = Trainer(config, model)\n"
   ]
  },
  {
   "cell_type": "code",
   "execution_count": 6,
   "id": "474e8d6b",
   "metadata": {
    "execution": {
     "iopub.execute_input": "2022-12-28T06:20:57.652962Z",
     "iopub.status.busy": "2022-12-28T06:20:57.652094Z",
     "iopub.status.idle": "2022-12-28T07:36:25.863272Z",
     "shell.execute_reply": "2022-12-28T07:36:25.862419Z"
    },
    "papermill": {
     "duration": 4528.237099,
     "end_time": "2022-12-28T07:36:25.865257",
     "exception": false,
     "start_time": "2022-12-28T06:20:57.628158",
     "status": "completed"
    },
    "tags": []
   },
   "outputs": [
    {
     "name": "stderr",
     "output_type": "stream",
     "text": [
      "epoch 0 training [time: 392.02s, train loss: 32592.3293]\n",
      "epoch 0 evaluating [time: 63.49s, valid_score: 0.122200]\n",
      "valid result: \n",
      "recall@10 : 0.2312    mrr@10 : 0.1222    ndcg@10 : 0.1479    hit@10 : 0.2312    precision@10 : 0.0231\n",
      "Saving current: saved/GRU4Rec-Dec-28-2022_06-20-57.pth\n",
      "epoch 1 training [time: 388.30s, train loss: 23811.6563]\n",
      "epoch 1 evaluating [time: 62.56s, valid_score: 0.216100]\n",
      "valid result: \n",
      "recall@10 : 0.3663    mrr@10 : 0.2161    ndcg@10 : 0.2517    hit@10 : 0.3663    precision@10 : 0.0366\n",
      "Saving current: saved/GRU4Rec-Dec-28-2022_06-20-57.pth\n",
      "epoch 2 training [time: 389.43s, train loss: 20838.2899]\n",
      "epoch 2 evaluating [time: 63.79s, valid_score: 0.258000]\n",
      "valid result: \n",
      "recall@10 : 0.4201    mrr@10 : 0.258    ndcg@10 : 0.2966    hit@10 : 0.4201    precision@10 : 0.042\n",
      "Saving current: saved/GRU4Rec-Dec-28-2022_06-20-57.pth\n",
      "epoch 3 training [time: 388.26s, train loss: 19450.2636]\n",
      "epoch 3 evaluating [time: 62.90s, valid_score: 0.277700]\n",
      "valid result: \n",
      "recall@10 : 0.4448    mrr@10 : 0.2777    ndcg@10 : 0.3175    hit@10 : 0.4448    precision@10 : 0.0445\n",
      "Saving current: saved/GRU4Rec-Dec-28-2022_06-20-57.pth\n",
      "epoch 4 training [time: 389.37s, train loss: 18629.4029]\n",
      "epoch 4 evaluating [time: 63.32s, valid_score: 0.287700]\n",
      "valid result: \n",
      "recall@10 : 0.4583    mrr@10 : 0.2877    ndcg@10 : 0.3284    hit@10 : 0.4583    precision@10 : 0.0458\n",
      "Saving current: saved/GRU4Rec-Dec-28-2022_06-20-57.pth\n",
      "epoch 5 training [time: 390.08s, train loss: 18068.7996]\n",
      "epoch 5 evaluating [time: 63.60s, valid_score: 0.293000]\n",
      "valid result: \n",
      "recall@10 : 0.4657    mrr@10 : 0.293    ndcg@10 : 0.3342    hit@10 : 0.4657    precision@10 : 0.0466\n",
      "Saving current: saved/GRU4Rec-Dec-28-2022_06-20-57.pth\n",
      "epoch 6 training [time: 388.52s, train loss: 17650.0433]\n",
      "epoch 6 evaluating [time: 62.72s, valid_score: 0.297000]\n",
      "valid result: \n",
      "recall@10 : 0.4704    mrr@10 : 0.297    ndcg@10 : 0.3384    hit@10 : 0.4704    precision@10 : 0.047\n",
      "Saving current: saved/GRU4Rec-Dec-28-2022_06-20-57.pth\n",
      "epoch 7 training [time: 387.97s, train loss: 17319.5765]\n",
      "epoch 7 evaluating [time: 62.69s, valid_score: 0.298900]\n",
      "valid result: \n",
      "recall@10 : 0.4732    mrr@10 : 0.2989    ndcg@10 : 0.3406    hit@10 : 0.4732    precision@10 : 0.0473\n",
      "Saving current: saved/GRU4Rec-Dec-28-2022_06-20-57.pth\n",
      "epoch 8 training [time: 387.91s, train loss: 17047.4764]\n",
      "epoch 8 evaluating [time: 62.46s, valid_score: 0.300800]\n",
      "valid result: \n",
      "recall@10 : 0.4758    mrr@10 : 0.3008    ndcg@10 : 0.3426    hit@10 : 0.4758    precision@10 : 0.0476\n",
      "Saving current: saved/GRU4Rec-Dec-28-2022_06-20-57.pth\n",
      "epoch 9 training [time: 387.76s, train loss: 16822.5611]\n",
      "epoch 9 evaluating [time: 62.62s, valid_score: 0.301700]\n",
      "valid result: \n",
      "recall@10 : 0.477    mrr@10 : 0.3017    ndcg@10 : 0.3436    hit@10 : 0.477    precision@10 : 0.0477\n",
      "Saving current: saved/GRU4Rec-Dec-28-2022_06-20-57.pth\n"
     ]
    }
   ],
   "source": [
    "best_valid_score, best_valid_result = trainer.fit(train_data, valid_data)"
   ]
  },
  {
   "cell_type": "code",
   "execution_count": 7,
   "id": "95b74d89",
   "metadata": {
    "execution": {
     "iopub.execute_input": "2022-12-28T07:36:25.928255Z",
     "iopub.status.busy": "2022-12-28T07:36:25.926724Z",
     "iopub.status.idle": "2022-12-28T07:36:25.932442Z",
     "shell.execute_reply": "2022-12-28T07:36:25.931603Z"
    },
    "papermill": {
     "duration": 0.038501,
     "end_time": "2022-12-28T07:36:25.934362",
     "exception": false,
     "start_time": "2022-12-28T07:36:25.895861",
     "status": "completed"
    },
    "tags": []
   },
   "outputs": [],
   "source": [
    "del train_data, valid_data, test_data\n"
   ]
  },
  {
   "cell_type": "code",
   "execution_count": 8,
   "id": "e77dbc77",
   "metadata": {
    "execution": {
     "iopub.execute_input": "2022-12-28T07:36:25.995274Z",
     "iopub.status.busy": "2022-12-28T07:36:25.995006Z",
     "iopub.status.idle": "2022-12-28T07:36:26.002625Z",
     "shell.execute_reply": "2022-12-28T07:36:26.001609Z"
    },
    "papermill": {
     "duration": 0.040671,
     "end_time": "2022-12-28T07:36:26.004935",
     "exception": false,
     "start_time": "2022-12-28T07:36:25.964264",
     "status": "completed"
    },
    "tags": []
   },
   "outputs": [],
   "source": [
    "def pred_user_to_item(item_history: ItemHistory):\n",
    "    item_history_dict = item_history.dict()\n",
    "    item_sequence = item_history_dict[\"sequence\"]\n",
    "    item_length = len(item_sequence)\n",
    "    pad_length = MAX_ITEM  # pre-defined by recbole\n",
    "\n",
    "    padded_item_sequence = torch.nn.functional.pad(\n",
    "        torch.tensor(dataset.token2id(dataset.iid_field, item_sequence)),\n",
    "        (0, pad_length - item_length),\n",
    "        \"constant\",\n",
    "        0,\n",
    "    )\n",
    "\n",
    "    input_interaction = Interaction(\n",
    "        {\n",
    "            \"aid_list\": padded_item_sequence.reshape(1, -1),\n",
    "            \"item_length\": torch.tensor([item_length]),\n",
    "        }\n",
    "    )\n",
    "    scores = model.full_sort_predict(input_interaction.to(model.device))\n",
    "    scores = scores.view(-1, dataset.item_num)\n",
    "    scores[:, 0] = -np.inf  # pad item score -> -inf\n",
    "    topk_score, topk_iid_list = torch.topk(scores, item_history_dict[\"topk\"])\n",
    "\n",
    "    predicted_score_list = topk_score.tolist()[0]\n",
    "    predicted_item_list = dataset.id2token(\n",
    "        dataset.iid_field, topk_iid_list.tolist()\n",
    "    ).tolist()\n",
    "\n",
    "    recommended_items = {\n",
    "        \"score_list\": predicted_score_list,\n",
    "        \"item_list\": predicted_item_list,\n",
    "    }\n",
    "    return recommended_items\n"
   ]
  },
  {
   "cell_type": "code",
   "execution_count": 9,
   "id": "bb3db3ce",
   "metadata": {
    "execution": {
     "iopub.execute_input": "2022-12-28T07:36:26.066038Z",
     "iopub.status.busy": "2022-12-28T07:36:26.065528Z",
     "iopub.status.idle": "2022-12-28T07:37:20.271156Z",
     "shell.execute_reply": "2022-12-28T07:37:20.270078Z"
    },
    "papermill": {
     "duration": 54.239126,
     "end_time": "2022-12-28T07:37:20.273960",
     "exception": false,
     "start_time": "2022-12-28T07:36:26.034834",
     "status": "completed"
    },
    "tags": []
   },
   "outputs": [],
   "source": [
    "test = pl.read_parquet('../input/otto-full-optimized-memory-footprint/test.parquet')\n",
    "session_types = ['clicks', 'carts', 'orders']\n",
    "test_session_AIDs = test.to_pandas().reset_index(drop=True).groupby('session')['aid'].apply(list)\n",
    "test_session_types = test.to_pandas().reset_index(drop=True).groupby('session')['type'].apply(list)\n",
    "del test\n"
   ]
  },
  {
   "cell_type": "code",
   "execution_count": 10,
   "id": "f0b23036",
   "metadata": {
    "execution": {
     "iopub.execute_input": "2022-12-28T07:37:20.391501Z",
     "iopub.status.busy": "2022-12-28T07:37:20.391143Z",
     "iopub.status.idle": "2022-12-28T07:38:09.058499Z",
     "shell.execute_reply": "2022-12-28T07:38:09.057430Z"
    },
    "papermill": {
     "duration": 48.756332,
     "end_time": "2022-12-28T07:38:09.061090",
     "exception": false,
     "start_time": "2022-12-28T07:37:20.304758",
     "status": "completed"
    },
    "tags": []
   },
   "outputs": [],
   "source": [
    "labels = []\n",
    "\n",
    "type_weight_multipliers = {0: 1, 1: 6, 2: 3}\n",
    "for AIDs, types in zip(test_session_AIDs, test_session_types):\n",
    "    if len(AIDs) >= 20:\n",
    "        weights=np.logspace(0.1,1,len(AIDs),base=2, endpoint=True)-1\n",
    "        aids_temp=defaultdict(lambda: 0)\n",
    "        for aid,w,t in zip(AIDs,weights,types): \n",
    "            aids_temp[aid]+= w * type_weight_multipliers[t]\n",
    "            \n",
    "        sorted_aids=[k for k, v in sorted(aids_temp.items(), key=lambda item: -item[1])]\n",
    "        labels.append(sorted_aids[:20])\n",
    "    else:\n",
    "        AIDs = list(dict.fromkeys(AIDs))\n",
    "        item = ItemHistory(sequence=AIDs, topk=20)\n",
    "        try:\n",
    "            nns = [ int(v) for v in pred_user_to_item(item)['item_list']]\n",
    "        except:\n",
    "            nns = []\n",
    "\n",
    "        for word in nns:\n",
    "            if len(AIDs) == 20:\n",
    "                break\n",
    "            if int(word) not in AIDs:\n",
    "                AIDs.append(word)\n",
    "\n",
    "        labels.append(AIDs[:20])\n"
   ]
  },
  {
   "cell_type": "code",
   "execution_count": 11,
   "id": "5b84f69e",
   "metadata": {
    "execution": {
     "iopub.execute_input": "2022-12-28T07:38:09.125038Z",
     "iopub.status.busy": "2022-12-28T07:38:09.124718Z",
     "iopub.status.idle": "2022-12-28T07:38:23.471634Z",
     "shell.execute_reply": "2022-12-28T07:38:23.470629Z"
    },
    "papermill": {
     "duration": 14.38061,
     "end_time": "2022-12-28T07:38:23.474035",
     "exception": false,
     "start_time": "2022-12-28T07:38:09.093425",
     "status": "completed"
    },
    "tags": []
   },
   "outputs": [],
   "source": [
    "labels_as_strings = [' '.join([str(l) for l in lls]) for lls in labels]\n",
    "predictions = pd.DataFrame(data={'session_type': test_session_AIDs.index, 'labels': labels_as_strings})\n",
    "labels_as_strings = [' '.join([str(l) for l in lls]) for lls in labels]\n",
    "\n",
    "predictions = pd.DataFrame(data={'session_type': test_session_AIDs.index, 'labels': labels_as_strings})\n",
    "\n",
    "prediction_dfs = []\n",
    "\n",
    "for st in session_types:\n",
    "    modified_predictions = predictions.copy()\n",
    "    modified_predictions.session_type = modified_predictions.session_type.astype('str') + f'_{st}'\n",
    "    prediction_dfs.append(modified_predictions)\n",
    "\n",
    "submission = pd.concat(prediction_dfs).reset_index(drop=True)\n",
    "submission.to_csv('submission.csv', index=False)"
   ]
  },
  {
   "cell_type": "code",
   "execution_count": null,
   "id": "aa560093",
   "metadata": {
    "papermill": {
     "duration": 0.030372,
     "end_time": "2022-12-28T07:38:23.535312",
     "exception": false,
     "start_time": "2022-12-28T07:38:23.504940",
     "status": "completed"
    },
    "tags": []
   },
   "outputs": [],
   "source": []
  }
 ],
 "metadata": {
  "kernelspec": {
   "display_name": "Python 3",
   "language": "python",
   "name": "python3"
  },
  "language_info": {
   "codemirror_mode": {
    "name": "ipython",
    "version": 3
   },
   "file_extension": ".py",
   "mimetype": "text/x-python",
   "name": "python",
   "nbconvert_exporter": "python",
   "pygments_lexer": "ipython3",
   "version": "3.7.12"
  },
  "papermill": {
   "default_parameters": {},
   "duration": 4944.612263,
   "end_time": "2022-12-28T07:38:26.291422",
   "environment_variables": {},
   "exception": null,
   "input_path": "__notebook__.ipynb",
   "output_path": "__notebook__.ipynb",
   "parameters": {},
   "start_time": "2022-12-28T06:16:01.679159",
   "version": "2.3.4"
  }
 },
 "nbformat": 4,
 "nbformat_minor": 5
}
