{
  "nbformat": 4,
  "nbformat_minor": 0,
  "metadata": {
    "colab": {
      "provenance": []
    },
    "kernelspec": {
      "name": "python3",
      "display_name": "Python 3"
    },
    "language_info": {
      "name": "python"
    },
    "gpuClass": "standard",
    "widgets": {
      "application/vnd.jupyter.widget-state+json": {
        "09593cb18c3943b3817f5ecb22419219": {
          "model_module": "@jupyter-widgets/controls",
          "model_name": "HBoxModel",
          "model_module_version": "1.5.0",
          "state": {
            "_dom_classes": [],
            "_model_module": "@jupyter-widgets/controls",
            "_model_module_version": "1.5.0",
            "_model_name": "HBoxModel",
            "_view_count": null,
            "_view_module": "@jupyter-widgets/controls",
            "_view_module_version": "1.5.0",
            "_view_name": "HBoxView",
            "box_style": "",
            "children": [
              "IPY_MODEL_1943edf3fbef47268b887b27ba25d732",
              "IPY_MODEL_a4082551d5304a628520c363c7e4a129",
              "IPY_MODEL_f6aef71bd67749dda7a3cd59e138a083"
            ],
            "layout": "IPY_MODEL_4709752a73104072900cacb347bcbb8f"
          }
        },
        "1943edf3fbef47268b887b27ba25d732": {
          "model_module": "@jupyter-widgets/controls",
          "model_name": "HTMLModel",
          "model_module_version": "1.5.0",
          "state": {
            "_dom_classes": [],
            "_model_module": "@jupyter-widgets/controls",
            "_model_module_version": "1.5.0",
            "_model_name": "HTMLModel",
            "_view_count": null,
            "_view_module": "@jupyter-widgets/controls",
            "_view_module_version": "1.5.0",
            "_view_name": "HTMLView",
            "description": "",
            "description_tooltip": null,
            "layout": "IPY_MODEL_2cf63345650a46b49cdf1afc2efda5d3",
            "placeholder": "​",
            "style": "IPY_MODEL_70987d66837f4c8597c5c1ff3369c5b9",
            "value": "100%"
          }
        },
        "a4082551d5304a628520c363c7e4a129": {
          "model_module": "@jupyter-widgets/controls",
          "model_name": "FloatProgressModel",
          "model_module_version": "1.5.0",
          "state": {
            "_dom_classes": [],
            "_model_module": "@jupyter-widgets/controls",
            "_model_module_version": "1.5.0",
            "_model_name": "FloatProgressModel",
            "_view_count": null,
            "_view_module": "@jupyter-widgets/controls",
            "_view_module_version": "1.5.0",
            "_view_name": "ProgressView",
            "bar_style": "success",
            "description": "",
            "description_tooltip": null,
            "layout": "IPY_MODEL_3ae66ed2477a49dca30462bb5149d829",
            "max": 13931608,
            "min": 0,
            "orientation": "horizontal",
            "style": "IPY_MODEL_ade90b505aab447e923d7b3d442a1e04",
            "value": 13931608
          }
        },
        "f6aef71bd67749dda7a3cd59e138a083": {
          "model_module": "@jupyter-widgets/controls",
          "model_name": "HTMLModel",
          "model_module_version": "1.5.0",
          "state": {
            "_dom_classes": [],
            "_model_module": "@jupyter-widgets/controls",
            "_model_module_version": "1.5.0",
            "_model_name": "HTMLModel",
            "_view_count": null,
            "_view_module": "@jupyter-widgets/controls",
            "_view_module_version": "1.5.0",
            "_view_name": "HTMLView",
            "description": "",
            "description_tooltip": null,
            "layout": "IPY_MODEL_78d44c39a5294718bd17dd37be696ae6",
            "placeholder": "​",
            "style": "IPY_MODEL_dbf8588e1faa4bd5b47b564759876c30",
            "value": " 13931608/13931608 [05:12&lt;00:00, 47530.04it/s]"
          }
        },
        "4709752a73104072900cacb347bcbb8f": {
          "model_module": "@jupyter-widgets/base",
          "model_name": "LayoutModel",
          "model_module_version": "1.2.0",
          "state": {
            "_model_module": "@jupyter-widgets/base",
            "_model_module_version": "1.2.0",
            "_model_name": "LayoutModel",
            "_view_count": null,
            "_view_module": "@jupyter-widgets/base",
            "_view_module_version": "1.2.0",
            "_view_name": "LayoutView",
            "align_content": null,
            "align_items": null,
            "align_self": null,
            "border": null,
            "bottom": null,
            "display": null,
            "flex": null,
            "flex_flow": null,
            "grid_area": null,
            "grid_auto_columns": null,
            "grid_auto_flow": null,
            "grid_auto_rows": null,
            "grid_column": null,
            "grid_gap": null,
            "grid_row": null,
            "grid_template_areas": null,
            "grid_template_columns": null,
            "grid_template_rows": null,
            "height": null,
            "justify_content": null,
            "justify_items": null,
            "left": null,
            "margin": null,
            "max_height": null,
            "max_width": null,
            "min_height": null,
            "min_width": null,
            "object_fit": null,
            "object_position": null,
            "order": null,
            "overflow": null,
            "overflow_x": null,
            "overflow_y": null,
            "padding": null,
            "right": null,
            "top": null,
            "visibility": null,
            "width": null
          }
        },
        "2cf63345650a46b49cdf1afc2efda5d3": {
          "model_module": "@jupyter-widgets/base",
          "model_name": "LayoutModel",
          "model_module_version": "1.2.0",
          "state": {
            "_model_module": "@jupyter-widgets/base",
            "_model_module_version": "1.2.0",
            "_model_name": "LayoutModel",
            "_view_count": null,
            "_view_module": "@jupyter-widgets/base",
            "_view_module_version": "1.2.0",
            "_view_name": "LayoutView",
            "align_content": null,
            "align_items": null,
            "align_self": null,
            "border": null,
            "bottom": null,
            "display": null,
            "flex": null,
            "flex_flow": null,
            "grid_area": null,
            "grid_auto_columns": null,
            "grid_auto_flow": null,
            "grid_auto_rows": null,
            "grid_column": null,
            "grid_gap": null,
            "grid_row": null,
            "grid_template_areas": null,
            "grid_template_columns": null,
            "grid_template_rows": null,
            "height": null,
            "justify_content": null,
            "justify_items": null,
            "left": null,
            "margin": null,
            "max_height": null,
            "max_width": null,
            "min_height": null,
            "min_width": null,
            "object_fit": null,
            "object_position": null,
            "order": null,
            "overflow": null,
            "overflow_x": null,
            "overflow_y": null,
            "padding": null,
            "right": null,
            "top": null,
            "visibility": null,
            "width": null
          }
        },
        "70987d66837f4c8597c5c1ff3369c5b9": {
          "model_module": "@jupyter-widgets/controls",
          "model_name": "DescriptionStyleModel",
          "model_module_version": "1.5.0",
          "state": {
            "_model_module": "@jupyter-widgets/controls",
            "_model_module_version": "1.5.0",
            "_model_name": "DescriptionStyleModel",
            "_view_count": null,
            "_view_module": "@jupyter-widgets/base",
            "_view_module_version": "1.2.0",
            "_view_name": "StyleView",
            "description_width": ""
          }
        },
        "3ae66ed2477a49dca30462bb5149d829": {
          "model_module": "@jupyter-widgets/base",
          "model_name": "LayoutModel",
          "model_module_version": "1.2.0",
          "state": {
            "_model_module": "@jupyter-widgets/base",
            "_model_module_version": "1.2.0",
            "_model_name": "LayoutModel",
            "_view_count": null,
            "_view_module": "@jupyter-widgets/base",
            "_view_module_version": "1.2.0",
            "_view_name": "LayoutView",
            "align_content": null,
            "align_items": null,
            "align_self": null,
            "border": null,
            "bottom": null,
            "display": null,
            "flex": null,
            "flex_flow": null,
            "grid_area": null,
            "grid_auto_columns": null,
            "grid_auto_flow": null,
            "grid_auto_rows": null,
            "grid_column": null,
            "grid_gap": null,
            "grid_row": null,
            "grid_template_areas": null,
            "grid_template_columns": null,
            "grid_template_rows": null,
            "height": null,
            "justify_content": null,
            "justify_items": null,
            "left": null,
            "margin": null,
            "max_height": null,
            "max_width": null,
            "min_height": null,
            "min_width": null,
            "object_fit": null,
            "object_position": null,
            "order": null,
            "overflow": null,
            "overflow_x": null,
            "overflow_y": null,
            "padding": null,
            "right": null,
            "top": null,
            "visibility": null,
            "width": null
          }
        },
        "ade90b505aab447e923d7b3d442a1e04": {
          "model_module": "@jupyter-widgets/controls",
          "model_name": "ProgressStyleModel",
          "model_module_version": "1.5.0",
          "state": {
            "_model_module": "@jupyter-widgets/controls",
            "_model_module_version": "1.5.0",
            "_model_name": "ProgressStyleModel",
            "_view_count": null,
            "_view_module": "@jupyter-widgets/base",
            "_view_module_version": "1.2.0",
            "_view_name": "StyleView",
            "bar_color": null,
            "description_width": ""
          }
        },
        "78d44c39a5294718bd17dd37be696ae6": {
          "model_module": "@jupyter-widgets/base",
          "model_name": "LayoutModel",
          "model_module_version": "1.2.0",
          "state": {
            "_model_module": "@jupyter-widgets/base",
            "_model_module_version": "1.2.0",
            "_model_name": "LayoutModel",
            "_view_count": null,
            "_view_module": "@jupyter-widgets/base",
            "_view_module_version": "1.2.0",
            "_view_name": "LayoutView",
            "align_content": null,
            "align_items": null,
            "align_self": null,
            "border": null,
            "bottom": null,
            "display": null,
            "flex": null,
            "flex_flow": null,
            "grid_area": null,
            "grid_auto_columns": null,
            "grid_auto_flow": null,
            "grid_auto_rows": null,
            "grid_column": null,
            "grid_gap": null,
            "grid_row": null,
            "grid_template_areas": null,
            "grid_template_columns": null,
            "grid_template_rows": null,
            "height": null,
            "justify_content": null,
            "justify_items": null,
            "left": null,
            "margin": null,
            "max_height": null,
            "max_width": null,
            "min_height": null,
            "min_width": null,
            "object_fit": null,
            "object_position": null,
            "order": null,
            "overflow": null,
            "overflow_x": null,
            "overflow_y": null,
            "padding": null,
            "right": null,
            "top": null,
            "visibility": null,
            "width": null
          }
        },
        "dbf8588e1faa4bd5b47b564759876c30": {
          "model_module": "@jupyter-widgets/controls",
          "model_name": "DescriptionStyleModel",
          "model_module_version": "1.5.0",
          "state": {
            "_model_module": "@jupyter-widgets/controls",
            "_model_module_version": "1.5.0",
            "_model_name": "DescriptionStyleModel",
            "_view_count": null,
            "_view_module": "@jupyter-widgets/base",
            "_view_module_version": "1.2.0",
            "_view_name": "StyleView",
            "description_width": ""
          }
        },
        "98583062d0e04a47be3e61db84e587cb": {
          "model_module": "@jupyter-widgets/controls",
          "model_name": "HBoxModel",
          "model_module_version": "1.5.0",
          "state": {
            "_dom_classes": [],
            "_model_module": "@jupyter-widgets/controls",
            "_model_module_version": "1.5.0",
            "_model_name": "HBoxModel",
            "_view_count": null,
            "_view_module": "@jupyter-widgets/controls",
            "_view_module_version": "1.5.0",
            "_view_name": "HBoxView",
            "box_style": "",
            "children": [
              "IPY_MODEL_44ae85176ba94e78906a9efbe79fab61",
              "IPY_MODEL_c86d73e5ab2e4e618e26fc04d5e684cf",
              "IPY_MODEL_3e717d02c5ee445ca5dde6b7be75950f"
            ],
            "layout": "IPY_MODEL_31f4e29e1bb24c968c7a438ead75ff40"
          }
        },
        "44ae85176ba94e78906a9efbe79fab61": {
          "model_module": "@jupyter-widgets/controls",
          "model_name": "HTMLModel",
          "model_module_version": "1.5.0",
          "state": {
            "_dom_classes": [],
            "_model_module": "@jupyter-widgets/controls",
            "_model_module_version": "1.5.0",
            "_model_name": "HTMLModel",
            "_view_count": null,
            "_view_module": "@jupyter-widgets/controls",
            "_view_module_version": "1.5.0",
            "_view_name": "HTMLView",
            "description": "",
            "description_tooltip": null,
            "layout": "IPY_MODEL_c4b771b621b44117b9260be8f5d922d4",
            "placeholder": "​",
            "style": "IPY_MODEL_8eca2e68451e49098337251f92ac33cc",
            "value": "100%"
          }
        },
        "c86d73e5ab2e4e618e26fc04d5e684cf": {
          "model_module": "@jupyter-widgets/controls",
          "model_name": "FloatProgressModel",
          "model_module_version": "1.5.0",
          "state": {
            "_dom_classes": [],
            "_model_module": "@jupyter-widgets/controls",
            "_model_module_version": "1.5.0",
            "_model_name": "FloatProgressModel",
            "_view_count": null,
            "_view_module": "@jupyter-widgets/controls",
            "_view_module_version": "1.5.0",
            "_view_name": "ProgressView",
            "bar_style": "success",
            "description": "",
            "description_tooltip": null,
            "layout": "IPY_MODEL_99b31774772349d3a6d22ffcdd3bf2bf",
            "max": 3234445,
            "min": 0,
            "orientation": "horizontal",
            "style": "IPY_MODEL_22f4c91ae72d4c4bbcaffee71774b9fb",
            "value": 3234445
          }
        },
        "3e717d02c5ee445ca5dde6b7be75950f": {
          "model_module": "@jupyter-widgets/controls",
          "model_name": "HTMLModel",
          "model_module_version": "1.5.0",
          "state": {
            "_dom_classes": [],
            "_model_module": "@jupyter-widgets/controls",
            "_model_module_version": "1.5.0",
            "_model_name": "HTMLModel",
            "_view_count": null,
            "_view_module": "@jupyter-widgets/controls",
            "_view_module_version": "1.5.0",
            "_view_name": "HTMLView",
            "description": "",
            "description_tooltip": null,
            "layout": "IPY_MODEL_bac7d872914e40449c0bc65584ff0fcb",
            "placeholder": "​",
            "style": "IPY_MODEL_7456a56f5b4a47f8940a02747b54ea56",
            "value": " 3234445/3234445 [13:38&lt;00:00, 13609.01it/s]"
          }
        },
        "31f4e29e1bb24c968c7a438ead75ff40": {
          "model_module": "@jupyter-widgets/base",
          "model_name": "LayoutModel",
          "model_module_version": "1.2.0",
          "state": {
            "_model_module": "@jupyter-widgets/base",
            "_model_module_version": "1.2.0",
            "_model_name": "LayoutModel",
            "_view_count": null,
            "_view_module": "@jupyter-widgets/base",
            "_view_module_version": "1.2.0",
            "_view_name": "LayoutView",
            "align_content": null,
            "align_items": null,
            "align_self": null,
            "border": null,
            "bottom": null,
            "display": null,
            "flex": null,
            "flex_flow": null,
            "grid_area": null,
            "grid_auto_columns": null,
            "grid_auto_flow": null,
            "grid_auto_rows": null,
            "grid_column": null,
            "grid_gap": null,
            "grid_row": null,
            "grid_template_areas": null,
            "grid_template_columns": null,
            "grid_template_rows": null,
            "height": null,
            "justify_content": null,
            "justify_items": null,
            "left": null,
            "margin": null,
            "max_height": null,
            "max_width": null,
            "min_height": null,
            "min_width": null,
            "object_fit": null,
            "object_position": null,
            "order": null,
            "overflow": null,
            "overflow_x": null,
            "overflow_y": null,
            "padding": null,
            "right": null,
            "top": null,
            "visibility": null,
            "width": null
          }
        },
        "c4b771b621b44117b9260be8f5d922d4": {
          "model_module": "@jupyter-widgets/base",
          "model_name": "LayoutModel",
          "model_module_version": "1.2.0",
          "state": {
            "_model_module": "@jupyter-widgets/base",
            "_model_module_version": "1.2.0",
            "_model_name": "LayoutModel",
            "_view_count": null,
            "_view_module": "@jupyter-widgets/base",
            "_view_module_version": "1.2.0",
            "_view_name": "LayoutView",
            "align_content": null,
            "align_items": null,
            "align_self": null,
            "border": null,
            "bottom": null,
            "display": null,
            "flex": null,
            "flex_flow": null,
            "grid_area": null,
            "grid_auto_columns": null,
            "grid_auto_flow": null,
            "grid_auto_rows": null,
            "grid_column": null,
            "grid_gap": null,
            "grid_row": null,
            "grid_template_areas": null,
            "grid_template_columns": null,
            "grid_template_rows": null,
            "height": null,
            "justify_content": null,
            "justify_items": null,
            "left": null,
            "margin": null,
            "max_height": null,
            "max_width": null,
            "min_height": null,
            "min_width": null,
            "object_fit": null,
            "object_position": null,
            "order": null,
            "overflow": null,
            "overflow_x": null,
            "overflow_y": null,
            "padding": null,
            "right": null,
            "top": null,
            "visibility": null,
            "width": null
          }
        },
        "8eca2e68451e49098337251f92ac33cc": {
          "model_module": "@jupyter-widgets/controls",
          "model_name": "DescriptionStyleModel",
          "model_module_version": "1.5.0",
          "state": {
            "_model_module": "@jupyter-widgets/controls",
            "_model_module_version": "1.5.0",
            "_model_name": "DescriptionStyleModel",
            "_view_count": null,
            "_view_module": "@jupyter-widgets/base",
            "_view_module_version": "1.2.0",
            "_view_name": "StyleView",
            "description_width": ""
          }
        },
        "99b31774772349d3a6d22ffcdd3bf2bf": {
          "model_module": "@jupyter-widgets/base",
          "model_name": "LayoutModel",
          "model_module_version": "1.2.0",
          "state": {
            "_model_module": "@jupyter-widgets/base",
            "_model_module_version": "1.2.0",
            "_model_name": "LayoutModel",
            "_view_count": null,
            "_view_module": "@jupyter-widgets/base",
            "_view_module_version": "1.2.0",
            "_view_name": "LayoutView",
            "align_content": null,
            "align_items": null,
            "align_self": null,
            "border": null,
            "bottom": null,
            "display": null,
            "flex": null,
            "flex_flow": null,
            "grid_area": null,
            "grid_auto_columns": null,
            "grid_auto_flow": null,
            "grid_auto_rows": null,
            "grid_column": null,
            "grid_gap": null,
            "grid_row": null,
            "grid_template_areas": null,
            "grid_template_columns": null,
            "grid_template_rows": null,
            "height": null,
            "justify_content": null,
            "justify_items": null,
            "left": null,
            "margin": null,
            "max_height": null,
            "max_width": null,
            "min_height": null,
            "min_width": null,
            "object_fit": null,
            "object_position": null,
            "order": null,
            "overflow": null,
            "overflow_x": null,
            "overflow_y": null,
            "padding": null,
            "right": null,
            "top": null,
            "visibility": null,
            "width": null
          }
        },
        "22f4c91ae72d4c4bbcaffee71774b9fb": {
          "model_module": "@jupyter-widgets/controls",
          "model_name": "ProgressStyleModel",
          "model_module_version": "1.5.0",
          "state": {
            "_model_module": "@jupyter-widgets/controls",
            "_model_module_version": "1.5.0",
            "_model_name": "ProgressStyleModel",
            "_view_count": null,
            "_view_module": "@jupyter-widgets/base",
            "_view_module_version": "1.2.0",
            "_view_name": "StyleView",
            "bar_color": null,
            "description_width": ""
          }
        },
        "bac7d872914e40449c0bc65584ff0fcb": {
          "model_module": "@jupyter-widgets/base",
          "model_name": "LayoutModel",
          "model_module_version": "1.2.0",
          "state": {
            "_model_module": "@jupyter-widgets/base",
            "_model_module_version": "1.2.0",
            "_model_name": "LayoutModel",
            "_view_count": null,
            "_view_module": "@jupyter-widgets/base",
            "_view_module_version": "1.2.0",
            "_view_name": "LayoutView",
            "align_content": null,
            "align_items": null,
            "align_self": null,
            "border": null,
            "bottom": null,
            "display": null,
            "flex": null,
            "flex_flow": null,
            "grid_area": null,
            "grid_auto_columns": null,
            "grid_auto_flow": null,
            "grid_auto_rows": null,
            "grid_column": null,
            "grid_gap": null,
            "grid_row": null,
            "grid_template_areas": null,
            "grid_template_columns": null,
            "grid_template_rows": null,
            "height": null,
            "justify_content": null,
            "justify_items": null,
            "left": null,
            "margin": null,
            "max_height": null,
            "max_width": null,
            "min_height": null,
            "min_width": null,
            "object_fit": null,
            "object_position": null,
            "order": null,
            "overflow": null,
            "overflow_x": null,
            "overflow_y": null,
            "padding": null,
            "right": null,
            "top": null,
            "visibility": null,
            "width": null
          }
        },
        "7456a56f5b4a47f8940a02747b54ea56": {
          "model_module": "@jupyter-widgets/controls",
          "model_name": "DescriptionStyleModel",
          "model_module_version": "1.5.0",
          "state": {
            "_model_module": "@jupyter-widgets/controls",
            "_model_module_version": "1.5.0",
            "_model_name": "DescriptionStyleModel",
            "_view_count": null,
            "_view_module": "@jupyter-widgets/base",
            "_view_module_version": "1.2.0",
            "_view_name": "StyleView",
            "description_width": ""
          }
        },
        "efbbd805798e4cc5bd39ddc080923f0a": {
          "model_module": "@jupyter-widgets/controls",
          "model_name": "HBoxModel",
          "model_module_version": "1.5.0",
          "state": {
            "_dom_classes": [],
            "_model_module": "@jupyter-widgets/controls",
            "_model_module_version": "1.5.0",
            "_model_name": "HBoxModel",
            "_view_count": null,
            "_view_module": "@jupyter-widgets/controls",
            "_view_module_version": "1.5.0",
            "_view_name": "HBoxView",
            "box_style": "",
            "children": [
              "IPY_MODEL_733bdb5a6c4e4b01be08cabdccdc31fa",
              "IPY_MODEL_22c58d02ebfe409da3b27e88af9944f5",
              "IPY_MODEL_f6b55d706f9c4437ac609f6e659c887b"
            ],
            "layout": "IPY_MODEL_5f1bb624c9fb4afaa1258de7658b0233"
          }
        },
        "733bdb5a6c4e4b01be08cabdccdc31fa": {
          "model_module": "@jupyter-widgets/controls",
          "model_name": "HTMLModel",
          "model_module_version": "1.5.0",
          "state": {
            "_dom_classes": [],
            "_model_module": "@jupyter-widgets/controls",
            "_model_module_version": "1.5.0",
            "_model_name": "HTMLModel",
            "_view_count": null,
            "_view_module": "@jupyter-widgets/controls",
            "_view_module_version": "1.5.0",
            "_view_name": "HTMLView",
            "description": "",
            "description_tooltip": null,
            "layout": "IPY_MODEL_4172073366d146d3a878b4b6e0e5fdc9",
            "placeholder": "​",
            "style": "IPY_MODEL_76d3f1e3ff2d443ba4865ef145949540",
            "value": "train loss: 4.003133773803711:  66%"
          }
        },
        "22c58d02ebfe409da3b27e88af9944f5": {
          "model_module": "@jupyter-widgets/controls",
          "model_name": "FloatProgressModel",
          "model_module_version": "1.5.0",
          "state": {
            "_dom_classes": [],
            "_model_module": "@jupyter-widgets/controls",
            "_model_module_version": "1.5.0",
            "_model_name": "FloatProgressModel",
            "_view_count": null,
            "_view_module": "@jupyter-widgets/controls",
            "_view_module_version": "1.5.0",
            "_view_name": "ProgressView",
            "bar_style": "",
            "description": "",
            "description_tooltip": null,
            "layout": "IPY_MODEL_73aab3a3444d4d8ebf99ae0e60374f5e",
            "max": 1000,
            "min": 0,
            "orientation": "horizontal",
            "style": "IPY_MODEL_31e0fb349f2b41e5a7f5df1a2f583877",
            "value": 661
          }
        },
        "f6b55d706f9c4437ac609f6e659c887b": {
          "model_module": "@jupyter-widgets/controls",
          "model_name": "HTMLModel",
          "model_module_version": "1.5.0",
          "state": {
            "_dom_classes": [],
            "_model_module": "@jupyter-widgets/controls",
            "_model_module_version": "1.5.0",
            "_model_name": "HTMLModel",
            "_view_count": null,
            "_view_module": "@jupyter-widgets/controls",
            "_view_module_version": "1.5.0",
            "_view_name": "HTMLView",
            "description": "",
            "description_tooltip": null,
            "layout": "IPY_MODEL_c8da0e1aea5241ca919286a6a4ac36b6",
            "placeholder": "​",
            "style": "IPY_MODEL_9c1c1478f9694fa3bf123b8f7d442888",
            "value": " 661/1000 [02:41&lt;00:24, 13.83it/s]"
          }
        },
        "5f1bb624c9fb4afaa1258de7658b0233": {
          "model_module": "@jupyter-widgets/base",
          "model_name": "LayoutModel",
          "model_module_version": "1.2.0",
          "state": {
            "_model_module": "@jupyter-widgets/base",
            "_model_module_version": "1.2.0",
            "_model_name": "LayoutModel",
            "_view_count": null,
            "_view_module": "@jupyter-widgets/base",
            "_view_module_version": "1.2.0",
            "_view_name": "LayoutView",
            "align_content": null,
            "align_items": null,
            "align_self": null,
            "border": null,
            "bottom": null,
            "display": null,
            "flex": null,
            "flex_flow": null,
            "grid_area": null,
            "grid_auto_columns": null,
            "grid_auto_flow": null,
            "grid_auto_rows": null,
            "grid_column": null,
            "grid_gap": null,
            "grid_row": null,
            "grid_template_areas": null,
            "grid_template_columns": null,
            "grid_template_rows": null,
            "height": null,
            "justify_content": null,
            "justify_items": null,
            "left": null,
            "margin": null,
            "max_height": null,
            "max_width": null,
            "min_height": null,
            "min_width": null,
            "object_fit": null,
            "object_position": null,
            "order": null,
            "overflow": null,
            "overflow_x": null,
            "overflow_y": null,
            "padding": null,
            "right": null,
            "top": null,
            "visibility": null,
            "width": null
          }
        },
        "4172073366d146d3a878b4b6e0e5fdc9": {
          "model_module": "@jupyter-widgets/base",
          "model_name": "LayoutModel",
          "model_module_version": "1.2.0",
          "state": {
            "_model_module": "@jupyter-widgets/base",
            "_model_module_version": "1.2.0",
            "_model_name": "LayoutModel",
            "_view_count": null,
            "_view_module": "@jupyter-widgets/base",
            "_view_module_version": "1.2.0",
            "_view_name": "LayoutView",
            "align_content": null,
            "align_items": null,
            "align_self": null,
            "border": null,
            "bottom": null,
            "display": null,
            "flex": null,
            "flex_flow": null,
            "grid_area": null,
            "grid_auto_columns": null,
            "grid_auto_flow": null,
            "grid_auto_rows": null,
            "grid_column": null,
            "grid_gap": null,
            "grid_row": null,
            "grid_template_areas": null,
            "grid_template_columns": null,
            "grid_template_rows": null,
            "height": null,
            "justify_content": null,
            "justify_items": null,
            "left": null,
            "margin": null,
            "max_height": null,
            "max_width": null,
            "min_height": null,
            "min_width": null,
            "object_fit": null,
            "object_position": null,
            "order": null,
            "overflow": null,
            "overflow_x": null,
            "overflow_y": null,
            "padding": null,
            "right": null,
            "top": null,
            "visibility": null,
            "width": null
          }
        },
        "76d3f1e3ff2d443ba4865ef145949540": {
          "model_module": "@jupyter-widgets/controls",
          "model_name": "DescriptionStyleModel",
          "model_module_version": "1.5.0",
          "state": {
            "_model_module": "@jupyter-widgets/controls",
            "_model_module_version": "1.5.0",
            "_model_name": "DescriptionStyleModel",
            "_view_count": null,
            "_view_module": "@jupyter-widgets/base",
            "_view_module_version": "1.2.0",
            "_view_name": "StyleView",
            "description_width": ""
          }
        },
        "73aab3a3444d4d8ebf99ae0e60374f5e": {
          "model_module": "@jupyter-widgets/base",
          "model_name": "LayoutModel",
          "model_module_version": "1.2.0",
          "state": {
            "_model_module": "@jupyter-widgets/base",
            "_model_module_version": "1.2.0",
            "_model_name": "LayoutModel",
            "_view_count": null,
            "_view_module": "@jupyter-widgets/base",
            "_view_module_version": "1.2.0",
            "_view_name": "LayoutView",
            "align_content": null,
            "align_items": null,
            "align_self": null,
            "border": null,
            "bottom": null,
            "display": null,
            "flex": null,
            "flex_flow": null,
            "grid_area": null,
            "grid_auto_columns": null,
            "grid_auto_flow": null,
            "grid_auto_rows": null,
            "grid_column": null,
            "grid_gap": null,
            "grid_row": null,
            "grid_template_areas": null,
            "grid_template_columns": null,
            "grid_template_rows": null,
            "height": null,
            "justify_content": null,
            "justify_items": null,
            "left": null,
            "margin": null,
            "max_height": null,
            "max_width": null,
            "min_height": null,
            "min_width": null,
            "object_fit": null,
            "object_position": null,
            "order": null,
            "overflow": null,
            "overflow_x": null,
            "overflow_y": null,
            "padding": null,
            "right": null,
            "top": null,
            "visibility": null,
            "width": null
          }
        },
        "31e0fb349f2b41e5a7f5df1a2f583877": {
          "model_module": "@jupyter-widgets/controls",
          "model_name": "ProgressStyleModel",
          "model_module_version": "1.5.0",
          "state": {
            "_model_module": "@jupyter-widgets/controls",
            "_model_module_version": "1.5.0",
            "_model_name": "ProgressStyleModel",
            "_view_count": null,
            "_view_module": "@jupyter-widgets/base",
            "_view_module_version": "1.2.0",
            "_view_name": "StyleView",
            "bar_color": null,
            "description_width": ""
          }
        },
        "c8da0e1aea5241ca919286a6a4ac36b6": {
          "model_module": "@jupyter-widgets/base",
          "model_name": "LayoutModel",
          "model_module_version": "1.2.0",
          "state": {
            "_model_module": "@jupyter-widgets/base",
            "_model_module_version": "1.2.0",
            "_model_name": "LayoutModel",
            "_view_count": null,
            "_view_module": "@jupyter-widgets/base",
            "_view_module_version": "1.2.0",
            "_view_name": "LayoutView",
            "align_content": null,
            "align_items": null,
            "align_self": null,
            "border": null,
            "bottom": null,
            "display": null,
            "flex": null,
            "flex_flow": null,
            "grid_area": null,
            "grid_auto_columns": null,
            "grid_auto_flow": null,
            "grid_auto_rows": null,
            "grid_column": null,
            "grid_gap": null,
            "grid_row": null,
            "grid_template_areas": null,
            "grid_template_columns": null,
            "grid_template_rows": null,
            "height": null,
            "justify_content": null,
            "justify_items": null,
            "left": null,
            "margin": null,
            "max_height": null,
            "max_width": null,
            "min_height": null,
            "min_width": null,
            "object_fit": null,
            "object_position": null,
            "order": null,
            "overflow": null,
            "overflow_x": null,
            "overflow_y": null,
            "padding": null,
            "right": null,
            "top": null,
            "visibility": null,
            "width": null
          }
        },
        "9c1c1478f9694fa3bf123b8f7d442888": {
          "model_module": "@jupyter-widgets/controls",
          "model_name": "DescriptionStyleModel",
          "model_module_version": "1.5.0",
          "state": {
            "_model_module": "@jupyter-widgets/controls",
            "_model_module_version": "1.5.0",
            "_model_name": "DescriptionStyleModel",
            "_view_count": null,
            "_view_module": "@jupyter-widgets/base",
            "_view_module_version": "1.2.0",
            "_view_name": "StyleView",
            "description_width": ""
          }
        }
      }
    }
  },
  "cells": [
    {
      "cell_type": "markdown",
      "source": [
        "# Сравнение GCNConv сеть с случайным подбрасыванием монетки на данных VK Cup"
      ],
      "metadata": {
        "id": "-mT85didi9Rs"
      }
    },
    {
      "cell_type": "code",
      "execution_count": 1,
      "metadata": {
        "colab": {
          "base_uri": "https://localhost:8080/"
        },
        "id": "3SaapOyFSVva",
        "outputId": "f1b864cc-4d6f-428a-9777-1b49098d5621"
      },
      "outputs": [
        {
          "output_type": "stream",
          "name": "stdout",
          "text": [
            "Looking in indexes: https://pypi.org/simple, https://us-python.pkg.dev/colab-wheels/public/simple/\n",
            "Looking in links: https://data.pyg.org/whl/torch-1.12.1+cu113.html\n",
            "Collecting torch-scatter\n",
            "  Downloading https://data.pyg.org/whl/torch-1.12.0%2Bcu113/torch_scatter-2.0.9-cp37-cp37m-linux_x86_64.whl (7.9 MB)\n",
            "\u001b[K     |████████████████████████████████| 7.9 MB 32.7 MB/s \n",
            "\u001b[?25hInstalling collected packages: torch-scatter\n",
            "Successfully installed torch-scatter-2.0.9\n",
            "Looking in indexes: https://pypi.org/simple, https://us-python.pkg.dev/colab-wheels/public/simple/\n",
            "Looking in links: https://data.pyg.org/whl/torch-1.12.1+cu113.html\n",
            "Collecting torch-sparse\n",
            "  Downloading https://data.pyg.org/whl/torch-1.12.0%2Bcu113/torch_sparse-0.6.15-cp37-cp37m-linux_x86_64.whl (3.5 MB)\n",
            "\u001b[K     |████████████████████████████████| 3.5 MB 27.7 MB/s \n",
            "\u001b[?25hRequirement already satisfied: scipy in /usr/local/lib/python3.7/dist-packages (from torch-sparse) (1.7.3)\n",
            "Requirement already satisfied: numpy<1.23.0,>=1.16.5 in /usr/local/lib/python3.7/dist-packages (from scipy->torch-sparse) (1.21.6)\n",
            "Installing collected packages: torch-sparse\n",
            "Successfully installed torch-sparse-0.6.15\n",
            "Looking in indexes: https://pypi.org/simple, https://us-python.pkg.dev/colab-wheels/public/simple/\n",
            "Looking in links: https://data.pyg.org/whl/torch-1.12.1+cu113.html\n",
            "Collecting torch-cluster\n",
            "  Downloading https://data.pyg.org/whl/torch-1.12.0%2Bcu113/torch_cluster-1.6.0-cp37-cp37m-linux_x86_64.whl (2.4 MB)\n",
            "\u001b[K     |████████████████████████████████| 2.4 MB 31.5 MB/s \n",
            "\u001b[?25hInstalling collected packages: torch-cluster\n",
            "Successfully installed torch-cluster-1.6.0\n",
            "Looking in indexes: https://pypi.org/simple, https://us-python.pkg.dev/colab-wheels/public/simple/\n",
            "Collecting torch-geometric\n",
            "  Downloading torch_geometric-2.1.0.post1.tar.gz (467 kB)\n",
            "\u001b[K     |████████████████████████████████| 467 kB 17.0 MB/s \n",
            "\u001b[?25hRequirement already satisfied: tqdm in /usr/local/lib/python3.7/dist-packages (from torch-geometric) (4.64.1)\n",
            "Requirement already satisfied: numpy in /usr/local/lib/python3.7/dist-packages (from torch-geometric) (1.21.6)\n",
            "Requirement already satisfied: scipy in /usr/local/lib/python3.7/dist-packages (from torch-geometric) (1.7.3)\n",
            "Requirement already satisfied: jinja2 in /usr/local/lib/python3.7/dist-packages (from torch-geometric) (2.11.3)\n",
            "Requirement already satisfied: requests in /usr/local/lib/python3.7/dist-packages (from torch-geometric) (2.23.0)\n",
            "Requirement already satisfied: pyparsing in /usr/local/lib/python3.7/dist-packages (from torch-geometric) (3.0.9)\n",
            "Requirement already satisfied: scikit-learn in /usr/local/lib/python3.7/dist-packages (from torch-geometric) (1.0.2)\n",
            "Requirement already satisfied: MarkupSafe>=0.23 in /usr/local/lib/python3.7/dist-packages (from jinja2->torch-geometric) (2.0.1)\n",
            "Requirement already satisfied: idna<3,>=2.5 in /usr/local/lib/python3.7/dist-packages (from requests->torch-geometric) (2.10)\n",
            "Requirement already satisfied: chardet<4,>=3.0.2 in /usr/local/lib/python3.7/dist-packages (from requests->torch-geometric) (3.0.4)\n",
            "Requirement already satisfied: certifi>=2017.4.17 in /usr/local/lib/python3.7/dist-packages (from requests->torch-geometric) (2022.9.24)\n",
            "Requirement already satisfied: urllib3!=1.25.0,!=1.25.1,<1.26,>=1.21.1 in /usr/local/lib/python3.7/dist-packages (from requests->torch-geometric) (1.24.3)\n",
            "Requirement already satisfied: threadpoolctl>=2.0.0 in /usr/local/lib/python3.7/dist-packages (from scikit-learn->torch-geometric) (3.1.0)\n",
            "Requirement already satisfied: joblib>=0.11 in /usr/local/lib/python3.7/dist-packages (from scikit-learn->torch-geometric) (1.2.0)\n",
            "Building wheels for collected packages: torch-geometric\n",
            "  Building wheel for torch-geometric (setup.py) ... \u001b[?25l\u001b[?25hdone\n",
            "  Created wheel for torch-geometric: filename=torch_geometric-2.1.0.post1-py3-none-any.whl size=689857 sha256=fe81a8f8ec9cf3f59c98d771c749f195b270f9d62072e2b9a8cdd57c0eb98106\n",
            "  Stored in directory: /root/.cache/pip/wheels/d1/cb/43/f7f2e472de4d7cff31bceddadc36d634e1e545fbc17961c282\n",
            "Successfully built torch-geometric\n",
            "Installing collected packages: torch-geometric\n",
            "Successfully installed torch-geometric-2.1.0.post1\n"
          ]
        }
      ],
      "source": [
        "import torch\n",
        "\n",
        "!pip install torch-scatter -f https://data.pyg.org/whl/torch-{torch.__version__}.html\n",
        "!pip install torch-sparse -f https://data.pyg.org/whl/torch-{torch.__version__}.html\n",
        "!pip install torch-cluster -f https://data.pyg.org/whl/torch-{torch.__version__}.html\n",
        "\n",
        "!pip install torch-geometric\n"
      ]
    },
    {
      "cell_type": "code",
      "source": [
        "import numpy as np \n",
        "import pandas as pd \n",
        "\n",
        "df = pd.read_csv('/content/drive/MyDrive/train_mod.csv')\n",
        "df"
      ],
      "metadata": {
        "colab": {
          "base_uri": "https://localhost:8080/",
          "height": 424
        },
        "id": "azU0Fo98Sfxg",
        "outputId": "a472a88b-cdab-4068-d7c6-d5bc1c323c97"
      },
      "execution_count": 2,
      "outputs": [
        {
          "output_type": "execute_result",
          "data": {
            "text/plain": [
              "          Unnamed: 0       u        v   t  h\n",
              "0                  0       0        1  27  6\n",
              "1                  1       2        3  13  8\n",
              "2                  2       4        5  74  2\n",
              "3                  3       6        7  36  9\n",
              "4                  4       8        9  52  2\n",
              "...              ...     ...      ...  .. ..\n",
              "17414505    17414505   67072    94867  60  0\n",
              "17414506    17414506  991066  1279987  71  0\n",
              "17414507    17414507  125201    68549  67  0\n",
              "17414508    17414508   27914  3234444  49  0\n",
              "17414509    17414509  437760   927379  26  7\n",
              "\n",
              "[17414510 rows x 5 columns]"
            ],
            "text/html": [
              "\n",
              "  <div id=\"df-b78224a4-b5a7-4a38-98b5-17566e31b41d\">\n",
              "    <div class=\"colab-df-container\">\n",
              "      <div>\n",
              "<style scoped>\n",
              "    .dataframe tbody tr th:only-of-type {\n",
              "        vertical-align: middle;\n",
              "    }\n",
              "\n",
              "    .dataframe tbody tr th {\n",
              "        vertical-align: top;\n",
              "    }\n",
              "\n",
              "    .dataframe thead th {\n",
              "        text-align: right;\n",
              "    }\n",
              "</style>\n",
              "<table border=\"1\" class=\"dataframe\">\n",
              "  <thead>\n",
              "    <tr style=\"text-align: right;\">\n",
              "      <th></th>\n",
              "      <th>Unnamed: 0</th>\n",
              "      <th>u</th>\n",
              "      <th>v</th>\n",
              "      <th>t</th>\n",
              "      <th>h</th>\n",
              "    </tr>\n",
              "  </thead>\n",
              "  <tbody>\n",
              "    <tr>\n",
              "      <th>0</th>\n",
              "      <td>0</td>\n",
              "      <td>0</td>\n",
              "      <td>1</td>\n",
              "      <td>27</td>\n",
              "      <td>6</td>\n",
              "    </tr>\n",
              "    <tr>\n",
              "      <th>1</th>\n",
              "      <td>1</td>\n",
              "      <td>2</td>\n",
              "      <td>3</td>\n",
              "      <td>13</td>\n",
              "      <td>8</td>\n",
              "    </tr>\n",
              "    <tr>\n",
              "      <th>2</th>\n",
              "      <td>2</td>\n",
              "      <td>4</td>\n",
              "      <td>5</td>\n",
              "      <td>74</td>\n",
              "      <td>2</td>\n",
              "    </tr>\n",
              "    <tr>\n",
              "      <th>3</th>\n",
              "      <td>3</td>\n",
              "      <td>6</td>\n",
              "      <td>7</td>\n",
              "      <td>36</td>\n",
              "      <td>9</td>\n",
              "    </tr>\n",
              "    <tr>\n",
              "      <th>4</th>\n",
              "      <td>4</td>\n",
              "      <td>8</td>\n",
              "      <td>9</td>\n",
              "      <td>52</td>\n",
              "      <td>2</td>\n",
              "    </tr>\n",
              "    <tr>\n",
              "      <th>...</th>\n",
              "      <td>...</td>\n",
              "      <td>...</td>\n",
              "      <td>...</td>\n",
              "      <td>...</td>\n",
              "      <td>...</td>\n",
              "    </tr>\n",
              "    <tr>\n",
              "      <th>17414505</th>\n",
              "      <td>17414505</td>\n",
              "      <td>67072</td>\n",
              "      <td>94867</td>\n",
              "      <td>60</td>\n",
              "      <td>0</td>\n",
              "    </tr>\n",
              "    <tr>\n",
              "      <th>17414506</th>\n",
              "      <td>17414506</td>\n",
              "      <td>991066</td>\n",
              "      <td>1279987</td>\n",
              "      <td>71</td>\n",
              "      <td>0</td>\n",
              "    </tr>\n",
              "    <tr>\n",
              "      <th>17414507</th>\n",
              "      <td>17414507</td>\n",
              "      <td>125201</td>\n",
              "      <td>68549</td>\n",
              "      <td>67</td>\n",
              "      <td>0</td>\n",
              "    </tr>\n",
              "    <tr>\n",
              "      <th>17414508</th>\n",
              "      <td>17414508</td>\n",
              "      <td>27914</td>\n",
              "      <td>3234444</td>\n",
              "      <td>49</td>\n",
              "      <td>0</td>\n",
              "    </tr>\n",
              "    <tr>\n",
              "      <th>17414509</th>\n",
              "      <td>17414509</td>\n",
              "      <td>437760</td>\n",
              "      <td>927379</td>\n",
              "      <td>26</td>\n",
              "      <td>7</td>\n",
              "    </tr>\n",
              "  </tbody>\n",
              "</table>\n",
              "<p>17414510 rows × 5 columns</p>\n",
              "</div>\n",
              "      <button class=\"colab-df-convert\" onclick=\"convertToInteractive('df-b78224a4-b5a7-4a38-98b5-17566e31b41d')\"\n",
              "              title=\"Convert this dataframe to an interactive table.\"\n",
              "              style=\"display:none;\">\n",
              "        \n",
              "  <svg xmlns=\"http://www.w3.org/2000/svg\" height=\"24px\"viewBox=\"0 0 24 24\"\n",
              "       width=\"24px\">\n",
              "    <path d=\"M0 0h24v24H0V0z\" fill=\"none\"/>\n",
              "    <path d=\"M18.56 5.44l.94 2.06.94-2.06 2.06-.94-2.06-.94-.94-2.06-.94 2.06-2.06.94zm-11 1L8.5 8.5l.94-2.06 2.06-.94-2.06-.94L8.5 2.5l-.94 2.06-2.06.94zm10 10l.94 2.06.94-2.06 2.06-.94-2.06-.94-.94-2.06-.94 2.06-2.06.94z\"/><path d=\"M17.41 7.96l-1.37-1.37c-.4-.4-.92-.59-1.43-.59-.52 0-1.04.2-1.43.59L10.3 9.45l-7.72 7.72c-.78.78-.78 2.05 0 2.83L4 21.41c.39.39.9.59 1.41.59.51 0 1.02-.2 1.41-.59l7.78-7.78 2.81-2.81c.8-.78.8-2.07 0-2.86zM5.41 20L4 18.59l7.72-7.72 1.47 1.35L5.41 20z\"/>\n",
              "  </svg>\n",
              "      </button>\n",
              "      \n",
              "  <style>\n",
              "    .colab-df-container {\n",
              "      display:flex;\n",
              "      flex-wrap:wrap;\n",
              "      gap: 12px;\n",
              "    }\n",
              "\n",
              "    .colab-df-convert {\n",
              "      background-color: #E8F0FE;\n",
              "      border: none;\n",
              "      border-radius: 50%;\n",
              "      cursor: pointer;\n",
              "      display: none;\n",
              "      fill: #1967D2;\n",
              "      height: 32px;\n",
              "      padding: 0 0 0 0;\n",
              "      width: 32px;\n",
              "    }\n",
              "\n",
              "    .colab-df-convert:hover {\n",
              "      background-color: #E2EBFA;\n",
              "      box-shadow: 0px 1px 2px rgba(60, 64, 67, 0.3), 0px 1px 3px 1px rgba(60, 64, 67, 0.15);\n",
              "      fill: #174EA6;\n",
              "    }\n",
              "\n",
              "    [theme=dark] .colab-df-convert {\n",
              "      background-color: #3B4455;\n",
              "      fill: #D2E3FC;\n",
              "    }\n",
              "\n",
              "    [theme=dark] .colab-df-convert:hover {\n",
              "      background-color: #434B5C;\n",
              "      box-shadow: 0px 1px 3px 1px rgba(0, 0, 0, 0.15);\n",
              "      filter: drop-shadow(0px 1px 2px rgba(0, 0, 0, 0.3));\n",
              "      fill: #FFFFFF;\n",
              "    }\n",
              "  </style>\n",
              "\n",
              "      <script>\n",
              "        const buttonEl =\n",
              "          document.querySelector('#df-b78224a4-b5a7-4a38-98b5-17566e31b41d button.colab-df-convert');\n",
              "        buttonEl.style.display =\n",
              "          google.colab.kernel.accessAllowed ? 'block' : 'none';\n",
              "\n",
              "        async function convertToInteractive(key) {\n",
              "          const element = document.querySelector('#df-b78224a4-b5a7-4a38-98b5-17566e31b41d');\n",
              "          const dataTable =\n",
              "            await google.colab.kernel.invokeFunction('convertToInteractive',\n",
              "                                                     [key], {});\n",
              "          if (!dataTable) return;\n",
              "\n",
              "          const docLinkHtml = 'Like what you see? Visit the ' +\n",
              "            '<a target=\"_blank\" href=https://colab.research.google.com/notebooks/data_table.ipynb>data table notebook</a>'\n",
              "            + ' to learn more about interactive tables.';\n",
              "          element.innerHTML = '';\n",
              "          dataTable['output_type'] = 'display_data';\n",
              "          await google.colab.output.renderOutput(dataTable, element);\n",
              "          const docLink = document.createElement('div');\n",
              "          docLink.innerHTML = docLinkHtml;\n",
              "          element.appendChild(docLink);\n",
              "        }\n",
              "      </script>\n",
              "    </div>\n",
              "  </div>\n",
              "  "
            ]
          },
          "metadata": {},
          "execution_count": 2
        }
      ]
    },
    {
      "cell_type": "code",
      "source": [
        "N_TOTAL = max(df['u'].max(), df['v'].max()) + 1\n",
        "N_TOTAL"
      ],
      "metadata": {
        "colab": {
          "base_uri": "https://localhost:8080/"
        },
        "id": "Idk9n4-8YvBU",
        "outputId": "7e461325-3ba1-496e-b2a2-a85aab0d4c9a"
      },
      "execution_count": 3,
      "outputs": [
        {
          "output_type": "execute_result",
          "data": {
            "text/plain": [
              "3234445"
            ]
          },
          "metadata": {},
          "execution_count": 3
        }
      ]
    },
    {
      "cell_type": "code",
      "source": [
        "from sklearn.model_selection import train_test_split\n",
        "\n",
        "df_train, df_test = train_test_split(df, test_size=0.2, random_state=42)\n",
        "df_test.to_csv('test.csv', index=False)\n",
        "del df_test\n",
        "del df"
      ],
      "metadata": {
        "id": "GSm4hPFWYhcR"
      },
      "execution_count": 4,
      "outputs": []
    },
    {
      "cell_type": "code",
      "source": [
        "def apk(pred, target, k):\n",
        "    if len(pred) >= k:\n",
        "        pred = pred[:k]\n",
        "\n",
        "    ans, cnt = 0, 0\n",
        "    tot = min(len(target), k) \n",
        "    s = set()\n",
        "    for i in range(len(pred)):\n",
        "        if pred[i] in target and pred[i] not in s:\n",
        "            cnt += 1\n",
        "            ans += cnt / (i + 1)\n",
        "            s.add(pred[i])\n",
        "    return ans / tot\n",
        "\n",
        "\n",
        "def mapk(pred, target, k):\n",
        "    assert len(pred) == len(target)\n",
        "    sum_metric = 0\n",
        "    for cur_pred, cur_target in zip(pred, target):\n",
        "        sum_metric += apk(cur_pred, cur_target, k)\n",
        "    return sum_metric / len(pred) \n"
      ],
      "metadata": {
        "id": "LQd_dT5Rgl-F"
      },
      "execution_count": 5,
      "outputs": []
    },
    {
      "cell_type": "code",
      "source": [
        "df_test = pd.read_csv('/content/test.csv')\n",
        "\n",
        "target_arr = [[] for _ in range(N_TOTAL)]\n",
        "\n",
        "for i in range(df_test.shape[0]):\n",
        "    u, v = df_test['u'].iloc[i], df_test['v'].iloc[i]\n",
        "    target_arr[u].append(v)\n",
        "    target_arr[v].append(u)\n",
        "\n",
        "del df_test"
      ],
      "metadata": {
        "id": "NRB5hl6ZkJqp"
      },
      "execution_count": 6,
      "outputs": []
    },
    {
      "cell_type": "markdown",
      "source": [
        "## 1. Подбрасывание монетки"
      ],
      "metadata": {
        "id": "veIMCGUdi8hm"
      }
    },
    {
      "cell_type": "code",
      "source": [
        "from tqdm.auto import trange\n",
        "\n",
        "edges_set = set()\n",
        "for i in trange(df_train.shape[0]):\n",
        "    edges_set.add((df_train['u'].iloc[i], df_train['v'].iloc[i]))"
      ],
      "metadata": {
        "colab": {
          "base_uri": "https://localhost:8080/",
          "height": 49,
          "referenced_widgets": [
            "09593cb18c3943b3817f5ecb22419219",
            "1943edf3fbef47268b887b27ba25d732",
            "a4082551d5304a628520c363c7e4a129",
            "f6aef71bd67749dda7a3cd59e138a083",
            "4709752a73104072900cacb347bcbb8f",
            "2cf63345650a46b49cdf1afc2efda5d3",
            "70987d66837f4c8597c5c1ff3369c5b9",
            "3ae66ed2477a49dca30462bb5149d829",
            "ade90b505aab447e923d7b3d442a1e04",
            "78d44c39a5294718bd17dd37be696ae6",
            "dbf8588e1faa4bd5b47b564759876c30"
          ]
        },
        "id": "RO0X7ZFumay3",
        "outputId": "04c7e2e2-6a1a-4ebb-c7c2-1c817e5d5457"
      },
      "execution_count": 7,
      "outputs": [
        {
          "output_type": "display_data",
          "data": {
            "text/plain": [
              "  0%|          | 0/13931608 [00:00<?, ?it/s]"
            ],
            "application/vnd.jupyter.widget-view+json": {
              "version_major": 2,
              "version_minor": 0,
              "model_id": "09593cb18c3943b3817f5ecb22419219"
            }
          },
          "metadata": {}
        }
      ]
    },
    {
      "cell_type": "code",
      "source": [
        "import random\n",
        "\n",
        "K = 100\n",
        "sum_m, cnt = 0, 0\n",
        "\n",
        "for i in trange(N_TOTAL):\n",
        "    if len(target_arr[i]) == 0:\n",
        "        continue\n",
        "    cur = []\n",
        "    while len(cur) != K:\n",
        "        pred = random.randint(0, N_TOTAL - 1)\n",
        "        if (pred, i) not in edges_set and (i, pred) not in edges_set:\n",
        "            cur.append(pred)\n",
        "    sum_m += apk(cur, target_arr[i], K)\n",
        "    cnt += 1\n",
        "\n",
        "sum_m / cnt"
      ],
      "metadata": {
        "colab": {
          "base_uri": "https://localhost:8080/",
          "height": 66,
          "referenced_widgets": [
            "98583062d0e04a47be3e61db84e587cb",
            "44ae85176ba94e78906a9efbe79fab61",
            "c86d73e5ab2e4e618e26fc04d5e684cf",
            "3e717d02c5ee445ca5dde6b7be75950f",
            "31f4e29e1bb24c968c7a438ead75ff40",
            "c4b771b621b44117b9260be8f5d922d4",
            "8eca2e68451e49098337251f92ac33cc",
            "99b31774772349d3a6d22ffcdd3bf2bf",
            "22f4c91ae72d4c4bbcaffee71774b9fb",
            "bac7d872914e40449c0bc65584ff0fcb",
            "7456a56f5b4a47f8940a02747b54ea56"
          ]
        },
        "id": "qZTDxcA3ieOP",
        "outputId": "ec95207e-f4a6-432b-9115-e0d07ddcdc82"
      },
      "execution_count": 9,
      "outputs": [
        {
          "output_type": "display_data",
          "data": {
            "text/plain": [
              "  0%|          | 0/3234445 [00:00<?, ?it/s]"
            ],
            "application/vnd.jupyter.widget-view+json": {
              "version_major": 2,
              "version_minor": 0,
              "model_id": "98583062d0e04a47be3e61db84e587cb"
            }
          },
          "metadata": {}
        },
        {
          "output_type": "execute_result",
          "data": {
            "text/plain": [
              "2.1530003953586344e-06"
            ]
          },
          "metadata": {},
          "execution_count": 9
        }
      ]
    },
    {
      "cell_type": "markdown",
      "source": [
        "## Сетка из GCNConv:"
      ],
      "metadata": {
        "id": "8eIiwdd1pVOF"
      }
    },
    {
      "cell_type": "code",
      "source": [
        "import networkx as nx\n",
        "G_train = nx.Graph()\n",
        "\n",
        "G_train.add_nodes_from(list(range(N_TOTAL)))\n",
        "\n",
        "G_train.add_edges_from(df_train[['u', 'v']].values)"
      ],
      "metadata": {
        "id": "sa8H3mSBoNy2"
      },
      "execution_count": 7,
      "outputs": []
    },
    {
      "cell_type": "code",
      "source": [
        "import random\n",
        "from networkx import ego_graph\n",
        "\n",
        "class GraphGenerator:\n",
        "    def __init__(self, G):\n",
        "        self.G = G\n",
        "        self.num_nodes = len(G.nodes)\n",
        "        self.indices = np.arange(0, self.num_nodes)\n",
        "\n",
        "    def get_random_subgraph(self, size_graph):\n",
        "        mask = np.random.choice(self.indices, size=size_graph)\n",
        "        return self.G.subgraph(self.indices[mask])\n",
        "\n",
        "    def get_random_connected(self, thr=60):\n",
        "        v0 = random.randint(0, N_TOTAL - 1)\n",
        "        g0 = ego_graph(self.G, n=v0, radius=1)\n",
        "        if len(g0.nodes) < thr:\n",
        "            g0 = ego_graph(self.G, n=v0, radius=2)\n",
        "        return g0\n",
        "\n",
        "    def generate_random_graph(self, p_connected, size_graph, thr=60):\n",
        "        if random.random() < p_connected:\n",
        "            return self.get_random_connected(thr)\n",
        "        else:\n",
        "            return self.get_random_subgraph(size_graph)"
      ],
      "metadata": {
        "id": "WvAoMipdpbRC"
      },
      "execution_count": 8,
      "outputs": []
    },
    {
      "cell_type": "code",
      "source": [
        "from torch_geometric.utils.convert import to_networkx, from_networkx\n",
        "\n",
        "gen = GraphGenerator(G_train)\n",
        "g_sample = gen.generate_random_graph(0.5, 10)"
      ],
      "metadata": {
        "id": "ue9vy_kypfHB"
      },
      "execution_count": 9,
      "outputs": []
    },
    {
      "cell_type": "code",
      "source": [
        "g_sample.edges"
      ],
      "metadata": {
        "colab": {
          "base_uri": "https://localhost:8080/"
        },
        "id": "4mGvAma29QCr",
        "outputId": "f93acf6f-45ce-49bb-d2bd-d1a1e8a05385"
      },
      "execution_count": 10,
      "outputs": [
        {
          "output_type": "execute_result",
          "data": {
            "text/plain": [
              "EdgeView([(665985, 322096), (678786, 322096), (287239, 41435), (287239, 195168), (287239, 245189), (96525, 2356564), (163726, 245189), (517648, 624454), (517648, 245189), (1803794, 245189), (390034, 322096), (390034, 617471), (812179, 322096), (77204, 418329), (77204, 187314), (77204, 506187), (77204, 1337245), (77204, 2356564), (1344278, 322096), (672280, 1943354), (672280, 1577786), (1008665, 1903857), (1008665, 2923939), (1008665, 322096), (1008665, 1943354), (1008665, 2356564), (1008665, 245189), (1008665, 1831549), (418329, 322096), (1236121, 322096), (1337245, 245189), (1337245, 173613), (1086495, 322096), (1086495, 195168), (3000225, 1903857), (111269, 322096), (335270, 322096), (387114, 322096), (173613, 245189), (322095, 606532), (322095, 322096), (322096, 2974393), (322096, 617471), (322096, 1577786), (322096, 2550997), (322096, 209227), (322096, 210046), (322096, 187314), (322096, 1570161), (322096, 48760), (322096, 195168), (322096, 1389244), (322096, 606532), (322096, 1929701), (664373, 2356564), (1943354, 1380813), (1579007, 1903857), (1122489, 2356564), (1122489, 456930), (385987, 2356564), (385987, 658526), (245188, 245189), (245189, 2033493), (245189, 2316892), (245189, 467199), (245189, 1912405), (624454, 2356564), (506187, 1903857), (2356564, 414454), (2356564, 456930), (2356564, 658526), (2356564, 41435), (2033493, 195168), (41435, 658526), (192245, 1831549)])"
            ]
          },
          "metadata": {},
          "execution_count": 10
        }
      ]
    },
    {
      "cell_type": "code",
      "source": [
        "from_networkx(g_sample).edge_index"
      ],
      "metadata": {
        "colab": {
          "base_uri": "https://localhost:8080/"
        },
        "id": "9jhntHpQ3JGG",
        "outputId": "f7d12dc6-51fa-4a86-8d96-375379e8214a"
      },
      "execution_count": 11,
      "outputs": [
        {
          "output_type": "execute_result",
          "data": {
            "text/plain": [
              "tensor([[ 0,  1,  2,  2,  2,  3,  4,  5,  5,  6,  7,  7,  8,  9,  9,  9,  9,  9,\n",
              "         10, 11, 11, 12, 12, 12, 12, 12, 12, 12, 13, 13, 14, 15, 15, 15, 16, 16,\n",
              "         17, 18, 19, 20, 21, 22, 22, 23, 23, 24, 24, 24, 24, 24, 24, 24, 24, 24,\n",
              "         24, 24, 24, 24, 24, 24, 24, 24, 24, 24, 24, 24, 24, 24, 24, 24, 24, 25,\n",
              "         25, 26, 27, 28, 28, 28, 29, 29, 30, 31, 32, 32, 33, 33, 34, 35, 35, 35,\n",
              "         35, 35, 35, 35, 35, 35, 35, 35, 35, 36, 36, 37, 37, 38, 39, 39, 40, 41,\n",
              "         41, 41, 41, 41, 41, 41, 41, 41, 41, 41, 42, 42, 43, 44, 45, 45, 45, 46,\n",
              "         47, 47, 48, 48, 48, 49, 49, 49, 49, 50, 50, 51, 52, 52, 52, 52, 53, 54,\n",
              "         55, 56, 57, 57, 58, 59],\n",
              "        [24, 24, 45, 49, 35, 41, 35, 37, 35, 35, 24, 47, 24, 13, 25, 39, 15, 41,\n",
              "         24, 28, 29, 52, 18, 24, 28, 41, 35, 57,  9, 24, 24,  9, 35, 22, 24, 49,\n",
              "         52, 12, 24, 24, 24, 15, 35, 36, 24,  0,  1,  7,  8, 10, 12, 13, 14, 16,\n",
              "         19, 20, 21, 23, 27, 47, 29, 44, 38, 58, 25, 53, 56, 49, 31, 36, 51,  9,\n",
              "         24, 41, 24, 11, 12, 40, 11, 24, 52, 24, 41, 50, 41, 48, 35,  2,  4,  5,\n",
              "          6, 12, 15, 22, 34, 42, 46, 59, 43, 23, 24,  5, 41, 24,  9, 52, 28,  3,\n",
              "          9, 12, 26, 32, 33, 37, 55, 50, 48, 45, 35, 49, 35, 24,  2, 41, 48, 35,\n",
              "          7, 24, 33, 41, 45,  2, 16, 24, 42, 32, 41, 24, 12, 17, 30, 39, 24, 57,\n",
              "         41, 24, 12, 54, 24, 35]])"
            ]
          },
          "metadata": {},
          "execution_count": 11
        }
      ]
    },
    {
      "cell_type": "code",
      "source": [
        "device = torch.device('cuda:0' if torch.cuda.is_available() else 'cpu') \n",
        "device"
      ],
      "metadata": {
        "colab": {
          "base_uri": "https://localhost:8080/"
        },
        "id": "8vdbcCZZ4yBP",
        "outputId": "13c4801a-0c23-483e-dd5e-ebcb81f9581d"
      },
      "execution_count": 12,
      "outputs": [
        {
          "output_type": "execute_result",
          "data": {
            "text/plain": [
              "device(type='cpu')"
            ]
          },
          "metadata": {},
          "execution_count": 12
        }
      ]
    },
    {
      "cell_type": "code",
      "source": [
        "import torch \n",
        "import torch.nn as nn\n",
        "import torch_geometric as tg\n",
        "from torch_geometric.utils.convert import to_networkx, from_networkx\n",
        "\n",
        "class GCNModel(nn.Module):\n",
        "    def __init__(self, num_vertexes, embedding_dim, hidden_dim, num_layers):\n",
        "        super().__init__()\n",
        "        self.embedding = nn.Embedding(num_vertexes, embedding_dim)\n",
        "        self.layers = nn.ModuleList([])\n",
        "        self.layers.append(tg.nn.GCNConv(embedding_dim, hidden_dim))\n",
        "        self.relu = nn.ReLU()\n",
        "        for i in range(num_layers):\n",
        "            self.layers.append(tg.nn.GCNConv(hidden_dim, hidden_dim))\n",
        "        self.last = nn.Sequential(\n",
        "            nn.Linear(hidden_dim, hidden_dim),\n",
        "            nn.ReLU(),\n",
        "            nn.Linear(hidden_dim, hidden_dim)\n",
        "        )\n",
        "\n",
        "    def forward(self, graph):\n",
        "        input_data = from_networkx(graph)\n",
        "        input_vertexes = torch.tensor(list(graph.nodes)).to(device)\n",
        "        hidden = self.embedding(input_vertexes)\n",
        "        for layer in self.layers:\n",
        "            hidden = layer(hidden, input_data.edge_index.to(device))\n",
        "            hidden = self.relu(hidden)\n",
        "        return self.last(hidden)"
      ],
      "metadata": {
        "id": "WIhUpjf0pm6n"
      },
      "execution_count": 13,
      "outputs": []
    },
    {
      "cell_type": "code",
      "source": [
        "class BPRLoss(nn.Module):\n",
        "    def __init__(self):\n",
        "        super().__init__()\n",
        "        self.sigmoid = nn.Sigmoid()\n",
        "\n",
        "    def forward(self, logits, mask_positive):\n",
        "        positive_scores = logits[mask_positive].reshape(-1, 1)\n",
        "        negative_scores = logits[~mask_positive].reshape(1, -1)\n",
        "        sum_loss = 0\n",
        "        m1 = torch.ones(1, negative_scores.shape[1]).to(device)\n",
        "        m2 = torch.ones(positive_scores.shape[0], 1).to(device)\n",
        "\n",
        "        diff = -torch.log(self.sigmoid((positive_scores @ m1) - (m2 @ negative_scores)))\n",
        "        sum_loss = torch.sum(diff)\n",
        "\n",
        "        sum_loss /= len(positive_scores)\n",
        "        sum_loss /= len(negative_scores)\n",
        "        return sum_loss\n"
      ],
      "metadata": {
        "id": "cYgrkrzeuSUW"
      },
      "execution_count": 14,
      "outputs": []
    },
    {
      "cell_type": "code",
      "source": [
        "model = GCNModel(N_TOTAL, 16, 64, 4).to(device)\n",
        "criterion = BPRLoss()\n",
        "optimizer = torch.optim.Adam(model.parameters(), lr = 3e-4)"
      ],
      "metadata": {
        "id": "43z4O_Ck5v64"
      },
      "execution_count": 15,
      "outputs": []
    },
    {
      "cell_type": "code",
      "source": [
        "if True:\n",
        "    model = torch.load(\"/content/drive/MyDrive/start_model.pt\")"
      ],
      "metadata": {
        "id": "jcFGXB5NE0jO"
      },
      "execution_count": null,
      "outputs": []
    },
    {
      "cell_type": "code",
      "source": [
        "from tqdm.auto import trange\n",
        "\n",
        "iterations = 1000\n",
        "batch_size = 16\n",
        "save_every = 100\n",
        "\n",
        "pbar = trange(iterations)  \n",
        "for iteration in pbar:\n",
        "    optimizer.zero_grad()\n",
        "    input_graph = nx.Graph(gen.generate_random_graph(1, 60))\n",
        "    vertexes = list(input_graph.nodes)\n",
        "    id2pos = {val: pos for pos, val in enumerate(vertexes)}\n",
        "    test_edges = []\n",
        "\n",
        "    for i in range(batch_size):\n",
        "        v0 = random.choice(vertexes)\n",
        "        v1 = random.choice(vertexes)\n",
        "        ITERATIONS = 100\n",
        "        while v1 == v0 or (v0, v1) in test_edges or (v1, v0) in test_edges:\n",
        "            v0 = random.choice(vertexes)\n",
        "            v1 = random.choice(vertexes)\n",
        "            ITERATIONS -= 1\n",
        "            if ITERATIONS == 0:\n",
        "                break\n",
        "        if ITERATIONS == 0:\n",
        "            break\n",
        "        test_edges.append((v0, v1))\n",
        "  \n",
        "    if len(test_edges) == 0:\n",
        "        continue\n",
        "    labels = torch.tensor([edge in input_graph.edges for edge in test_edges]).to(device)\n",
        "    if sum(labels) == 0 or sum(labels) == len(labels):\n",
        "        continue\n",
        "    input_graph.remove_edges_from(test_edges)\n",
        "    output = model(input_graph)\n",
        "    pred_logits = torch.cat([torch.sum(output[id2pos[v0]] * output[id2pos[v1]]).reshape(-1) for v0, v1 in test_edges], 0)\n",
        "    loss = criterion(pred_logits, labels) \n",
        "    pbar.set_description(f\"train loss: {loss.item()}\")\n",
        "    loss.backward()\n",
        "    optimizer.step()\n",
        "\n",
        "    if iteration % save_every == save_every - 1:\n",
        "        torch.save(model, \"/content/drive/MyDrive/start_model.pt\")\n",
        "    "
      ],
      "metadata": {
        "colab": {
          "base_uri": "https://localhost:8080/",
          "height": 49,
          "referenced_widgets": [
            "efbbd805798e4cc5bd39ddc080923f0a",
            "733bdb5a6c4e4b01be08cabdccdc31fa",
            "22c58d02ebfe409da3b27e88af9944f5",
            "f6b55d706f9c4437ac609f6e659c887b",
            "5f1bb624c9fb4afaa1258de7658b0233",
            "4172073366d146d3a878b4b6e0e5fdc9",
            "76d3f1e3ff2d443ba4865ef145949540",
            "73aab3a3444d4d8ebf99ae0e60374f5e",
            "31e0fb349f2b41e5a7f5df1a2f583877",
            "c8da0e1aea5241ca919286a6a4ac36b6",
            "9c1c1478f9694fa3bf123b8f7d442888"
          ]
        },
        "id": "VMpIWBgy6mX4",
        "outputId": "7e08abd8-d061-4b30-b6dd-5ad0a49d55fd"
      },
      "execution_count": null,
      "outputs": [
        {
          "output_type": "display_data",
          "data": {
            "text/plain": [
              "  0%|          | 0/1000 [00:00<?, ?it/s]"
            ],
            "application/vnd.jupyter.widget-view+json": {
              "version_major": 2,
              "version_minor": 0,
              "model_id": "efbbd805798e4cc5bd39ddc080923f0a"
            }
          },
          "metadata": {}
        }
      ]
    },
    {
      "cell_type": "code",
      "source": [
        "embeddings = model(G_train).cpu().detach().numpy()"
      ],
      "metadata": {
        "id": "RMf69BoT_Exl"
      },
      "execution_count": null,
      "outputs": []
    },
    {
      "cell_type": "code",
      "source": [
        "!pip install nearpy"
      ],
      "metadata": {
        "id": "Bm5DgCMRFSHO"
      },
      "execution_count": null,
      "outputs": []
    },
    {
      "cell_type": "code",
      "source": [
        "from nearpy import Engine\n",
        "from nearpy.hashes import RandomBinaryProjections\n",
        "from nearpy.distances import CosineDistance\n",
        "from nearpy.filters import NearestFilter\n",
        "import numpy as np\n",
        "\n",
        "rbp = RandomBinaryProjections('default', 10)\n",
        "engine = Engine(embeddings.shape[1], lshashes=[rbp], distance=CosineDistance(), vector_filters=[NearestFilter(300)])\n",
        "for i in range(embeddings.shape[0]):\n",
        "    engine.store_vector(embeddings[i], i)"
      ],
      "metadata": {
        "id": "fxjsm86ZHWut"
      },
      "execution_count": null,
      "outputs": []
    },
    {
      "cell_type": "code",
      "source": [
        "K = 100\n",
        "sum_m, cnt = 0, 0\n",
        "\n",
        "for i in trange(N_TOTAL):\n",
        "    if len(target_arr[i]) == 0:\n",
        "        continue\n",
        "    cur = []\n",
        "    while len(cur) != K:\n",
        "        k_find = 2 * K\n",
        "        pred = engine.neighbours(embeddings[i])[:k_find]\n",
        "        if (pred, i) not in edges_set and (i, pred) not in edges_set:\n",
        "            cur.append(pred)\n",
        "    sum_m += apk(cur, target_arr[i], K)\n",
        "    cnt += 1\n",
        "\n",
        "sum_m / cnt"
      ],
      "metadata": {
        "id": "bNd8I7CEIjpo"
      },
      "execution_count": null,
      "outputs": []
    }
  ]
}