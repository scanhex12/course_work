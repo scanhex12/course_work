{
 "cells": [
  {
   "cell_type": "code",
   "execution_count": 1,
   "id": "43565577",
   "metadata": {
    "_cell_guid": "b1076dfc-b9ad-4769-8c92-a6c4dae69d19",
    "_uuid": "8f2839f25d086af736a60e9eeb907d3b93b6e0e5",
    "execution": {
     "iopub.execute_input": "2022-12-27T19:35:46.121674Z",
     "iopub.status.busy": "2022-12-27T19:35:46.120978Z",
     "iopub.status.idle": "2022-12-27T19:36:10.316867Z",
     "shell.execute_reply": "2022-12-27T19:36:10.315710Z"
    },
    "papermill": {
     "duration": 24.204051,
     "end_time": "2022-12-27T19:36:10.319750",
     "exception": false,
     "start_time": "2022-12-27T19:35:46.115699",
     "status": "completed"
    },
    "tags": []
   },
   "outputs": [
    {
     "name": "stdout",
     "output_type": "stream",
     "text": [
      "Collecting polars\r\n",
      "  Downloading polars-0.15.8-cp37-abi3-manylinux_2_17_x86_64.manylinux2014_x86_64.whl (14.6 MB)\r\n",
      "\u001b[2K     \u001b[90m━━━━━━━━━━━━━━━━━━━━━━━━━━━━━━━━━━━━━━━━\u001b[0m \u001b[32m14.6/14.6 MB\u001b[0m \u001b[31m25.9 MB/s\u001b[0m eta \u001b[36m0:00:00\u001b[0m\r\n",
      "\u001b[?25hRequirement already satisfied: typing_extensions>=4.0.0 in /opt/conda/lib/python3.7/site-packages (from polars) (4.1.1)\r\n",
      "Installing collected packages: polars\r\n",
      "Successfully installed polars-0.15.8\r\n",
      "\u001b[33mWARNING: Running pip as the 'root' user can result in broken permissions and conflicting behaviour with the system package manager. It is recommended to use a virtual environment instead: https://pip.pypa.io/warnings/venv\u001b[0m\u001b[33m\r\n",
      "\u001b[0mCollecting recbole\r\n",
      "  Downloading recbole-1.1.1-py3-none-any.whl (2.1 MB)\r\n",
      "\u001b[2K     \u001b[90m━━━━━━━━━━━━━━━━━━━━━━━━━━━━━━━━━━━━━━━━\u001b[0m \u001b[32m2.1/2.1 MB\u001b[0m \u001b[31m4.1 MB/s\u001b[0m eta \u001b[36m0:00:00\u001b[0m\r\n",
      "\u001b[?25hRequirement already satisfied: scipy>=1.6.0 in /opt/conda/lib/python3.7/site-packages (from recbole) (1.7.3)\r\n",
      "Requirement already satisfied: pandas>=1.0.5 in /opt/conda/lib/python3.7/site-packages (from recbole) (1.3.5)\r\n",
      "Requirement already satisfied: torch>=1.10.0 in /opt/conda/lib/python3.7/site-packages (from recbole) (1.11.0)\r\n",
      "Requirement already satisfied: numpy>=1.17.2 in /opt/conda/lib/python3.7/site-packages (from recbole) (1.21.6)\r\n",
      "Requirement already satisfied: tqdm>=4.48.2 in /opt/conda/lib/python3.7/site-packages (from recbole) (4.64.0)\r\n",
      "Requirement already satisfied: tabulate>=0.8.10 in /opt/conda/lib/python3.7/site-packages (from recbole) (0.9.0)\r\n",
      "Collecting colorlog==4.7.2\r\n",
      "  Downloading colorlog-4.7.2-py2.py3-none-any.whl (10 kB)\r\n",
      "Requirement already satisfied: tensorboard>=2.5.0 in /opt/conda/lib/python3.7/site-packages (from recbole) (2.10.1)\r\n",
      "Requirement already satisfied: plotly>=4.0.0 in /opt/conda/lib/python3.7/site-packages (from recbole) (5.10.0)\r\n",
      "Requirement already satisfied: scikit-learn>=0.23.2 in /opt/conda/lib/python3.7/site-packages (from recbole) (1.0.2)\r\n",
      "Collecting colorama==0.4.4\r\n",
      "  Downloading colorama-0.4.4-py2.py3-none-any.whl (16 kB)\r\n",
      "Requirement already satisfied: pyyaml>=5.1.0 in /opt/conda/lib/python3.7/site-packages (from recbole) (6.0)\r\n",
      "Collecting thop>=0.1.1.post2207130030\r\n",
      "  Downloading thop-0.1.1.post2209072238-py3-none-any.whl (15 kB)\r\n",
      "Requirement already satisfied: python-dateutil>=2.7.3 in /opt/conda/lib/python3.7/site-packages (from pandas>=1.0.5->recbole) (2.8.2)\r\n",
      "Requirement already satisfied: pytz>=2017.3 in /opt/conda/lib/python3.7/site-packages (from pandas>=1.0.5->recbole) (2022.1)\r\n",
      "Requirement already satisfied: tenacity>=6.2.0 in /opt/conda/lib/python3.7/site-packages (from plotly>=4.0.0->recbole) (8.0.1)\r\n",
      "Requirement already satisfied: threadpoolctl>=2.0.0 in /opt/conda/lib/python3.7/site-packages (from scikit-learn>=0.23.2->recbole) (3.1.0)\r\n",
      "Requirement already satisfied: joblib>=0.11 in /opt/conda/lib/python3.7/site-packages (from scikit-learn>=0.23.2->recbole) (1.0.1)\r\n",
      "Requirement already satisfied: requests<3,>=2.21.0 in /opt/conda/lib/python3.7/site-packages (from tensorboard>=2.5.0->recbole) (2.28.1)\r\n",
      "Requirement already satisfied: markdown>=2.6.8 in /opt/conda/lib/python3.7/site-packages (from tensorboard>=2.5.0->recbole) (3.3.7)\r\n",
      "Requirement already satisfied: setuptools>=41.0.0 in /opt/conda/lib/python3.7/site-packages (from tensorboard>=2.5.0->recbole) (59.8.0)\r\n",
      "Requirement already satisfied: tensorboard-data-server<0.7.0,>=0.6.0 in /opt/conda/lib/python3.7/site-packages (from tensorboard>=2.5.0->recbole) (0.6.1)\r\n",
      "Requirement already satisfied: tensorboard-plugin-wit>=1.6.0 in /opt/conda/lib/python3.7/site-packages (from tensorboard>=2.5.0->recbole) (1.8.1)\r\n",
      "Requirement already satisfied: wheel>=0.26 in /opt/conda/lib/python3.7/site-packages (from tensorboard>=2.5.0->recbole) (0.37.1)\r\n",
      "Requirement already satisfied: grpcio>=1.24.3 in /opt/conda/lib/python3.7/site-packages (from tensorboard>=2.5.0->recbole) (1.43.0)\r\n",
      "Requirement already satisfied: google-auth<3,>=1.6.3 in /opt/conda/lib/python3.7/site-packages (from tensorboard>=2.5.0->recbole) (1.35.0)\r\n",
      "Requirement already satisfied: werkzeug>=1.0.1 in /opt/conda/lib/python3.7/site-packages (from tensorboard>=2.5.0->recbole) (2.2.2)\r\n",
      "Requirement already satisfied: protobuf<3.20,>=3.9.2 in /opt/conda/lib/python3.7/site-packages (from tensorboard>=2.5.0->recbole) (3.19.4)\r\n",
      "Requirement already satisfied: google-auth-oauthlib<0.5,>=0.4.1 in /opt/conda/lib/python3.7/site-packages (from tensorboard>=2.5.0->recbole) (0.4.6)\r\n",
      "Requirement already satisfied: absl-py>=0.4 in /opt/conda/lib/python3.7/site-packages (from tensorboard>=2.5.0->recbole) (0.15.0)\r\n",
      "Requirement already satisfied: typing-extensions in /opt/conda/lib/python3.7/site-packages (from torch>=1.10.0->recbole) (4.1.1)\r\n",
      "Requirement already satisfied: six in /opt/conda/lib/python3.7/site-packages (from absl-py>=0.4->tensorboard>=2.5.0->recbole) (1.15.0)\r\n",
      "Requirement already satisfied: cachetools<5.0,>=2.0.0 in /opt/conda/lib/python3.7/site-packages (from google-auth<3,>=1.6.3->tensorboard>=2.5.0->recbole) (4.2.4)\r\n",
      "Requirement already satisfied: rsa<5,>=3.1.4 in /opt/conda/lib/python3.7/site-packages (from google-auth<3,>=1.6.3->tensorboard>=2.5.0->recbole) (4.8)\r\n",
      "Requirement already satisfied: pyasn1-modules>=0.2.1 in /opt/conda/lib/python3.7/site-packages (from google-auth<3,>=1.6.3->tensorboard>=2.5.0->recbole) (0.2.7)\r\n",
      "Requirement already satisfied: requests-oauthlib>=0.7.0 in /opt/conda/lib/python3.7/site-packages (from google-auth-oauthlib<0.5,>=0.4.1->tensorboard>=2.5.0->recbole) (1.3.1)\r\n",
      "Requirement already satisfied: importlib-metadata>=4.4 in /opt/conda/lib/python3.7/site-packages (from markdown>=2.6.8->tensorboard>=2.5.0->recbole) (4.13.0)\r\n",
      "Requirement already satisfied: urllib3<1.27,>=1.21.1 in /opt/conda/lib/python3.7/site-packages (from requests<3,>=2.21.0->tensorboard>=2.5.0->recbole) (1.26.12)\r\n",
      "Requirement already satisfied: certifi>=2017.4.17 in /opt/conda/lib/python3.7/site-packages (from requests<3,>=2.21.0->tensorboard>=2.5.0->recbole) (2022.9.24)\r\n",
      "Requirement already satisfied: idna<4,>=2.5 in /opt/conda/lib/python3.7/site-packages (from requests<3,>=2.21.0->tensorboard>=2.5.0->recbole) (3.3)\r\n",
      "Requirement already satisfied: charset-normalizer<3,>=2 in /opt/conda/lib/python3.7/site-packages (from requests<3,>=2.21.0->tensorboard>=2.5.0->recbole) (2.1.0)\r\n",
      "Requirement already satisfied: MarkupSafe>=2.1.1 in /opt/conda/lib/python3.7/site-packages (from werkzeug>=1.0.1->tensorboard>=2.5.0->recbole) (2.1.1)\r\n",
      "Requirement already satisfied: zipp>=0.5 in /opt/conda/lib/python3.7/site-packages (from importlib-metadata>=4.4->markdown>=2.6.8->tensorboard>=2.5.0->recbole) (3.8.0)\r\n",
      "Requirement already satisfied: pyasn1<0.5.0,>=0.4.6 in /opt/conda/lib/python3.7/site-packages (from pyasn1-modules>=0.2.1->google-auth<3,>=1.6.3->tensorboard>=2.5.0->recbole) (0.4.8)\r\n",
      "Requirement already satisfied: oauthlib>=3.0.0 in /opt/conda/lib/python3.7/site-packages (from requests-oauthlib>=0.7.0->google-auth-oauthlib<0.5,>=0.4.1->tensorboard>=2.5.0->recbole) (3.2.0)\r\n",
      "Installing collected packages: colorlog, colorama, thop, recbole\r\n",
      "  Attempting uninstall: colorlog\r\n",
      "    Found existing installation: colorlog 6.7.0\r\n",
      "    Uninstalling colorlog-6.7.0:\r\n",
      "      Successfully uninstalled colorlog-6.7.0\r\n",
      "  Attempting uninstall: colorama\r\n",
      "    Found existing installation: colorama 0.4.5\r\n",
      "    Uninstalling colorama-0.4.5:\r\n",
      "      Successfully uninstalled colorama-0.4.5\r\n",
      "Successfully installed colorama-0.4.4 colorlog-4.7.2 recbole-1.1.1 thop-0.1.1.post2209072238\r\n",
      "\u001b[33mWARNING: Running pip as the 'root' user can result in broken permissions and conflicting behaviour with the system package manager. It is recommended to use a virtual environment instead: https://pip.pypa.io/warnings/venv\u001b[0m\u001b[33m\r\n",
      "\u001b[0m"
     ]
    }
   ],
   "source": [
    "!pip install polars\n",
    "!pip install recbole"
   ]
  },
  {
   "cell_type": "code",
   "execution_count": 2,
   "id": "bc30118e",
   "metadata": {
    "execution": {
     "iopub.execute_input": "2022-12-27T19:36:10.334016Z",
     "iopub.status.busy": "2022-12-27T19:36:10.333062Z",
     "iopub.status.idle": "2022-12-27T19:36:13.342036Z",
     "shell.execute_reply": "2022-12-27T19:36:13.341087Z"
    },
    "papermill": {
     "duration": 3.018507,
     "end_time": "2022-12-27T19:36:13.344589",
     "exception": false,
     "start_time": "2022-12-27T19:36:10.326082",
     "status": "completed"
    },
    "tags": []
   },
   "outputs": [],
   "source": [
    "import logging\n",
    "from logging import getLogger\n",
    "from recbole.config import Config\n",
    "from recbole.data import create_dataset, data_preparation\n",
    "from recbole.model.sequential_recommender import SHAN\n",
    "from recbole.trainer import Trainer\n",
    "from recbole.utils import init_seed, init_logger\n",
    "from recbole.utils.case_study import full_sort_topk\n",
    "from typing import List, Tuple\n",
    "import numpy as np\n",
    "import pandas as pd\n",
    "from collections import defaultdict\n",
    "import torch\n",
    "from pydantic import BaseModel\n",
    "from recbole.data import create_dataset\n",
    "from recbole.data.dataset.sequential_dataset import SequentialDataset\n",
    "import polars as pl\n",
    "from recbole.data.interaction import Interaction\n",
    "from recbole.model.sequential_recommender.sine import SINE\n",
    "from recbole.utils import get_model, init_seed\n",
    "\n",
    "\n",
    "class ItemHistory(BaseModel):\n",
    "    sequence: List[str]\n",
    "    topk: int\n",
    "\n",
    "class RecommendedItems(BaseModel):\n",
    "    score_list: List[float]\n",
    "    item_list: List[str]\n",
    "\n",
    "\n"
   ]
  },
  {
   "cell_type": "code",
   "execution_count": 3,
   "id": "a0ad3356",
   "metadata": {
    "execution": {
     "iopub.execute_input": "2022-12-27T19:36:13.357487Z",
     "iopub.status.busy": "2022-12-27T19:36:13.357006Z",
     "iopub.status.idle": "2022-12-27T19:36:13.363488Z",
     "shell.execute_reply": "2022-12-27T19:36:13.362631Z"
    },
    "papermill": {
     "duration": 0.014907,
     "end_time": "2022-12-27T19:36:13.365399",
     "exception": false,
     "start_time": "2022-12-27T19:36:13.350492",
     "status": "completed"
    },
    "tags": []
   },
   "outputs": [],
   "source": [
    "parameter_dict = {\n",
    "    'data_path': '/kaggle/input/otto-prepared-data',\n",
    "    'USER_ID_FIELD': 'session',\n",
    "    'ITEM_ID_FIELD': 'aid',\n",
    "    'TIME_FIELD': 'ts',\n",
    "    'user_inter_num_interval': \"[5,Inf)\",\n",
    "    'item_inter_num_interval': \"[5,Inf)\",\n",
    "    'load_col': {'inter': ['session', 'aid', 'ts']},\n",
    "    'train_neg_sample_args': None,\n",
    "    'epochs': 10,\n",
    "    'stopping_step':3,\n",
    "    'eval_batch_size': 1024,\n",
    "    'MAX_ITEM_LIST_LENGTH': 20,\n",
    "    'eval_args': {\n",
    "        'split': {'RS': [9, 1, 0]},\n",
    "        'group_by': 'user',\n",
    "        'order': 'TO',\n",
    "        'mode': 'full'}\n",
    "}\n"
   ]
  },
  {
   "cell_type": "code",
   "execution_count": 4,
   "id": "108a0f34",
   "metadata": {
    "execution": {
     "iopub.execute_input": "2022-12-27T19:36:13.377409Z",
     "iopub.status.busy": "2022-12-27T19:36:13.377149Z",
     "iopub.status.idle": "2022-12-27T19:36:13.747137Z",
     "shell.execute_reply": "2022-12-27T19:36:13.746196Z"
    },
    "papermill": {
     "duration": 0.638964,
     "end_time": "2022-12-27T19:36:14.009869",
     "exception": false,
     "start_time": "2022-12-27T19:36:13.370905",
     "status": "completed"
    },
    "tags": []
   },
   "outputs": [
    {
     "name": "stderr",
     "output_type": "stream",
     "text": [
      "\n",
      "General Hyper Parameters:\n",
      "gpu_id = 0\n",
      "use_gpu = True\n",
      "seed = 2020\n",
      "state = INFO\n",
      "reproducibility = True\n",
      "data_path = /kaggle/input/otto-prepared-data/recbox_data\n",
      "checkpoint_dir = saved\n",
      "show_progress = True\n",
      "save_dataset = False\n",
      "dataset_save_path = None\n",
      "save_dataloaders = False\n",
      "dataloaders_save_path = None\n",
      "log_wandb = False\n",
      "\n",
      "Training Hyper Parameters:\n",
      "epochs = 10\n",
      "train_batch_size = 2048\n",
      "learner = adam\n",
      "learning_rate = 0.001\n",
      "train_neg_sample_args = {'distribution': 'none', 'sample_num': 'none', 'alpha': 'none', 'dynamic': False, 'candidate_num': 0}\n",
      "eval_step = 1\n",
      "stopping_step = 3\n",
      "clip_grad_norm = None\n",
      "weight_decay = 0.0\n",
      "loss_decimal_place = 4\n",
      "\n",
      "Evaluation Hyper Parameters:\n",
      "eval_args = {'split': {'RS': [9, 1, 0]}, 'group_by': 'user', 'order': 'TO', 'mode': 'full'}\n",
      "repeatable = True\n",
      "metrics = ['Recall', 'MRR', 'NDCG', 'Hit', 'Precision']\n",
      "topk = [10]\n",
      "valid_metric = MRR@10\n",
      "valid_metric_bigger = True\n",
      "eval_batch_size = 1024\n",
      "metric_decimal_place = 4\n",
      "\n",
      "Dataset Hyper Parameters:\n",
      "field_separator = \t\n",
      "seq_separator =  \n",
      "USER_ID_FIELD = session\n",
      "ITEM_ID_FIELD = aid\n",
      "RATING_FIELD = rating\n",
      "TIME_FIELD = ts\n",
      "seq_len = None\n",
      "LABEL_FIELD = label\n",
      "threshold = None\n",
      "NEG_PREFIX = neg_\n",
      "load_col = {'inter': ['session', 'aid', 'ts']}\n",
      "unload_col = None\n",
      "unused_col = None\n",
      "additional_feat_suffix = None\n",
      "rm_dup_inter = None\n",
      "val_interval = None\n",
      "filter_inter_by_user_or_item = True\n",
      "user_inter_num_interval = [5,Inf)\n",
      "item_inter_num_interval = [5,Inf)\n",
      "alias_of_user_id = None\n",
      "alias_of_item_id = None\n",
      "alias_of_entity_id = None\n",
      "alias_of_relation_id = None\n",
      "preload_weight = None\n",
      "normalize_field = None\n",
      "normalize_all = None\n",
      "ITEM_LIST_LENGTH_FIELD = item_length\n",
      "LIST_SUFFIX = _list\n",
      "MAX_ITEM_LIST_LENGTH = 20\n",
      "POSITION_FIELD = position_id\n",
      "HEAD_ENTITY_ID_FIELD = head_id\n",
      "TAIL_ENTITY_ID_FIELD = tail_id\n",
      "RELATION_ID_FIELD = relation_id\n",
      "ENTITY_ID_FIELD = entity_id\n",
      "benchmark_filename = None\n",
      "\n",
      "Other Hyper Parameters: \n",
      "worker = 0\n",
      "wandb_project = recbole\n",
      "shuffle = True\n",
      "require_pow = False\n",
      "enable_amp = False\n",
      "enable_scaler = False\n",
      "transform = inverse_itemseq\n",
      "embedding_size = 64\n",
      "short_item_length = 2\n",
      "loss_type = CE\n",
      "reg_weight = [0.01, 0.0001]\n",
      "numerical_features = []\n",
      "discretization = None\n",
      "kg_reverse_r = False\n",
      "entity_kg_num_interval = [0,inf)\n",
      "relation_kg_num_interval = [0,inf)\n",
      "MODEL_TYPE = ModelType.SEQUENTIAL\n",
      "MODEL_INPUT_TYPE = InputType.POINTWISE\n",
      "eval_type = EvaluatorType.RANKING\n",
      "single_spec = True\n",
      "local_rank = 0\n",
      "device = cuda\n",
      "eval_neg_sample_args = {'distribution': 'uniform', 'sample_num': 'none'}\n",
      "\n",
      "\n"
     ]
    }
   ],
   "source": [
    "config = Config(model='SHAN', dataset='recbox_data', config_dict=parameter_dict)\n",
    "init_logger(config)\n",
    "logger = getLogger()\n",
    "\n",
    "c_handler = logging.StreamHandler()\n",
    "c_handler.setLevel(logging.INFO)\n",
    "logger.addHandler(c_handler)\n",
    "\n",
    "logger.info(config)"
   ]
  },
  {
   "cell_type": "code",
   "execution_count": 5,
   "id": "83eafd63",
   "metadata": {
    "execution": {
     "iopub.execute_input": "2022-12-27T19:36:14.057522Z",
     "iopub.status.busy": "2022-12-27T19:36:14.057175Z",
     "iopub.status.idle": "2022-12-27T19:40:29.296742Z",
     "shell.execute_reply": "2022-12-27T19:40:29.295776Z"
    },
    "papermill": {
     "duration": 255.265813,
     "end_time": "2022-12-27T19:40:29.299225",
     "exception": false,
     "start_time": "2022-12-27T19:36:14.033412",
     "status": "completed"
    },
    "tags": []
   },
   "outputs": [
    {
     "name": "stderr",
     "output_type": "stream",
     "text": [
      "[Training]: train_batch_size = [2048] train_neg_sample_args: [{'distribution': 'none', 'sample_num': 'none', 'alpha': 'none', 'dynamic': False, 'candidate_num': 0}]\n",
      "[Evaluation]: eval_batch_size = [1024] eval_args: [{'split': {'RS': [9, 1, 0]}, 'group_by': 'user', 'order': 'TO', 'mode': 'full'}]\n"
     ]
    }
   ],
   "source": [
    "dataset = create_dataset(config)\n",
    "train_data, valid_data, test_data = data_preparation(config, dataset)\n",
    "model = SHAN(config, train_data.dataset).to(config['device'])\n",
    "trainer = Trainer(config, model)\n"
   ]
  },
  {
   "cell_type": "code",
   "execution_count": 6,
   "id": "7867d826",
   "metadata": {
    "execution": {
     "iopub.execute_input": "2022-12-27T19:40:29.347951Z",
     "iopub.status.busy": "2022-12-27T19:40:29.347607Z",
     "iopub.status.idle": "2022-12-27T21:11:20.999721Z",
     "shell.execute_reply": "2022-12-27T21:11:20.998771Z"
    },
    "papermill": {
     "duration": 5451.678974,
     "end_time": "2022-12-27T21:11:21.001949",
     "exception": false,
     "start_time": "2022-12-27T19:40:29.322975",
     "status": "completed"
    },
    "tags": []
   },
   "outputs": [
    {
     "name": "stderr",
     "output_type": "stream",
     "text": [
      "epoch 0 training [time: 479.98s, train loss: 33310.4665]\n",
      "epoch 0 evaluating [time: 67.26s, valid_score: 0.109200]\n",
      "valid result: \n",
      "recall@10 : 0.2078    mrr@10 : 0.1092    ndcg@10 : 0.1324    hit@10 : 0.2078    precision@10 : 0.0208\n",
      "Saving current: saved/SHAN-Dec-27-2022_19-40-29.pth\n",
      "epoch 1 training [time: 476.80s, train loss: 24546.3016]\n",
      "epoch 1 evaluating [time: 65.51s, valid_score: 0.159700]\n",
      "valid result: \n",
      "recall@10 : 0.2892    mrr@10 : 0.1597    ndcg@10 : 0.1903    hit@10 : 0.2892    precision@10 : 0.0289\n",
      "Saving current: saved/SHAN-Dec-27-2022_19-40-29.pth\n",
      "epoch 2 training [time: 477.34s, train loss: 21125.4989]\n",
      "epoch 2 evaluating [time: 66.42s, valid_score: 0.194700]\n",
      "valid result: \n",
      "recall@10 : 0.3422    mrr@10 : 0.1947    ndcg@10 : 0.2296    hit@10 : 0.3422    precision@10 : 0.0342\n",
      "Saving current: saved/SHAN-Dec-27-2022_19-40-29.pth\n",
      "epoch 3 training [time: 477.21s, train loss: 19243.1629]\n",
      "epoch 3 evaluating [time: 65.28s, valid_score: 0.218100]\n",
      "valid result: \n",
      "recall@10 : 0.3776    mrr@10 : 0.2181    ndcg@10 : 0.256    hit@10 : 0.3776    precision@10 : 0.0378\n",
      "Saving current: saved/SHAN-Dec-27-2022_19-40-29.pth\n",
      "epoch 4 training [time: 476.02s, train loss: 18100.5684]\n",
      "epoch 4 evaluating [time: 66.21s, valid_score: 0.233300]\n",
      "valid result: \n",
      "recall@10 : 0.4016    mrr@10 : 0.2333    ndcg@10 : 0.2734    hit@10 : 0.4016    precision@10 : 0.0402\n",
      "Saving current: saved/SHAN-Dec-27-2022_19-40-29.pth\n",
      "epoch 5 training [time: 476.25s, train loss: 17393.6979]\n",
      "epoch 5 evaluating [time: 66.18s, valid_score: 0.243500]\n",
      "valid result: \n",
      "recall@10 : 0.4176    mrr@10 : 0.2435    ndcg@10 : 0.285    hit@10 : 0.4176    precision@10 : 0.0418\n",
      "Saving current: saved/SHAN-Dec-27-2022_19-40-29.pth\n",
      "epoch 6 training [time: 475.48s, train loss: 16952.2796]\n",
      "epoch 6 evaluating [time: 65.30s, valid_score: 0.250200]\n",
      "valid result: \n",
      "recall@10 : 0.4286    mrr@10 : 0.2502    ndcg@10 : 0.2927    hit@10 : 0.4286    precision@10 : 0.0429\n",
      "Saving current: saved/SHAN-Dec-27-2022_19-40-29.pth\n",
      "epoch 7 training [time: 475.70s, train loss: 16670.3662]\n",
      "epoch 7 evaluating [time: 65.99s, valid_score: 0.254700]\n",
      "valid result: \n",
      "recall@10 : 0.4351    mrr@10 : 0.2547    ndcg@10 : 0.2978    hit@10 : 0.4351    precision@10 : 0.0435\n",
      "Saving current: saved/SHAN-Dec-27-2022_19-40-29.pth\n",
      "epoch 8 training [time: 475.53s, train loss: 16483.8386]\n",
      "epoch 8 evaluating [time: 66.54s, valid_score: 0.257900]\n",
      "valid result: \n",
      "recall@10 : 0.4402    mrr@10 : 0.2579    ndcg@10 : 0.3014    hit@10 : 0.4402    precision@10 : 0.044\n",
      "Saving current: saved/SHAN-Dec-27-2022_19-40-29.pth\n",
      "epoch 9 training [time: 474.31s, train loss: 16354.4264]\n",
      "epoch 9 evaluating [time: 65.47s, valid_score: 0.260000]\n",
      "valid result: \n",
      "recall@10 : 0.4437    mrr@10 : 0.26    ndcg@10 : 0.3039    hit@10 : 0.4437    precision@10 : 0.0444\n",
      "Saving current: saved/SHAN-Dec-27-2022_19-40-29.pth\n"
     ]
    }
   ],
   "source": [
    "best_valid_score, best_valid_result = trainer.fit(train_data, valid_data)"
   ]
  },
  {
   "cell_type": "code",
   "execution_count": 7,
   "id": "b91db515",
   "metadata": {
    "execution": {
     "iopub.execute_input": "2022-12-27T21:11:21.066606Z",
     "iopub.status.busy": "2022-12-27T21:11:21.066299Z",
     "iopub.status.idle": "2022-12-27T21:11:21.070794Z",
     "shell.execute_reply": "2022-12-27T21:11:21.069713Z"
    },
    "papermill": {
     "duration": 0.038965,
     "end_time": "2022-12-27T21:11:21.073073",
     "exception": false,
     "start_time": "2022-12-27T21:11:21.034108",
     "status": "completed"
    },
    "tags": []
   },
   "outputs": [],
   "source": [
    "del train_data, valid_data, test_data\n"
   ]
  },
  {
   "cell_type": "code",
   "execution_count": 8,
   "id": "f80cc26d",
   "metadata": {
    "execution": {
     "iopub.execute_input": "2022-12-27T21:11:21.137336Z",
     "iopub.status.busy": "2022-12-27T21:11:21.137069Z",
     "iopub.status.idle": "2022-12-27T21:11:21.146150Z",
     "shell.execute_reply": "2022-12-27T21:11:21.145317Z"
    },
    "papermill": {
     "duration": 0.043328,
     "end_time": "2022-12-27T21:11:21.148384",
     "exception": false,
     "start_time": "2022-12-27T21:11:21.105056",
     "status": "completed"
    },
    "tags": []
   },
   "outputs": [],
   "source": [
    "def pred_user_to_item(item_history: ItemHistory):\n",
    "    item_history_dict = item_history.dict()\n",
    "    item_sequence = item_history_dict[\"sequence\"]\n",
    "    item_length = len(item_sequence)\n",
    "    pad_length = MAX_ITEM  # pre-defined by recbole\n",
    "\n",
    "    padded_item_sequence = torch.nn.functional.pad(\n",
    "        torch.tensor(dataset.token2id(dataset.iid_field, item_sequence)),\n",
    "        (0, pad_length - item_length),\n",
    "        \"constant\",\n",
    "        0,\n",
    "    )\n",
    "\n",
    "    input_interaction = Interaction(\n",
    "        {\n",
    "            \"aid_list\": padded_item_sequence.reshape(1, -1),\n",
    "            \"item_length\": torch.tensor([item_length]),\n",
    "        }\n",
    "    )\n",
    "    scores = model.full_sort_predict(input_interaction.to(model.device))\n",
    "    scores = scores.view(-1, dataset.item_num)\n",
    "    scores[:, 0] = -np.inf  # pad item score -> -inf\n",
    "    topk_score, topk_iid_list = torch.topk(scores, item_history_dict[\"topk\"])\n",
    "\n",
    "    predicted_score_list = topk_score.tolist()[0]\n",
    "    predicted_item_list = dataset.id2token(\n",
    "        dataset.iid_field, topk_iid_list.tolist()\n",
    "    ).tolist()\n",
    "\n",
    "    recommended_items = {\n",
    "        \"score_list\": predicted_score_list,\n",
    "        \"item_list\": predicted_item_list,\n",
    "    }\n",
    "    return recommended_items\n"
   ]
  },
  {
   "cell_type": "code",
   "execution_count": 9,
   "id": "552bcac9",
   "metadata": {
    "execution": {
     "iopub.execute_input": "2022-12-27T21:11:21.267927Z",
     "iopub.status.busy": "2022-12-27T21:11:21.267573Z",
     "iopub.status.idle": "2022-12-27T21:12:16.266766Z",
     "shell.execute_reply": "2022-12-27T21:12:16.265701Z"
    },
    "papermill": {
     "duration": 55.089703,
     "end_time": "2022-12-27T21:12:16.269218",
     "exception": false,
     "start_time": "2022-12-27T21:11:21.179515",
     "status": "completed"
    },
    "tags": []
   },
   "outputs": [],
   "source": [
    "test = pl.read_parquet('../input/otto-full-optimized-memory-footprint/test.parquet')\n",
    "session_types = ['clicks', 'carts', 'orders']\n",
    "test_session_AIDs = test.to_pandas().reset_index(drop=True).groupby('session')['aid'].apply(list)\n",
    "test_session_types = test.to_pandas().reset_index(drop=True).groupby('session')['type'].apply(list)\n",
    "del test\n"
   ]
  },
  {
   "cell_type": "code",
   "execution_count": 10,
   "id": "2972d401",
   "metadata": {
    "execution": {
     "iopub.execute_input": "2022-12-27T21:12:16.333500Z",
     "iopub.status.busy": "2022-12-27T21:12:16.333190Z",
     "iopub.status.idle": "2022-12-27T21:13:04.274571Z",
     "shell.execute_reply": "2022-12-27T21:13:04.273449Z"
    },
    "papermill": {
     "duration": 47.976216,
     "end_time": "2022-12-27T21:13:04.277428",
     "exception": false,
     "start_time": "2022-12-27T21:12:16.301212",
     "status": "completed"
    },
    "tags": []
   },
   "outputs": [],
   "source": [
    "labels = []\n",
    "\n",
    "type_weight_multipliers = {0: 1, 1: 6, 2: 3}\n",
    "for AIDs, types in zip(test_session_AIDs, test_session_types):\n",
    "    if len(AIDs) >= 20:\n",
    "        weights=np.logspace(0.1,1,len(AIDs),base=2, endpoint=True)-1\n",
    "        aids_temp=defaultdict(lambda: 0)\n",
    "        for aid,w,t in zip(AIDs,weights,types): \n",
    "            aids_temp[aid]+= w * type_weight_multipliers[t]\n",
    "            \n",
    "        sorted_aids=[k for k, v in sorted(aids_temp.items(), key=lambda item: -item[1])]\n",
    "        labels.append(sorted_aids[:20])\n",
    "    else:\n",
    "        AIDs = list(dict.fromkeys(AIDs))\n",
    "        item = ItemHistory(sequence=AIDs, topk=20)\n",
    "        try:\n",
    "            nns = [ int(v) for v in pred_user_to_item(item)['item_list']]\n",
    "        except:\n",
    "            nns = []\n",
    "\n",
    "        for word in nns:\n",
    "            if len(AIDs) == 20:\n",
    "                break\n",
    "            if int(word) not in AIDs:\n",
    "                AIDs.append(word)\n",
    "\n",
    "        labels.append(AIDs[:20])\n"
   ]
  },
  {
   "cell_type": "code",
   "execution_count": 11,
   "id": "2cdffda2",
   "metadata": {
    "execution": {
     "iopub.execute_input": "2022-12-27T21:13:04.343066Z",
     "iopub.status.busy": "2022-12-27T21:13:04.342216Z",
     "iopub.status.idle": "2022-12-27T21:13:18.382437Z",
     "shell.execute_reply": "2022-12-27T21:13:18.381420Z"
    },
    "papermill": {
     "duration": 14.074751,
     "end_time": "2022-12-27T21:13:18.384838",
     "exception": false,
     "start_time": "2022-12-27T21:13:04.310087",
     "status": "completed"
    },
    "tags": []
   },
   "outputs": [],
   "source": [
    "labels_as_strings = [' '.join([str(l) for l in lls]) for lls in labels]\n",
    "predictions = pd.DataFrame(data={'session_type': test_session_AIDs.index, 'labels': labels_as_strings})\n",
    "labels_as_strings = [' '.join([str(l) for l in lls]) for lls in labels]\n",
    "\n",
    "predictions = pd.DataFrame(data={'session_type': test_session_AIDs.index, 'labels': labels_as_strings})\n",
    "\n",
    "prediction_dfs = []\n",
    "\n",
    "for st in session_types:\n",
    "    modified_predictions = predictions.copy()\n",
    "    modified_predictions.session_type = modified_predictions.session_type.astype('str') + f'_{st}'\n",
    "    prediction_dfs.append(modified_predictions)\n",
    "\n",
    "submission = pd.concat(prediction_dfs).reset_index(drop=True)\n",
    "submission.to_csv('submission.csv', index=False)"
   ]
  },
  {
   "cell_type": "code",
   "execution_count": null,
   "id": "9dcb5594",
   "metadata": {
    "papermill": {
     "duration": 0.030739,
     "end_time": "2022-12-27T21:13:18.447422",
     "exception": false,
     "start_time": "2022-12-27T21:13:18.416683",
     "status": "completed"
    },
    "tags": []
   },
   "outputs": [],
   "source": []
  }
 ],
 "metadata": {
  "kernelspec": {
   "display_name": "Python 3",
   "language": "python",
   "name": "python3"
  },
  "language_info": {
   "codemirror_mode": {
    "name": "ipython",
    "version": 3
   },
   "file_extension": ".py",
   "mimetype": "text/x-python",
   "name": "python",
   "nbconvert_exporter": "python",
   "pygments_lexer": "ipython3",
   "version": "3.7.12"
  },
  "papermill": {
   "default_parameters": {},
   "duration": 5863.137304,
   "end_time": "2022-12-27T21:13:21.320731",
   "environment_variables": {},
   "exception": null,
   "input_path": "__notebook__.ipynb",
   "output_path": "__notebook__.ipynb",
   "parameters": {},
   "start_time": "2022-12-27T19:35:38.183427",
   "version": "2.3.4"
  }
 },
 "nbformat": 4,
 "nbformat_minor": 5
}
