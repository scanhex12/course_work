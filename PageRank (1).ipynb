{
 "cells": [
  {
   "cell_type": "code",
   "execution_count": 1,
   "metadata": {},
   "outputs": [
    {
     "data": {
      "text/html": [
       "<div>\n",
       "<style scoped>\n",
       "    .dataframe tbody tr th:only-of-type {\n",
       "        vertical-align: middle;\n",
       "    }\n",
       "\n",
       "    .dataframe tbody tr th {\n",
       "        vertical-align: top;\n",
       "    }\n",
       "\n",
       "    .dataframe thead th {\n",
       "        text-align: right;\n",
       "    }\n",
       "</style>\n",
       "<table border=\"1\" class=\"dataframe\">\n",
       "  <thead>\n",
       "    <tr style=\"text-align: right;\">\n",
       "      <th></th>\n",
       "      <th>Unnamed: 0</th>\n",
       "      <th>u</th>\n",
       "      <th>v</th>\n",
       "      <th>t</th>\n",
       "      <th>h</th>\n",
       "      <th>mask2drop</th>\n",
       "    </tr>\n",
       "  </thead>\n",
       "  <tbody>\n",
       "    <tr>\n",
       "      <th>0</th>\n",
       "      <td>0</td>\n",
       "      <td>0</td>\n",
       "      <td>1</td>\n",
       "      <td>27</td>\n",
       "      <td>6</td>\n",
       "      <td>1</td>\n",
       "    </tr>\n",
       "    <tr>\n",
       "      <th>1</th>\n",
       "      <td>1</td>\n",
       "      <td>2</td>\n",
       "      <td>3</td>\n",
       "      <td>13</td>\n",
       "      <td>8</td>\n",
       "      <td>1</td>\n",
       "    </tr>\n",
       "    <tr>\n",
       "      <th>2</th>\n",
       "      <td>2</td>\n",
       "      <td>4</td>\n",
       "      <td>5</td>\n",
       "      <td>74</td>\n",
       "      <td>2</td>\n",
       "      <td>1</td>\n",
       "    </tr>\n",
       "    <tr>\n",
       "      <th>3</th>\n",
       "      <td>3</td>\n",
       "      <td>6</td>\n",
       "      <td>7</td>\n",
       "      <td>36</td>\n",
       "      <td>9</td>\n",
       "      <td>1</td>\n",
       "    </tr>\n",
       "    <tr>\n",
       "      <th>4</th>\n",
       "      <td>4</td>\n",
       "      <td>8</td>\n",
       "      <td>9</td>\n",
       "      <td>52</td>\n",
       "      <td>2</td>\n",
       "      <td>1</td>\n",
       "    </tr>\n",
       "    <tr>\n",
       "      <th>...</th>\n",
       "      <td>...</td>\n",
       "      <td>...</td>\n",
       "      <td>...</td>\n",
       "      <td>...</td>\n",
       "      <td>...</td>\n",
       "      <td>...</td>\n",
       "    </tr>\n",
       "    <tr>\n",
       "      <th>16745086</th>\n",
       "      <td>17414504</td>\n",
       "      <td>2369189</td>\n",
       "      <td>2300645</td>\n",
       "      <td>6</td>\n",
       "      <td>7</td>\n",
       "      <td>1</td>\n",
       "    </tr>\n",
       "    <tr>\n",
       "      <th>16745087</th>\n",
       "      <td>17414505</td>\n",
       "      <td>62448</td>\n",
       "      <td>88256</td>\n",
       "      <td>60</td>\n",
       "      <td>0</td>\n",
       "      <td>1</td>\n",
       "    </tr>\n",
       "    <tr>\n",
       "      <th>16745088</th>\n",
       "      <td>17414506</td>\n",
       "      <td>919913</td>\n",
       "      <td>1183054</td>\n",
       "      <td>71</td>\n",
       "      <td>0</td>\n",
       "      <td>1</td>\n",
       "    </tr>\n",
       "    <tr>\n",
       "      <th>16745089</th>\n",
       "      <td>17414507</td>\n",
       "      <td>1774</td>\n",
       "      <td>881</td>\n",
       "      <td>67</td>\n",
       "      <td>0</td>\n",
       "      <td>1</td>\n",
       "    </tr>\n",
       "    <tr>\n",
       "      <th>16745090</th>\n",
       "      <td>17414509</td>\n",
       "      <td>407711</td>\n",
       "      <td>861430</td>\n",
       "      <td>26</td>\n",
       "      <td>7</td>\n",
       "      <td>1</td>\n",
       "    </tr>\n",
       "  </tbody>\n",
       "</table>\n",
       "<p>16745091 rows × 6 columns</p>\n",
       "</div>"
      ],
      "text/plain": [
       "          Unnamed: 0        u        v   t  h  mask2drop\n",
       "0                  0        0        1  27  6          1\n",
       "1                  1        2        3  13  8          1\n",
       "2                  2        4        5  74  2          1\n",
       "3                  3        6        7  36  9          1\n",
       "4                  4        8        9  52  2          1\n",
       "...              ...      ...      ...  .. ..        ...\n",
       "16745086    17414504  2369189  2300645   6  7          1\n",
       "16745087    17414505    62448    88256  60  0          1\n",
       "16745088    17414506   919913  1183054  71  0          1\n",
       "16745089    17414507     1774      881  67  0          1\n",
       "16745090    17414509   407711   861430  26  7          1\n",
       "\n",
       "[16745091 rows x 6 columns]"
      ]
     },
     "execution_count": 1,
     "metadata": {},
     "output_type": "execute_result"
    }
   ],
   "source": [
    "import numpy as np \n",
    "import pandas as pd \n",
    "\n",
    "df = pd.read_csv('train_mod_v3.csv')\n",
    "df\n"
   ]
  },
  {
   "cell_type": "code",
   "execution_count": 2,
   "metadata": {},
   "outputs": [],
   "source": [
    "from sklearn.model_selection import train_test_split\n",
    "\n",
    "df_train, df_test = train_test_split(df, test_size=0.2, random_state=42)\n",
    "df_test.to_csv('test_mod_v3.csv')\n",
    "del df_test \n",
    "#del df\n"
   ]
  },
  {
   "cell_type": "code",
   "execution_count": 3,
   "metadata": {},
   "outputs": [
    {
     "data": {
      "text/html": [
       "<div>\n",
       "<style scoped>\n",
       "    .dataframe tbody tr th:only-of-type {\n",
       "        vertical-align: middle;\n",
       "    }\n",
       "\n",
       "    .dataframe tbody tr th {\n",
       "        vertical-align: top;\n",
       "    }\n",
       "\n",
       "    .dataframe thead th {\n",
       "        text-align: right;\n",
       "    }\n",
       "</style>\n",
       "<table border=\"1\" class=\"dataframe\">\n",
       "  <thead>\n",
       "    <tr style=\"text-align: right;\">\n",
       "      <th></th>\n",
       "      <th>Unnamed: 0</th>\n",
       "      <th>u</th>\n",
       "      <th>v</th>\n",
       "      <th>t</th>\n",
       "      <th>h</th>\n",
       "      <th>mask2drop</th>\n",
       "    </tr>\n",
       "  </thead>\n",
       "  <tbody>\n",
       "    <tr>\n",
       "      <th>0</th>\n",
       "      <td>0</td>\n",
       "      <td>0</td>\n",
       "      <td>1</td>\n",
       "      <td>27</td>\n",
       "      <td>6</td>\n",
       "      <td>1</td>\n",
       "    </tr>\n",
       "    <tr>\n",
       "      <th>1</th>\n",
       "      <td>1</td>\n",
       "      <td>2</td>\n",
       "      <td>3</td>\n",
       "      <td>13</td>\n",
       "      <td>8</td>\n",
       "      <td>1</td>\n",
       "    </tr>\n",
       "    <tr>\n",
       "      <th>2</th>\n",
       "      <td>2</td>\n",
       "      <td>4</td>\n",
       "      <td>5</td>\n",
       "      <td>74</td>\n",
       "      <td>2</td>\n",
       "      <td>1</td>\n",
       "    </tr>\n",
       "    <tr>\n",
       "      <th>3</th>\n",
       "      <td>3</td>\n",
       "      <td>6</td>\n",
       "      <td>7</td>\n",
       "      <td>36</td>\n",
       "      <td>9</td>\n",
       "      <td>1</td>\n",
       "    </tr>\n",
       "    <tr>\n",
       "      <th>4</th>\n",
       "      <td>4</td>\n",
       "      <td>8</td>\n",
       "      <td>9</td>\n",
       "      <td>52</td>\n",
       "      <td>2</td>\n",
       "      <td>1</td>\n",
       "    </tr>\n",
       "    <tr>\n",
       "      <th>...</th>\n",
       "      <td>...</td>\n",
       "      <td>...</td>\n",
       "      <td>...</td>\n",
       "      <td>...</td>\n",
       "      <td>...</td>\n",
       "      <td>...</td>\n",
       "    </tr>\n",
       "    <tr>\n",
       "      <th>16745086</th>\n",
       "      <td>17414504</td>\n",
       "      <td>2369189</td>\n",
       "      <td>2300645</td>\n",
       "      <td>6</td>\n",
       "      <td>7</td>\n",
       "      <td>1</td>\n",
       "    </tr>\n",
       "    <tr>\n",
       "      <th>16745087</th>\n",
       "      <td>17414505</td>\n",
       "      <td>62448</td>\n",
       "      <td>88256</td>\n",
       "      <td>60</td>\n",
       "      <td>0</td>\n",
       "      <td>1</td>\n",
       "    </tr>\n",
       "    <tr>\n",
       "      <th>16745088</th>\n",
       "      <td>17414506</td>\n",
       "      <td>919913</td>\n",
       "      <td>1183054</td>\n",
       "      <td>71</td>\n",
       "      <td>0</td>\n",
       "      <td>1</td>\n",
       "    </tr>\n",
       "    <tr>\n",
       "      <th>16745089</th>\n",
       "      <td>17414507</td>\n",
       "      <td>1774</td>\n",
       "      <td>881</td>\n",
       "      <td>67</td>\n",
       "      <td>0</td>\n",
       "      <td>1</td>\n",
       "    </tr>\n",
       "    <tr>\n",
       "      <th>16745090</th>\n",
       "      <td>17414509</td>\n",
       "      <td>407711</td>\n",
       "      <td>861430</td>\n",
       "      <td>26</td>\n",
       "      <td>7</td>\n",
       "      <td>1</td>\n",
       "    </tr>\n",
       "  </tbody>\n",
       "</table>\n",
       "<p>16745091 rows × 6 columns</p>\n",
       "</div>"
      ],
      "text/plain": [
       "          Unnamed: 0        u        v   t  h  mask2drop\n",
       "0                  0        0        1  27  6          1\n",
       "1                  1        2        3  13  8          1\n",
       "2                  2        4        5  74  2          1\n",
       "3                  3        6        7  36  9          1\n",
       "4                  4        8        9  52  2          1\n",
       "...              ...      ...      ...  .. ..        ...\n",
       "16745086    17414504  2369189  2300645   6  7          1\n",
       "16745087    17414505    62448    88256  60  0          1\n",
       "16745088    17414506   919913  1183054  71  0          1\n",
       "16745089    17414507     1774      881  67  0          1\n",
       "16745090    17414509   407711   861430  26  7          1\n",
       "\n",
       "[16745091 rows x 6 columns]"
      ]
     },
     "execution_count": 3,
     "metadata": {},
     "output_type": "execute_result"
    }
   ],
   "source": [
    "N_TOTAL = max(df['u'].max(), df['v'].max()) + 1\n",
    "df\n"
   ]
  },
  {
   "cell_type": "code",
   "execution_count": 4,
   "metadata": {},
   "outputs": [
    {
     "data": {
      "text/plain": [
       "2522474"
      ]
     },
     "execution_count": 4,
     "metadata": {},
     "output_type": "execute_result"
    }
   ],
   "source": [
    "N_TOTAL\n"
   ]
  },
  {
   "cell_type": "code",
   "execution_count": 5,
   "metadata": {},
   "outputs": [],
   "source": [
    "def apk(pred, target, k):\n",
    "    if len(pred) >= k:\n",
    "        pred = pred[:k]\n",
    "\n",
    "    ans, cnt = 0, 0\n",
    "    tot = min(len(target), k) \n",
    "    s = set()\n",
    "    for i in range(len(pred)):\n",
    "        if pred[i] in target and pred[i] not in s:\n",
    "            cnt += 1\n",
    "            ans += cnt / (i + 1)\n",
    "            s.add(pred[i])\n",
    "    return ans / tot\n",
    "\n",
    "def mapk(pred, target, k):\n",
    "    assert len(pred) == len(target)\n",
    "    sum_metric = 0\n",
    "    for cur_pred, cur_target in zip(pred, target):\n",
    "        sum_metric += apk(cur_pred, cur_target, k)\n",
    "    return sum_metric / len(pred) \n"
   ]
  },
  {
   "cell_type": "code",
   "execution_count": 6,
   "metadata": {},
   "outputs": [],
   "source": [
    "df_test = pd.read_csv('test_mod_v3.csv')\n",
    "\n",
    "target_arr = [[] for _ in range(N_TOTAL)]\n",
    "\n",
    "for i in range(df_test.shape[0]):\n",
    "    u, v = df_test['u'].iloc[i], df_test['v'].iloc[i]\n",
    "    if u >= N_TOTAL or v >= N_TOTAL:\n",
    "        continue\n",
    "    target_arr[u].append(v)\n",
    "    target_arr[v].append(u)\n",
    "del df_test\n"
   ]
  },
  {
   "cell_type": "code",
   "execution_count": 7,
   "metadata": {},
   "outputs": [],
   "source": [
    "import networkx as nx\n",
    "import random\n",
    "from networkx import ego_graph\n",
    "from tqdm.auto import trange\n",
    "\n",
    "\n",
    "graph = nx.Graph()\n",
    "graph.add_nodes_from(list(range(N_TOTAL)))\n",
    "graph.add_edges_from(df_train[['u', 'v']].values)"
   ]
  },
  {
   "cell_type": "code",
   "execution_count": 8,
   "metadata": {},
   "outputs": [
    {
     "data": {
      "application/vnd.jupyter.widget-view+json": {
       "model_id": "add1bc57e71f40009c267f02b64264a8",
       "version_major": 2,
       "version_minor": 0
      },
      "text/plain": [
       "HBox(children=(HTML(value=''), FloatProgress(value=0.0, max=13396072.0), HTML(value='')))"
      ]
     },
     "metadata": {},
     "output_type": "display_data"
    },
    {
     "name": "stdout",
     "output_type": "stream",
     "text": [
      "\n"
     ]
    }
   ],
   "source": [
    "train_edges_set = set()\n",
    "\n",
    "for i in trange(df_train.shape[0]):\n",
    "    u, v = df_train['u'].iloc[i], df_train['v'].iloc[i]\n",
    "    train_edges_set.add((u, v))\n",
    "    train_edges_set.add((v, u))"
   ]
  },
  {
   "cell_type": "code",
   "execution_count": 9,
   "metadata": {},
   "outputs": [],
   "source": [
    "def inference_max(n_first_samples, ranks, K):\n",
    "    sorted_ranks = sorted([rank, i] for i, rank in enumerate(ranks))[::-1]\n",
    "    #is2pos = {cur_id: pos for pos, (_, cur_id) in enumerate(sorted_ranks)}\n",
    "    sum_apk, cnt_good = 0, 0\n",
    "    for i in trange(n_first_samples):\n",
    "        if len(target_arr[i]) == 0:\n",
    "            continue\n",
    "        recommendations = []\n",
    "        cur_it = len(sorted_ranks) - 1\n",
    "        while len(recommendations) < K:\n",
    "            v0 = sorted_ranks[cur_it][1]\n",
    "            if (v0, i) not in train_edges_set:\n",
    "                recommendations.append(v0)\n",
    "            cur_it -= 1\n",
    "        sum_apk += apk(recommendations, target_arr[i], K)\n",
    "        cnt_good += 1\n",
    "    return sum_apk / cnt_good"
   ]
  },
  {
   "cell_type": "code",
   "execution_count": 10,
   "metadata": {},
   "outputs": [],
   "source": [
    "pr = nx.pagerank(graph, alpha=0.9)\n"
   ]
  },
  {
   "cell_type": "code",
   "execution_count": null,
   "metadata": {},
   "outputs": [],
   "source": []
  },
  {
   "cell_type": "code",
   "execution_count": 11,
   "metadata": {},
   "outputs": [],
   "source": [
    "def inference_nearest(n_first_samples, ranks, K, window_size):\n",
    "    sorted_ranks = sorted([rank, i] for i, rank in enumerate(ranks))[::-1]\n",
    "    is2pos = {cur_id: pos for pos, (_, cur_id) in enumerate(sorted_ranks)}\n",
    "    sum_apk, cnt_good = 0, 0\n",
    "    for i in trange(n_first_samples):\n",
    "        if len(target_arr[i]) == 0 or i in list(range(14000, 14100)):\n",
    "            continue\n",
    "        recommendations = []\n",
    "        cur_it = len(sorted_ranks) - 1\n",
    "        pos_i = is2pos[i]\n",
    "        for j in range(max(0, pos_i - window_size), min(len(sorted_ranks),  pos_i + window_size + 1)):\n",
    "            if j != pos_i:\n",
    "                v0 = sorted_ranks[j][1]\n",
    "                if (i, v0) in train_edges_set:\n",
    "                    continue\n",
    "                try:\n",
    "                    d0 = nx.shortest_path_length(graph, source=v0, target=i)\n",
    "                    recommendations.append((d0, v0))\n",
    "                except:\n",
    "                    pass\n",
    "        recommendations = sorted(recommendations)[:K]\n",
    "        recommendations = [cur_id for _, cur_id in recommendations]\n",
    "\n",
    "        sum_apk += apk(recommendations, target_arr[i], K)\n",
    "        cnt_good += 1\n",
    "    return sum_apk / cnt_good"
   ]
  },
  {
   "cell_type": "code",
   "execution_count": 12,
   "metadata": {},
   "outputs": [],
   "source": [
    "def inference_nearest_rank(n_first_samples, ranks, K, window_size):\n",
    "    sorted_ranks = sorted([rank, i] for i, rank in enumerate(ranks))[::-1]\n",
    "    is2pos = {cur_id: pos for pos, (_, cur_id) in enumerate(sorted_ranks)}\n",
    "    sum_apk, cnt_good = 0, 0\n",
    "    for i in trange(n_first_samples):\n",
    "        if len(target_arr[i]) == 0:\n",
    "            continue\n",
    "        recommendations = []\n",
    "        cur_it = len(sorted_ranks) - 1\n",
    "        pos_i = is2pos[i]\n",
    "        for j in range(max(0, pos_i - window_size), min(len(sorted_ranks),  pos_i + window_size + 1)):\n",
    "            if j != pos_i:\n",
    "                v0 = sorted_ranks[j][1]\n",
    "                if (i, v0) in train_edges_set:\n",
    "                    continue\n",
    "                recommendations.append((abs(ranks[cur_it] - ranks[j]), v0))\n",
    "\n",
    "        recommendations = sorted(recommendations)[:K]\n",
    "        recommendations = [cur_id for _, cur_id in recommendations]\n",
    "        sum_apk += apk(recommendations, target_arr[i], K)\n",
    "        cnt_good += 1\n",
    "    return sum_apk / cnt_good"
   ]
  },
  {
   "cell_type": "code",
   "execution_count": 13,
   "metadata": {},
   "outputs": [],
   "source": [
    "pr_array = [pr[ind] for ind in range(N_TOTAL)]"
   ]
  },
  {
   "cell_type": "code",
   "execution_count": 14,
   "metadata": {},
   "outputs": [
    {
     "data": {
      "application/vnd.jupyter.widget-view+json": {
       "model_id": "e5347aafe93e4182851ee4f06b59bee1",
       "version_major": 2,
       "version_minor": 0
      },
      "text/plain": [
       "HBox(children=(HTML(value=''), FloatProgress(value=0.0, max=15000.0), HTML(value='')))"
      ]
     },
     "metadata": {},
     "output_type": "display_data"
    },
    {
     "name": "stdout",
     "output_type": "stream",
     "text": [
      "\n"
     ]
    },
    {
     "data": {
      "text/plain": [
       "8.3963237109594e-05"
      ]
     },
     "execution_count": 14,
     "metadata": {},
     "output_type": "execute_result"
    }
   ],
   "source": [
    "inference_max(15000, pr_array, 30)"
   ]
  },
  {
   "cell_type": "code",
   "execution_count": 15,
   "metadata": {},
   "outputs": [
    {
     "data": {
      "application/vnd.jupyter.widget-view+json": {
       "model_id": "f337d20d648b4f4e87035e7759557b61",
       "version_major": 2,
       "version_minor": 0
      },
      "text/plain": [
       "HBox(children=(HTML(value=''), FloatProgress(value=0.0, max=2522474.0), HTML(value='')))"
      ]
     },
     "metadata": {},
     "output_type": "display_data"
    },
    {
     "name": "stdout",
     "output_type": "stream",
     "text": [
      "\n"
     ]
    },
    {
     "data": {
      "text/plain": [
       "1.7470726195532689e-06"
      ]
     },
     "execution_count": 15,
     "metadata": {},
     "output_type": "execute_result"
    }
   ],
   "source": [
    "inference_max(N_TOTAL, pr_array, 30)"
   ]
  },
  {
   "cell_type": "code",
   "execution_count": 16,
   "metadata": {},
   "outputs": [
    {
     "data": {
      "application/vnd.jupyter.widget-view+json": {
       "model_id": "2cafa7b06989451ea928475972657d11",
       "version_major": 2,
       "version_minor": 0
      },
      "text/plain": [
       "HBox(children=(HTML(value=''), FloatProgress(value=0.0, max=15000.0), HTML(value='')))"
      ]
     },
     "metadata": {},
     "output_type": "display_data"
    },
    {
     "name": "stdout",
     "output_type": "stream",
     "text": [
      "\n"
     ]
    },
    {
     "data": {
      "text/plain": [
       "0.00033414046568237967"
      ]
     },
     "execution_count": 16,
     "metadata": {},
     "output_type": "execute_result"
    }
   ],
   "source": [
    "inference_nearest(15000, pr_array, 30, 30)"
   ]
  },
  {
   "cell_type": "code",
   "execution_count": 17,
   "metadata": {},
   "outputs": [
    {
     "data": {
      "application/vnd.jupyter.widget-view+json": {
       "model_id": "9d302a5d796246f395424128ec315f98",
       "version_major": 2,
       "version_minor": 0
      },
      "text/plain": [
       "HBox(children=(HTML(value=''), FloatProgress(value=0.0, max=15000.0), HTML(value='')))"
      ]
     },
     "metadata": {},
     "output_type": "display_data"
    },
    {
     "name": "stdout",
     "output_type": "stream",
     "text": [
      "\n"
     ]
    },
    {
     "data": {
      "text/plain": [
       "6.144369510326461e-05"
      ]
     },
     "execution_count": 17,
     "metadata": {},
     "output_type": "execute_result"
    }
   ],
   "source": [
    "inference_nearest_rank(15000, pr_array, 30, 30)"
   ]
  },
  {
   "cell_type": "code",
   "execution_count": 18,
   "metadata": {},
   "outputs": [
    {
     "data": {
      "application/vnd.jupyter.widget-view+json": {
       "model_id": "ba6e9d16d05544ea8ea748af8fb56353",
       "version_major": 2,
       "version_minor": 0
      },
      "text/plain": [
       "HBox(children=(HTML(value=''), FloatProgress(value=0.0, max=2522474.0), HTML(value='')))"
      ]
     },
     "metadata": {},
     "output_type": "display_data"
    },
    {
     "name": "stdout",
     "output_type": "stream",
     "text": [
      "\n"
     ]
    },
    {
     "data": {
      "text/plain": [
       "3.0235576830165912e-05"
      ]
     },
     "execution_count": 18,
     "metadata": {},
     "output_type": "execute_result"
    }
   ],
   "source": [
    "inference_nearest_rank(N_TOTAL, pr_array, 30, 30)"
   ]
  },
  {
   "cell_type": "code",
   "execution_count": null,
   "metadata": {},
   "outputs": [],
   "source": []
  },
  {
   "cell_type": "code",
   "execution_count": null,
   "metadata": {},
   "outputs": [],
   "source": []
  }
 ],
 "metadata": {
  "kernelspec": {
   "display_name": "Python 3",
   "language": "python",
   "name": "python3"
  },
  "language_info": {
   "codemirror_mode": {
    "name": "ipython",
    "version": 3
   },
   "file_extension": ".py",
   "mimetype": "text/x-python",
   "name": "python",
   "nbconvert_exporter": "python",
   "pygments_lexer": "ipython3",
   "version": "3.8.10"
  },
  "vscode": {
   "interpreter": {
    "hash": "40d3a090f54c6569ab1632332b64b2c03c39dcf918b08424e98f38b5ae0af88f"
   }
  }
 },
 "nbformat": 4,
 "nbformat_minor": 2
}
