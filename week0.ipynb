{
  "cells": [
    {
      "cell_type": "markdown",
      "source": [
        "# Week 0: смотрим на лоссы"
      ],
      "metadata": {
        "id": "0cLsR6Y7yRMl"
      },
      "id": "0cLsR6Y7yRMl"
    },
    {
      "cell_type": "code",
      "execution_count": 1,
      "id": "88dfe062",
      "metadata": {
        "execution": {
          "iopub.execute_input": "2022-11-02T21:52:57.414077Z",
          "iopub.status.busy": "2022-11-02T21:52:57.413489Z",
          "iopub.status.idle": "2022-11-02T22:44:05.166253Z",
          "shell.execute_reply": "2022-11-02T22:44:05.164777Z"
        },
        "id": "88dfe062",
        "outputId": "e9866a3d-4ef8-40b0-cdb5-a8819fee0044",
        "papermill": {
          "duration": 3067.767333,
          "end_time": "2022-11-02T22:44:05.169263",
          "exception": false,
          "start_time": "2022-11-02T21:52:57.401930",
          "status": "completed"
        },
        "tags": [],
        "colab": {
          "base_uri": "https://localhost:8080/"
        }
      },
      "outputs": [
        {
          "output_type": "stream",
          "name": "stdout",
          "text": [
            "Looking in indexes: https://pypi.org/simple, https://us-python.pkg.dev/colab-wheels/public/simple/\n",
            "Looking in links: https://data.pyg.org/whl/torch-1.12.1+cu113.html\n",
            "Collecting torch-scatter\n",
            "  Downloading https://data.pyg.org/whl/torch-1.12.0%2Bcu113/torch_scatter-2.0.9-cp37-cp37m-linux_x86_64.whl (7.9 MB)\n",
            "\u001b[K     |████████████████████████████████| 7.9 MB 5.1 MB/s \n",
            "\u001b[?25hInstalling collected packages: torch-scatter\n",
            "Successfully installed torch-scatter-2.0.9\n",
            "Looking in indexes: https://pypi.org/simple, https://us-python.pkg.dev/colab-wheels/public/simple/\n",
            "Looking in links: https://data.pyg.org/whl/torch-1.12.1+cu113.html\n",
            "Collecting torch-sparse\n",
            "  Downloading https://data.pyg.org/whl/torch-1.12.0%2Bcu113/torch_sparse-0.6.15-cp37-cp37m-linux_x86_64.whl (3.5 MB)\n",
            "\u001b[K     |████████████████████████████████| 3.5 MB 5.5 MB/s \n",
            "\u001b[?25hRequirement already satisfied: scipy in /usr/local/lib/python3.7/dist-packages (from torch-sparse) (1.7.3)\n",
            "Requirement already satisfied: numpy<1.23.0,>=1.16.5 in /usr/local/lib/python3.7/dist-packages (from scipy->torch-sparse) (1.21.6)\n",
            "Installing collected packages: torch-sparse\n",
            "Successfully installed torch-sparse-0.6.15\n",
            "Looking in indexes: https://pypi.org/simple, https://us-python.pkg.dev/colab-wheels/public/simple/\n",
            "Looking in links: https://data.pyg.org/whl/torch-1.12.1+cu113.html\n",
            "Collecting torch-cluster\n",
            "  Downloading https://data.pyg.org/whl/torch-1.12.0%2Bcu113/torch_cluster-1.6.0-cp37-cp37m-linux_x86_64.whl (2.4 MB)\n",
            "\u001b[K     |████████████████████████████████| 2.4 MB 5.3 MB/s \n",
            "\u001b[?25hInstalling collected packages: torch-cluster\n",
            "Successfully installed torch-cluster-1.6.0\n",
            "Looking in indexes: https://pypi.org/simple, https://us-python.pkg.dev/colab-wheels/public/simple/\n",
            "Collecting torch-geometric\n",
            "  Downloading torch_geometric-2.1.0.post1.tar.gz (467 kB)\n",
            "\u001b[K     |████████████████████████████████| 467 kB 4.9 MB/s \n",
            "\u001b[?25hRequirement already satisfied: tqdm in /usr/local/lib/python3.7/dist-packages (from torch-geometric) (4.64.1)\n",
            "Requirement already satisfied: numpy in /usr/local/lib/python3.7/dist-packages (from torch-geometric) (1.21.6)\n",
            "Requirement already satisfied: scipy in /usr/local/lib/python3.7/dist-packages (from torch-geometric) (1.7.3)\n",
            "Requirement already satisfied: jinja2 in /usr/local/lib/python3.7/dist-packages (from torch-geometric) (2.11.3)\n",
            "Requirement already satisfied: requests in /usr/local/lib/python3.7/dist-packages (from torch-geometric) (2.23.0)\n",
            "Requirement already satisfied: pyparsing in /usr/local/lib/python3.7/dist-packages (from torch-geometric) (3.0.9)\n",
            "Requirement already satisfied: scikit-learn in /usr/local/lib/python3.7/dist-packages (from torch-geometric) (1.0.2)\n",
            "Requirement already satisfied: MarkupSafe>=0.23 in /usr/local/lib/python3.7/dist-packages (from jinja2->torch-geometric) (2.0.1)\n",
            "Requirement already satisfied: urllib3!=1.25.0,!=1.25.1,<1.26,>=1.21.1 in /usr/local/lib/python3.7/dist-packages (from requests->torch-geometric) (1.24.3)\n",
            "Requirement already satisfied: chardet<4,>=3.0.2 in /usr/local/lib/python3.7/dist-packages (from requests->torch-geometric) (3.0.4)\n",
            "Requirement already satisfied: certifi>=2017.4.17 in /usr/local/lib/python3.7/dist-packages (from requests->torch-geometric) (2022.9.24)\n",
            "Requirement already satisfied: idna<3,>=2.5 in /usr/local/lib/python3.7/dist-packages (from requests->torch-geometric) (2.10)\n",
            "Requirement already satisfied: joblib>=0.11 in /usr/local/lib/python3.7/dist-packages (from scikit-learn->torch-geometric) (1.2.0)\n",
            "Requirement already satisfied: threadpoolctl>=2.0.0 in /usr/local/lib/python3.7/dist-packages (from scikit-learn->torch-geometric) (3.1.0)\n",
            "Building wheels for collected packages: torch-geometric\n",
            "  Building wheel for torch-geometric (setup.py) ... \u001b[?25l\u001b[?25hdone\n",
            "  Created wheel for torch-geometric: filename=torch_geometric-2.1.0.post1-py3-none-any.whl size=689859 sha256=c2c74e329f78320020f0ebca4b9e307094bda026c5ba93da9c24dec8f73ab016\n",
            "  Stored in directory: /root/.cache/pip/wheels/d1/cb/43/f7f2e472de4d7cff31bceddadc36d634e1e545fbc17961c282\n",
            "Successfully built torch-geometric\n",
            "Installing collected packages: torch-geometric\n",
            "Successfully installed torch-geometric-2.1.0.post1\n"
          ]
        }
      ],
      "source": [
        "import torch\n",
        "\n",
        "!pip install torch-scatter -f https://data.pyg.org/whl/torch-{torch.__version__}.html\n",
        "!pip install torch-sparse -f https://data.pyg.org/whl/torch-{torch.__version__}.html\n",
        "!pip install torch-cluster -f https://data.pyg.org/whl/torch-{torch.__version__}.html\n",
        "\n",
        "!pip install torch-geometric"
      ]
    },
    {
      "cell_type": "code",
      "execution_count": 2,
      "id": "1e3f7f6c",
      "metadata": {
        "execution": {
          "iopub.execute_input": "2022-11-02T22:44:05.210955Z",
          "iopub.status.busy": "2022-11-02T22:44:05.209942Z",
          "iopub.status.idle": "2022-11-02T22:44:08.958312Z",
          "shell.execute_reply": "2022-11-02T22:44:08.957175Z"
        },
        "id": "1e3f7f6c",
        "papermill": {
          "duration": 3.772615,
          "end_time": "2022-11-02T22:44:08.960783",
          "exception": false,
          "start_time": "2022-11-02T22:44:05.188168",
          "status": "completed"
        },
        "tags": []
      },
      "outputs": [],
      "source": [
        "import torch\n",
        "import torch.nn as nn\n",
        "import torch_geometric as tg\n",
        "import networkx as nx"
      ]
    },
    {
      "cell_type": "code",
      "execution_count": 3,
      "id": "78150822",
      "metadata": {
        "execution": {
          "iopub.execute_input": "2022-11-02T22:44:08.997935Z",
          "iopub.status.busy": "2022-11-02T22:44:08.997322Z",
          "iopub.status.idle": "2022-11-02T22:44:23.860843Z",
          "shell.execute_reply": "2022-11-02T22:44:23.858558Z"
        },
        "id": "78150822",
        "papermill": {
          "duration": 14.884373,
          "end_time": "2022-11-02T22:44:23.863169",
          "exception": false,
          "start_time": "2022-11-02T22:44:08.978796",
          "status": "completed"
        },
        "tags": [],
        "colab": {
          "base_uri": "https://localhost:8080/"
        },
        "outputId": "74125f47-b55c-44c3-e3cc-9844fc8f996b"
      },
      "outputs": [
        {
          "output_type": "stream",
          "name": "stderr",
          "text": [
            "Downloading https://www.chrsmrrs.com/graphkerneldatasets/REDDIT-BINARY.zip\n",
            "Extracting /tmp/REDDIT-BINARY/REDDIT-BINARY/REDDIT-BINARY.zip\n",
            "Processing...\n",
            "Done!\n"
          ]
        }
      ],
      "source": [
        "from torch_geometric.datasets import TUDataset\n",
        "\n",
        "dataset = TUDataset(root='/tmp/REDDIT-BINARY', name='REDDIT-BINARY')\n",
        "dataset = dataset[:500]"
      ]
    },
    {
      "cell_type": "code",
      "execution_count": 4,
      "id": "13c5c861",
      "metadata": {
        "execution": {
          "iopub.execute_input": "2022-11-02T22:44:23.901265Z",
          "iopub.status.busy": "2022-11-02T22:44:23.900900Z",
          "iopub.status.idle": "2022-11-02T22:44:23.911451Z",
          "shell.execute_reply": "2022-11-02T22:44:23.910408Z"
        },
        "id": "13c5c861",
        "outputId": "ee82a2d6-4429-4330-a07b-48d8b8a0c7f7",
        "papermill": {
          "duration": 0.031916,
          "end_time": "2022-11-02T22:44:23.913514",
          "exception": false,
          "start_time": "2022-11-02T22:44:23.881598",
          "status": "completed"
        },
        "tags": [],
        "colab": {
          "base_uri": "https://localhost:8080/"
        }
      },
      "outputs": [
        {
          "output_type": "stream",
          "name": "stdout",
          "text": [
            "500\n"
          ]
        },
        {
          "output_type": "execute_result",
          "data": {
            "text/plain": [
              "Data(edge_index=[2, 480], y=[1], num_nodes=218)"
            ]
          },
          "metadata": {},
          "execution_count": 4
        }
      ],
      "source": [
        "print(len(dataset))\n",
        "dataset[0]"
      ]
    },
    {
      "cell_type": "code",
      "execution_count": 5,
      "id": "eb1ece46",
      "metadata": {
        "execution": {
          "iopub.execute_input": "2022-11-02T22:44:23.951539Z",
          "iopub.status.busy": "2022-11-02T22:44:23.950666Z",
          "iopub.status.idle": "2022-11-02T22:44:39.830048Z",
          "shell.execute_reply": "2022-11-02T22:44:39.829025Z"
        },
        "id": "eb1ece46",
        "outputId": "eb276073-74d8-4bca-cf8f-bede150c72fe",
        "papermill": {
          "duration": 15.900672,
          "end_time": "2022-11-02T22:44:39.832278",
          "exception": false,
          "start_time": "2022-11-02T22:44:23.931606",
          "status": "completed"
        },
        "tags": [],
        "colab": {
          "base_uri": "https://localhost:8080/",
          "height": 319
        }
      },
      "outputs": [
        {
          "output_type": "display_data",
          "data": {
            "text/plain": [
              "<Figure size 432x288 with 1 Axes>"
            ],
            "image/png": "[encoded data removed]"
          },
          "metadata": {}
        }
      ],
      "source": [
        "from torch_geometric.utils import to_networkx\n",
        "\n",
        "nx_sample = to_networkx(dataset[8])\n",
        "nx.draw(nx_sample, \n",
        "        alpha=0.7, \n",
        "        node_size=20)"
      ]
    },
    {
      "cell_type": "code",
      "execution_count": 6,
      "id": "5531d5b0",
      "metadata": {
        "execution": {
          "iopub.execute_input": "2022-11-02T22:44:39.872258Z",
          "iopub.status.busy": "2022-11-02T22:44:39.871250Z",
          "iopub.status.idle": "2022-11-02T22:44:39.878273Z",
          "shell.execute_reply": "2022-11-02T22:44:39.877286Z"
        },
        "id": "5531d5b0",
        "outputId": "20ded797-e941-46ae-f3be-2640854c4165",
        "papermill": {
          "duration": 0.028658,
          "end_time": "2022-11-02T22:44:39.880205",
          "exception": false,
          "start_time": "2022-11-02T22:44:39.851547",
          "status": "completed"
        },
        "tags": [],
        "colab": {
          "base_uri": "https://localhost:8080/"
        }
      },
      "outputs": [
        {
          "output_type": "execute_result",
          "data": {
            "text/plain": [
              "Data(edge_index=[2, 480], y=[1], num_nodes=218)"
            ]
          },
          "metadata": {},
          "execution_count": 6
        }
      ],
      "source": [
        "dataset[0]"
      ]
    },
    {
      "cell_type": "code",
      "execution_count": 7,
      "id": "549d62a2",
      "metadata": {
        "execution": {
          "iopub.execute_input": "2022-11-02T22:44:39.919502Z",
          "iopub.status.busy": "2022-11-02T22:44:39.918736Z",
          "iopub.status.idle": "2022-11-02T22:44:39.924774Z",
          "shell.execute_reply": "2022-11-02T22:44:39.923798Z"
        },
        "id": "549d62a2",
        "outputId": "09717fc8-d99b-4f27-9568-630ddfca3e4d",
        "papermill": {
          "duration": 0.027565,
          "end_time": "2022-11-02T22:44:39.926676",
          "exception": false,
          "start_time": "2022-11-02T22:44:39.899111",
          "status": "completed"
        },
        "tags": [],
        "colab": {
          "base_uri": "https://localhost:8080/"
        }
      },
      "outputs": [
        {
          "output_type": "execute_result",
          "data": {
            "text/plain": [
              "480"
            ]
          },
          "metadata": {},
          "execution_count": 7
        }
      ],
      "source": [
        "dataset[0].edge_index.shape[1]"
      ]
    },
    {
      "cell_type": "code",
      "execution_count": 38,
      "id": "d04ca760",
      "metadata": {
        "execution": {
          "iopub.execute_input": "2022-11-02T22:44:39.966264Z",
          "iopub.status.busy": "2022-11-02T22:44:39.965404Z",
          "iopub.status.idle": "2022-11-02T22:44:39.975178Z",
          "shell.execute_reply": "2022-11-02T22:44:39.974149Z"
        },
        "id": "d04ca760",
        "outputId": "258ee96d-f02d-46ce-b30c-456e03bfffbf",
        "papermill": {
          "duration": 0.031767,
          "end_time": "2022-11-02T22:44:39.977195",
          "exception": false,
          "start_time": "2022-11-02T22:44:39.945428",
          "status": "completed"
        },
        "tags": [],
        "colab": {
          "base_uri": "https://localhost:8080/"
        }
      },
      "outputs": [
        {
          "output_type": "execute_result",
          "data": {
            "text/plain": [
              "(Data(edge_index=[2, 422], num_nodes=218),\n",
              " Data(edge_index=[2, 58], num_nodes=218))"
            ]
          },
          "metadata": {},
          "execution_count": 38
        }
      ],
      "source": [
        "from torch_geometric.data import Data\n",
        "import numpy as np\n",
        "\n",
        "def create_train_test_split(sample, p=0.07):\n",
        "    train_edge_index = sample.edge_index\n",
        "    edge_mask = np.random.choice([True, False], train_edge_index.shape[1], p=[1-p, p])\n",
        "    edges_set = set()\n",
        "    for i in range(train_edge_index.shape[1]):\n",
        "        if not edge_mask[i]:\n",
        "            edges_set.add((train_edge_index[0][i].item(), train_edge_index[1][i].item()))\n",
        "            edges_set.add((train_edge_index[1][i].item(), train_edge_index[0][i].item()))\n",
        "    for i in range(train_edge_index.shape[1]):\n",
        "        if (train_edge_index[0][i].item(), train_edge_index[1][i].item()) in edges_set:\n",
        "            edge_mask[i] = False\n",
        "    train_edge_index = sample.edge_index[:, edge_mask]\n",
        "    test_edge_index = sample.edge_index[:, ~edge_mask]\n",
        "    return Data(edge_index=train_edge_index, num_nodes=sample.num_nodes), Data(edge_index=test_edge_index, num_nodes=sample.num_nodes)\n",
        "\n",
        "create_train_test_split(dataset[0])"
      ]
    },
    {
      "cell_type": "code",
      "execution_count": 39,
      "id": "a517d035",
      "metadata": {
        "execution": {
          "iopub.execute_input": "2022-11-02T22:44:40.017579Z",
          "iopub.status.busy": "2022-11-02T22:44:40.016800Z",
          "iopub.status.idle": "2022-11-02T22:44:40.161552Z",
          "shell.execute_reply": "2022-11-02T22:44:40.160628Z"
        },
        "id": "a517d035",
        "papermill": {
          "duration": 0.166751,
          "end_time": "2022-11-02T22:44:40.163772",
          "exception": false,
          "start_time": "2022-11-02T22:44:39.997021",
          "status": "completed"
        },
        "tags": []
      },
      "outputs": [],
      "source": [
        "train_data = []\n",
        "test_data = []\n",
        "for i in range(len(dataset)):\n",
        "    cur_train, cur_test = create_train_test_split(dataset[i])\n",
        "    train_data.append(cur_train)\n",
        "    test_data.append(cur_test)"
      ]
    },
    {
      "cell_type": "code",
      "execution_count": 40,
      "id": "9067c3ad",
      "metadata": {
        "execution": {
          "iopub.execute_input": "2022-11-02T22:44:40.204980Z",
          "iopub.status.busy": "2022-11-02T22:44:40.204711Z",
          "iopub.status.idle": "2022-11-02T22:44:40.211819Z",
          "shell.execute_reply": "2022-11-02T22:44:40.210775Z"
        },
        "id": "9067c3ad",
        "papermill": {
          "duration": 0.029678,
          "end_time": "2022-11-02T22:44:40.213870",
          "exception": false,
          "start_time": "2022-11-02T22:44:40.184192",
          "status": "completed"
        },
        "tags": []
      },
      "outputs": [],
      "source": [
        "def apk(pred, target, k):\n",
        "    if len(pred) >= k:\n",
        "        pred = pred[:k]\n",
        "\n",
        "    ans, cnt = 0, 0\n",
        "    tot = min(len(target), k) \n",
        "    s = set()\n",
        "    for i in range(len(pred)):\n",
        "        if pred[i] in target and pred[i] not in s:\n",
        "            cnt += 1\n",
        "            ans += cnt / (i + 1)\n",
        "            s.add(pred[i])\n",
        "    return ans / tot\n",
        "\n",
        "\n",
        "def mapk(pred, target, k):\n",
        "    assert len(pred) == len(target)\n",
        "    sum_metric = 0\n",
        "    for cur_pred, cur_target in zip(pred, target):\n",
        "        sum_metric += apk(cur_pred, cur_target, k)\n",
        "    return sum_metric / len(pred) "
      ]
    },
    {
      "cell_type": "markdown",
      "id": "981eda0d",
      "metadata": {
        "id": "981eda0d",
        "papermill": {
          "duration": 0.019228,
          "end_time": "2022-11-02T22:44:40.252155",
          "exception": false,
          "start_time": "2022-11-02T22:44:40.232927",
          "status": "completed"
        },
        "tags": []
      },
      "source": [
        "## 1. Node2Vec"
      ]
    },
    {
      "cell_type": "code",
      "execution_count": 42,
      "id": "68412918",
      "metadata": {
        "execution": {
          "iopub.execute_input": "2022-11-02T22:44:40.292597Z",
          "iopub.status.busy": "2022-11-02T22:44:40.291759Z",
          "iopub.status.idle": "2022-11-02T22:44:40.298263Z",
          "shell.execute_reply": "2022-11-02T22:44:40.297335Z"
        },
        "id": "68412918",
        "outputId": "46ed3c3a-3433-43c9-9a7e-039432c5d72a",
        "papermill": {
          "duration": 0.028529,
          "end_time": "2022-11-02T22:44:40.300179",
          "exception": false,
          "start_time": "2022-11-02T22:44:40.271650",
          "status": "completed"
        },
        "tags": [],
        "colab": {
          "base_uri": "https://localhost:8080/"
        }
      },
      "outputs": [
        {
          "output_type": "execute_result",
          "data": {
            "text/plain": [
              "device(type='cuda', index=0)"
            ]
          },
          "metadata": {},
          "execution_count": 42
        }
      ],
      "source": [
        "device = torch.device('cuda:0' if torch.cuda.is_available() else 'cpu')\n",
        "device"
      ]
    },
    {
      "cell_type": "code",
      "execution_count": 43,
      "id": "95f3aff8",
      "metadata": {
        "execution": {
          "iopub.execute_input": "2022-11-02T22:44:40.340278Z",
          "iopub.status.busy": "2022-11-02T22:44:40.339450Z",
          "iopub.status.idle": "2022-11-02T23:06:33.215593Z",
          "shell.execute_reply": "2022-11-02T23:06:33.214459Z"
        },
        "id": "95f3aff8",
        "outputId": "c2d1b14c-e04f-4818-99ad-567836f2317a",
        "papermill": {
          "duration": 1312.898448,
          "end_time": "2022-11-02T23:06:33.217989",
          "exception": false,
          "start_time": "2022-11-02T22:44:40.319541",
          "status": "completed"
        },
        "tags": [],
        "colab": {
          "base_uri": "https://localhost:8080/",
          "height": 49,
          "referenced_widgets": [
            "6f3f8b40a24846c897a43a66636a1191",
            "8adbb8edd30a4c9084b01651f35a90c4",
            "1303d9adaa1848f98c12dcdefcc7a1c5",
            "01be3f2e4ff34553a2428a37f992fcb9",
            "e0e7f1b1ea434af9ac1e129fb724a458",
            "d23560e275ca41f784cebe0d0a904fb2",
            "423d0bbf6ab1440bbbacf8bf7236bd6d",
            "e94bd44d343e4d84b9b59346f9c63879",
            "4a4f5eec659d40eab2fac6f3fcbceb9e",
            "f8b5e56ff6e74c729084440642acfa36",
            "3633392b77a9478ca142b5eef58a710b"
          ]
        }
      },
      "outputs": [
        {
          "output_type": "display_data",
          "data": {
            "text/plain": [
              "  0%|          | 0/500 [00:00<?, ?it/s]"
            ],
            "application/vnd.jupyter.widget-view+json": {
              "version_major": 2,
              "version_minor": 0,
              "model_id": "6f3f8b40a24846c897a43a66636a1191"
            }
          },
          "metadata": {}
        }
      ],
      "source": [
        "from torch_geometric.nn import Node2Vec\n",
        "from tqdm.auto import trange\n",
        "\n",
        "\n",
        "predictions = []\n",
        "EPOCHS = 40\n",
        "K = 100\n",
        "\n",
        "for i in trange(len(train_data)):\n",
        "    data = train_data[i]\n",
        "    model = Node2Vec(data.edge_index, embedding_dim=32, walk_length=10,\n",
        "              context_size=10, walks_per_node=10).to(device)\n",
        "    loader = model.loader(batch_size=32, shuffle=True)\n",
        "    optimizer = torch.optim.Adam(model.parameters(), lr=1e-2)\n",
        "    model.train()\n",
        "    for j in range(EPOCHS):\n",
        "        total_loss = 0\n",
        "        for pos_rw, neg_rw in loader:\n",
        "            optimizer.zero_grad()\n",
        "            loss = model.loss(pos_rw.to(device), neg_rw.to(device))\n",
        "            loss.backward()\n",
        "            optimizer.step()\n",
        "            total_loss += loss.item()\n",
        "    \n",
        "    existing_edges = set()\n",
        "    for j in range(data.edge_index.shape[1]):\n",
        "        existing_edges.add((data.edge_index[0][j].item(), data.edge_index[1][j].item()))\n",
        "        existing_edges.add((data.edge_index[1][j].item(), data.edge_index[0][j].item()))\n",
        "\n",
        "    results = []\n",
        "    embeddings = model.embedding.weight.cpu().detach().numpy()\n",
        "    for p0 in range(embeddings.shape[0]):\n",
        "        l0 = sum(embeddings[p0] * embeddings[p0])\n",
        "        for p1 in range(p0 + 1, embeddings.shape[0]):\n",
        "            if (p0, p1) in existing_edges:\n",
        "                continue\n",
        "            l1 = sum(embeddings[p1] * embeddings[p1])\n",
        "            score = sum(embeddings[p0] * embeddings[p1]) / (l0 * l1)\n",
        "            results.append((score, p0, p1))\n",
        "    results = sorted(results)[::-1][:K]\n",
        "    results = [(cur[1], cur[2]) for cur in results]\n",
        "    predictions.append(results)\n",
        "    \n"
      ]
    },
    {
      "cell_type": "code",
      "execution_count": 44,
      "id": "8a513d6c",
      "metadata": {
        "execution": {
          "iopub.execute_input": "2022-11-02T23:06:33.259313Z",
          "iopub.status.busy": "2022-11-02T23:06:33.258430Z",
          "iopub.status.idle": "2022-11-02T23:06:33.628129Z",
          "shell.execute_reply": "2022-11-02T23:06:33.627040Z"
        },
        "id": "8a513d6c",
        "outputId": "78d0fa41-332d-4765-c36b-f71f029edcf0",
        "papermill": {
          "duration": 0.392363,
          "end_time": "2022-11-02T23:06:33.630397",
          "exception": false,
          "start_time": "2022-11-02T23:06:33.238034",
          "status": "completed"
        },
        "tags": [],
        "colab": {
          "base_uri": "https://localhost:8080/"
        }
      },
      "outputs": [
        {
          "output_type": "execute_result",
          "data": {
            "text/plain": [
              "5.0551098452926256e-05"
            ]
          },
          "metadata": {},
          "execution_count": 44
        }
      ],
      "source": [
        "test_arr = []\n",
        "for i in range(len(test_data)):\n",
        "    cur_edges = []\n",
        "    for j in range(test_data[i].edge_index.shape[1]):\n",
        "        v0 = test_data[i].edge_index[0][j].item()\n",
        "        v1 = test_data[i].edge_index[1][j].item()\n",
        "        cur_edges.append((min(v0, v1), max(v0, v1)))\n",
        "    test_arr.append(cur_edges)\n",
        "mapk(predictions, test_arr, K)"
      ]
    },
    {
      "cell_type": "markdown",
      "id": "fa8e5cba",
      "metadata": {
        "id": "fa8e5cba",
        "papermill": {
          "duration": 0.019419,
          "end_time": "2022-11-02T23:06:33.669341",
          "exception": false,
          "start_time": "2022-11-02T23:06:33.649922",
          "status": "completed"
        },
        "tags": []
      },
      "source": [
        "## 2. GNN + BCE"
      ]
    },
    {
      "cell_type": "code",
      "execution_count": 45,
      "id": "f24f64a2",
      "metadata": {
        "execution": {
          "iopub.execute_input": "2022-11-02T23:06:33.709495Z",
          "iopub.status.busy": "2022-11-02T23:06:33.709205Z",
          "iopub.status.idle": "2022-11-02T23:06:33.724787Z",
          "shell.execute_reply": "2022-11-02T23:06:33.723952Z"
        },
        "id": "f24f64a2",
        "papermill": {
          "duration": 0.037679,
          "end_time": "2022-11-02T23:06:33.726794",
          "exception": false,
          "start_time": "2022-11-02T23:06:33.689115",
          "status": "completed"
        },
        "tags": []
      },
      "outputs": [],
      "source": [
        "import random\n",
        "from copy import deepcopy\n",
        "\n",
        "class GraphCollector:\n",
        "    def __init__(self, train_graphs):\n",
        "        self.train_arr = deepcopy(train_graphs)\n",
        "        self.pos2id = dict()\n",
        "        self.id2pos = dict()\n",
        "\n",
        "        cur_v = 0\n",
        "        self.starts = []\n",
        "        for i in range(len(self.train_arr)):\n",
        "            self.starts.append(cur_v)\n",
        "            for j in range(self.train_arr[i].edge_index.shape[1]):\n",
        "                self.train_arr[i].edge_index[0][j] += cur_v\n",
        "                self.train_arr[i].edge_index[1][j] += cur_v\n",
        "\n",
        "            for j in range(self.train_arr[i].num_nodes):\n",
        "                self.pos2id[(i, j)] = cur_v\n",
        "                self.id2pos[cur_v] = (i, j)\n",
        "                cur_v += 1\n",
        "            \n",
        "        self.N = cur_v\n",
        "        self.all_edges = []\n",
        "        for i in range(len(self.train_arr)):\n",
        "            for num_edge in range(self.train_arr[i].edge_index.shape[1]):\n",
        "                v0 = self.train_arr[i].edge_index[0][num_edge].item()\n",
        "                v1 = self.train_arr[i].edge_index[1][num_edge].item()\n",
        "                self.all_edges.append((min(v0, v1), max(v0, v1)))\n",
        "\n",
        "        self.set_edges = set(self.all_edges)\n",
        "        self.all_edges = torch.tensor(self.all_edges).permute(1, 0).to(device)\n",
        "        self.all_vertexes = torch.arange(0, self.N).to(device)\n",
        "\n",
        "    def generate_samples(self, batch_size, p_positive):\n",
        "        id_graph = random.randint(0, len(self.train_arr) - 1)\n",
        "        all_graph = torch.arange(self.starts[id_graph], self.starts[id_graph] + self.train_arr[id_graph].num_nodes) \n",
        "        \n",
        "        part0, part1, labels = [], [], []\n",
        "        for k in range(batch_size):\n",
        "            if random.random() < p_positive:\n",
        "                id_edge = random.randint(0, self.train_arr[id_graph].edge_index.shape[1] - 1)\n",
        "                v0 = self.train_arr[id_graph].edge_index[0][id_edge].item()\n",
        "                v1 = self.train_arr[id_graph].edge_index[1][id_edge].item()\n",
        "                part0.append(v0)\n",
        "                part1.append(v1)\n",
        "                labels.append(1)\n",
        "            else:\n",
        "                v0, v1 = None, None \n",
        "                while True:\n",
        "                    v0 = random.randint(0, self.train_arr[id_graph].num_nodes - 1)\n",
        "                    v1 = random.randint(0, self.train_arr[id_graph].num_nodes - 1)\n",
        "                    if v0 == v1 or (min(v0, v1), max(v0, v1)) in self.set_edges:\n",
        "                        continue\n",
        "                    break\n",
        "                part0.append(v0 + self.starts[id_graph])\n",
        "                part1.append(v1 + self.starts[id_graph])\n",
        "                labels.append(0)\n",
        "        return np.array(part0), np.array(part1), torch.tensor(labels).to(device)\n"
      ]
    },
    {
      "cell_type": "code",
      "execution_count": 46,
      "id": "65cc017f",
      "metadata": {
        "execution": {
          "iopub.execute_input": "2022-11-02T23:06:33.766742Z",
          "iopub.status.busy": "2022-11-02T23:06:33.765895Z",
          "iopub.status.idle": "2022-11-02T23:06:46.375370Z",
          "shell.execute_reply": "2022-11-02T23:06:46.374146Z"
        },
        "id": "65cc017f",
        "outputId": "a79d531e-cfb2-48b7-df93-4680a14edb11",
        "papermill": {
          "duration": 12.631878,
          "end_time": "2022-11-02T23:06:46.377823",
          "exception": false,
          "start_time": "2022-11-02T23:06:33.745945",
          "status": "completed"
        },
        "tags": [],
        "colab": {
          "base_uri": "https://localhost:8080/"
        }
      },
      "outputs": [
        {
          "output_type": "execute_result",
          "data": {
            "text/plain": [
              "(array([116589, 117499, 116821, 116569, 116589, 116959, 116543, 116948,\n",
              "        117467, 116653, 116589, 117275, 116943, 117388, 117393, 116884,\n",
              "        116766, 117506, 117313, 116804, 116589, 116846, 116589, 116799]),\n",
              " array([116816, 116656, 116589, 117245, 117405, 116600, 116589, 116990,\n",
              "        117368, 116899, 116823, 116704, 117472, 116834, 116731, 117365,\n",
              "        116578, 116810, 116606, 116589, 116548, 117293, 117481, 117502]),\n",
              " tensor([1, 0, 1, 1, 1, 0, 1, 0, 0, 1, 1, 1, 0, 1, 1, 0, 0, 0, 0, 1, 1, 1, 1, 0],\n",
              "        device='cuda:0'))"
            ]
          },
          "metadata": {},
          "execution_count": 46
        }
      ],
      "source": [
        "graphs = GraphCollector(train_data)\n",
        "graphs.generate_samples(24, 0.5)"
      ]
    },
    {
      "cell_type": "code",
      "execution_count": 47,
      "id": "1fa30a2b",
      "metadata": {
        "execution": {
          "iopub.execute_input": "2022-11-02T23:06:46.419887Z",
          "iopub.status.busy": "2022-11-02T23:06:46.419598Z",
          "iopub.status.idle": "2022-11-02T23:06:46.427471Z",
          "shell.execute_reply": "2022-11-02T23:06:46.426498Z"
        },
        "id": "1fa30a2b",
        "papermill": {
          "duration": 0.030376,
          "end_time": "2022-11-02T23:06:46.429380",
          "exception": false,
          "start_time": "2022-11-02T23:06:46.399004",
          "status": "completed"
        },
        "tags": []
      },
      "outputs": [],
      "source": [
        "class GNN(nn.Module):\n",
        "    def __init__(self, \n",
        "                 num_vertexes, \n",
        "                 embedding_size, \n",
        "                 hidden_size, \n",
        "                 hidden_layers):\n",
        "        super().__init__()\n",
        "        self.embedding = nn.Embedding(num_vertexes, embedding_size)\n",
        "        self.layers = nn.ModuleList([tg.nn.GCNConv(embedding_size, hidden_size)])\n",
        "        for i in range(hidden_layers):\n",
        "            self.layers.append(tg.nn.GCNConv(hidden_size, hidden_size))\n",
        "        self.relu = nn.ReLU()\n",
        "        self.last = nn.Sequential(\n",
        "            nn.Linear(2 * hidden_size, 1),\n",
        "            nn.Sigmoid()\n",
        "        )\n",
        "\n",
        "    def forward(self, vertexes, edges, first_part, second_part):\n",
        "        hidden = self.embedding(vertexes)\n",
        "        for i in range(len(self.layers)):\n",
        "            hidden = self.layers[i](hidden, edges)\n",
        "            hidden = self.relu(hidden)\n",
        "        fst = hidden[first_part]\n",
        "        scd = hidden[second_part]\n",
        "        concated = torch.cat((fst, scd), dim=1)\n",
        "        return self.last(concated)\n",
        "\n",
        "        "
      ]
    },
    {
      "cell_type": "code",
      "execution_count": 48,
      "id": "1099eaa9",
      "metadata": {
        "execution": {
          "iopub.execute_input": "2022-11-02T23:06:46.469939Z",
          "iopub.status.busy": "2022-11-02T23:06:46.469015Z",
          "iopub.status.idle": "2022-11-02T23:06:46.637589Z",
          "shell.execute_reply": "2022-11-02T23:06:46.636607Z"
        },
        "id": "1099eaa9",
        "papermill": {
          "duration": 0.191159,
          "end_time": "2022-11-02T23:06:46.639966",
          "exception": false,
          "start_time": "2022-11-02T23:06:46.448807",
          "status": "completed"
        },
        "tags": []
      },
      "outputs": [],
      "source": [
        "model = GNN(graphs.N, 64, 128, 4).to(device)\n",
        "optimizer = torch.optim.Adam(model.parameters(), lr = 1e-3)\n",
        "criterion = nn.BCELoss()"
      ]
    },
    {
      "cell_type": "code",
      "execution_count": 49,
      "id": "5bb8bd3f",
      "metadata": {
        "execution": {
          "iopub.execute_input": "2022-11-02T23:06:46.682529Z",
          "iopub.status.busy": "2022-11-02T23:06:46.682081Z",
          "iopub.status.idle": "2022-11-03T00:57:21.997134Z",
          "shell.execute_reply": "2022-11-03T00:57:21.996142Z"
        },
        "id": "5bb8bd3f",
        "outputId": "d5833708-e489-46a4-f517-93077150b5e3",
        "papermill": {
          "duration": 6635.338467,
          "end_time": "2022-11-03T00:57:21.999311",
          "exception": false,
          "start_time": "2022-11-02T23:06:46.660844",
          "status": "completed"
        },
        "tags": [],
        "colab": {
          "base_uri": "https://localhost:8080/",
          "height": 49,
          "referenced_widgets": [
            "4acc783906be4d3983fcb8571c4b9506",
            "d353ed93fa734de5a38ce55207f1d672",
            "ec7dca0d7e284a7d8f3ed4a18af6369b",
            "2a36a675090141dea844477abc5451ba",
            "2419407514d44c8c9bcd989226647116",
            "ff7691c5f3be428399dea4789186a395",
            "db7d9b5d3387456994b6ce5d99a4a19e",
            "9107c3246a2d4b58a42242e5e1a0a496",
            "a656b968adc640c09c9695f86b7f77b3",
            "96a073f3ae8f4f229874e0bee6c2f8e5",
            "6705ff5b5b1743f782d4965d78591759"
          ]
        }
      },
      "outputs": [
        {
          "output_type": "display_data",
          "data": {
            "text/plain": [
              "  0%|          | 0/10000 [00:00<?, ?it/s]"
            ],
            "application/vnd.jupyter.widget-view+json": {
              "version_major": 2,
              "version_minor": 0,
              "model_id": "4acc783906be4d3983fcb8571c4b9506"
            }
          },
          "metadata": {}
        }
      ],
      "source": [
        "from tqdm.auto import trange\n",
        "\n",
        "iterations = 10000\n",
        "batch_size = 64\n",
        "p_positive = 0.5\n",
        "\n",
        "pbar = trange(iterations)\n",
        "for _ in pbar:\n",
        "    optimizer.zero_grad()\n",
        "    first_part, second_part, target = graphs.generate_samples(batch_size, p_positive)\n",
        "    output = model(graphs.all_vertexes, graphs.all_edges, first_part, second_part).squeeze(1)\n",
        "    loss = criterion(output, target + 0.0)\n",
        "    loss.backward()\n",
        "    pbar.set_description(str(loss.item()))\n",
        "    optimizer.step()"
      ]
    },
    {
      "cell_type": "code",
      "execution_count": 50,
      "id": "7eee2a68",
      "metadata": {
        "execution": {
          "iopub.execute_input": "2022-11-03T00:57:22.040730Z",
          "iopub.status.busy": "2022-11-03T00:57:22.040416Z",
          "iopub.status.idle": "2022-11-03T01:00:24.307751Z",
          "shell.execute_reply": "2022-11-03T01:00:24.306742Z"
        },
        "id": "7eee2a68",
        "outputId": "90cdabeb-96be-4236-93a6-31beda061042",
        "papermill": {
          "duration": 182.290088,
          "end_time": "2022-11-03T01:00:24.309793",
          "exception": false,
          "start_time": "2022-11-03T00:57:22.019705",
          "status": "completed"
        },
        "tags": [],
        "colab": {
          "base_uri": "https://localhost:8080/",
          "height": 49,
          "referenced_widgets": [
            "93a85145ca7b45b79f33c1727161aad1",
            "bc6561306432421ba4ffde3c34476f18",
            "c8dc21b1d7e54f968636d9a1bd1bbe12",
            "af4b254ee1ef4d38bc6c11ebfde8b3f1",
            "183148de12744278bd9307d9db46d31d",
            "11e678e6ad8c4f3dbb1d0b0fde772e50",
            "617b787ac5cd472cac56a63cc8cc0d27",
            "a961daaea0fb4343af4df589481cca0c",
            "96144d7e43364c5da465d675f95d8962",
            "3ae824e09c1b4ed8b89f9d5884176429",
            "0e6fdba1e38143a1879f6e34adf353c9"
          ]
        }
      },
      "outputs": [
        {
          "output_type": "display_data",
          "data": {
            "text/plain": [
              "  0%|          | 0/500 [00:00<?, ?it/s]"
            ],
            "application/vnd.jupyter.widget-view+json": {
              "version_major": 2,
              "version_minor": 0,
              "model_id": "93a85145ca7b45b79f33c1727161aad1"
            }
          },
          "metadata": {}
        }
      ],
      "source": [
        "from torch_geometric.nn import Node2Vec\n",
        "from tqdm.auto import trange\n",
        "\n",
        "\n",
        "predictions = []\n",
        "K = 100\n",
        "\n",
        "for i in trange(len(train_data)):\n",
        "    data = train_data[i]\n",
        "    \n",
        "    existing_edges = set()\n",
        "    for j in range(data.edge_index.shape[1]):\n",
        "        existing_edges.add((data.edge_index[0][j].item(), data.edge_index[1][j].item()))\n",
        "        existing_edges.add((data.edge_index[1][j].item(), data.edge_index[0][j].item()))\n",
        "\n",
        "    results = []\n",
        "    first_part = []\n",
        "    second_part = []\n",
        "    pairs = []\n",
        "    for p0 in range(data.num_nodes):\n",
        "        for p1 in range(p0 + 1, data.num_nodes):\n",
        "            if (p0, p1) in existing_edges:\n",
        "                continue\n",
        "            v0 = p0 + graphs.starts[i]\n",
        "            v1 = p1 + graphs.starts[i]\n",
        "            first_part.append(v0)\n",
        "            second_part.append(v1)\n",
        "            pairs.append((p0, p1))\n",
        "    scores = model(graphs.all_vertexes, \n",
        "                   graphs.all_edges,\n",
        "                   torch.tensor(first_part).to(device), \n",
        "                   torch.tensor(second_part).to(device)).cpu().detach().numpy().reshape(-1)\n",
        "    results = [(scores[i], pairs[i][0], pairs[i][1]) for i in range(len(scores))]\n",
        "    results = sorted(results)[::-1][:K]\n",
        "    results = [(cur[1], cur[2]) for cur in results]\n",
        "    predictions.append(results)"
      ]
    },
    {
      "cell_type": "code",
      "execution_count": 51,
      "id": "9e2a89a1",
      "metadata": {
        "execution": {
          "iopub.execute_input": "2022-11-03T01:00:24.351609Z",
          "iopub.status.busy": "2022-11-03T01:00:24.351312Z",
          "iopub.status.idle": "2022-11-03T01:00:24.735346Z",
          "shell.execute_reply": "2022-11-03T01:00:24.734278Z"
        },
        "id": "9e2a89a1",
        "outputId": "7042a64d-ea46-4918-9105-94e99c963912",
        "papermill": {
          "duration": 0.406979,
          "end_time": "2022-11-03T01:00:24.737385",
          "exception": false,
          "start_time": "2022-11-03T01:00:24.330406",
          "status": "completed"
        },
        "tags": [],
        "colab": {
          "base_uri": "https://localhost:8080/"
        }
      },
      "outputs": [
        {
          "output_type": "execute_result",
          "data": {
            "text/plain": [
              "0.0090071146505755"
            ]
          },
          "metadata": {},
          "execution_count": 51
        }
      ],
      "source": [
        "test_arr = []\n",
        "for i in range(len(test_data)):\n",
        "    cur_edges = []\n",
        "    for j in range(test_data[i].edge_index.shape[1]):\n",
        "        v0 = test_data[i].edge_index[0][j].item()\n",
        "        v1 = test_data[i].edge_index[1][j].item()\n",
        "        cur_edges.append((min(v0, v1), max(v0, v1)))\n",
        "    test_arr.append(cur_edges)\n",
        "mapk(predictions, test_arr, K)"
      ]
    },
    {
      "cell_type": "markdown",
      "id": "c61e2a58",
      "metadata": {
        "id": "c61e2a58",
        "papermill": {
          "duration": 0.019825,
          "end_time": "2022-11-03T01:00:24.778033",
          "exception": false,
          "start_time": "2022-11-03T01:00:24.758208",
          "status": "completed"
        },
        "tags": []
      },
      "source": [
        "## 3. GCN + Focal loss"
      ]
    },
    {
      "cell_type": "code",
      "execution_count": 52,
      "id": "8633411d",
      "metadata": {
        "id": "8633411d",
        "papermill": {
          "duration": 0.019965,
          "end_time": "2022-11-03T01:00:24.817919",
          "exception": false,
          "start_time": "2022-11-03T01:00:24.797954",
          "status": "completed"
        },
        "tags": []
      },
      "outputs": [],
      "source": [
        "class BinFocalLoss(nn.Module):\n",
        "    def __init__(self, gamma):\n",
        "        super().__init__()\n",
        "        self.gamma = gamma\n",
        "    \n",
        "    def forward(self, pred, target):\n",
        "        x1 = -torch.mean(target * torch.log(pred) * ((1 - pred) ** self.gamma))\n",
        "        x2 = -torch.mean(target * torch.log(1 - pred) * ((pred) ** self.gamma))\n",
        "        return x1 + x2"
      ]
    },
    {
      "cell_type": "code",
      "execution_count": 54,
      "id": "c3f7fd33",
      "metadata": {
        "id": "c3f7fd33",
        "papermill": {
          "duration": 0.020194,
          "end_time": "2022-11-03T01:00:24.858880",
          "exception": false,
          "start_time": "2022-11-03T01:00:24.838686",
          "status": "completed"
        },
        "tags": []
      },
      "outputs": [],
      "source": [
        "model = GNN(graphs.N, 64, 128, 4).to(device)\n",
        "optimizer = torch.optim.Adam(model.parameters(), lr = 1e-3)\n",
        "criterion = BinFocalLoss(1)"
      ]
    },
    {
      "cell_type": "code",
      "execution_count": 56,
      "id": "fe12f757",
      "metadata": {
        "papermill": {
          "duration": 0.019734,
          "end_time": "2022-11-03T01:00:24.898670",
          "exception": false,
          "start_time": "2022-11-03T01:00:24.878936",
          "status": "completed"
        },
        "tags": [],
        "colab": {
          "base_uri": "https://localhost:8080/",
          "height": 49,
          "referenced_widgets": [
            "775d19fa7cec4f128700ca68d3ea9fb9",
            "ff86cd848226480d9163a89127414bdf",
            "bb8fffbcf7e344a3bb529f4191af3d51",
            "625971c0a19449f48c006afc9f451030",
            "6392ce4443334d3da14527852df8d54c",
            "5e2d06a6252c45f3ab3a8c67ca290170",
            "de01c9c3ffdb45f5904bc1cc5eab1c90",
            "5d19ddf04d564d0cab4717fae2fa5a09",
            "4106a34dbf2149edbd26a813e09e7802",
            "542f137e082b463eb168387d16156757",
            "47ce091c54714d57af721939a99795d8"
          ]
        },
        "id": "fe12f757",
        "outputId": "b1c1afb8-e44f-463a-bdd8-cdc28313be4a"
      },
      "outputs": [
        {
          "output_type": "display_data",
          "data": {
            "text/plain": [
              "  0%|          | 0/10000 [00:00<?, ?it/s]"
            ],
            "application/vnd.jupyter.widget-view+json": {
              "version_major": 2,
              "version_minor": 0,
              "model_id": "775d19fa7cec4f128700ca68d3ea9fb9"
            }
          },
          "metadata": {}
        }
      ],
      "source": [
        "from tqdm.auto import trange\n",
        "\n",
        "iterations = 10000\n",
        "batch_size = 64\n",
        "p_positive = 0.5\n",
        "\n",
        "pbar = trange(iterations)\n",
        "for _ in pbar:\n",
        "    optimizer.zero_grad()\n",
        "    first_part, second_part, target = graphs.generate_samples(batch_size, p_positive)\n",
        "    output = model(graphs.all_vertexes, graphs.all_edges, first_part, second_part).squeeze(1)\n",
        "    loss = criterion(output, target + 0.0)\n",
        "    loss.backward()\n",
        "    pbar.set_description(str(loss.item()))\n",
        "    optimizer.step()"
      ]
    },
    {
      "cell_type": "code",
      "execution_count": 57,
      "id": "8c130bad",
      "metadata": {
        "id": "8c130bad",
        "outputId": "1e944a4e-0ba9-4236-ef47-2e0e6700ece0",
        "papermill": {
          "duration": 0.019667,
          "end_time": "2022-11-03T01:00:24.938241",
          "exception": false,
          "start_time": "2022-11-03T01:00:24.918574",
          "status": "completed"
        },
        "tags": [],
        "colab": {
          "base_uri": "https://localhost:8080/",
          "height": 49,
          "referenced_widgets": [
            "9822c5b9e4d446e58475d1c3777ad8ca",
            "c6ad054b79134d3b849d642f65fbbabf",
            "64b8b5ebd2874bf195e363bc408ad302",
            "5287c0c6f4124bf5b657584cc8041714",
            "9071858480da4646b8ea1544fbe6cb7a",
            "cc4d58d2fe424279aedce7017c31e2d5",
            "cf960540f27f4f759999a55d1255349f",
            "e46f399c5b684fff9495fe6d0c86e810",
            "7d04d775c9f349a48cd1e767c6de178e",
            "75766170f30f4a7c81d0adec77086a2f",
            "3584eb75bc394e30bb072b6287e9537b"
          ]
        }
      },
      "outputs": [
        {
          "output_type": "display_data",
          "data": {
            "text/plain": [
              "  0%|          | 0/500 [00:00<?, ?it/s]"
            ],
            "application/vnd.jupyter.widget-view+json": {
              "version_major": 2,
              "version_minor": 0,
              "model_id": "9822c5b9e4d446e58475d1c3777ad8ca"
            }
          },
          "metadata": {}
        }
      ],
      "source": [
        "from torch_geometric.nn import Node2Vec\n",
        "from tqdm.auto import trange\n",
        "\n",
        "\n",
        "predictions = []\n",
        "K = 100\n",
        "\n",
        "for i in trange(len(train_data)):\n",
        "    data = train_data[i]\n",
        "    \n",
        "    existing_edges = set()\n",
        "    for j in range(data.edge_index.shape[1]):\n",
        "        existing_edges.add((data.edge_index[0][j].item(), data.edge_index[1][j].item()))\n",
        "        existing_edges.add((data.edge_index[1][j].item(), data.edge_index[0][j].item()))\n",
        "\n",
        "    results = []\n",
        "    first_part = []\n",
        "    second_part = []\n",
        "    pairs = []\n",
        "    for p0 in range(data.num_nodes):\n",
        "        for p1 in range(p0 + 1, data.num_nodes):\n",
        "            if (p0, p1) in existing_edges:\n",
        "                continue\n",
        "            v0 = p0 + graphs.starts[i]\n",
        "            v1 = p1 + graphs.starts[i]\n",
        "            first_part.append(v0)\n",
        "            second_part.append(v1)\n",
        "            pairs.append((p0, p1))\n",
        "    scores = model(graphs.all_vertexes, \n",
        "                   graphs.all_edges,\n",
        "                   torch.tensor(first_part).to(device), \n",
        "                   torch.tensor(second_part).to(device)).cpu().detach().numpy().reshape(-1)\n",
        "    results = [(scores[i], pairs[i][0], pairs[i][1]) for i in range(len(scores))]\n",
        "    results = sorted(results)[::-1][:K]\n",
        "    results = [(cur[1], cur[2]) for cur in results]\n",
        "    predictions.append(results)"
      ]
    },
    {
      "cell_type": "code",
      "execution_count": 58,
      "id": "b3d63f78",
      "metadata": {
        "id": "b3d63f78",
        "papermill": {
          "duration": 0.020152,
          "end_time": "2022-11-03T01:00:24.978196",
          "exception": false,
          "start_time": "2022-11-03T01:00:24.958044",
          "status": "completed"
        },
        "tags": [],
        "colab": {
          "base_uri": "https://localhost:8080/"
        },
        "outputId": "3818cb69-c5c8-4af2-86fb-ef3168346f47"
      },
      "outputs": [
        {
          "output_type": "execute_result",
          "data": {
            "text/plain": [
              "0.00020740376155565485"
            ]
          },
          "metadata": {},
          "execution_count": 58
        }
      ],
      "source": [
        "test_arr = []\n",
        "for i in range(len(test_data)):\n",
        "    cur_edges = []\n",
        "    for j in range(test_data[i].edge_index.shape[1]):\n",
        "        v0 = test_data[i].edge_index[0][j].item()\n",
        "        v1 = test_data[i].edge_index[1][j].item()\n",
        "        cur_edges.append((min(v0, v1), max(v0, v1)))\n",
        "    test_arr.append(cur_edges)\n",
        "mapk(predictions, test_arr, K)"
      ]
    },
    {
      "cell_type": "markdown",
      "id": "ee85e428",
      "metadata": {
        "id": "ee85e428",
        "papermill": {
          "duration": 0.019812,
          "end_time": "2022-11-03T01:00:25.017823",
          "exception": false,
          "start_time": "2022-11-03T01:00:24.998011",
          "status": "completed"
        },
        "tags": []
      },
      "source": [
        "## 4. GCN + BPR"
      ]
    },
    {
      "cell_type": "code",
      "execution_count": 59,
      "id": "dcf8c6da",
      "metadata": {
        "execution": {
          "iopub.execute_input": "2022-11-03T01:00:25.059482Z",
          "iopub.status.busy": "2022-11-03T01:00:25.059135Z",
          "iopub.status.idle": "2022-11-03T01:00:25.066243Z",
          "shell.execute_reply": "2022-11-03T01:00:25.065291Z"
        },
        "id": "dcf8c6da",
        "papermill": {
          "duration": 0.030191,
          "end_time": "2022-11-03T01:00:25.068180",
          "exception": false,
          "start_time": "2022-11-03T01:00:25.037989",
          "status": "completed"
        },
        "tags": []
      },
      "outputs": [],
      "source": [
        "class BPRLoss(nn.Module):\n",
        "    def __init__(self):\n",
        "        super().__init__()\n",
        "        self.sigmoid = nn.Sigmoid()\n",
        "\n",
        "    def forward(self, logits, mask_positive):\n",
        "        positive_scores = logits[mask_positive].reshape(-1, 1)\n",
        "        negative_scores = logits[~mask_positive].reshape(1, -1)\n",
        "        sum_loss = 0\n",
        "        m1 = torch.ones(1, negative_scores.shape[1]).to(device)\n",
        "        m2 = torch.ones(positive_scores.shape[0], 1).to(device)\n",
        "\n",
        "        diff = -torch.log(self.sigmoid((positive_scores @ m1) - (m2 @ negative_scores)))\n",
        "        sum_loss = torch.sum(diff)\n",
        "\n",
        "        sum_loss /= len(positive_scores)\n",
        "        sum_loss /= len(negative_scores)\n",
        "        return sum_loss"
      ]
    },
    {
      "cell_type": "code",
      "execution_count": 60,
      "id": "6d03490e",
      "metadata": {
        "execution": {
          "iopub.execute_input": "2022-11-03T01:00:25.109434Z",
          "iopub.status.busy": "2022-11-03T01:00:25.109175Z",
          "iopub.status.idle": "2022-11-03T01:00:25.122823Z",
          "shell.execute_reply": "2022-11-03T01:00:25.121998Z"
        },
        "id": "6d03490e",
        "papermill": {
          "duration": 0.036465,
          "end_time": "2022-11-03T01:00:25.124699",
          "exception": false,
          "start_time": "2022-11-03T01:00:25.088234",
          "status": "completed"
        },
        "tags": []
      },
      "outputs": [],
      "source": [
        "import random\n",
        "from copy import deepcopy\n",
        "\n",
        "class BPRGraphCollector:\n",
        "    def __init__(self, train_graphs):\n",
        "        self.train_arr = deepcopy(train_graphs)\n",
        "        self.pos2id = dict()\n",
        "        self.id2pos = dict()\n",
        "\n",
        "        cur_v = 0\n",
        "        self.starts = []\n",
        "        for i in range(len(self.train_arr)):\n",
        "            self.starts.append(cur_v)\n",
        "            for j in range(self.train_arr[i].edge_index.shape[1]):\n",
        "                self.train_arr[i].edge_index[0][j] += cur_v\n",
        "                self.train_arr[i].edge_index[1][j] += cur_v\n",
        "\n",
        "            for j in range(self.train_arr[i].num_nodes):\n",
        "                self.pos2id[(i, j)] = cur_v\n",
        "                self.id2pos[cur_v] = (i, j)\n",
        "                cur_v += 1\n",
        "            \n",
        "        self.N = cur_v\n",
        "        self.all_edges = []\n",
        "        for i in range(len(self.train_arr)):\n",
        "            for num_edge in range(self.train_arr[i].edge_index.shape[1]):\n",
        "                v0 = self.train_arr[i].edge_index[0][num_edge].item()\n",
        "                v1 = self.train_arr[i].edge_index[1][num_edge].item()\n",
        "                self.all_edges.append((min(v0, v1), max(v0, v1)))\n",
        "\n",
        "        self.set_edges = set(self.all_edges)\n",
        "        self.all_edges = torch.tensor(self.all_edges).permute(1, 0).to(device)\n",
        "        self.all_vertexes = torch.arange(0, self.N).to(device)\n",
        "\n",
        "    def generate_samples(self):\n",
        "        id_graph = random.randint(0, len(self.train_arr) - 1)\n",
        "        v0 = random.randint(0, self.train_arr[id_graph].num_nodes - 1)\n",
        "        \n",
        "        part0, part1, labels = [], [], []\n",
        "        for v1 in range(0, self.train_arr[id_graph].num_nodes):\n",
        "            p0, p1 = v0 + self.starts[id_graph], v1 + self.starts[id_graph]\n",
        "            if p0 == p1:\n",
        "                continue\n",
        "            part0.append(p0)\n",
        "            part1.append(p1)\n",
        "            labels.append(1 if (min(p0, p1), max(p0, p1)) in self.set_edges else 0)\n",
        "        return np.array(part0), np.array(part1), np.array(labels)\n"
      ]
    },
    {
      "cell_type": "code",
      "execution_count": 61,
      "id": "543ce026",
      "metadata": {
        "execution": {
          "iopub.execute_input": "2022-11-03T01:00:25.165931Z",
          "iopub.status.busy": "2022-11-03T01:00:25.165680Z",
          "iopub.status.idle": "2022-11-03T01:00:25.174135Z",
          "shell.execute_reply": "2022-11-03T01:00:25.173134Z"
        },
        "id": "543ce026",
        "papermill": {
          "duration": 0.031558,
          "end_time": "2022-11-03T01:00:25.176378",
          "exception": false,
          "start_time": "2022-11-03T01:00:25.144820",
          "status": "completed"
        },
        "tags": []
      },
      "outputs": [],
      "source": [
        "class GNNLogits(nn.Module):\n",
        "    def __init__(self, \n",
        "                 num_vertexes, \n",
        "                 embedding_size, \n",
        "                 hidden_size, \n",
        "                 hidden_layers):\n",
        "        super().__init__()\n",
        "        self.embedding = nn.Embedding(num_vertexes, embedding_size)\n",
        "        self.layers = nn.ModuleList([tg.nn.GCNConv(embedding_size, hidden_size)])\n",
        "        for i in range(hidden_layers):\n",
        "            self.layers.append(tg.nn.GCNConv(hidden_size, hidden_size))\n",
        "        self.relu = nn.ReLU()\n",
        "        self.last = nn.Sequential(\n",
        "            nn.Linear(2 * hidden_size, 1),\n",
        "        )\n",
        "\n",
        "    def forward(self, vertexes, edges, first_part, second_part):\n",
        "        hidden = self.embedding(vertexes)\n",
        "        for i in range(len(self.layers)):\n",
        "            hidden = self.layers[i](hidden, edges)\n",
        "            hidden = self.relu(hidden)\n",
        "        fst = hidden[first_part]\n",
        "        scd = hidden[second_part]\n",
        "        concated = torch.cat((fst, scd), dim=1)\n",
        "        return self.last(concated)\n",
        "\n",
        "        "
      ]
    },
    {
      "cell_type": "code",
      "execution_count": 62,
      "id": "961e434c",
      "metadata": {
        "execution": {
          "iopub.execute_input": "2022-11-03T01:00:25.217995Z",
          "iopub.status.busy": "2022-11-03T01:00:25.217743Z",
          "iopub.status.idle": "2022-11-03T01:00:37.617154Z",
          "shell.execute_reply": "2022-11-03T01:00:37.616068Z"
        },
        "id": "961e434c",
        "outputId": "3dc2fa95-a9c9-4b18-e5f7-52989e2261f1",
        "papermill": {
          "duration": 12.422751,
          "end_time": "2022-11-03T01:00:37.619363",
          "exception": false,
          "start_time": "2022-11-03T01:00:25.196612",
          "status": "completed"
        },
        "tags": [],
        "colab": {
          "base_uri": "https://localhost:8080/"
        }
      },
      "outputs": [
        {
          "output_type": "execute_result",
          "data": {
            "text/plain": [
              "(array([128732, 128732, 128732, 128732, 128732, 128732, 128732, 128732,\n",
              "        128732, 128732, 128732, 128732, 128732, 128732, 128732, 128732,\n",
              "        128732, 128732, 128732, 128732, 128732, 128732, 128732, 128732,\n",
              "        128732, 128732, 128732, 128732, 128732, 128732, 128732, 128732,\n",
              "        128732, 128732, 128732, 128732, 128732, 128732, 128732, 128732,\n",
              "        128732, 128732, 128732, 128732, 128732, 128732, 128732, 128732,\n",
              "        128732, 128732, 128732, 128732, 128732, 128732, 128732, 128732,\n",
              "        128732, 128732, 128732, 128732, 128732, 128732, 128732, 128732,\n",
              "        128732, 128732, 128732, 128732, 128732, 128732, 128732, 128732,\n",
              "        128732, 128732, 128732, 128732, 128732, 128732, 128732, 128732,\n",
              "        128732, 128732, 128732, 128732, 128732, 128732, 128732, 128732,\n",
              "        128732, 128732, 128732, 128732, 128732, 128732, 128732, 128732,\n",
              "        128732, 128732, 128732, 128732, 128732, 128732, 128732, 128732,\n",
              "        128732, 128732, 128732, 128732, 128732, 128732, 128732, 128732,\n",
              "        128732, 128732, 128732, 128732, 128732, 128732, 128732, 128732,\n",
              "        128732, 128732, 128732, 128732, 128732, 128732, 128732, 128732,\n",
              "        128732, 128732, 128732, 128732, 128732, 128732, 128732, 128732,\n",
              "        128732, 128732, 128732, 128732, 128732, 128732, 128732, 128732,\n",
              "        128732, 128732, 128732, 128732, 128732, 128732, 128732, 128732,\n",
              "        128732, 128732, 128732, 128732, 128732, 128732, 128732, 128732,\n",
              "        128732, 128732, 128732, 128732, 128732, 128732, 128732, 128732,\n",
              "        128732, 128732, 128732, 128732, 128732, 128732, 128732, 128732,\n",
              "        128732, 128732, 128732, 128732]),\n",
              " array([128622, 128623, 128624, 128625, 128626, 128627, 128628, 128629,\n",
              "        128630, 128631, 128632, 128633, 128634, 128635, 128636, 128637,\n",
              "        128638, 128639, 128640, 128641, 128642, 128643, 128644, 128645,\n",
              "        128646, 128647, 128648, 128649, 128650, 128651, 128652, 128653,\n",
              "        128654, 128655, 128656, 128657, 128658, 128659, 128660, 128661,\n",
              "        128662, 128663, 128664, 128665, 128666, 128667, 128668, 128669,\n",
              "        128670, 128671, 128672, 128673, 128674, 128675, 128676, 128677,\n",
              "        128678, 128679, 128680, 128681, 128682, 128683, 128684, 128685,\n",
              "        128686, 128687, 128688, 128689, 128690, 128691, 128692, 128693,\n",
              "        128694, 128695, 128696, 128697, 128698, 128699, 128700, 128701,\n",
              "        128702, 128703, 128704, 128705, 128706, 128707, 128708, 128709,\n",
              "        128710, 128711, 128712, 128713, 128714, 128715, 128716, 128717,\n",
              "        128718, 128719, 128720, 128721, 128722, 128723, 128724, 128725,\n",
              "        128726, 128727, 128728, 128729, 128730, 128731, 128733, 128734,\n",
              "        128735, 128736, 128737, 128738, 128739, 128740, 128741, 128742,\n",
              "        128743, 128744, 128745, 128746, 128747, 128748, 128749, 128750,\n",
              "        128751, 128752, 128753, 128754, 128755, 128756, 128757, 128758,\n",
              "        128759, 128760, 128761, 128762, 128763, 128764, 128765, 128766,\n",
              "        128767, 128768, 128769, 128770, 128771, 128772, 128773, 128774,\n",
              "        128775, 128776, 128777, 128778, 128779, 128780, 128781, 128782,\n",
              "        128783, 128784, 128785, 128786, 128787, 128788, 128789, 128790,\n",
              "        128791, 128792, 128793, 128794, 128795, 128796, 128797, 128798,\n",
              "        128799, 128800, 128801, 128802]),\n",
              " array([0, 0, 0, 0, 0, 0, 0, 0, 0, 0, 0, 0, 0, 0, 0, 0, 0, 0, 0, 0, 0, 0,\n",
              "        0, 0, 0, 0, 0, 0, 0, 0, 0, 0, 0, 0, 0, 0, 0, 0, 0, 0, 0, 0, 0, 0,\n",
              "        0, 0, 0, 0, 0, 0, 0, 0, 0, 0, 0, 0, 0, 0, 0, 0, 0, 0, 0, 0, 0, 0,\n",
              "        0, 0, 0, 0, 0, 0, 0, 0, 0, 0, 0, 0, 0, 0, 0, 0, 0, 0, 0, 0, 0, 0,\n",
              "        0, 0, 0, 0, 0, 0, 0, 0, 0, 0, 0, 0, 0, 0, 0, 0, 0, 0, 0, 0, 0, 0,\n",
              "        0, 0, 0, 0, 0, 0, 0, 0, 0, 0, 0, 0, 0, 0, 0, 0, 0, 0, 0, 0, 0, 1,\n",
              "        0, 0, 0, 0, 0, 0, 0, 0, 0, 0, 0, 0, 0, 0, 0, 0, 0, 0, 0, 0, 0, 0,\n",
              "        0, 0, 0, 0, 0, 0, 0, 0, 0, 0, 1, 0, 0, 0, 0, 0, 0, 0, 0, 0, 0, 0,\n",
              "        0, 0, 0, 0]))"
            ]
          },
          "metadata": {},
          "execution_count": 62
        }
      ],
      "source": [
        "graphs_bpr = BPRGraphCollector(train_data)\n",
        "graphs_bpr.generate_samples()"
      ]
    },
    {
      "cell_type": "code",
      "execution_count": 63,
      "id": "5f5fd7d6",
      "metadata": {
        "execution": {
          "iopub.execute_input": "2022-11-03T01:00:37.662692Z",
          "iopub.status.busy": "2022-11-03T01:00:37.662407Z",
          "iopub.status.idle": "2022-11-03T01:00:37.783338Z",
          "shell.execute_reply": "2022-11-03T01:00:37.782416Z"
        },
        "id": "5f5fd7d6",
        "papermill": {
          "duration": 0.144776,
          "end_time": "2022-11-03T01:00:37.785539",
          "exception": false,
          "start_time": "2022-11-03T01:00:37.640763",
          "status": "completed"
        },
        "tags": []
      },
      "outputs": [],
      "source": [
        "model = GNNLogits(graphs_bpr.N, 64, 128, 4).to(device)\n",
        "optimizer = torch.optim.Adam(model.parameters(), lr = 1e-3)\n",
        "criterion = BPRLoss()"
      ]
    },
    {
      "cell_type": "code",
      "execution_count": 64,
      "id": "519770e5",
      "metadata": {
        "execution": {
          "iopub.execute_input": "2022-11-03T01:00:37.828063Z",
          "iopub.status.busy": "2022-11-03T01:00:37.827754Z",
          "iopub.status.idle": "2022-11-03T02:50:52.433058Z",
          "shell.execute_reply": "2022-11-03T02:50:52.432040Z"
        },
        "id": "519770e5",
        "outputId": "349a8fd4-cd0a-4345-f1e9-523fd587bc1a",
        "papermill": {
          "duration": 6614.628771,
          "end_time": "2022-11-03T02:50:52.435146",
          "exception": false,
          "start_time": "2022-11-03T01:00:37.806375",
          "status": "completed"
        },
        "tags": [],
        "colab": {
          "base_uri": "https://localhost:8080/",
          "height": 49,
          "referenced_widgets": [
            "f79a7a0a5c3a440cb1bdd82d0e0960db",
            "5e6c48f319194355ade618a25017d90e",
            "419835e038a443bda8770480f8065215",
            "f26f19d0f64e415ba4e3f6e6501e4012",
            "128cfc17040f4eacaae6cf6ebd41338f",
            "9773a0c20a85401b84060ce614436a0c",
            "32a973ac4f7e49d88e4d97997a56f908",
            "795085948fc9422c9f5557aa1f33778c",
            "2fd22b61a7644bd9bb1f9233cc866863",
            "95075d70c53f4eabb3fff210eea19aa9",
            "1f44bee397804490a8f8afff2e254d18"
          ]
        }
      },
      "outputs": [
        {
          "output_type": "display_data",
          "data": {
            "text/plain": [
              "  0%|          | 0/10000 [00:00<?, ?it/s]"
            ],
            "application/vnd.jupyter.widget-view+json": {
              "version_major": 2,
              "version_minor": 0,
              "model_id": "f79a7a0a5c3a440cb1bdd82d0e0960db"
            }
          },
          "metadata": {}
        }
      ],
      "source": [
        "from tqdm.auto import trange\n",
        "\n",
        "iterations = 10000\n",
        "\n",
        "\n",
        "pbar = trange(iterations)\n",
        "for _ in pbar:\n",
        "    optimizer.zero_grad()\n",
        "    first_part, second_part, target = graphs_bpr.generate_samples()\n",
        "    output = model(graphs_bpr.all_vertexes, graphs_bpr.all_edges, first_part, second_part).squeeze(1)\n",
        "    loss = criterion(output, target)\n",
        "    loss.backward()\n",
        "    pbar.set_description(\"train loss:\" + str(loss.item()))\n",
        "    \n",
        "    optimizer.step()\n"
      ]
    },
    {
      "cell_type": "code",
      "execution_count": 65,
      "id": "7b89c44b",
      "metadata": {
        "execution": {
          "iopub.execute_input": "2022-11-03T02:50:52.480057Z",
          "iopub.status.busy": "2022-11-03T02:50:52.479481Z",
          "iopub.status.idle": "2022-11-03T02:53:13.807068Z",
          "shell.execute_reply": "2022-11-03T02:53:13.806015Z"
        },
        "id": "7b89c44b",
        "outputId": "505d63c4-9429-419e-9a77-45dcd84236aa",
        "papermill": {
          "duration": 141.35224,
          "end_time": "2022-11-03T02:53:13.809145",
          "exception": false,
          "start_time": "2022-11-03T02:50:52.456905",
          "status": "completed"
        },
        "tags": [],
        "colab": {
          "base_uri": "https://localhost:8080/",
          "height": 49,
          "referenced_widgets": [
            "24ff2d4001ca47fdbbbf8622522c1af8",
            "461278e4e97a46bdb66a06c0d050829f",
            "924f24e3a72f4daa9cc01ad19e81dbcd",
            "6b6d5d416a1c42448dd31ae7fc3ed9a9",
            "d6ed1851e7e74b7ca740da5de2d37262",
            "8e294b1edd10406c9df255fb394cf91b",
            "c5719c86ede04cafaa41b09abe229419",
            "3a4d68c305c04935b6d7c10f52694522",
            "a9dd225b243045918cef311436660cf7",
            "60c1e6735a404ea7a730cbeee5a03e26",
            "5c7e3c5e53104b0ab62285b2b092b79b"
          ]
        }
      },
      "outputs": [
        {
          "output_type": "display_data",
          "data": {
            "text/plain": [
              "  0%|          | 0/500 [00:00<?, ?it/s]"
            ],
            "application/vnd.jupyter.widget-view+json": {
              "version_major": 2,
              "version_minor": 0,
              "model_id": "24ff2d4001ca47fdbbbf8622522c1af8"
            }
          },
          "metadata": {}
        }
      ],
      "source": [
        "from torch_geometric.nn import Node2Vec\n",
        "from tqdm.auto import trange\n",
        "\n",
        "\n",
        "predictions = []\n",
        "K = 100\n",
        "\n",
        "for i in trange(len(train_data)):\n",
        "    data = train_data[i]\n",
        "    \n",
        "    existing_edges = set()\n",
        "    for j in range(data.edge_index.shape[1]):\n",
        "        existing_edges.add((data.edge_index[0][j].item(), data.edge_index[1][j].item()))\n",
        "        existing_edges.add((data.edge_index[1][j].item(), data.edge_index[0][j].item()))\n",
        "\n",
        "    results = []\n",
        "    first_part = []\n",
        "    second_part = []\n",
        "    pairs = []\n",
        "    for p0 in range(data.num_nodes):\n",
        "        for p1 in range(p0 + 1, data.num_nodes):\n",
        "            if (p0, p1) in existing_edges:\n",
        "                continue\n",
        "            v0 = p0 + graphs_bpr.starts[i]\n",
        "            v1 = p1 + graphs_bpr.starts[i]\n",
        "            first_part.append(v0)\n",
        "            second_part.append(v1)\n",
        "            pairs.append((p0, p1))\n",
        "    scores = model(graphs_bpr.all_vertexes, \n",
        "                   graphs_bpr.all_edges,\n",
        "                   torch.tensor(first_part).to(device), \n",
        "                   torch.tensor(second_part).to(device)).cpu().detach().numpy().reshape(-1)\n",
        "    results = [(scores[i], pairs[i][0], pairs[i][1]) for i in range(len(scores))]\n",
        "    results = sorted(results)[::-1][:K]\n",
        "    results = [(cur[1], cur[2]) for cur in results]\n",
        "    predictions.append(results)"
      ]
    },
    {
      "cell_type": "code",
      "execution_count": 66,
      "id": "44066cc1",
      "metadata": {
        "execution": {
          "iopub.execute_input": "2022-11-03T02:53:13.853527Z",
          "iopub.status.busy": "2022-11-03T02:53:13.852926Z",
          "iopub.status.idle": "2022-11-03T02:53:14.225232Z",
          "shell.execute_reply": "2022-11-03T02:53:14.224276Z"
        },
        "id": "44066cc1",
        "outputId": "a8352059-04f9-4742-d8dd-9a0d2e7b76ea",
        "papermill": {
          "duration": 0.39673,
          "end_time": "2022-11-03T02:53:14.227635",
          "exception": false,
          "start_time": "2022-11-03T02:53:13.830905",
          "status": "completed"
        },
        "tags": [],
        "colab": {
          "base_uri": "https://localhost:8080/"
        }
      },
      "outputs": [
        {
          "output_type": "execute_result",
          "data": {
            "text/plain": [
              "0.02576476279172048"
            ]
          },
          "metadata": {},
          "execution_count": 66
        }
      ],
      "source": [
        "test_arr = []\n",
        "for i in range(len(test_data)):\n",
        "    cur_edges = []\n",
        "    for j in range(test_data[i].edge_index.shape[1]):\n",
        "        v0 = test_data[i].edge_index[0][j].item()\n",
        "        v1 = test_data[i].edge_index[1][j].item()\n",
        "        cur_edges.append((min(v0, v1), max(v0, v1)))\n",
        "    test_arr.append(cur_edges)\n",
        "mapk(predictions, test_arr, K)"
      ]
    },
    {
      "cell_type": "markdown",
      "id": "6d98714a",
      "metadata": {
        "id": "6d98714a",
        "papermill": {
          "duration": 0.021057,
          "end_time": "2022-11-03T02:53:14.270542",
          "exception": false,
          "start_time": "2022-11-03T02:53:14.249485",
          "status": "completed"
        },
        "tags": []
      },
      "source": [
        "## 5. GCN + \"MarginRankingLoss\""
      ]
    },
    {
      "cell_type": "code",
      "execution_count": 67,
      "id": "3e01df5a",
      "metadata": {
        "execution": {
          "iopub.execute_input": "2022-11-03T02:53:14.315127Z",
          "iopub.status.busy": "2022-11-03T02:53:14.313485Z",
          "iopub.status.idle": "2022-11-03T02:53:14.321310Z",
          "shell.execute_reply": "2022-11-03T02:53:14.320454Z"
        },
        "id": "3e01df5a",
        "papermill": {
          "duration": 0.031836,
          "end_time": "2022-11-03T02:53:14.323214",
          "exception": false,
          "start_time": "2022-11-03T02:53:14.291378",
          "status": "completed"
        },
        "tags": []
      },
      "outputs": [],
      "source": [
        "class BinMarginRankingLoss(nn.Module):\n",
        "    def __init__(self):\n",
        "        super().__init__()\n",
        "\n",
        "    def forward(self, logits, mask_positive):\n",
        "        positive_scores = logits[mask_positive].reshape(-1, 1)\n",
        "        negative_scores = logits[~mask_positive].reshape(1, -1)\n",
        "        sum_loss = 0\n",
        "        m1 = torch.ones(1, negative_scores.shape[1]).to(device)\n",
        "        m2 = torch.ones(positive_scores.shape[0], 1).to(device)\n",
        "\n",
        "        diff = torch.maximum(torch.zeros(positive_scores.shape[0], negative_scores.shape[1]).to(device),\n",
        "                             -(positive_scores @ m1) + (m2 @ negative_scores))\n",
        "        sum_loss = torch.sum(diff)\n",
        "\n",
        "        sum_loss /= len(positive_scores)\n",
        "        sum_loss /= len(negative_scores)\n",
        "        return sum_loss"
      ]
    },
    {
      "cell_type": "code",
      "execution_count": 68,
      "id": "3376ea45",
      "metadata": {
        "execution": {
          "iopub.execute_input": "2022-11-03T02:53:14.367488Z",
          "iopub.status.busy": "2022-11-03T02:53:14.366849Z",
          "iopub.status.idle": "2022-11-03T02:53:14.462042Z",
          "shell.execute_reply": "2022-11-03T02:53:14.461217Z"
        },
        "id": "3376ea45",
        "papermill": {
          "duration": 0.119544,
          "end_time": "2022-11-03T02:53:14.464151",
          "exception": false,
          "start_time": "2022-11-03T02:53:14.344607",
          "status": "completed"
        },
        "tags": []
      },
      "outputs": [],
      "source": [
        "model = GNNLogits(graphs_bpr.N, 64, 128, 4).to(device)\n",
        "optimizer = torch.optim.Adam(model.parameters(), lr = 1e-3)\n",
        "criterion = BinMarginRankingLoss()"
      ]
    },
    {
      "cell_type": "code",
      "execution_count": 69,
      "id": "7ad4cf69",
      "metadata": {
        "execution": {
          "iopub.execute_input": "2022-11-03T02:53:14.508529Z",
          "iopub.status.busy": "2022-11-03T02:53:14.507690Z",
          "iopub.status.idle": "2022-11-03T04:15:49.687788Z",
          "shell.execute_reply": "2022-11-03T04:15:49.686806Z"
        },
        "id": "7ad4cf69",
        "outputId": "88300a9e-fdb1-4545-c6c8-04d000820be9",
        "papermill": {
          "duration": 4955.204711,
          "end_time": "2022-11-03T04:15:49.690096",
          "exception": false,
          "start_time": "2022-11-03T02:53:14.485385",
          "status": "completed"
        },
        "tags": [],
        "colab": {
          "base_uri": "https://localhost:8080/",
          "height": 49,
          "referenced_widgets": [
            "3c098616673241669b40da335c1db5b7",
            "597f4e7de7654d9c9e3dd4de3f66bbf2",
            "523baf4743ab46a68fc1adfd0860459b",
            "7700007eadeb413398b21b751fb3f52c",
            "a211764349d5420686bb4b9086a63ad7",
            "3f96f4ab2ff641df825fa53307831935",
            "05cf783a63ea4daaae002b796591a7cb",
            "34b104404b6245309328f34ba529d57d",
            "ce4a7480107a46378deda1885a5925be",
            "84c0204de8a749ed85bd212ea38f18fd",
            "0cde7dca622c452d87c996b68997feed"
          ]
        }
      },
      "outputs": [
        {
          "output_type": "display_data",
          "data": {
            "text/plain": [
              "  0%|          | 0/10000 [00:00<?, ?it/s]"
            ],
            "application/vnd.jupyter.widget-view+json": {
              "version_major": 2,
              "version_minor": 0,
              "model_id": "3c098616673241669b40da335c1db5b7"
            }
          },
          "metadata": {}
        }
      ],
      "source": [
        "from tqdm.auto import trange\n",
        "\n",
        "iterations = 10000\n",
        "\n",
        "\n",
        "pbar = trange(iterations)\n",
        "for _ in pbar:\n",
        "    optimizer.zero_grad()\n",
        "    first_part, second_part, target = graphs_bpr.generate_samples()\n",
        "    if (sum(target) == 0):\n",
        "        continue\n",
        "    output = model(graphs_bpr.all_vertexes, graphs_bpr.all_edges, first_part, second_part)\n",
        "    target = torch.tensor(target).to(device)\n",
        "    loss = criterion(output, target.reshape(-1, 1))\n",
        "    \n",
        "    loss.backward()\n",
        "    pbar.set_description(\"train loss:\" + str(loss.item()))\n",
        "    \n",
        "    optimizer.step()\n"
      ]
    },
    {
      "cell_type": "code",
      "execution_count": 70,
      "id": "4c200f6e",
      "metadata": {
        "execution": {
          "iopub.execute_input": "2022-11-03T04:15:49.736657Z",
          "iopub.status.busy": "2022-11-03T04:15:49.735190Z",
          "iopub.status.idle": "2022-11-03T04:18:56.917692Z",
          "shell.execute_reply": "2022-11-03T04:18:56.916645Z"
        },
        "id": "4c200f6e",
        "outputId": "b311b265-b2ca-410c-f344-a130e545f6df",
        "papermill": {
          "duration": 187.207102,
          "end_time": "2022-11-03T04:18:56.919709",
          "exception": false,
          "start_time": "2022-11-03T04:15:49.712607",
          "status": "completed"
        },
        "tags": [],
        "colab": {
          "base_uri": "https://localhost:8080/",
          "height": 49,
          "referenced_widgets": [
            "67a8989a409f4f91b7d32bd273f11a46",
            "bab2c932eb4846d681f8549227d97db9",
            "97ea2c3fa10f4a0295badc2d45c70ab7",
            "3ab2631f839e4aba94844b8b85593371",
            "b8c6e75478b64b92b9f19d0aa7ca0eab",
            "4b5bc3910fe044c39162cb9be152ad44",
            "aeec3f924eca48c489d85a0316d59803",
            "74f6512ab0e54868996776214b540784",
            "de61eb448ec348b59724124872f875ba",
            "8da65478d7494c1e8650888180169f68",
            "076dd63c326549b9ac1fd26ff07b8e66"
          ]
        }
      },
      "outputs": [
        {
          "output_type": "display_data",
          "data": {
            "text/plain": [
              "  0%|          | 0/500 [00:00<?, ?it/s]"
            ],
            "application/vnd.jupyter.widget-view+json": {
              "version_major": 2,
              "version_minor": 0,
              "model_id": "67a8989a409f4f91b7d32bd273f11a46"
            }
          },
          "metadata": {}
        }
      ],
      "source": [
        "from torch_geometric.nn import Node2Vec\n",
        "from tqdm.auto import trange\n",
        "\n",
        "\n",
        "predictions = []\n",
        "K = 100\n",
        "\n",
        "for i in trange(len(train_data)):\n",
        "    data = train_data[i]\n",
        "    \n",
        "    existing_edges = set()\n",
        "    for j in range(data.edge_index.shape[1]):\n",
        "        existing_edges.add((data.edge_index[0][j].item(), data.edge_index[1][j].item()))\n",
        "        existing_edges.add((data.edge_index[1][j].item(), data.edge_index[0][j].item()))\n",
        "\n",
        "    results = []\n",
        "    first_part = []\n",
        "    second_part = []\n",
        "    pairs = []\n",
        "    for p0 in range(data.num_nodes):\n",
        "        for p1 in range(p0 + 1, data.num_nodes):\n",
        "            if (p0, p1) in existing_edges:\n",
        "                continue\n",
        "            v0 = p0 + graphs_bpr.starts[i]\n",
        "            v1 = p1 + graphs_bpr.starts[i]\n",
        "            first_part.append(v0)\n",
        "            second_part.append(v1)\n",
        "            pairs.append((p0, p1))\n",
        "    scores = model(graphs_bpr.all_vertexes, \n",
        "                   graphs_bpr.all_edges,\n",
        "                   torch.tensor(first_part).to(device), \n",
        "                   torch.tensor(second_part).to(device)).cpu().detach().numpy().reshape(-1)\n",
        "    results = [(scores[i], pairs[i][0], pairs[i][1]) for i in range(len(scores))]\n",
        "    results = sorted(results)[::-1][:K]\n",
        "    results = [(cur[1], cur[2]) for cur in results]\n",
        "    predictions.append(results)"
      ]
    },
    {
      "cell_type": "code",
      "execution_count": 71,
      "id": "10b37a4d",
      "metadata": {
        "execution": {
          "iopub.execute_input": "2022-11-03T04:18:56.965369Z",
          "iopub.status.busy": "2022-11-03T04:18:56.963981Z",
          "iopub.status.idle": "2022-11-03T04:18:57.334722Z",
          "shell.execute_reply": "2022-11-03T04:18:57.333649Z"
        },
        "id": "10b37a4d",
        "papermill": {
          "duration": 0.395354,
          "end_time": "2022-11-03T04:18:57.336956",
          "exception": false,
          "start_time": "2022-11-03T04:18:56.941602",
          "status": "completed"
        },
        "tags": [],
        "colab": {
          "base_uri": "https://localhost:8080/"
        },
        "outputId": "ffec6247-9a6e-483f-8121-c6a39c8774c3"
      },
      "outputs": [
        {
          "output_type": "execute_result",
          "data": {
            "text/plain": [
              "0.00022151056022957357"
            ]
          },
          "metadata": {},
          "execution_count": 71
        }
      ],
      "source": [
        "test_arr = []\n",
        "for i in range(len(test_data)):\n",
        "    cur_edges = []\n",
        "    for j in range(test_data[i].edge_index.shape[1]):\n",
        "        v0 = test_data[i].edge_index[0][j].item()\n",
        "        v1 = test_data[i].edge_index[1][j].item()\n",
        "        cur_edges.append((min(v0, v1), max(v0, v1)))\n",
        "    test_arr.append(cur_edges)\n",
        "mapk(predictions, test_arr, K)"
      ]
    },
    {
      "cell_type": "code",
      "source": [],
      "metadata": {
        "id": "gXYKq8E92NWn"
      },
      "id": "gXYKq8E92NWn",
      "execution_count": null,
      "outputs": []
    }
  ],
  "metadata": {
    "kernelspec": {
      "display_name": "Python 3",
      "language": "python",
      "name": "python3"
    },
    "language_info": {
      "codemirror_mode": {
        "name": "ipython",
        "version": 3
      },
      "file_extension": ".py",
      "mimetype": "text/x-python",
      "name": "python",
      "nbconvert_exporter": "python",
      "pygments_lexer": "ipython3",
      "version": "3.7.12"
    },
    "papermill": {
      "default_parameters": {},
      "duration": 23169.781056,
      "end_time": "2022-11-03T04:18:58.823127",
      "environment_variables": {},
      "exception": null,
      "input_path": "__notebook__.ipynb",
      "output_path": "__notebook__.ipynb",
      "parameters": {},
      "start_time": "2022-11-02T21:52:49.042071",
      "version": "2.3.4"
    },
    "widgets": {
      "application/vnd.jupyter.widget-state+json": {
        "6f3f8b40a24846c897a43a66636a1191": {
          "model_module": "@jupyter-widgets/controls",
          "model_name": "HBoxModel",
          "model_module_version": "1.5.0",
          "state": {
            "_dom_classes": [],
            "_model_module": "@jupyter-widgets/controls",
            "_model_module_version": "1.5.0",
            "_model_name": "HBoxModel",
            "_view_count": null,
            "_view_module": "@jupyter-widgets/controls",
            "_view_module_version": "1.5.0",
            "_view_name": "HBoxView",
            "box_style": "",
            "children": [
              "IPY_MODEL_8adbb8edd30a4c9084b01651f35a90c4",
              "IPY_MODEL_1303d9adaa1848f98c12dcdefcc7a1c5",
              "IPY_MODEL_01be3f2e4ff34553a2428a37f992fcb9"
            ],
            "layout": "IPY_MODEL_e0e7f1b1ea434af9ac1e129fb724a458"
          }
        },
        "8adbb8edd30a4c9084b01651f35a90c4": {
          "model_module": "@jupyter-widgets/controls",
          "model_name": "HTMLModel",
          "model_module_version": "1.5.0",
          "state": {
            "_dom_classes": [],
            "_model_module": "@jupyter-widgets/controls",
            "_model_module_version": "1.5.0",
            "_model_name": "HTMLModel",
            "_view_count": null,
            "_view_module": "@jupyter-widgets/controls",
            "_view_module_version": "1.5.0",
            "_view_name": "HTMLView",
            "description": "",
            "description_tooltip": null,
            "layout": "IPY_MODEL_d23560e275ca41f784cebe0d0a904fb2",
            "placeholder": "​",
            "style": "IPY_MODEL_423d0bbf6ab1440bbbacf8bf7236bd6d",
            "value": "100%"
          }
        },
        "1303d9adaa1848f98c12dcdefcc7a1c5": {
          "model_module": "@jupyter-widgets/controls",
          "model_name": "FloatProgressModel",
          "model_module_version": "1.5.0",
          "state": {
            "_dom_classes": [],
            "_model_module": "@jupyter-widgets/controls",
            "_model_module_version": "1.5.0",
            "_model_name": "FloatProgressModel",
            "_view_count": null,
            "_view_module": "@jupyter-widgets/controls",
            "_view_module_version": "1.5.0",
            "_view_name": "ProgressView",
            "bar_style": "success",
            "description": "",
            "description_tooltip": null,
            "layout": "IPY_MODEL_e94bd44d343e4d84b9b59346f9c63879",
            "max": 500,
            "min": 0,
            "orientation": "horizontal",
            "style": "IPY_MODEL_4a4f5eec659d40eab2fac6f3fcbceb9e",
            "value": 500
          }
        },
        "01be3f2e4ff34553a2428a37f992fcb9": {
          "model_module": "@jupyter-widgets/controls",
          "model_name": "HTMLModel",
          "model_module_version": "1.5.0",
          "state": {
            "_dom_classes": [],
            "_model_module": "@jupyter-widgets/controls",
            "_model_module_version": "1.5.0",
            "_model_name": "HTMLModel",
            "_view_count": null,
            "_view_module": "@jupyter-widgets/controls",
            "_view_module_version": "1.5.0",
            "_view_name": "HTMLView",
            "description": "",
            "description_tooltip": null,
            "layout": "IPY_MODEL_f8b5e56ff6e74c729084440642acfa36",
            "placeholder": "​",
            "style": "IPY_MODEL_3633392b77a9478ca142b5eef58a710b",
            "value": " 500/500 [24:59&lt;00:00,  2.68s/it]"
          }
        },
        "e0e7f1b1ea434af9ac1e129fb724a458": {
          "model_module": "@jupyter-widgets/base",
          "model_name": "LayoutModel",
          "model_module_version": "1.2.0",
          "state": {
            "_model_module": "@jupyter-widgets/base",
            "_model_module_version": "1.2.0",
            "_model_name": "LayoutModel",
            "_view_count": null,
            "_view_module": "@jupyter-widgets/base",
            "_view_module_version": "1.2.0",
            "_view_name": "LayoutView",
            "align_content": null,
            "align_items": null,
            "align_self": null,
            "border": null,
            "bottom": null,
            "display": null,
            "flex": null,
            "flex_flow": null,
            "grid_area": null,
            "grid_auto_columns": null,
            "grid_auto_flow": null,
            "grid_auto_rows": null,
            "grid_column": null,
            "grid_gap": null,
            "grid_row": null,
            "grid_template_areas": null,
            "grid_template_columns": null,
            "grid_template_rows": null,
            "height": null,
            "justify_content": null,
            "justify_items": null,
            "left": null,
            "margin": null,
            "max_height": null,
            "max_width": null,
            "min_height": null,
            "min_width": null,
            "object_fit": null,
            "object_position": null,
            "order": null,
            "overflow": null,
            "overflow_x": null,
            "overflow_y": null,
            "padding": null,
            "right": null,
            "top": null,
            "visibility": null,
            "width": null
          }
        },
        "d23560e275ca41f784cebe0d0a904fb2": {
          "model_module": "@jupyter-widgets/base",
          "model_name": "LayoutModel",
          "model_module_version": "1.2.0",
          "state": {
            "_model_module": "@jupyter-widgets/base",
            "_model_module_version": "1.2.0",
            "_model_name": "LayoutModel",
            "_view_count": null,
            "_view_module": "@jupyter-widgets/base",
            "_view_module_version": "1.2.0",
            "_view_name": "LayoutView",
            "align_content": null,
            "align_items": null,
            "align_self": null,
            "border": null,
            "bottom": null,
            "display": null,
            "flex": null,
            "flex_flow": null,
            "grid_area": null,
            "grid_auto_columns": null,
            "grid_auto_flow": null,
            "grid_auto_rows": null,
            "grid_column": null,
            "grid_gap": null,
            "grid_row": null,
            "grid_template_areas": null,
            "grid_template_columns": null,
            "grid_template_rows": null,
            "height": null,
            "justify_content": null,
            "justify_items": null,
            "left": null,
            "margin": null,
            "max_height": null,
            "max_width": null,
            "min_height": null,
            "min_width": null,
            "object_fit": null,
            "object_position": null,
            "order": null,
            "overflow": null,
            "overflow_x": null,
            "overflow_y": null,
            "padding": null,
            "right": null,
            "top": null,
            "visibility": null,
            "width": null
          }
        },
        "423d0bbf6ab1440bbbacf8bf7236bd6d": {
          "model_module": "@jupyter-widgets/controls",
          "model_name": "DescriptionStyleModel",
          "model_module_version": "1.5.0",
          "state": {
            "_model_module": "@jupyter-widgets/controls",
            "_model_module_version": "1.5.0",
            "_model_name": "DescriptionStyleModel",
            "_view_count": null,
            "_view_module": "@jupyter-widgets/base",
            "_view_module_version": "1.2.0",
            "_view_name": "StyleView",
            "description_width": ""
          }
        },
        "e94bd44d343e4d84b9b59346f9c63879": {
          "model_module": "@jupyter-widgets/base",
          "model_name": "LayoutModel",
          "model_module_version": "1.2.0",
          "state": {
            "_model_module": "@jupyter-widgets/base",
            "_model_module_version": "1.2.0",
            "_model_name": "LayoutModel",
            "_view_count": null,
            "_view_module": "@jupyter-widgets/base",
            "_view_module_version": "1.2.0",
            "_view_name": "LayoutView",
            "align_content": null,
            "align_items": null,
            "align_self": null,
            "border": null,
            "bottom": null,
            "display": null,
            "flex": null,
            "flex_flow": null,
            "grid_area": null,
            "grid_auto_columns": null,
            "grid_auto_flow": null,
            "grid_auto_rows": null,
            "grid_column": null,
            "grid_gap": null,
            "grid_row": null,
            "grid_template_areas": null,
            "grid_template_columns": null,
            "grid_template_rows": null,
            "height": null,
            "justify_content": null,
            "justify_items": null,
            "left": null,
            "margin": null,
            "max_height": null,
            "max_width": null,
            "min_height": null,
            "min_width": null,
            "object_fit": null,
            "object_position": null,
            "order": null,
            "overflow": null,
            "overflow_x": null,
            "overflow_y": null,
            "padding": null,
            "right": null,
            "top": null,
            "visibility": null,
            "width": null
          }
        },
        "4a4f5eec659d40eab2fac6f3fcbceb9e": {
          "model_module": "@jupyter-widgets/controls",
          "model_name": "ProgressStyleModel",
          "model_module_version": "1.5.0",
          "state": {
            "_model_module": "@jupyter-widgets/controls",
            "_model_module_version": "1.5.0",
            "_model_name": "ProgressStyleModel",
            "_view_count": null,
            "_view_module": "@jupyter-widgets/base",
            "_view_module_version": "1.2.0",
            "_view_name": "StyleView",
            "bar_color": null,
            "description_width": ""
          }
        },
        "f8b5e56ff6e74c729084440642acfa36": {
          "model_module": "@jupyter-widgets/base",
          "model_name": "LayoutModel",
          "model_module_version": "1.2.0",
          "state": {
            "_model_module": "@jupyter-widgets/base",
            "_model_module_version": "1.2.0",
            "_model_name": "LayoutModel",
            "_view_count": null,
            "_view_module": "@jupyter-widgets/base",
            "_view_module_version": "1.2.0",
            "_view_name": "LayoutView",
            "align_content": null,
            "align_items": null,
            "align_self": null,
            "border": null,
            "bottom": null,
            "display": null,
            "flex": null,
            "flex_flow": null,
            "grid_area": null,
            "grid_auto_columns": null,
            "grid_auto_flow": null,
            "grid_auto_rows": null,
            "grid_column": null,
            "grid_gap": null,
            "grid_row": null,
            "grid_template_areas": null,
            "grid_template_columns": null,
            "grid_template_rows": null,
            "height": null,
            "justify_content": null,
            "justify_items": null,
            "left": null,
            "margin": null,
            "max_height": null,
            "max_width": null,
            "min_height": null,
            "min_width": null,
            "object_fit": null,
            "object_position": null,
            "order": null,
            "overflow": null,
            "overflow_x": null,
            "overflow_y": null,
            "padding": null,
            "right": null,
            "top": null,
            "visibility": null,
            "width": null
          }
        },
        "3633392b77a9478ca142b5eef58a710b": {
          "model_module": "@jupyter-widgets/controls",
          "model_name": "DescriptionStyleModel",
          "model_module_version": "1.5.0",
          "state": {
            "_model_module": "@jupyter-widgets/controls",
            "_model_module_version": "1.5.0",
            "_model_name": "DescriptionStyleModel",
            "_view_count": null,
            "_view_module": "@jupyter-widgets/base",
            "_view_module_version": "1.2.0",
            "_view_name": "StyleView",
            "description_width": ""
          }
        },
        "4acc783906be4d3983fcb8571c4b9506": {
          "model_module": "@jupyter-widgets/controls",
          "model_name": "HBoxModel",
          "model_module_version": "1.5.0",
          "state": {
            "_dom_classes": [],
            "_model_module": "@jupyter-widgets/controls",
            "_model_module_version": "1.5.0",
            "_model_name": "HBoxModel",
            "_view_count": null,
            "_view_module": "@jupyter-widgets/controls",
            "_view_module_version": "1.5.0",
            "_view_name": "HBoxView",
            "box_style": "",
            "children": [
              "IPY_MODEL_d353ed93fa734de5a38ce55207f1d672",
              "IPY_MODEL_ec7dca0d7e284a7d8f3ed4a18af6369b",
              "IPY_MODEL_2a36a675090141dea844477abc5451ba"
            ],
            "layout": "IPY_MODEL_2419407514d44c8c9bcd989226647116"
          }
        },
        "d353ed93fa734de5a38ce55207f1d672": {
          "model_module": "@jupyter-widgets/controls",
          "model_name": "HTMLModel",
          "model_module_version": "1.5.0",
          "state": {
            "_dom_classes": [],
            "_model_module": "@jupyter-widgets/controls",
            "_model_module_version": "1.5.0",
            "_model_name": "HTMLModel",
            "_view_count": null,
            "_view_module": "@jupyter-widgets/controls",
            "_view_module_version": "1.5.0",
            "_view_name": "HTMLView",
            "description": "",
            "description_tooltip": null,
            "layout": "IPY_MODEL_ff7691c5f3be428399dea4789186a395",
            "placeholder": "​",
            "style": "IPY_MODEL_db7d9b5d3387456994b6ce5d99a4a19e",
            "value": "0.48126089572906494: 100%"
          }
        },
        "ec7dca0d7e284a7d8f3ed4a18af6369b": {
          "model_module": "@jupyter-widgets/controls",
          "model_name": "FloatProgressModel",
          "model_module_version": "1.5.0",
          "state": {
            "_dom_classes": [],
            "_model_module": "@jupyter-widgets/controls",
            "_model_module_version": "1.5.0",
            "_model_name": "FloatProgressModel",
            "_view_count": null,
            "_view_module": "@jupyter-widgets/controls",
            "_view_module_version": "1.5.0",
            "_view_name": "ProgressView",
            "bar_style": "success",
            "description": "",
            "description_tooltip": null,
            "layout": "IPY_MODEL_9107c3246a2d4b58a42242e5e1a0a496",
            "max": 10000,
            "min": 0,
            "orientation": "horizontal",
            "style": "IPY_MODEL_a656b968adc640c09c9695f86b7f77b3",
            "value": 10000
          }
        },
        "2a36a675090141dea844477abc5451ba": {
          "model_module": "@jupyter-widgets/controls",
          "model_name": "HTMLModel",
          "model_module_version": "1.5.0",
          "state": {
            "_dom_classes": [],
            "_model_module": "@jupyter-widgets/controls",
            "_model_module_version": "1.5.0",
            "_model_name": "HTMLModel",
            "_view_count": null,
            "_view_module": "@jupyter-widgets/controls",
            "_view_module_version": "1.5.0",
            "_view_name": "HTMLView",
            "description": "",
            "description_tooltip": null,
            "layout": "IPY_MODEL_96a073f3ae8f4f229874e0bee6c2f8e5",
            "placeholder": "​",
            "style": "IPY_MODEL_6705ff5b5b1743f782d4965d78591759",
            "value": " 10000/10000 [22:36&lt;00:00,  6.79it/s]"
          }
        },
        "2419407514d44c8c9bcd989226647116": {
          "model_module": "@jupyter-widgets/base",
          "model_name": "LayoutModel",
          "model_module_version": "1.2.0",
          "state": {
            "_model_module": "@jupyter-widgets/base",
            "_model_module_version": "1.2.0",
            "_model_name": "LayoutModel",
            "_view_count": null,
            "_view_module": "@jupyter-widgets/base",
            "_view_module_version": "1.2.0",
            "_view_name": "LayoutView",
            "align_content": null,
            "align_items": null,
            "align_self": null,
            "border": null,
            "bottom": null,
            "display": null,
            "flex": null,
            "flex_flow": null,
            "grid_area": null,
            "grid_auto_columns": null,
            "grid_auto_flow": null,
            "grid_auto_rows": null,
            "grid_column": null,
            "grid_gap": null,
            "grid_row": null,
            "grid_template_areas": null,
            "grid_template_columns": null,
            "grid_template_rows": null,
            "height": null,
            "justify_content": null,
            "justify_items": null,
            "left": null,
            "margin": null,
            "max_height": null,
            "max_width": null,
            "min_height": null,
            "min_width": null,
            "object_fit": null,
            "object_position": null,
            "order": null,
            "overflow": null,
            "overflow_x": null,
            "overflow_y": null,
            "padding": null,
            "right": null,
            "top": null,
            "visibility": null,
            "width": null
          }
        },
        "ff7691c5f3be428399dea4789186a395": {
          "model_module": "@jupyter-widgets/base",
          "model_name": "LayoutModel",
          "model_module_version": "1.2.0",
          "state": {
            "_model_module": "@jupyter-widgets/base",
            "_model_module_version": "1.2.0",
            "_model_name": "LayoutModel",
            "_view_count": null,
            "_view_module": "@jupyter-widgets/base",
            "_view_module_version": "1.2.0",
            "_view_name": "LayoutView",
            "align_content": null,
            "align_items": null,
            "align_self": null,
            "border": null,
            "bottom": null,
            "display": null,
            "flex": null,
            "flex_flow": null,
            "grid_area": null,
            "grid_auto_columns": null,
            "grid_auto_flow": null,
            "grid_auto_rows": null,
            "grid_column": null,
            "grid_gap": null,
            "grid_row": null,
            "grid_template_areas": null,
            "grid_template_columns": null,
            "grid_template_rows": null,
            "height": null,
            "justify_content": null,
            "justify_items": null,
            "left": null,
            "margin": null,
            "max_height": null,
            "max_width": null,
            "min_height": null,
            "min_width": null,
            "object_fit": null,
            "object_position": null,
            "order": null,
            "overflow": null,
            "overflow_x": null,
            "overflow_y": null,
            "padding": null,
            "right": null,
            "top": null,
            "visibility": null,
            "width": null
          }
        },
        "db7d9b5d3387456994b6ce5d99a4a19e": {
          "model_module": "@jupyter-widgets/controls",
          "model_name": "DescriptionStyleModel",
          "model_module_version": "1.5.0",
          "state": {
            "_model_module": "@jupyter-widgets/controls",
            "_model_module_version": "1.5.0",
            "_model_name": "DescriptionStyleModel",
            "_view_count": null,
            "_view_module": "@jupyter-widgets/base",
            "_view_module_version": "1.2.0",
            "_view_name": "StyleView",
            "description_width": ""
          }
        },
        "9107c3246a2d4b58a42242e5e1a0a496": {
          "model_module": "@jupyter-widgets/base",
          "model_name": "LayoutModel",
          "model_module_version": "1.2.0",
          "state": {
            "_model_module": "@jupyter-widgets/base",
            "_model_module_version": "1.2.0",
            "_model_name": "LayoutModel",
            "_view_count": null,
            "_view_module": "@jupyter-widgets/base",
            "_view_module_version": "1.2.0",
            "_view_name": "LayoutView",
            "align_content": null,
            "align_items": null,
            "align_self": null,
            "border": null,
            "bottom": null,
            "display": null,
            "flex": null,
            "flex_flow": null,
            "grid_area": null,
            "grid_auto_columns": null,
            "grid_auto_flow": null,
            "grid_auto_rows": null,
            "grid_column": null,
            "grid_gap": null,
            "grid_row": null,
            "grid_template_areas": null,
            "grid_template_columns": null,
            "grid_template_rows": null,
            "height": null,
            "justify_content": null,
            "justify_items": null,
            "left": null,
            "margin": null,
            "max_height": null,
            "max_width": null,
            "min_height": null,
            "min_width": null,
            "object_fit": null,
            "object_position": null,
            "order": null,
            "overflow": null,
            "overflow_x": null,
            "overflow_y": null,
            "padding": null,
            "right": null,
            "top": null,
            "visibility": null,
            "width": null
          }
        },
        "a656b968adc640c09c9695f86b7f77b3": {
          "model_module": "@jupyter-widgets/controls",
          "model_name": "ProgressStyleModel",
          "model_module_version": "1.5.0",
          "state": {
            "_model_module": "@jupyter-widgets/controls",
            "_model_module_version": "1.5.0",
            "_model_name": "ProgressStyleModel",
            "_view_count": null,
            "_view_module": "@jupyter-widgets/base",
            "_view_module_version": "1.2.0",
            "_view_name": "StyleView",
            "bar_color": null,
            "description_width": ""
          }
        },
        "96a073f3ae8f4f229874e0bee6c2f8e5": {
          "model_module": "@jupyter-widgets/base",
          "model_name": "LayoutModel",
          "model_module_version": "1.2.0",
          "state": {
            "_model_module": "@jupyter-widgets/base",
            "_model_module_version": "1.2.0",
            "_model_name": "LayoutModel",
            "_view_count": null,
            "_view_module": "@jupyter-widgets/base",
            "_view_module_version": "1.2.0",
            "_view_name": "LayoutView",
            "align_content": null,
            "align_items": null,
            "align_self": null,
            "border": null,
            "bottom": null,
            "display": null,
            "flex": null,
            "flex_flow": null,
            "grid_area": null,
            "grid_auto_columns": null,
            "grid_auto_flow": null,
            "grid_auto_rows": null,
            "grid_column": null,
            "grid_gap": null,
            "grid_row": null,
            "grid_template_areas": null,
            "grid_template_columns": null,
            "grid_template_rows": null,
            "height": null,
            "justify_content": null,
            "justify_items": null,
            "left": null,
            "margin": null,
            "max_height": null,
            "max_width": null,
            "min_height": null,
            "min_width": null,
            "object_fit": null,
            "object_position": null,
            "order": null,
            "overflow": null,
            "overflow_x": null,
            "overflow_y": null,
            "padding": null,
            "right": null,
            "top": null,
            "visibility": null,
            "width": null
          }
        },
        "6705ff5b5b1743f782d4965d78591759": {
          "model_module": "@jupyter-widgets/controls",
          "model_name": "DescriptionStyleModel",
          "model_module_version": "1.5.0",
          "state": {
            "_model_module": "@jupyter-widgets/controls",
            "_model_module_version": "1.5.0",
            "_model_name": "DescriptionStyleModel",
            "_view_count": null,
            "_view_module": "@jupyter-widgets/base",
            "_view_module_version": "1.2.0",
            "_view_name": "StyleView",
            "description_width": ""
          }
        },
        "93a85145ca7b45b79f33c1727161aad1": {
          "model_module": "@jupyter-widgets/controls",
          "model_name": "HBoxModel",
          "model_module_version": "1.5.0",
          "state": {
            "_dom_classes": [],
            "_model_module": "@jupyter-widgets/controls",
            "_model_module_version": "1.5.0",
            "_model_name": "HBoxModel",
            "_view_count": null,
            "_view_module": "@jupyter-widgets/controls",
            "_view_module_version": "1.5.0",
            "_view_name": "HBoxView",
            "box_style": "",
            "children": [
              "IPY_MODEL_bc6561306432421ba4ffde3c34476f18",
              "IPY_MODEL_c8dc21b1d7e54f968636d9a1bd1bbe12",
              "IPY_MODEL_af4b254ee1ef4d38bc6c11ebfde8b3f1"
            ],
            "layout": "IPY_MODEL_183148de12744278bd9307d9db46d31d"
          }
        },
        "bc6561306432421ba4ffde3c34476f18": {
          "model_module": "@jupyter-widgets/controls",
          "model_name": "HTMLModel",
          "model_module_version": "1.5.0",
          "state": {
            "_dom_classes": [],
            "_model_module": "@jupyter-widgets/controls",
            "_model_module_version": "1.5.0",
            "_model_name": "HTMLModel",
            "_view_count": null,
            "_view_module": "@jupyter-widgets/controls",
            "_view_module_version": "1.5.0",
            "_view_name": "HTMLView",
            "description": "",
            "description_tooltip": null,
            "layout": "IPY_MODEL_11e678e6ad8c4f3dbb1d0b0fde772e50",
            "placeholder": "​",
            "style": "IPY_MODEL_617b787ac5cd472cac56a63cc8cc0d27",
            "value": "100%"
          }
        },
        "c8dc21b1d7e54f968636d9a1bd1bbe12": {
          "model_module": "@jupyter-widgets/controls",
          "model_name": "FloatProgressModel",
          "model_module_version": "1.5.0",
          "state": {
            "_dom_classes": [],
            "_model_module": "@jupyter-widgets/controls",
            "_model_module_version": "1.5.0",
            "_model_name": "FloatProgressModel",
            "_view_count": null,
            "_view_module": "@jupyter-widgets/controls",
            "_view_module_version": "1.5.0",
            "_view_name": "ProgressView",
            "bar_style": "success",
            "description": "",
            "description_tooltip": null,
            "layout": "IPY_MODEL_a961daaea0fb4343af4df589481cca0c",
            "max": 500,
            "min": 0,
            "orientation": "horizontal",
            "style": "IPY_MODEL_96144d7e43364c5da465d675f95d8962",
            "value": 500
          }
        },
        "af4b254ee1ef4d38bc6c11ebfde8b3f1": {
          "model_module": "@jupyter-widgets/controls",
          "model_name": "HTMLModel",
          "model_module_version": "1.5.0",
          "state": {
            "_dom_classes": [],
            "_model_module": "@jupyter-widgets/controls",
            "_model_module_version": "1.5.0",
            "_model_name": "HTMLModel",
            "_view_count": null,
            "_view_module": "@jupyter-widgets/controls",
            "_view_module_version": "1.5.0",
            "_view_name": "HTMLView",
            "description": "",
            "description_tooltip": null,
            "layout": "IPY_MODEL_3ae824e09c1b4ed8b89f9d5884176429",
            "placeholder": "​",
            "style": "IPY_MODEL_0e6fdba1e38143a1879f6e34adf353c9",
            "value": " 500/500 [03:06&lt;00:00,  3.32it/s]"
          }
        },
        "183148de12744278bd9307d9db46d31d": {
          "model_module": "@jupyter-widgets/base",
          "model_name": "LayoutModel",
          "model_module_version": "1.2.0",
          "state": {
            "_model_module": "@jupyter-widgets/base",
            "_model_module_version": "1.2.0",
            "_model_name": "LayoutModel",
            "_view_count": null,
            "_view_module": "@jupyter-widgets/base",
            "_view_module_version": "1.2.0",
            "_view_name": "LayoutView",
            "align_content": null,
            "align_items": null,
            "align_self": null,
            "border": null,
            "bottom": null,
            "display": null,
            "flex": null,
            "flex_flow": null,
            "grid_area": null,
            "grid_auto_columns": null,
            "grid_auto_flow": null,
            "grid_auto_rows": null,
            "grid_column": null,
            "grid_gap": null,
            "grid_row": null,
            "grid_template_areas": null,
            "grid_template_columns": null,
            "grid_template_rows": null,
            "height": null,
            "justify_content": null,
            "justify_items": null,
            "left": null,
            "margin": null,
            "max_height": null,
            "max_width": null,
            "min_height": null,
            "min_width": null,
            "object_fit": null,
            "object_position": null,
            "order": null,
            "overflow": null,
            "overflow_x": null,
            "overflow_y": null,
            "padding": null,
            "right": null,
            "top": null,
            "visibility": null,
            "width": null
          }
        },
        "11e678e6ad8c4f3dbb1d0b0fde772e50": {
          "model_module": "@jupyter-widgets/base",
          "model_name": "LayoutModel",
          "model_module_version": "1.2.0",
          "state": {
            "_model_module": "@jupyter-widgets/base",
            "_model_module_version": "1.2.0",
            "_model_name": "LayoutModel",
            "_view_count": null,
            "_view_module": "@jupyter-widgets/base",
            "_view_module_version": "1.2.0",
            "_view_name": "LayoutView",
            "align_content": null,
            "align_items": null,
            "align_self": null,
            "border": null,
            "bottom": null,
            "display": null,
            "flex": null,
            "flex_flow": null,
            "grid_area": null,
            "grid_auto_columns": null,
            "grid_auto_flow": null,
            "grid_auto_rows": null,
            "grid_column": null,
            "grid_gap": null,
            "grid_row": null,
            "grid_template_areas": null,
            "grid_template_columns": null,
            "grid_template_rows": null,
            "height": null,
            "justify_content": null,
            "justify_items": null,
            "left": null,
            "margin": null,
            "max_height": null,
            "max_width": null,
            "min_height": null,
            "min_width": null,
            "object_fit": null,
            "object_position": null,
            "order": null,
            "overflow": null,
            "overflow_x": null,
            "overflow_y": null,
            "padding": null,
            "right": null,
            "top": null,
            "visibility": null,
            "width": null
          }
        },
        "617b787ac5cd472cac56a63cc8cc0d27": {
          "model_module": "@jupyter-widgets/controls",
          "model_name": "DescriptionStyleModel",
          "model_module_version": "1.5.0",
          "state": {
            "_model_module": "@jupyter-widgets/controls",
            "_model_module_version": "1.5.0",
            "_model_name": "DescriptionStyleModel",
            "_view_count": null,
            "_view_module": "@jupyter-widgets/base",
            "_view_module_version": "1.2.0",
            "_view_name": "StyleView",
            "description_width": ""
          }
        },
        "a961daaea0fb4343af4df589481cca0c": {
          "model_module": "@jupyter-widgets/base",
          "model_name": "LayoutModel",
          "model_module_version": "1.2.0",
          "state": {
            "_model_module": "@jupyter-widgets/base",
            "_model_module_version": "1.2.0",
            "_model_name": "LayoutModel",
            "_view_count": null,
            "_view_module": "@jupyter-widgets/base",
            "_view_module_version": "1.2.0",
            "_view_name": "LayoutView",
            "align_content": null,
            "align_items": null,
            "align_self": null,
            "border": null,
            "bottom": null,
            "display": null,
            "flex": null,
            "flex_flow": null,
            "grid_area": null,
            "grid_auto_columns": null,
            "grid_auto_flow": null,
            "grid_auto_rows": null,
            "grid_column": null,
            "grid_gap": null,
            "grid_row": null,
            "grid_template_areas": null,
            "grid_template_columns": null,
            "grid_template_rows": null,
            "height": null,
            "justify_content": null,
            "justify_items": null,
            "left": null,
            "margin": null,
            "max_height": null,
            "max_width": null,
            "min_height": null,
            "min_width": null,
            "object_fit": null,
            "object_position": null,
            "order": null,
            "overflow": null,
            "overflow_x": null,
            "overflow_y": null,
            "padding": null,
            "right": null,
            "top": null,
            "visibility": null,
            "width": null
          }
        },
        "96144d7e43364c5da465d675f95d8962": {
          "model_module": "@jupyter-widgets/controls",
          "model_name": "ProgressStyleModel",
          "model_module_version": "1.5.0",
          "state": {
            "_model_module": "@jupyter-widgets/controls",
            "_model_module_version": "1.5.0",
            "_model_name": "ProgressStyleModel",
            "_view_count": null,
            "_view_module": "@jupyter-widgets/base",
            "_view_module_version": "1.2.0",
            "_view_name": "StyleView",
            "bar_color": null,
            "description_width": ""
          }
        },
        "3ae824e09c1b4ed8b89f9d5884176429": {
          "model_module": "@jupyter-widgets/base",
          "model_name": "LayoutModel",
          "model_module_version": "1.2.0",
          "state": {
            "_model_module": "@jupyter-widgets/base",
            "_model_module_version": "1.2.0",
            "_model_name": "LayoutModel",
            "_view_count": null,
            "_view_module": "@jupyter-widgets/base",
            "_view_module_version": "1.2.0",
            "_view_name": "LayoutView",
            "align_content": null,
            "align_items": null,
            "align_self": null,
            "border": null,
            "bottom": null,
            "display": null,
            "flex": null,
            "flex_flow": null,
            "grid_area": null,
            "grid_auto_columns": null,
            "grid_auto_flow": null,
            "grid_auto_rows": null,
            "grid_column": null,
            "grid_gap": null,
            "grid_row": null,
            "grid_template_areas": null,
            "grid_template_columns": null,
            "grid_template_rows": null,
            "height": null,
            "justify_content": null,
            "justify_items": null,
            "left": null,
            "margin": null,
            "max_height": null,
            "max_width": null,
            "min_height": null,
            "min_width": null,
            "object_fit": null,
            "object_position": null,
            "order": null,
            "overflow": null,
            "overflow_x": null,
            "overflow_y": null,
            "padding": null,
            "right": null,
            "top": null,
            "visibility": null,
            "width": null
          }
        },
        "0e6fdba1e38143a1879f6e34adf353c9": {
          "model_module": "@jupyter-widgets/controls",
          "model_name": "DescriptionStyleModel",
          "model_module_version": "1.5.0",
          "state": {
            "_model_module": "@jupyter-widgets/controls",
            "_model_module_version": "1.5.0",
            "_model_name": "DescriptionStyleModel",
            "_view_count": null,
            "_view_module": "@jupyter-widgets/base",
            "_view_module_version": "1.2.0",
            "_view_name": "StyleView",
            "description_width": ""
          }
        },
        "775d19fa7cec4f128700ca68d3ea9fb9": {
          "model_module": "@jupyter-widgets/controls",
          "model_name": "HBoxModel",
          "model_module_version": "1.5.0",
          "state": {
            "_dom_classes": [],
            "_model_module": "@jupyter-widgets/controls",
            "_model_module_version": "1.5.0",
            "_model_name": "HBoxModel",
            "_view_count": null,
            "_view_module": "@jupyter-widgets/controls",
            "_view_module_version": "1.5.0",
            "_view_name": "HBoxView",
            "box_style": "",
            "children": [
              "IPY_MODEL_ff86cd848226480d9163a89127414bdf",
              "IPY_MODEL_bb8fffbcf7e344a3bb529f4191af3d51",
              "IPY_MODEL_625971c0a19449f48c006afc9f451030"
            ],
            "layout": "IPY_MODEL_6392ce4443334d3da14527852df8d54c"
          }
        },
        "ff86cd848226480d9163a89127414bdf": {
          "model_module": "@jupyter-widgets/controls",
          "model_name": "HTMLModel",
          "model_module_version": "1.5.0",
          "state": {
            "_dom_classes": [],
            "_model_module": "@jupyter-widgets/controls",
            "_model_module_version": "1.5.0",
            "_model_name": "HTMLModel",
            "_view_count": null,
            "_view_module": "@jupyter-widgets/controls",
            "_view_module_version": "1.5.0",
            "_view_name": "HTMLView",
            "description": "",
            "description_tooltip": null,
            "layout": "IPY_MODEL_5e2d06a6252c45f3ab3a8c67ca290170",
            "placeholder": "​",
            "style": "IPY_MODEL_de01c9c3ffdb45f5904bc1cc5eab1c90",
            "value": "0.30325189232826233: 100%"
          }
        },
        "bb8fffbcf7e344a3bb529f4191af3d51": {
          "model_module": "@jupyter-widgets/controls",
          "model_name": "FloatProgressModel",
          "model_module_version": "1.5.0",
          "state": {
            "_dom_classes": [],
            "_model_module": "@jupyter-widgets/controls",
            "_model_module_version": "1.5.0",
            "_model_name": "FloatProgressModel",
            "_view_count": null,
            "_view_module": "@jupyter-widgets/controls",
            "_view_module_version": "1.5.0",
            "_view_name": "ProgressView",
            "bar_style": "success",
            "description": "",
            "description_tooltip": null,
            "layout": "IPY_MODEL_5d19ddf04d564d0cab4717fae2fa5a09",
            "max": 10000,
            "min": 0,
            "orientation": "horizontal",
            "style": "IPY_MODEL_4106a34dbf2149edbd26a813e09e7802",
            "value": 10000
          }
        },
        "625971c0a19449f48c006afc9f451030": {
          "model_module": "@jupyter-widgets/controls",
          "model_name": "HTMLModel",
          "model_module_version": "1.5.0",
          "state": {
            "_dom_classes": [],
            "_model_module": "@jupyter-widgets/controls",
            "_model_module_version": "1.5.0",
            "_model_name": "HTMLModel",
            "_view_count": null,
            "_view_module": "@jupyter-widgets/controls",
            "_view_module_version": "1.5.0",
            "_view_name": "HTMLView",
            "description": "",
            "description_tooltip": null,
            "layout": "IPY_MODEL_542f137e082b463eb168387d16156757",
            "placeholder": "​",
            "style": "IPY_MODEL_47ce091c54714d57af721939a99795d8",
            "value": " 10000/10000 [22:39&lt;00:00,  7.51it/s]"
          }
        },
        "6392ce4443334d3da14527852df8d54c": {
          "model_module": "@jupyter-widgets/base",
          "model_name": "LayoutModel",
          "model_module_version": "1.2.0",
          "state": {
            "_model_module": "@jupyter-widgets/base",
            "_model_module_version": "1.2.0",
            "_model_name": "LayoutModel",
            "_view_count": null,
            "_view_module": "@jupyter-widgets/base",
            "_view_module_version": "1.2.0",
            "_view_name": "LayoutView",
            "align_content": null,
            "align_items": null,
            "align_self": null,
            "border": null,
            "bottom": null,
            "display": null,
            "flex": null,
            "flex_flow": null,
            "grid_area": null,
            "grid_auto_columns": null,
            "grid_auto_flow": null,
            "grid_auto_rows": null,
            "grid_column": null,
            "grid_gap": null,
            "grid_row": null,
            "grid_template_areas": null,
            "grid_template_columns": null,
            "grid_template_rows": null,
            "height": null,
            "justify_content": null,
            "justify_items": null,
            "left": null,
            "margin": null,
            "max_height": null,
            "max_width": null,
            "min_height": null,
            "min_width": null,
            "object_fit": null,
            "object_position": null,
            "order": null,
            "overflow": null,
            "overflow_x": null,
            "overflow_y": null,
            "padding": null,
            "right": null,
            "top": null,
            "visibility": null,
            "width": null
          }
        },
        "5e2d06a6252c45f3ab3a8c67ca290170": {
          "model_module": "@jupyter-widgets/base",
          "model_name": "LayoutModel",
          "model_module_version": "1.2.0",
          "state": {
            "_model_module": "@jupyter-widgets/base",
            "_model_module_version": "1.2.0",
            "_model_name": "LayoutModel",
            "_view_count": null,
            "_view_module": "@jupyter-widgets/base",
            "_view_module_version": "1.2.0",
            "_view_name": "LayoutView",
            "align_content": null,
            "align_items": null,
            "align_self": null,
            "border": null,
            "bottom": null,
            "display": null,
            "flex": null,
            "flex_flow": null,
            "grid_area": null,
            "grid_auto_columns": null,
            "grid_auto_flow": null,
            "grid_auto_rows": null,
            "grid_column": null,
            "grid_gap": null,
            "grid_row": null,
            "grid_template_areas": null,
            "grid_template_columns": null,
            "grid_template_rows": null,
            "height": null,
            "justify_content": null,
            "justify_items": null,
            "left": null,
            "margin": null,
            "max_height": null,
            "max_width": null,
            "min_height": null,
            "min_width": null,
            "object_fit": null,
            "object_position": null,
            "order": null,
            "overflow": null,
            "overflow_x": null,
            "overflow_y": null,
            "padding": null,
            "right": null,
            "top": null,
            "visibility": null,
            "width": null
          }
        },
        "de01c9c3ffdb45f5904bc1cc5eab1c90": {
          "model_module": "@jupyter-widgets/controls",
          "model_name": "DescriptionStyleModel",
          "model_module_version": "1.5.0",
          "state": {
            "_model_module": "@jupyter-widgets/controls",
            "_model_module_version": "1.5.0",
            "_model_name": "DescriptionStyleModel",
            "_view_count": null,
            "_view_module": "@jupyter-widgets/base",
            "_view_module_version": "1.2.0",
            "_view_name": "StyleView",
            "description_width": ""
          }
        },
        "5d19ddf04d564d0cab4717fae2fa5a09": {
          "model_module": "@jupyter-widgets/base",
          "model_name": "LayoutModel",
          "model_module_version": "1.2.0",
          "state": {
            "_model_module": "@jupyter-widgets/base",
            "_model_module_version": "1.2.0",
            "_model_name": "LayoutModel",
            "_view_count": null,
            "_view_module": "@jupyter-widgets/base",
            "_view_module_version": "1.2.0",
            "_view_name": "LayoutView",
            "align_content": null,
            "align_items": null,
            "align_self": null,
            "border": null,
            "bottom": null,
            "display": null,
            "flex": null,
            "flex_flow": null,
            "grid_area": null,
            "grid_auto_columns": null,
            "grid_auto_flow": null,
            "grid_auto_rows": null,
            "grid_column": null,
            "grid_gap": null,
            "grid_row": null,
            "grid_template_areas": null,
            "grid_template_columns": null,
            "grid_template_rows": null,
            "height": null,
            "justify_content": null,
            "justify_items": null,
            "left": null,
            "margin": null,
            "max_height": null,
            "max_width": null,
            "min_height": null,
            "min_width": null,
            "object_fit": null,
            "object_position": null,
            "order": null,
            "overflow": null,
            "overflow_x": null,
            "overflow_y": null,
            "padding": null,
            "right": null,
            "top": null,
            "visibility": null,
            "width": null
          }
        },
        "4106a34dbf2149edbd26a813e09e7802": {
          "model_module": "@jupyter-widgets/controls",
          "model_name": "ProgressStyleModel",
          "model_module_version": "1.5.0",
          "state": {
            "_model_module": "@jupyter-widgets/controls",
            "_model_module_version": "1.5.0",
            "_model_name": "ProgressStyleModel",
            "_view_count": null,
            "_view_module": "@jupyter-widgets/base",
            "_view_module_version": "1.2.0",
            "_view_name": "StyleView",
            "bar_color": null,
            "description_width": ""
          }
        },
        "542f137e082b463eb168387d16156757": {
          "model_module": "@jupyter-widgets/base",
          "model_name": "LayoutModel",
          "model_module_version": "1.2.0",
          "state": {
            "_model_module": "@jupyter-widgets/base",
            "_model_module_version": "1.2.0",
            "_model_name": "LayoutModel",
            "_view_count": null,
            "_view_module": "@jupyter-widgets/base",
            "_view_module_version": "1.2.0",
            "_view_name": "LayoutView",
            "align_content": null,
            "align_items": null,
            "align_self": null,
            "border": null,
            "bottom": null,
            "display": null,
            "flex": null,
            "flex_flow": null,
            "grid_area": null,
            "grid_auto_columns": null,
            "grid_auto_flow": null,
            "grid_auto_rows": null,
            "grid_column": null,
            "grid_gap": null,
            "grid_row": null,
            "grid_template_areas": null,
            "grid_template_columns": null,
            "grid_template_rows": null,
            "height": null,
            "justify_content": null,
            "justify_items": null,
            "left": null,
            "margin": null,
            "max_height": null,
            "max_width": null,
            "min_height": null,
            "min_width": null,
            "object_fit": null,
            "object_position": null,
            "order": null,
            "overflow": null,
            "overflow_x": null,
            "overflow_y": null,
            "padding": null,
            "right": null,
            "top": null,
            "visibility": null,
            "width": null
          }
        },
        "47ce091c54714d57af721939a99795d8": {
          "model_module": "@jupyter-widgets/controls",
          "model_name": "DescriptionStyleModel",
          "model_module_version": "1.5.0",
          "state": {
            "_model_module": "@jupyter-widgets/controls",
            "_model_module_version": "1.5.0",
            "_model_name": "DescriptionStyleModel",
            "_view_count": null,
            "_view_module": "@jupyter-widgets/base",
            "_view_module_version": "1.2.0",
            "_view_name": "StyleView",
            "description_width": ""
          }
        },
        "9822c5b9e4d446e58475d1c3777ad8ca": {
          "model_module": "@jupyter-widgets/controls",
          "model_name": "HBoxModel",
          "model_module_version": "1.5.0",
          "state": {
            "_dom_classes": [],
            "_model_module": "@jupyter-widgets/controls",
            "_model_module_version": "1.5.0",
            "_model_name": "HBoxModel",
            "_view_count": null,
            "_view_module": "@jupyter-widgets/controls",
            "_view_module_version": "1.5.0",
            "_view_name": "HBoxView",
            "box_style": "",
            "children": [
              "IPY_MODEL_c6ad054b79134d3b849d642f65fbbabf",
              "IPY_MODEL_64b8b5ebd2874bf195e363bc408ad302",
              "IPY_MODEL_5287c0c6f4124bf5b657584cc8041714"
            ],
            "layout": "IPY_MODEL_9071858480da4646b8ea1544fbe6cb7a"
          }
        },
        "c6ad054b79134d3b849d642f65fbbabf": {
          "model_module": "@jupyter-widgets/controls",
          "model_name": "HTMLModel",
          "model_module_version": "1.5.0",
          "state": {
            "_dom_classes": [],
            "_model_module": "@jupyter-widgets/controls",
            "_model_module_version": "1.5.0",
            "_model_name": "HTMLModel",
            "_view_count": null,
            "_view_module": "@jupyter-widgets/controls",
            "_view_module_version": "1.5.0",
            "_view_name": "HTMLView",
            "description": "",
            "description_tooltip": null,
            "layout": "IPY_MODEL_cc4d58d2fe424279aedce7017c31e2d5",
            "placeholder": "​",
            "style": "IPY_MODEL_cf960540f27f4f759999a55d1255349f",
            "value": "100%"
          }
        },
        "64b8b5ebd2874bf195e363bc408ad302": {
          "model_module": "@jupyter-widgets/controls",
          "model_name": "FloatProgressModel",
          "model_module_version": "1.5.0",
          "state": {
            "_dom_classes": [],
            "_model_module": "@jupyter-widgets/controls",
            "_model_module_version": "1.5.0",
            "_model_name": "FloatProgressModel",
            "_view_count": null,
            "_view_module": "@jupyter-widgets/controls",
            "_view_module_version": "1.5.0",
            "_view_name": "ProgressView",
            "bar_style": "success",
            "description": "",
            "description_tooltip": null,
            "layout": "IPY_MODEL_e46f399c5b684fff9495fe6d0c86e810",
            "max": 500,
            "min": 0,
            "orientation": "horizontal",
            "style": "IPY_MODEL_7d04d775c9f349a48cd1e767c6de178e",
            "value": 500
          }
        },
        "5287c0c6f4124bf5b657584cc8041714": {
          "model_module": "@jupyter-widgets/controls",
          "model_name": "HTMLModel",
          "model_module_version": "1.5.0",
          "state": {
            "_dom_classes": [],
            "_model_module": "@jupyter-widgets/controls",
            "_model_module_version": "1.5.0",
            "_model_name": "HTMLModel",
            "_view_count": null,
            "_view_module": "@jupyter-widgets/controls",
            "_view_module_version": "1.5.0",
            "_view_name": "HTMLView",
            "description": "",
            "description_tooltip": null,
            "layout": "IPY_MODEL_75766170f30f4a7c81d0adec77086a2f",
            "placeholder": "​",
            "style": "IPY_MODEL_3584eb75bc394e30bb072b6287e9537b",
            "value": " 500/500 [02:28&lt;00:00,  4.07it/s]"
          }
        },
        "9071858480da4646b8ea1544fbe6cb7a": {
          "model_module": "@jupyter-widgets/base",
          "model_name": "LayoutModel",
          "model_module_version": "1.2.0",
          "state": {
            "_model_module": "@jupyter-widgets/base",
            "_model_module_version": "1.2.0",
            "_model_name": "LayoutModel",
            "_view_count": null,
            "_view_module": "@jupyter-widgets/base",
            "_view_module_version": "1.2.0",
            "_view_name": "LayoutView",
            "align_content": null,
            "align_items": null,
            "align_self": null,
            "border": null,
            "bottom": null,
            "display": null,
            "flex": null,
            "flex_flow": null,
            "grid_area": null,
            "grid_auto_columns": null,
            "grid_auto_flow": null,
            "grid_auto_rows": null,
            "grid_column": null,
            "grid_gap": null,
            "grid_row": null,
            "grid_template_areas": null,
            "grid_template_columns": null,
            "grid_template_rows": null,
            "height": null,
            "justify_content": null,
            "justify_items": null,
            "left": null,
            "margin": null,
            "max_height": null,
            "max_width": null,
            "min_height": null,
            "min_width": null,
            "object_fit": null,
            "object_position": null,
            "order": null,
            "overflow": null,
            "overflow_x": null,
            "overflow_y": null,
            "padding": null,
            "right": null,
            "top": null,
            "visibility": null,
            "width": null
          }
        },
        "cc4d58d2fe424279aedce7017c31e2d5": {
          "model_module": "@jupyter-widgets/base",
          "model_name": "LayoutModel",
          "model_module_version": "1.2.0",
          "state": {
            "_model_module": "@jupyter-widgets/base",
            "_model_module_version": "1.2.0",
            "_model_name": "LayoutModel",
            "_view_count": null,
            "_view_module": "@jupyter-widgets/base",
            "_view_module_version": "1.2.0",
            "_view_name": "LayoutView",
            "align_content": null,
            "align_items": null,
            "align_self": null,
            "border": null,
            "bottom": null,
            "display": null,
            "flex": null,
            "flex_flow": null,
            "grid_area": null,
            "grid_auto_columns": null,
            "grid_auto_flow": null,
            "grid_auto_rows": null,
            "grid_column": null,
            "grid_gap": null,
            "grid_row": null,
            "grid_template_areas": null,
            "grid_template_columns": null,
            "grid_template_rows": null,
            "height": null,
            "justify_content": null,
            "justify_items": null,
            "left": null,
            "margin": null,
            "max_height": null,
            "max_width": null,
            "min_height": null,
            "min_width": null,
            "object_fit": null,
            "object_position": null,
            "order": null,
            "overflow": null,
            "overflow_x": null,
            "overflow_y": null,
            "padding": null,
            "right": null,
            "top": null,
            "visibility": null,
            "width": null
          }
        },
        "cf960540f27f4f759999a55d1255349f": {
          "model_module": "@jupyter-widgets/controls",
          "model_name": "DescriptionStyleModel",
          "model_module_version": "1.5.0",
          "state": {
            "_model_module": "@jupyter-widgets/controls",
            "_model_module_version": "1.5.0",
            "_model_name": "DescriptionStyleModel",
            "_view_count": null,
            "_view_module": "@jupyter-widgets/base",
            "_view_module_version": "1.2.0",
            "_view_name": "StyleView",
            "description_width": ""
          }
        },
        "e46f399c5b684fff9495fe6d0c86e810": {
          "model_module": "@jupyter-widgets/base",
          "model_name": "LayoutModel",
          "model_module_version": "1.2.0",
          "state": {
            "_model_module": "@jupyter-widgets/base",
            "_model_module_version": "1.2.0",
            "_model_name": "LayoutModel",
            "_view_count": null,
            "_view_module": "@jupyter-widgets/base",
            "_view_module_version": "1.2.0",
            "_view_name": "LayoutView",
            "align_content": null,
            "align_items": null,
            "align_self": null,
            "border": null,
            "bottom": null,
            "display": null,
            "flex": null,
            "flex_flow": null,
            "grid_area": null,
            "grid_auto_columns": null,
            "grid_auto_flow": null,
            "grid_auto_rows": null,
            "grid_column": null,
            "grid_gap": null,
            "grid_row": null,
            "grid_template_areas": null,
            "grid_template_columns": null,
            "grid_template_rows": null,
            "height": null,
            "justify_content": null,
            "justify_items": null,
            "left": null,
            "margin": null,
            "max_height": null,
            "max_width": null,
            "min_height": null,
            "min_width": null,
            "object_fit": null,
            "object_position": null,
            "order": null,
            "overflow": null,
            "overflow_x": null,
            "overflow_y": null,
            "padding": null,
            "right": null,
            "top": null,
            "visibility": null,
            "width": null
          }
        },
        "7d04d775c9f349a48cd1e767c6de178e": {
          "model_module": "@jupyter-widgets/controls",
          "model_name": "ProgressStyleModel",
          "model_module_version": "1.5.0",
          "state": {
            "_model_module": "@jupyter-widgets/controls",
            "_model_module_version": "1.5.0",
            "_model_name": "ProgressStyleModel",
            "_view_count": null,
            "_view_module": "@jupyter-widgets/base",
            "_view_module_version": "1.2.0",
            "_view_name": "StyleView",
            "bar_color": null,
            "description_width": ""
          }
        },
        "75766170f30f4a7c81d0adec77086a2f": {
          "model_module": "@jupyter-widgets/base",
          "model_name": "LayoutModel",
          "model_module_version": "1.2.0",
          "state": {
            "_model_module": "@jupyter-widgets/base",
            "_model_module_version": "1.2.0",
            "_model_name": "LayoutModel",
            "_view_count": null,
            "_view_module": "@jupyter-widgets/base",
            "_view_module_version": "1.2.0",
            "_view_name": "LayoutView",
            "align_content": null,
            "align_items": null,
            "align_self": null,
            "border": null,
            "bottom": null,
            "display": null,
            "flex": null,
            "flex_flow": null,
            "grid_area": null,
            "grid_auto_columns": null,
            "grid_auto_flow": null,
            "grid_auto_rows": null,
            "grid_column": null,
            "grid_gap": null,
            "grid_row": null,
            "grid_template_areas": null,
            "grid_template_columns": null,
            "grid_template_rows": null,
            "height": null,
            "justify_content": null,
            "justify_items": null,
            "left": null,
            "margin": null,
            "max_height": null,
            "max_width": null,
            "min_height": null,
            "min_width": null,
            "object_fit": null,
            "object_position": null,
            "order": null,
            "overflow": null,
            "overflow_x": null,
            "overflow_y": null,
            "padding": null,
            "right": null,
            "top": null,
            "visibility": null,
            "width": null
          }
        },
        "3584eb75bc394e30bb072b6287e9537b": {
          "model_module": "@jupyter-widgets/controls",
          "model_name": "DescriptionStyleModel",
          "model_module_version": "1.5.0",
          "state": {
            "_model_module": "@jupyter-widgets/controls",
            "_model_module_version": "1.5.0",
            "_model_name": "DescriptionStyleModel",
            "_view_count": null,
            "_view_module": "@jupyter-widgets/base",
            "_view_module_version": "1.2.0",
            "_view_name": "StyleView",
            "description_width": ""
          }
        },
        "f79a7a0a5c3a440cb1bdd82d0e0960db": {
          "model_module": "@jupyter-widgets/controls",
          "model_name": "HBoxModel",
          "model_module_version": "1.5.0",
          "state": {
            "_dom_classes": [],
            "_model_module": "@jupyter-widgets/controls",
            "_model_module_version": "1.5.0",
            "_model_name": "HBoxModel",
            "_view_count": null,
            "_view_module": "@jupyter-widgets/controls",
            "_view_module_version": "1.5.0",
            "_view_name": "HBoxView",
            "box_style": "",
            "children": [
              "IPY_MODEL_5e6c48f319194355ade618a25017d90e",
              "IPY_MODEL_419835e038a443bda8770480f8065215",
              "IPY_MODEL_f26f19d0f64e415ba4e3f6e6501e4012"
            ],
            "layout": "IPY_MODEL_128cfc17040f4eacaae6cf6ebd41338f"
          }
        },
        "5e6c48f319194355ade618a25017d90e": {
          "model_module": "@jupyter-widgets/controls",
          "model_name": "HTMLModel",
          "model_module_version": "1.5.0",
          "state": {
            "_dom_classes": [],
            "_model_module": "@jupyter-widgets/controls",
            "_model_module_version": "1.5.0",
            "_model_name": "HTMLModel",
            "_view_count": null,
            "_view_module": "@jupyter-widgets/controls",
            "_view_module_version": "1.5.0",
            "_view_name": "HTMLView",
            "description": "",
            "description_tooltip": null,
            "layout": "IPY_MODEL_9773a0c20a85401b84060ce614436a0c",
            "placeholder": "​",
            "style": "IPY_MODEL_32a973ac4f7e49d88e4d97997a56f908",
            "value": "train loss:0.0: 100%"
          }
        },
        "419835e038a443bda8770480f8065215": {
          "model_module": "@jupyter-widgets/controls",
          "model_name": "FloatProgressModel",
          "model_module_version": "1.5.0",
          "state": {
            "_dom_classes": [],
            "_model_module": "@jupyter-widgets/controls",
            "_model_module_version": "1.5.0",
            "_model_name": "FloatProgressModel",
            "_view_count": null,
            "_view_module": "@jupyter-widgets/controls",
            "_view_module_version": "1.5.0",
            "_view_name": "ProgressView",
            "bar_style": "success",
            "description": "",
            "description_tooltip": null,
            "layout": "IPY_MODEL_795085948fc9422c9f5557aa1f33778c",
            "max": 10000,
            "min": 0,
            "orientation": "horizontal",
            "style": "IPY_MODEL_2fd22b61a7644bd9bb1f9233cc866863",
            "value": 10000
          }
        },
        "f26f19d0f64e415ba4e3f6e6501e4012": {
          "model_module": "@jupyter-widgets/controls",
          "model_name": "HTMLModel",
          "model_module_version": "1.5.0",
          "state": {
            "_dom_classes": [],
            "_model_module": "@jupyter-widgets/controls",
            "_model_module_version": "1.5.0",
            "_model_name": "HTMLModel",
            "_view_count": null,
            "_view_module": "@jupyter-widgets/controls",
            "_view_module_version": "1.5.0",
            "_view_name": "HTMLView",
            "description": "",
            "description_tooltip": null,
            "layout": "IPY_MODEL_95075d70c53f4eabb3fff210eea19aa9",
            "placeholder": "​",
            "style": "IPY_MODEL_1f44bee397804490a8f8afff2e254d18",
            "value": " 10000/10000 [22:33&lt;00:00,  7.48it/s]"
          }
        },
        "128cfc17040f4eacaae6cf6ebd41338f": {
          "model_module": "@jupyter-widgets/base",
          "model_name": "LayoutModel",
          "model_module_version": "1.2.0",
          "state": {
            "_model_module": "@jupyter-widgets/base",
            "_model_module_version": "1.2.0",
            "_model_name": "LayoutModel",
            "_view_count": null,
            "_view_module": "@jupyter-widgets/base",
            "_view_module_version": "1.2.0",
            "_view_name": "LayoutView",
            "align_content": null,
            "align_items": null,
            "align_self": null,
            "border": null,
            "bottom": null,
            "display": null,
            "flex": null,
            "flex_flow": null,
            "grid_area": null,
            "grid_auto_columns": null,
            "grid_auto_flow": null,
            "grid_auto_rows": null,
            "grid_column": null,
            "grid_gap": null,
            "grid_row": null,
            "grid_template_areas": null,
            "grid_template_columns": null,
            "grid_template_rows": null,
            "height": null,
            "justify_content": null,
            "justify_items": null,
            "left": null,
            "margin": null,
            "max_height": null,
            "max_width": null,
            "min_height": null,
            "min_width": null,
            "object_fit": null,
            "object_position": null,
            "order": null,
            "overflow": null,
            "overflow_x": null,
            "overflow_y": null,
            "padding": null,
            "right": null,
            "top": null,
            "visibility": null,
            "width": null
          }
        },
        "9773a0c20a85401b84060ce614436a0c": {
          "model_module": "@jupyter-widgets/base",
          "model_name": "LayoutModel",
          "model_module_version": "1.2.0",
          "state": {
            "_model_module": "@jupyter-widgets/base",
            "_model_module_version": "1.2.0",
            "_model_name": "LayoutModel",
            "_view_count": null,
            "_view_module": "@jupyter-widgets/base",
            "_view_module_version": "1.2.0",
            "_view_name": "LayoutView",
            "align_content": null,
            "align_items": null,
            "align_self": null,
            "border": null,
            "bottom": null,
            "display": null,
            "flex": null,
            "flex_flow": null,
            "grid_area": null,
            "grid_auto_columns": null,
            "grid_auto_flow": null,
            "grid_auto_rows": null,
            "grid_column": null,
            "grid_gap": null,
            "grid_row": null,
            "grid_template_areas": null,
            "grid_template_columns": null,
            "grid_template_rows": null,
            "height": null,
            "justify_content": null,
            "justify_items": null,
            "left": null,
            "margin": null,
            "max_height": null,
            "max_width": null,
            "min_height": null,
            "min_width": null,
            "object_fit": null,
            "object_position": null,
            "order": null,
            "overflow": null,
            "overflow_x": null,
            "overflow_y": null,
            "padding": null,
            "right": null,
            "top": null,
            "visibility": null,
            "width": null
          }
        },
        "32a973ac4f7e49d88e4d97997a56f908": {
          "model_module": "@jupyter-widgets/controls",
          "model_name": "DescriptionStyleModel",
          "model_module_version": "1.5.0",
          "state": {
            "_model_module": "@jupyter-widgets/controls",
            "_model_module_version": "1.5.0",
            "_model_name": "DescriptionStyleModel",
            "_view_count": null,
            "_view_module": "@jupyter-widgets/base",
            "_view_module_version": "1.2.0",
            "_view_name": "StyleView",
            "description_width": ""
          }
        },
        "795085948fc9422c9f5557aa1f33778c": {
          "model_module": "@jupyter-widgets/base",
          "model_name": "LayoutModel",
          "model_module_version": "1.2.0",
          "state": {
            "_model_module": "@jupyter-widgets/base",
            "_model_module_version": "1.2.0",
            "_model_name": "LayoutModel",
            "_view_count": null,
            "_view_module": "@jupyter-widgets/base",
            "_view_module_version": "1.2.0",
            "_view_name": "LayoutView",
            "align_content": null,
            "align_items": null,
            "align_self": null,
            "border": null,
            "bottom": null,
            "display": null,
            "flex": null,
            "flex_flow": null,
            "grid_area": null,
            "grid_auto_columns": null,
            "grid_auto_flow": null,
            "grid_auto_rows": null,
            "grid_column": null,
            "grid_gap": null,
            "grid_row": null,
            "grid_template_areas": null,
            "grid_template_columns": null,
            "grid_template_rows": null,
            "height": null,
            "justify_content": null,
            "justify_items": null,
            "left": null,
            "margin": null,
            "max_height": null,
            "max_width": null,
            "min_height": null,
            "min_width": null,
            "object_fit": null,
            "object_position": null,
            "order": null,
            "overflow": null,
            "overflow_x": null,
            "overflow_y": null,
            "padding": null,
            "right": null,
            "top": null,
            "visibility": null,
            "width": null
          }
        },
        "2fd22b61a7644bd9bb1f9233cc866863": {
          "model_module": "@jupyter-widgets/controls",
          "model_name": "ProgressStyleModel",
          "model_module_version": "1.5.0",
          "state": {
            "_model_module": "@jupyter-widgets/controls",
            "_model_module_version": "1.5.0",
            "_model_name": "ProgressStyleModel",
            "_view_count": null,
            "_view_module": "@jupyter-widgets/base",
            "_view_module_version": "1.2.0",
            "_view_name": "StyleView",
            "bar_color": null,
            "description_width": ""
          }
        },
        "95075d70c53f4eabb3fff210eea19aa9": {
          "model_module": "@jupyter-widgets/base",
          "model_name": "LayoutModel",
          "model_module_version": "1.2.0",
          "state": {
            "_model_module": "@jupyter-widgets/base",
            "_model_module_version": "1.2.0",
            "_model_name": "LayoutModel",
            "_view_count": null,
            "_view_module": "@jupyter-widgets/base",
            "_view_module_version": "1.2.0",
            "_view_name": "LayoutView",
            "align_content": null,
            "align_items": null,
            "align_self": null,
            "border": null,
            "bottom": null,
            "display": null,
            "flex": null,
            "flex_flow": null,
            "grid_area": null,
            "grid_auto_columns": null,
            "grid_auto_flow": null,
            "grid_auto_rows": null,
            "grid_column": null,
            "grid_gap": null,
            "grid_row": null,
            "grid_template_areas": null,
            "grid_template_columns": null,
            "grid_template_rows": null,
            "height": null,
            "justify_content": null,
            "justify_items": null,
            "left": null,
            "margin": null,
            "max_height": null,
            "max_width": null,
            "min_height": null,
            "min_width": null,
            "object_fit": null,
            "object_position": null,
            "order": null,
            "overflow": null,
            "overflow_x": null,
            "overflow_y": null,
            "padding": null,
            "right": null,
            "top": null,
            "visibility": null,
            "width": null
          }
        },
        "1f44bee397804490a8f8afff2e254d18": {
          "model_module": "@jupyter-widgets/controls",
          "model_name": "DescriptionStyleModel",
          "model_module_version": "1.5.0",
          "state": {
            "_model_module": "@jupyter-widgets/controls",
            "_model_module_version": "1.5.0",
            "_model_name": "DescriptionStyleModel",
            "_view_count": null,
            "_view_module": "@jupyter-widgets/base",
            "_view_module_version": "1.2.0",
            "_view_name": "StyleView",
            "description_width": ""
          }
        },
        "24ff2d4001ca47fdbbbf8622522c1af8": {
          "model_module": "@jupyter-widgets/controls",
          "model_name": "HBoxModel",
          "model_module_version": "1.5.0",
          "state": {
            "_dom_classes": [],
            "_model_module": "@jupyter-widgets/controls",
            "_model_module_version": "1.5.0",
            "_model_name": "HBoxModel",
            "_view_count": null,
            "_view_module": "@jupyter-widgets/controls",
            "_view_module_version": "1.5.0",
            "_view_name": "HBoxView",
            "box_style": "",
            "children": [
              "IPY_MODEL_461278e4e97a46bdb66a06c0d050829f",
              "IPY_MODEL_924f24e3a72f4daa9cc01ad19e81dbcd",
              "IPY_MODEL_6b6d5d416a1c42448dd31ae7fc3ed9a9"
            ],
            "layout": "IPY_MODEL_d6ed1851e7e74b7ca740da5de2d37262"
          }
        },
        "461278e4e97a46bdb66a06c0d050829f": {
          "model_module": "@jupyter-widgets/controls",
          "model_name": "HTMLModel",
          "model_module_version": "1.5.0",
          "state": {
            "_dom_classes": [],
            "_model_module": "@jupyter-widgets/controls",
            "_model_module_version": "1.5.0",
            "_model_name": "HTMLModel",
            "_view_count": null,
            "_view_module": "@jupyter-widgets/controls",
            "_view_module_version": "1.5.0",
            "_view_name": "HTMLView",
            "description": "",
            "description_tooltip": null,
            "layout": "IPY_MODEL_8e294b1edd10406c9df255fb394cf91b",
            "placeholder": "​",
            "style": "IPY_MODEL_c5719c86ede04cafaa41b09abe229419",
            "value": "100%"
          }
        },
        "924f24e3a72f4daa9cc01ad19e81dbcd": {
          "model_module": "@jupyter-widgets/controls",
          "model_name": "FloatProgressModel",
          "model_module_version": "1.5.0",
          "state": {
            "_dom_classes": [],
            "_model_module": "@jupyter-widgets/controls",
            "_model_module_version": "1.5.0",
            "_model_name": "FloatProgressModel",
            "_view_count": null,
            "_view_module": "@jupyter-widgets/controls",
            "_view_module_version": "1.5.0",
            "_view_name": "ProgressView",
            "bar_style": "success",
            "description": "",
            "description_tooltip": null,
            "layout": "IPY_MODEL_3a4d68c305c04935b6d7c10f52694522",
            "max": 500,
            "min": 0,
            "orientation": "horizontal",
            "style": "IPY_MODEL_a9dd225b243045918cef311436660cf7",
            "value": 500
          }
        },
        "6b6d5d416a1c42448dd31ae7fc3ed9a9": {
          "model_module": "@jupyter-widgets/controls",
          "model_name": "HTMLModel",
          "model_module_version": "1.5.0",
          "state": {
            "_dom_classes": [],
            "_model_module": "@jupyter-widgets/controls",
            "_model_module_version": "1.5.0",
            "_model_name": "HTMLModel",
            "_view_count": null,
            "_view_module": "@jupyter-widgets/controls",
            "_view_module_version": "1.5.0",
            "_view_name": "HTMLView",
            "description": "",
            "description_tooltip": null,
            "layout": "IPY_MODEL_60c1e6735a404ea7a730cbeee5a03e26",
            "placeholder": "​",
            "style": "IPY_MODEL_5c7e3c5e53104b0ab62285b2b092b79b",
            "value": " 500/500 [03:21&lt;00:00,  3.16it/s]"
          }
        },
        "d6ed1851e7e74b7ca740da5de2d37262": {
          "model_module": "@jupyter-widgets/base",
          "model_name": "LayoutModel",
          "model_module_version": "1.2.0",
          "state": {
            "_model_module": "@jupyter-widgets/base",
            "_model_module_version": "1.2.0",
            "_model_name": "LayoutModel",
            "_view_count": null,
            "_view_module": "@jupyter-widgets/base",
            "_view_module_version": "1.2.0",
            "_view_name": "LayoutView",
            "align_content": null,
            "align_items": null,
            "align_self": null,
            "border": null,
            "bottom": null,
            "display": null,
            "flex": null,
            "flex_flow": null,
            "grid_area": null,
            "grid_auto_columns": null,
            "grid_auto_flow": null,
            "grid_auto_rows": null,
            "grid_column": null,
            "grid_gap": null,
            "grid_row": null,
            "grid_template_areas": null,
            "grid_template_columns": null,
            "grid_template_rows": null,
            "height": null,
            "justify_content": null,
            "justify_items": null,
            "left": null,
            "margin": null,
            "max_height": null,
            "max_width": null,
            "min_height": null,
            "min_width": null,
            "object_fit": null,
            "object_position": null,
            "order": null,
            "overflow": null,
            "overflow_x": null,
            "overflow_y": null,
            "padding": null,
            "right": null,
            "top": null,
            "visibility": null,
            "width": null
          }
        },
        "8e294b1edd10406c9df255fb394cf91b": {
          "model_module": "@jupyter-widgets/base",
          "model_name": "LayoutModel",
          "model_module_version": "1.2.0",
          "state": {
            "_model_module": "@jupyter-widgets/base",
            "_model_module_version": "1.2.0",
            "_model_name": "LayoutModel",
            "_view_count": null,
            "_view_module": "@jupyter-widgets/base",
            "_view_module_version": "1.2.0",
            "_view_name": "LayoutView",
            "align_content": null,
            "align_items": null,
            "align_self": null,
            "border": null,
            "bottom": null,
            "display": null,
            "flex": null,
            "flex_flow": null,
            "grid_area": null,
            "grid_auto_columns": null,
            "grid_auto_flow": null,
            "grid_auto_rows": null,
            "grid_column": null,
            "grid_gap": null,
            "grid_row": null,
            "grid_template_areas": null,
            "grid_template_columns": null,
            "grid_template_rows": null,
            "height": null,
            "justify_content": null,
            "justify_items": null,
            "left": null,
            "margin": null,
            "max_height": null,
            "max_width": null,
            "min_height": null,
            "min_width": null,
            "object_fit": null,
            "object_position": null,
            "order": null,
            "overflow": null,
            "overflow_x": null,
            "overflow_y": null,
            "padding": null,
            "right": null,
            "top": null,
            "visibility": null,
            "width": null
          }
        },
        "c5719c86ede04cafaa41b09abe229419": {
          "model_module": "@jupyter-widgets/controls",
          "model_name": "DescriptionStyleModel",
          "model_module_version": "1.5.0",
          "state": {
            "_model_module": "@jupyter-widgets/controls",
            "_model_module_version": "1.5.0",
            "_model_name": "DescriptionStyleModel",
            "_view_count": null,
            "_view_module": "@jupyter-widgets/base",
            "_view_module_version": "1.2.0",
            "_view_name": "StyleView",
            "description_width": ""
          }
        },
        "3a4d68c305c04935b6d7c10f52694522": {
          "model_module": "@jupyter-widgets/base",
          "model_name": "LayoutModel",
          "model_module_version": "1.2.0",
          "state": {
            "_model_module": "@jupyter-widgets/base",
            "_model_module_version": "1.2.0",
            "_model_name": "LayoutModel",
            "_view_count": null,
            "_view_module": "@jupyter-widgets/base",
            "_view_module_version": "1.2.0",
            "_view_name": "LayoutView",
            "align_content": null,
            "align_items": null,
            "align_self": null,
            "border": null,
            "bottom": null,
            "display": null,
            "flex": null,
            "flex_flow": null,
            "grid_area": null,
            "grid_auto_columns": null,
            "grid_auto_flow": null,
            "grid_auto_rows": null,
            "grid_column": null,
            "grid_gap": null,
            "grid_row": null,
            "grid_template_areas": null,
            "grid_template_columns": null,
            "grid_template_rows": null,
            "height": null,
            "justify_content": null,
            "justify_items": null,
            "left": null,
            "margin": null,
            "max_height": null,
            "max_width": null,
            "min_height": null,
            "min_width": null,
            "object_fit": null,
            "object_position": null,
            "order": null,
            "overflow": null,
            "overflow_x": null,
            "overflow_y": null,
            "padding": null,
            "right": null,
            "top": null,
            "visibility": null,
            "width": null
          }
        },
        "a9dd225b243045918cef311436660cf7": {
          "model_module": "@jupyter-widgets/controls",
          "model_name": "ProgressStyleModel",
          "model_module_version": "1.5.0",
          "state": {
            "_model_module": "@jupyter-widgets/controls",
            "_model_module_version": "1.5.0",
            "_model_name": "ProgressStyleModel",
            "_view_count": null,
            "_view_module": "@jupyter-widgets/base",
            "_view_module_version": "1.2.0",
            "_view_name": "StyleView",
            "bar_color": null,
            "description_width": ""
          }
        },
        "60c1e6735a404ea7a730cbeee5a03e26": {
          "model_module": "@jupyter-widgets/base",
          "model_name": "LayoutModel",
          "model_module_version": "1.2.0",
          "state": {
            "_model_module": "@jupyter-widgets/base",
            "_model_module_version": "1.2.0",
            "_model_name": "LayoutModel",
            "_view_count": null,
            "_view_module": "@jupyter-widgets/base",
            "_view_module_version": "1.2.0",
            "_view_name": "LayoutView",
            "align_content": null,
            "align_items": null,
            "align_self": null,
            "border": null,
            "bottom": null,
            "display": null,
            "flex": null,
            "flex_flow": null,
            "grid_area": null,
            "grid_auto_columns": null,
            "grid_auto_flow": null,
            "grid_auto_rows": null,
            "grid_column": null,
            "grid_gap": null,
            "grid_row": null,
            "grid_template_areas": null,
            "grid_template_columns": null,
            "grid_template_rows": null,
            "height": null,
            "justify_content": null,
            "justify_items": null,
            "left": null,
            "margin": null,
            "max_height": null,
            "max_width": null,
            "min_height": null,
            "min_width": null,
            "object_fit": null,
            "object_position": null,
            "order": null,
            "overflow": null,
            "overflow_x": null,
            "overflow_y": null,
            "padding": null,
            "right": null,
            "top": null,
            "visibility": null,
            "width": null
          }
        },
        "5c7e3c5e53104b0ab62285b2b092b79b": {
          "model_module": "@jupyter-widgets/controls",
          "model_name": "DescriptionStyleModel",
          "model_module_version": "1.5.0",
          "state": {
            "_model_module": "@jupyter-widgets/controls",
            "_model_module_version": "1.5.0",
            "_model_name": "DescriptionStyleModel",
            "_view_count": null,
            "_view_module": "@jupyter-widgets/base",
            "_view_module_version": "1.2.0",
            "_view_name": "StyleView",
            "description_width": ""
          }
        },
        "3c098616673241669b40da335c1db5b7": {
          "model_module": "@jupyter-widgets/controls",
          "model_name": "HBoxModel",
          "model_module_version": "1.5.0",
          "state": {
            "_dom_classes": [],
            "_model_module": "@jupyter-widgets/controls",
            "_model_module_version": "1.5.0",
            "_model_name": "HBoxModel",
            "_view_count": null,
            "_view_module": "@jupyter-widgets/controls",
            "_view_module_version": "1.5.0",
            "_view_name": "HBoxView",
            "box_style": "",
            "children": [
              "IPY_MODEL_597f4e7de7654d9c9e3dd4de3f66bbf2",
              "IPY_MODEL_523baf4743ab46a68fc1adfd0860459b",
              "IPY_MODEL_7700007eadeb413398b21b751fb3f52c"
            ],
            "layout": "IPY_MODEL_a211764349d5420686bb4b9086a63ad7"
          }
        },
        "597f4e7de7654d9c9e3dd4de3f66bbf2": {
          "model_module": "@jupyter-widgets/controls",
          "model_name": "HTMLModel",
          "model_module_version": "1.5.0",
          "state": {
            "_dom_classes": [],
            "_model_module": "@jupyter-widgets/controls",
            "_model_module_version": "1.5.0",
            "_model_name": "HTMLModel",
            "_view_count": null,
            "_view_module": "@jupyter-widgets/controls",
            "_view_module_version": "1.5.0",
            "_view_name": "HTMLView",
            "description": "",
            "description_tooltip": null,
            "layout": "IPY_MODEL_3f96f4ab2ff641df825fa53307831935",
            "placeholder": "​",
            "style": "IPY_MODEL_05cf783a63ea4daaae002b796591a7cb",
            "value": "train loss:0.0: 100%"
          }
        },
        "523baf4743ab46a68fc1adfd0860459b": {
          "model_module": "@jupyter-widgets/controls",
          "model_name": "FloatProgressModel",
          "model_module_version": "1.5.0",
          "state": {
            "_dom_classes": [],
            "_model_module": "@jupyter-widgets/controls",
            "_model_module_version": "1.5.0",
            "_model_name": "FloatProgressModel",
            "_view_count": null,
            "_view_module": "@jupyter-widgets/controls",
            "_view_module_version": "1.5.0",
            "_view_name": "ProgressView",
            "bar_style": "success",
            "description": "",
            "description_tooltip": null,
            "layout": "IPY_MODEL_34b104404b6245309328f34ba529d57d",
            "max": 10000,
            "min": 0,
            "orientation": "horizontal",
            "style": "IPY_MODEL_ce4a7480107a46378deda1885a5925be",
            "value": 10000
          }
        },
        "7700007eadeb413398b21b751fb3f52c": {
          "model_module": "@jupyter-widgets/controls",
          "model_name": "HTMLModel",
          "model_module_version": "1.5.0",
          "state": {
            "_dom_classes": [],
            "_model_module": "@jupyter-widgets/controls",
            "_model_module_version": "1.5.0",
            "_model_name": "HTMLModel",
            "_view_count": null,
            "_view_module": "@jupyter-widgets/controls",
            "_view_module_version": "1.5.0",
            "_view_name": "HTMLView",
            "description": "",
            "description_tooltip": null,
            "layout": "IPY_MODEL_84c0204de8a749ed85bd212ea38f18fd",
            "placeholder": "​",
            "style": "IPY_MODEL_0cde7dca622c452d87c996b68997feed",
            "value": " 10000/10000 [20:25&lt;00:00,  8.59it/s]"
          }
        },
        "a211764349d5420686bb4b9086a63ad7": {
          "model_module": "@jupyter-widgets/base",
          "model_name": "LayoutModel",
          "model_module_version": "1.2.0",
          "state": {
            "_model_module": "@jupyter-widgets/base",
            "_model_module_version": "1.2.0",
            "_model_name": "LayoutModel",
            "_view_count": null,
            "_view_module": "@jupyter-widgets/base",
            "_view_module_version": "1.2.0",
            "_view_name": "LayoutView",
            "align_content": null,
            "align_items": null,
            "align_self": null,
            "border": null,
            "bottom": null,
            "display": null,
            "flex": null,
            "flex_flow": null,
            "grid_area": null,
            "grid_auto_columns": null,
            "grid_auto_flow": null,
            "grid_auto_rows": null,
            "grid_column": null,
            "grid_gap": null,
            "grid_row": null,
            "grid_template_areas": null,
            "grid_template_columns": null,
            "grid_template_rows": null,
            "height": null,
            "justify_content": null,
            "justify_items": null,
            "left": null,
            "margin": null,
            "max_height": null,
            "max_width": null,
            "min_height": null,
            "min_width": null,
            "object_fit": null,
            "object_position": null,
            "order": null,
            "overflow": null,
            "overflow_x": null,
            "overflow_y": null,
            "padding": null,
            "right": null,
            "top": null,
            "visibility": null,
            "width": null
          }
        },
        "3f96f4ab2ff641df825fa53307831935": {
          "model_module": "@jupyter-widgets/base",
          "model_name": "LayoutModel",
          "model_module_version": "1.2.0",
          "state": {
            "_model_module": "@jupyter-widgets/base",
            "_model_module_version": "1.2.0",
            "_model_name": "LayoutModel",
            "_view_count": null,
            "_view_module": "@jupyter-widgets/base",
            "_view_module_version": "1.2.0",
            "_view_name": "LayoutView",
            "align_content": null,
            "align_items": null,
            "align_self": null,
            "border": null,
            "bottom": null,
            "display": null,
            "flex": null,
            "flex_flow": null,
            "grid_area": null,
            "grid_auto_columns": null,
            "grid_auto_flow": null,
            "grid_auto_rows": null,
            "grid_column": null,
            "grid_gap": null,
            "grid_row": null,
            "grid_template_areas": null,
            "grid_template_columns": null,
            "grid_template_rows": null,
            "height": null,
            "justify_content": null,
            "justify_items": null,
            "left": null,
            "margin": null,
            "max_height": null,
            "max_width": null,
            "min_height": null,
            "min_width": null,
            "object_fit": null,
            "object_position": null,
            "order": null,
            "overflow": null,
            "overflow_x": null,
            "overflow_y": null,
            "padding": null,
            "right": null,
            "top": null,
            "visibility": null,
            "width": null
          }
        },
        "05cf783a63ea4daaae002b796591a7cb": {
          "model_module": "@jupyter-widgets/controls",
          "model_name": "DescriptionStyleModel",
          "model_module_version": "1.5.0",
          "state": {
            "_model_module": "@jupyter-widgets/controls",
            "_model_module_version": "1.5.0",
            "_model_name": "DescriptionStyleModel",
            "_view_count": null,
            "_view_module": "@jupyter-widgets/base",
            "_view_module_version": "1.2.0",
            "_view_name": "StyleView",
            "description_width": ""
          }
        },
        "34b104404b6245309328f34ba529d57d": {
          "model_module": "@jupyter-widgets/base",
          "model_name": "LayoutModel",
          "model_module_version": "1.2.0",
          "state": {
            "_model_module": "@jupyter-widgets/base",
            "_model_module_version": "1.2.0",
            "_model_name": "LayoutModel",
            "_view_count": null,
            "_view_module": "@jupyter-widgets/base",
            "_view_module_version": "1.2.0",
            "_view_name": "LayoutView",
            "align_content": null,
            "align_items": null,
            "align_self": null,
            "border": null,
            "bottom": null,
            "display": null,
            "flex": null,
            "flex_flow": null,
            "grid_area": null,
            "grid_auto_columns": null,
            "grid_auto_flow": null,
            "grid_auto_rows": null,
            "grid_column": null,
            "grid_gap": null,
            "grid_row": null,
            "grid_template_areas": null,
            "grid_template_columns": null,
            "grid_template_rows": null,
            "height": null,
            "justify_content": null,
            "justify_items": null,
            "left": null,
            "margin": null,
            "max_height": null,
            "max_width": null,
            "min_height": null,
            "min_width": null,
            "object_fit": null,
            "object_position": null,
            "order": null,
            "overflow": null,
            "overflow_x": null,
            "overflow_y": null,
            "padding": null,
            "right": null,
            "top": null,
            "visibility": null,
            "width": null
          }
        },
        "ce4a7480107a46378deda1885a5925be": {
          "model_module": "@jupyter-widgets/controls",
          "model_name": "ProgressStyleModel",
          "model_module_version": "1.5.0",
          "state": {
            "_model_module": "@jupyter-widgets/controls",
            "_model_module_version": "1.5.0",
            "_model_name": "ProgressStyleModel",
            "_view_count": null,
            "_view_module": "@jupyter-widgets/base",
            "_view_module_version": "1.2.0",
            "_view_name": "StyleView",
            "bar_color": null,
            "description_width": ""
          }
        },
        "84c0204de8a749ed85bd212ea38f18fd": {
          "model_module": "@jupyter-widgets/base",
          "model_name": "LayoutModel",
          "model_module_version": "1.2.0",
          "state": {
            "_model_module": "@jupyter-widgets/base",
            "_model_module_version": "1.2.0",
            "_model_name": "LayoutModel",
            "_view_count": null,
            "_view_module": "@jupyter-widgets/base",
            "_view_module_version": "1.2.0",
            "_view_name": "LayoutView",
            "align_content": null,
            "align_items": null,
            "align_self": null,
            "border": null,
            "bottom": null,
            "display": null,
            "flex": null,
            "flex_flow": null,
            "grid_area": null,
            "grid_auto_columns": null,
            "grid_auto_flow": null,
            "grid_auto_rows": null,
            "grid_column": null,
            "grid_gap": null,
            "grid_row": null,
            "grid_template_areas": null,
            "grid_template_columns": null,
            "grid_template_rows": null,
            "height": null,
            "justify_content": null,
            "justify_items": null,
            "left": null,
            "margin": null,
            "max_height": null,
            "max_width": null,
            "min_height": null,
            "min_width": null,
            "object_fit": null,
            "object_position": null,
            "order": null,
            "overflow": null,
            "overflow_x": null,
            "overflow_y": null,
            "padding": null,
            "right": null,
            "top": null,
            "visibility": null,
            "width": null
          }
        },
        "0cde7dca622c452d87c996b68997feed": {
          "model_module": "@jupyter-widgets/controls",
          "model_name": "DescriptionStyleModel",
          "model_module_version": "1.5.0",
          "state": {
            "_model_module": "@jupyter-widgets/controls",
            "_model_module_version": "1.5.0",
            "_model_name": "DescriptionStyleModel",
            "_view_count": null,
            "_view_module": "@jupyter-widgets/base",
            "_view_module_version": "1.2.0",
            "_view_name": "StyleView",
            "description_width": ""
          }
        },
        "67a8989a409f4f91b7d32bd273f11a46": {
          "model_module": "@jupyter-widgets/controls",
          "model_name": "HBoxModel",
          "model_module_version": "1.5.0",
          "state": {
            "_dom_classes": [],
            "_model_module": "@jupyter-widgets/controls",
            "_model_module_version": "1.5.0",
            "_model_name": "HBoxModel",
            "_view_count": null,
            "_view_module": "@jupyter-widgets/controls",
            "_view_module_version": "1.5.0",
            "_view_name": "HBoxView",
            "box_style": "",
            "children": [
              "IPY_MODEL_bab2c932eb4846d681f8549227d97db9",
              "IPY_MODEL_97ea2c3fa10f4a0295badc2d45c70ab7",
              "IPY_MODEL_3ab2631f839e4aba94844b8b85593371"
            ],
            "layout": "IPY_MODEL_b8c6e75478b64b92b9f19d0aa7ca0eab"
          }
        },
        "bab2c932eb4846d681f8549227d97db9": {
          "model_module": "@jupyter-widgets/controls",
          "model_name": "HTMLModel",
          "model_module_version": "1.5.0",
          "state": {
            "_dom_classes": [],
            "_model_module": "@jupyter-widgets/controls",
            "_model_module_version": "1.5.0",
            "_model_name": "HTMLModel",
            "_view_count": null,
            "_view_module": "@jupyter-widgets/controls",
            "_view_module_version": "1.5.0",
            "_view_name": "HTMLView",
            "description": "",
            "description_tooltip": null,
            "layout": "IPY_MODEL_4b5bc3910fe044c39162cb9be152ad44",
            "placeholder": "​",
            "style": "IPY_MODEL_aeec3f924eca48c489d85a0316d59803",
            "value": "100%"
          }
        },
        "97ea2c3fa10f4a0295badc2d45c70ab7": {
          "model_module": "@jupyter-widgets/controls",
          "model_name": "FloatProgressModel",
          "model_module_version": "1.5.0",
          "state": {
            "_dom_classes": [],
            "_model_module": "@jupyter-widgets/controls",
            "_model_module_version": "1.5.0",
            "_model_name": "FloatProgressModel",
            "_view_count": null,
            "_view_module": "@jupyter-widgets/controls",
            "_view_module_version": "1.5.0",
            "_view_name": "ProgressView",
            "bar_style": "success",
            "description": "",
            "description_tooltip": null,
            "layout": "IPY_MODEL_74f6512ab0e54868996776214b540784",
            "max": 500,
            "min": 0,
            "orientation": "horizontal",
            "style": "IPY_MODEL_de61eb448ec348b59724124872f875ba",
            "value": 500
          }
        },
        "3ab2631f839e4aba94844b8b85593371": {
          "model_module": "@jupyter-widgets/controls",
          "model_name": "HTMLModel",
          "model_module_version": "1.5.0",
          "state": {
            "_dom_classes": [],
            "_model_module": "@jupyter-widgets/controls",
            "_model_module_version": "1.5.0",
            "_model_name": "HTMLModel",
            "_view_count": null,
            "_view_module": "@jupyter-widgets/controls",
            "_view_module_version": "1.5.0",
            "_view_name": "HTMLView",
            "description": "",
            "description_tooltip": null,
            "layout": "IPY_MODEL_8da65478d7494c1e8650888180169f68",
            "placeholder": "​",
            "style": "IPY_MODEL_076dd63c326549b9ac1fd26ff07b8e66",
            "value": " 500/500 [03:09&lt;00:00,  3.53it/s]"
          }
        },
        "b8c6e75478b64b92b9f19d0aa7ca0eab": {
          "model_module": "@jupyter-widgets/base",
          "model_name": "LayoutModel",
          "model_module_version": "1.2.0",
          "state": {
            "_model_module": "@jupyter-widgets/base",
            "_model_module_version": "1.2.0",
            "_model_name": "LayoutModel",
            "_view_count": null,
            "_view_module": "@jupyter-widgets/base",
            "_view_module_version": "1.2.0",
            "_view_name": "LayoutView",
            "align_content": null,
            "align_items": null,
            "align_self": null,
            "border": null,
            "bottom": null,
            "display": null,
            "flex": null,
            "flex_flow": null,
            "grid_area": null,
            "grid_auto_columns": null,
            "grid_auto_flow": null,
            "grid_auto_rows": null,
            "grid_column": null,
            "grid_gap": null,
            "grid_row": null,
            "grid_template_areas": null,
            "grid_template_columns": null,
            "grid_template_rows": null,
            "height": null,
            "justify_content": null,
            "justify_items": null,
            "left": null,
            "margin": null,
            "max_height": null,
            "max_width": null,
            "min_height": null,
            "min_width": null,
            "object_fit": null,
            "object_position": null,
            "order": null,
            "overflow": null,
            "overflow_x": null,
            "overflow_y": null,
            "padding": null,
            "right": null,
            "top": null,
            "visibility": null,
            "width": null
          }
        },
        "4b5bc3910fe044c39162cb9be152ad44": {
          "model_module": "@jupyter-widgets/base",
          "model_name": "LayoutModel",
          "model_module_version": "1.2.0",
          "state": {
            "_model_module": "@jupyter-widgets/base",
            "_model_module_version": "1.2.0",
            "_model_name": "LayoutModel",
            "_view_count": null,
            "_view_module": "@jupyter-widgets/base",
            "_view_module_version": "1.2.0",
            "_view_name": "LayoutView",
            "align_content": null,
            "align_items": null,
            "align_self": null,
            "border": null,
            "bottom": null,
            "display": null,
            "flex": null,
            "flex_flow": null,
            "grid_area": null,
            "grid_auto_columns": null,
            "grid_auto_flow": null,
            "grid_auto_rows": null,
            "grid_column": null,
            "grid_gap": null,
            "grid_row": null,
            "grid_template_areas": null,
            "grid_template_columns": null,
            "grid_template_rows": null,
            "height": null,
            "justify_content": null,
            "justify_items": null,
            "left": null,
            "margin": null,
            "max_height": null,
            "max_width": null,
            "min_height": null,
            "min_width": null,
            "object_fit": null,
            "object_position": null,
            "order": null,
            "overflow": null,
            "overflow_x": null,
            "overflow_y": null,
            "padding": null,
            "right": null,
            "top": null,
            "visibility": null,
            "width": null
          }
        },
        "aeec3f924eca48c489d85a0316d59803": {
          "model_module": "@jupyter-widgets/controls",
          "model_name": "DescriptionStyleModel",
          "model_module_version": "1.5.0",
          "state": {
            "_model_module": "@jupyter-widgets/controls",
            "_model_module_version": "1.5.0",
            "_model_name": "DescriptionStyleModel",
            "_view_count": null,
            "_view_module": "@jupyter-widgets/base",
            "_view_module_version": "1.2.0",
            "_view_name": "StyleView",
            "description_width": ""
          }
        },
        "74f6512ab0e54868996776214b540784": {
          "model_module": "@jupyter-widgets/base",
          "model_name": "LayoutModel",
          "model_module_version": "1.2.0",
          "state": {
            "_model_module": "@jupyter-widgets/base",
            "_model_module_version": "1.2.0",
            "_model_name": "LayoutModel",
            "_view_count": null,
            "_view_module": "@jupyter-widgets/base",
            "_view_module_version": "1.2.0",
            "_view_name": "LayoutView",
            "align_content": null,
            "align_items": null,
            "align_self": null,
            "border": null,
            "bottom": null,
            "display": null,
            "flex": null,
            "flex_flow": null,
            "grid_area": null,
            "grid_auto_columns": null,
            "grid_auto_flow": null,
            "grid_auto_rows": null,
            "grid_column": null,
            "grid_gap": null,
            "grid_row": null,
            "grid_template_areas": null,
            "grid_template_columns": null,
            "grid_template_rows": null,
            "height": null,
            "justify_content": null,
            "justify_items": null,
            "left": null,
            "margin": null,
            "max_height": null,
            "max_width": null,
            "min_height": null,
            "min_width": null,
            "object_fit": null,
            "object_position": null,
            "order": null,
            "overflow": null,
            "overflow_x": null,
            "overflow_y": null,
            "padding": null,
            "right": null,
            "top": null,
            "visibility": null,
            "width": null
          }
        },
        "de61eb448ec348b59724124872f875ba": {
          "model_module": "@jupyter-widgets/controls",
          "model_name": "ProgressStyleModel",
          "model_module_version": "1.5.0",
          "state": {
            "_model_module": "@jupyter-widgets/controls",
            "_model_module_version": "1.5.0",
            "_model_name": "ProgressStyleModel",
            "_view_count": null,
            "_view_module": "@jupyter-widgets/base",
            "_view_module_version": "1.2.0",
            "_view_name": "StyleView",
            "bar_color": null,
            "description_width": ""
          }
        },
        "8da65478d7494c1e8650888180169f68": {
          "model_module": "@jupyter-widgets/base",
          "model_name": "LayoutModel",
          "model_module_version": "1.2.0",
          "state": {
            "_model_module": "@jupyter-widgets/base",
            "_model_module_version": "1.2.0",
            "_model_name": "LayoutModel",
            "_view_count": null,
            "_view_module": "@jupyter-widgets/base",
            "_view_module_version": "1.2.0",
            "_view_name": "LayoutView",
            "align_content": null,
            "align_items": null,
            "align_self": null,
            "border": null,
            "bottom": null,
            "display": null,
            "flex": null,
            "flex_flow": null,
            "grid_area": null,
            "grid_auto_columns": null,
            "grid_auto_flow": null,
            "grid_auto_rows": null,
            "grid_column": null,
            "grid_gap": null,
            "grid_row": null,
            "grid_template_areas": null,
            "grid_template_columns": null,
            "grid_template_rows": null,
            "height": null,
            "justify_content": null,
            "justify_items": null,
            "left": null,
            "margin": null,
            "max_height": null,
            "max_width": null,
            "min_height": null,
            "min_width": null,
            "object_fit": null,
            "object_position": null,
            "order": null,
            "overflow": null,
            "overflow_x": null,
            "overflow_y": null,
            "padding": null,
            "right": null,
            "top": null,
            "visibility": null,
            "width": null
          }
        },
        "076dd63c326549b9ac1fd26ff07b8e66": {
          "model_module": "@jupyter-widgets/controls",
          "model_name": "DescriptionStyleModel",
          "model_module_version": "1.5.0",
          "state": {
            "_model_module": "@jupyter-widgets/controls",
            "_model_module_version": "1.5.0",
            "_model_name": "DescriptionStyleModel",
            "_view_count": null,
            "_view_module": "@jupyter-widgets/base",
            "_view_module_version": "1.2.0",
            "_view_name": "StyleView",
            "description_width": ""
          }
        }
      }
    },
    "colab": {
      "provenance": []
    },
    "gpuClass": "standard"
  },
  "nbformat": 4,
  "nbformat_minor": 5
}