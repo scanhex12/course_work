{
  "cells": [
    {
      "cell_type": "markdown",
      "id": "633a6526",
      "metadata": {
        "_cell_guid": "b1076dfc-b9ad-4769-8c92-a6c4dae69d19",
        "_uuid": "8f2839f25d086af736a60e9eeb907d3b93b6e0e5",
        "papermill": {
          "duration": 0.008894,
          "end_time": "2022-12-26T12:13:57.397745",
          "exception": false,
          "start_time": "2022-12-26T12:13:57.388851",
          "status": "completed"
        },
        "tags": [],
        "id": "633a6526"
      },
      "source": [
        "# Imports 📥"
      ]
    },
    {
      "cell_type": "markdown",
      "id": "8b2d61b2",
      "metadata": {
        "papermill": {
          "duration": 0.007114,
          "end_time": "2022-12-26T12:13:57.412493",
          "exception": false,
          "start_time": "2022-12-26T12:13:57.405379",
          "status": "completed"
        },
        "tags": [],
        "id": "8b2d61b2"
      },
      "source": [
        "**🟦EN**\n",
        "\n"
      ]
    },
    {
      "cell_type": "markdown",
      "id": "d82ed76a",
      "metadata": {
        "papermill": {
          "duration": 0.007008,
          "end_time": "2022-12-26T12:13:57.426839",
          "exception": false,
          "start_time": "2022-12-26T12:13:57.419831",
          "status": "completed"
        },
        "tags": [],
        "id": "d82ed76a"
      },
      "source": [
        "**🟦EN** Install [polars](https://www.pola.rs/)\n",
        "\n"
      ]
    },
    {
      "cell_type": "code",
      "execution_count": null,
      "id": "74ef2d58",
      "metadata": {
        "execution": {
          "iopub.execute_input": "2022-12-26T12:13:57.443924Z",
          "iopub.status.busy": "2022-12-26T12:13:57.443166Z",
          "iopub.status.idle": "2022-12-26T12:14:14.024992Z",
          "shell.execute_reply": "2022-12-26T12:14:14.023684Z"
        },
        "papermill": {
          "duration": 16.593977,
          "end_time": "2022-12-26T12:14:14.028178",
          "exception": false,
          "start_time": "2022-12-26T12:13:57.434201",
          "status": "completed"
        },
        "tags": [],
        "id": "74ef2d58",
        "outputId": "b2c2be17-6b97-40c8-9182-77b683fd4782"
      },
      "outputs": [
        {
          "name": "stdout",
          "output_type": "stream",
          "text": [
            "Collecting polars\r\n",
            "  Downloading polars-0.15.8-cp37-abi3-manylinux_2_17_x86_64.manylinux2014_x86_64.whl (14.6 MB)\r\n",
            "\u001b[2K     \u001b[90m━━━━━━━━━━━━━━━━━━━━━━━━━━━━━━━━━━━━━━━━\u001b[0m \u001b[32m14.6/14.6 MB\u001b[0m \u001b[31m14.1 MB/s\u001b[0m eta \u001b[36m0:00:00\u001b[0m\r\n",
            "\u001b[?25hRequirement already satisfied: typing_extensions>=4.0.0 in /opt/conda/lib/python3.7/site-packages (from polars) (4.4.0)\r\n",
            "Installing collected packages: polars\r\n",
            "Successfully installed polars-0.15.8\r\n",
            "\u001b[33mWARNING: Running pip as the 'root' user can result in broken permissions and conflicting behaviour with the system package manager. It is recommended to use a virtual environment instead: https://pip.pypa.io/warnings/venv\u001b[0m\u001b[33m\r\n",
            "\u001b[0m"
          ]
        }
      ],
      "source": [
        "!pip install polars"
      ]
    },
    {
      "cell_type": "code",
      "execution_count": null,
      "id": "2af0ac84",
      "metadata": {
        "execution": {
          "iopub.execute_input": "2022-12-26T12:14:14.053329Z",
          "iopub.status.busy": "2022-12-26T12:14:14.052883Z",
          "iopub.status.idle": "2022-12-26T12:14:15.342994Z",
          "shell.execute_reply": "2022-12-26T12:14:15.341597Z"
        },
        "papermill": {
          "duration": 1.306815,
          "end_time": "2022-12-26T12:14:15.345744",
          "exception": false,
          "start_time": "2022-12-26T12:14:14.038929",
          "status": "completed"
        },
        "tags": [],
        "id": "2af0ac84"
      },
      "outputs": [],
      "source": [
        "import pandas as pd\n",
        "import seaborn as sns\n",
        "import numpy as np\n",
        "import multiprocessing\n",
        "import polars as pl\n",
        "from gensim.test.utils import common_texts\n",
        "from gensim.models import Word2Vec\n",
        "import os\n",
        "from annoy import AnnoyIndex\n",
        "import collections"
      ]
    },
    {
      "cell_type": "markdown",
      "id": "b395b5d6",
      "metadata": {
        "papermill": {
          "duration": 0.009943,
          "end_time": "2022-12-26T12:14:15.366540",
          "exception": false,
          "start_time": "2022-12-26T12:14:15.356597",
          "status": "completed"
        },
        "tags": [],
        "id": "b395b5d6"
      },
      "source": [
        "# Constants 📋"
      ]
    },
    {
      "cell_type": "code",
      "execution_count": null,
      "id": "93024355",
      "metadata": {
        "execution": {
          "iopub.execute_input": "2022-12-26T12:14:15.389232Z",
          "iopub.status.busy": "2022-12-26T12:14:15.388275Z",
          "iopub.status.idle": "2022-12-26T12:14:15.394113Z",
          "shell.execute_reply": "2022-12-26T12:14:15.392991Z"
        },
        "papermill": {
          "duration": 0.019856,
          "end_time": "2022-12-26T12:14:15.396557",
          "exception": false,
          "start_time": "2022-12-26T12:14:15.376701",
          "status": "completed"
        },
        "tags": [],
        "id": "93024355"
      },
      "outputs": [],
      "source": [
        "PATH = \"/kaggle/input/otto-full-optimized-memory-footprint\"\n",
        "TEST_NAME = \"test.parquet\"\n",
        "TRAIN_NAME = \"train.parquet\"\n",
        "TEST_PATH = os.path.join(PATH, TEST_NAME)\n",
        "TRAIN_PATH = os.path.join(PATH, TRAIN_NAME)"
      ]
    },
    {
      "cell_type": "markdown",
      "id": "ff6dfc9c",
      "metadata": {
        "papermill": {
          "duration": 0.009711,
          "end_time": "2022-12-26T12:14:15.416322",
          "exception": false,
          "start_time": "2022-12-26T12:14:15.406611",
          "status": "completed"
        },
        "tags": [],
        "id": "ff6dfc9c"
      },
      "source": [
        "# Funcions 📘"
      ]
    },
    {
      "cell_type": "code",
      "execution_count": null,
      "id": "3dfd42b4",
      "metadata": {
        "execution": {
          "iopub.execute_input": "2022-12-26T12:14:15.438007Z",
          "iopub.status.busy": "2022-12-26T12:14:15.437568Z",
          "iopub.status.idle": "2022-12-26T12:14:15.449344Z",
          "shell.execute_reply": "2022-12-26T12:14:15.448262Z"
        },
        "papermill": {
          "duration": 0.025637,
          "end_time": "2022-12-26T12:14:15.451812",
          "exception": false,
          "start_time": "2022-12-26T12:14:15.426175",
          "status": "completed"
        },
        "tags": [],
        "id": "3dfd42b4"
      },
      "outputs": [],
      "source": [
        "def m20_mult(x, n_length):\n",
        "    x = x[-20:]\n",
        "    if n_length > 19:\n",
        "        n_length = 19\n",
        "    if len(x) >= n_length:\n",
        "        y = []\n",
        "        y_sum = list(np.zeros(21-len(x)))\n",
        "        for i in range(n_length):\n",
        "            y.append(list(index.get_nns_by_item(x[-(i+1)], 21 - len(x))[1:]))\n",
        "            y_sum += y[-1]\n",
        "\n",
        "        counter = dict(collections.Counter(y_sum))\n",
        "        res = sorted(list(set(y_sum)), key = lambda d: counter[d], reverse=True)\n",
        "    else:\n",
        "        res = list(index.get_nns_by_item(x[-1], 21 - len(x))[1:])\n",
        "        \n",
        "    x = list(x) + list(res)[:20-len(x)]\n",
        "    \n",
        "    return x\n",
        "\n"
      ]
    },
    {
      "cell_type": "markdown",
      "id": "990b6d5a",
      "metadata": {
        "papermill": {
          "duration": 0.00977,
          "end_time": "2022-12-26T12:14:15.471786",
          "exception": false,
          "start_time": "2022-12-26T12:14:15.462016",
          "status": "completed"
        },
        "tags": [],
        "id": "990b6d5a"
      },
      "source": [
        "# Data modification 📊"
      ]
    },
    {
      "cell_type": "markdown",
      "id": "45f66777",
      "metadata": {
        "papermill": {
          "duration": 0.009667,
          "end_time": "2022-12-26T12:14:15.491502",
          "exception": false,
          "start_time": "2022-12-26T12:14:15.481835",
          "status": "completed"
        },
        "tags": [],
        "id": "45f66777"
      },
      "source": [
        "**🟦EN** Get data using *polar* and the función *read_paquet*\n",
        "\n"
      ]
    },
    {
      "cell_type": "code",
      "execution_count": null,
      "id": "9d0a4139",
      "metadata": {
        "execution": {
          "iopub.execute_input": "2022-12-26T12:14:15.513360Z",
          "iopub.status.busy": "2022-12-26T12:14:15.512905Z",
          "iopub.status.idle": "2022-12-26T12:14:30.462003Z",
          "shell.execute_reply": "2022-12-26T12:14:30.461056Z"
        },
        "papermill": {
          "duration": 14.963225,
          "end_time": "2022-12-26T12:14:30.464711",
          "exception": false,
          "start_time": "2022-12-26T12:14:15.501486",
          "status": "completed"
        },
        "tags": [],
        "id": "9d0a4139"
      },
      "outputs": [],
      "source": [
        "train_df = pl.read_parquet(TRAIN_PATH)\n",
        "test_df = pl.read_parquet(TEST_PATH)"
      ]
    },
    {
      "cell_type": "markdown",
      "id": "00d84d9b",
      "metadata": {
        "papermill": {
          "duration": 0.009822,
          "end_time": "2022-12-26T12:14:30.485480",
          "exception": false,
          "start_time": "2022-12-26T12:14:30.475658",
          "status": "completed"
        },
        "tags": [],
        "id": "00d84d9b"
      },
      "source": [
        "**🟦EN** Show the raw data\n",
        "\n"
      ]
    },
    {
      "cell_type": "code",
      "execution_count": null,
      "id": "2ca34ce1",
      "metadata": {
        "execution": {
          "iopub.execute_input": "2022-12-26T12:14:30.507622Z",
          "iopub.status.busy": "2022-12-26T12:14:30.506983Z",
          "iopub.status.idle": "2022-12-26T12:14:30.516611Z",
          "shell.execute_reply": "2022-12-26T12:14:30.515628Z"
        },
        "papermill": {
          "duration": 0.023469,
          "end_time": "2022-12-26T12:14:30.518867",
          "exception": false,
          "start_time": "2022-12-26T12:14:30.495398",
          "status": "completed"
        },
        "tags": [],
        "id": "2ca34ce1",
        "outputId": "3bd9152a-049d-4d66-e0b4-5f799d11f0d7"
      },
      "outputs": [
        {
          "data": {
            "text/html": [
              "<div>\n",
              "<style scoped>\n",
              "    .dataframe tbody tr th:only-of-type {\n",
              "        vertical-align: middle;\n",
              "    }\n",
              "\n",
              "    .dataframe tbody tr th {\n",
              "        vertical-align: top;\n",
              "    }\n",
              "\n",
              "    .dataframe thead th {\n",
              "        text-align: right;\n",
              "    }\n",
              "\n",
              "    .dataframe td {\n",
              "        white-space: pre;\n",
              "    }\n",
              "\n",
              "    .dataframe td {\n",
              "        padding-top: 0;\n",
              "    }\n",
              "\n",
              "    .dataframe td {\n",
              "        padding-bottom: 0;\n",
              "    }\n",
              "\n",
              "    .dataframe td {\n",
              "        line-height: 95%;\n",
              "    }\n",
              "</style>\n",
              "<table border=\"1\" class=\"dataframe\">\n",
              "<small>shape: (5, 4)</small>\n",
              "<thead>\n",
              "<tr>\n",
              "<th>\n",
              "session\n",
              "</th>\n",
              "<th>\n",
              "aid\n",
              "</th>\n",
              "<th>\n",
              "ts\n",
              "</th>\n",
              "<th>\n",
              "type\n",
              "</th>\n",
              "</tr>\n",
              "<tr>\n",
              "<td>\n",
              "i32\n",
              "</td>\n",
              "<td>\n",
              "i32\n",
              "</td>\n",
              "<td>\n",
              "i32\n",
              "</td>\n",
              "<td>\n",
              "u8\n",
              "</td>\n",
              "</tr>\n",
              "</thead>\n",
              "<tbody>\n",
              "<tr>\n",
              "<td>\n",
              "0\n",
              "</td>\n",
              "<td>\n",
              "1517085\n",
              "</td>\n",
              "<td>\n",
              "1659304800\n",
              "</td>\n",
              "<td>\n",
              "0\n",
              "</td>\n",
              "</tr>\n",
              "<tr>\n",
              "<td>\n",
              "0\n",
              "</td>\n",
              "<td>\n",
              "1563459\n",
              "</td>\n",
              "<td>\n",
              "1659304904\n",
              "</td>\n",
              "<td>\n",
              "0\n",
              "</td>\n",
              "</tr>\n",
              "<tr>\n",
              "<td>\n",
              "0\n",
              "</td>\n",
              "<td>\n",
              "1309446\n",
              "</td>\n",
              "<td>\n",
              "1659367439\n",
              "</td>\n",
              "<td>\n",
              "0\n",
              "</td>\n",
              "</tr>\n",
              "<tr>\n",
              "<td>\n",
              "0\n",
              "</td>\n",
              "<td>\n",
              "16246\n",
              "</td>\n",
              "<td>\n",
              "1659367719\n",
              "</td>\n",
              "<td>\n",
              "0\n",
              "</td>\n",
              "</tr>\n",
              "<tr>\n",
              "<td>\n",
              "0\n",
              "</td>\n",
              "<td>\n",
              "1781822\n",
              "</td>\n",
              "<td>\n",
              "1659367871\n",
              "</td>\n",
              "<td>\n",
              "0\n",
              "</td>\n",
              "</tr>\n",
              "</tbody>\n",
              "</table>\n",
              "</div>"
            ],
            "text/plain": [
              "shape: (5, 4)\n",
              "┌─────────┬─────────┬────────────┬──────┐\n",
              "│ session ┆ aid     ┆ ts         ┆ type │\n",
              "│ ---     ┆ ---     ┆ ---        ┆ ---  │\n",
              "│ i32     ┆ i32     ┆ i32        ┆ u8   │\n",
              "╞═════════╪═════════╪════════════╪══════╡\n",
              "│ 0       ┆ 1517085 ┆ 1659304800 ┆ 0    │\n",
              "├╌╌╌╌╌╌╌╌╌┼╌╌╌╌╌╌╌╌╌┼╌╌╌╌╌╌╌╌╌╌╌╌┼╌╌╌╌╌╌┤\n",
              "│ 0       ┆ 1563459 ┆ 1659304904 ┆ 0    │\n",
              "├╌╌╌╌╌╌╌╌╌┼╌╌╌╌╌╌╌╌╌┼╌╌╌╌╌╌╌╌╌╌╌╌┼╌╌╌╌╌╌┤\n",
              "│ 0       ┆ 1309446 ┆ 1659367439 ┆ 0    │\n",
              "├╌╌╌╌╌╌╌╌╌┼╌╌╌╌╌╌╌╌╌┼╌╌╌╌╌╌╌╌╌╌╌╌┼╌╌╌╌╌╌┤\n",
              "│ 0       ┆ 16246   ┆ 1659367719 ┆ 0    │\n",
              "├╌╌╌╌╌╌╌╌╌┼╌╌╌╌╌╌╌╌╌┼╌╌╌╌╌╌╌╌╌╌╌╌┼╌╌╌╌╌╌┤\n",
              "│ 0       ┆ 1781822 ┆ 1659367871 ┆ 0    │\n",
              "└─────────┴─────────┴────────────┴──────┘"
            ]
          },
          "execution_count": 6,
          "metadata": {},
          "output_type": "execute_result"
        }
      ],
      "source": [
        "train_df.head()"
      ]
    },
    {
      "cell_type": "code",
      "execution_count": null,
      "id": "c1e62ed7",
      "metadata": {
        "execution": {
          "iopub.execute_input": "2022-12-26T12:14:30.542001Z",
          "iopub.status.busy": "2022-12-26T12:14:30.541260Z",
          "iopub.status.idle": "2022-12-26T12:14:30.547935Z",
          "shell.execute_reply": "2022-12-26T12:14:30.547197Z"
        },
        "papermill": {
          "duration": 0.020915,
          "end_time": "2022-12-26T12:14:30.550351",
          "exception": false,
          "start_time": "2022-12-26T12:14:30.529436",
          "status": "completed"
        },
        "tags": [],
        "id": "c1e62ed7",
        "outputId": "56d1bead-4e1e-4840-d691-c9e0691f6d33"
      },
      "outputs": [
        {
          "data": {
            "text/html": [
              "<div>\n",
              "<style scoped>\n",
              "    .dataframe tbody tr th:only-of-type {\n",
              "        vertical-align: middle;\n",
              "    }\n",
              "\n",
              "    .dataframe tbody tr th {\n",
              "        vertical-align: top;\n",
              "    }\n",
              "\n",
              "    .dataframe thead th {\n",
              "        text-align: right;\n",
              "    }\n",
              "\n",
              "    .dataframe td {\n",
              "        white-space: pre;\n",
              "    }\n",
              "\n",
              "    .dataframe td {\n",
              "        padding-top: 0;\n",
              "    }\n",
              "\n",
              "    .dataframe td {\n",
              "        padding-bottom: 0;\n",
              "    }\n",
              "\n",
              "    .dataframe td {\n",
              "        line-height: 95%;\n",
              "    }\n",
              "</style>\n",
              "<table border=\"1\" class=\"dataframe\">\n",
              "<small>shape: (5, 4)</small>\n",
              "<thead>\n",
              "<tr>\n",
              "<th>\n",
              "session\n",
              "</th>\n",
              "<th>\n",
              "aid\n",
              "</th>\n",
              "<th>\n",
              "ts\n",
              "</th>\n",
              "<th>\n",
              "type\n",
              "</th>\n",
              "</tr>\n",
              "<tr>\n",
              "<td>\n",
              "i32\n",
              "</td>\n",
              "<td>\n",
              "i32\n",
              "</td>\n",
              "<td>\n",
              "i32\n",
              "</td>\n",
              "<td>\n",
              "u8\n",
              "</td>\n",
              "</tr>\n",
              "</thead>\n",
              "<tbody>\n",
              "<tr>\n",
              "<td>\n",
              "12899779\n",
              "</td>\n",
              "<td>\n",
              "59625\n",
              "</td>\n",
              "<td>\n",
              "1661724000\n",
              "</td>\n",
              "<td>\n",
              "0\n",
              "</td>\n",
              "</tr>\n",
              "<tr>\n",
              "<td>\n",
              "12899780\n",
              "</td>\n",
              "<td>\n",
              "1142000\n",
              "</td>\n",
              "<td>\n",
              "1661724000\n",
              "</td>\n",
              "<td>\n",
              "0\n",
              "</td>\n",
              "</tr>\n",
              "<tr>\n",
              "<td>\n",
              "12899780\n",
              "</td>\n",
              "<td>\n",
              "582732\n",
              "</td>\n",
              "<td>\n",
              "1661724058\n",
              "</td>\n",
              "<td>\n",
              "0\n",
              "</td>\n",
              "</tr>\n",
              "<tr>\n",
              "<td>\n",
              "12899780\n",
              "</td>\n",
              "<td>\n",
              "973453\n",
              "</td>\n",
              "<td>\n",
              "1661724109\n",
              "</td>\n",
              "<td>\n",
              "0\n",
              "</td>\n",
              "</tr>\n",
              "<tr>\n",
              "<td>\n",
              "12899780\n",
              "</td>\n",
              "<td>\n",
              "736515\n",
              "</td>\n",
              "<td>\n",
              "1661724136\n",
              "</td>\n",
              "<td>\n",
              "0\n",
              "</td>\n",
              "</tr>\n",
              "</tbody>\n",
              "</table>\n",
              "</div>"
            ],
            "text/plain": [
              "shape: (5, 4)\n",
              "┌──────────┬─────────┬────────────┬──────┐\n",
              "│ session  ┆ aid     ┆ ts         ┆ type │\n",
              "│ ---      ┆ ---     ┆ ---        ┆ ---  │\n",
              "│ i32      ┆ i32     ┆ i32        ┆ u8   │\n",
              "╞══════════╪═════════╪════════════╪══════╡\n",
              "│ 12899779 ┆ 59625   ┆ 1661724000 ┆ 0    │\n",
              "├╌╌╌╌╌╌╌╌╌╌┼╌╌╌╌╌╌╌╌╌┼╌╌╌╌╌╌╌╌╌╌╌╌┼╌╌╌╌╌╌┤\n",
              "│ 12899780 ┆ 1142000 ┆ 1661724000 ┆ 0    │\n",
              "├╌╌╌╌╌╌╌╌╌╌┼╌╌╌╌╌╌╌╌╌┼╌╌╌╌╌╌╌╌╌╌╌╌┼╌╌╌╌╌╌┤\n",
              "│ 12899780 ┆ 582732  ┆ 1661724058 ┆ 0    │\n",
              "├╌╌╌╌╌╌╌╌╌╌┼╌╌╌╌╌╌╌╌╌┼╌╌╌╌╌╌╌╌╌╌╌╌┼╌╌╌╌╌╌┤\n",
              "│ 12899780 ┆ 973453  ┆ 1661724109 ┆ 0    │\n",
              "├╌╌╌╌╌╌╌╌╌╌┼╌╌╌╌╌╌╌╌╌┼╌╌╌╌╌╌╌╌╌╌╌╌┼╌╌╌╌╌╌┤\n",
              "│ 12899780 ┆ 736515  ┆ 1661724136 ┆ 0    │\n",
              "└──────────┴─────────┴────────────┴──────┘"
            ]
          },
          "execution_count": 7,
          "metadata": {},
          "output_type": "execute_result"
        }
      ],
      "source": [
        "test_df.head()"
      ]
    },
    {
      "cell_type": "code",
      "execution_count": null,
      "id": "40d22790",
      "metadata": {
        "execution": {
          "iopub.execute_input": "2022-12-26T12:14:30.574899Z",
          "iopub.status.busy": "2022-12-26T12:14:30.574164Z",
          "iopub.status.idle": "2022-12-26T12:14:42.937951Z",
          "shell.execute_reply": "2022-12-26T12:14:42.936826Z"
        },
        "papermill": {
          "duration": 12.379501,
          "end_time": "2022-12-26T12:14:42.941078",
          "exception": false,
          "start_time": "2022-12-26T12:14:30.561577",
          "status": "completed"
        },
        "tags": [],
        "id": "40d22790"
      },
      "outputs": [],
      "source": [
        "sentences_df = pl.concat([train_df, test_df]).groupby(\"session\").agg(pl.col(\"aid\").alias(\"sentence\"))"
      ]
    },
    {
      "cell_type": "code",
      "execution_count": null,
      "id": "26332409",
      "metadata": {
        "execution": {
          "iopub.execute_input": "2022-12-26T12:14:42.973387Z",
          "iopub.status.busy": "2022-12-26T12:14:42.972928Z",
          "iopub.status.idle": "2022-12-26T12:14:42.981865Z",
          "shell.execute_reply": "2022-12-26T12:14:42.980757Z"
        },
        "papermill": {
          "duration": 0.028559,
          "end_time": "2022-12-26T12:14:42.984940",
          "exception": false,
          "start_time": "2022-12-26T12:14:42.956381",
          "status": "completed"
        },
        "tags": [],
        "id": "26332409",
        "outputId": "5b952bde-bc21-4070-8562-42d57723aba1"
      },
      "outputs": [
        {
          "data": {
            "text/html": [
              "<div>\n",
              "<style scoped>\n",
              "    .dataframe tbody tr th:only-of-type {\n",
              "        vertical-align: middle;\n",
              "    }\n",
              "\n",
              "    .dataframe tbody tr th {\n",
              "        vertical-align: top;\n",
              "    }\n",
              "\n",
              "    .dataframe thead th {\n",
              "        text-align: right;\n",
              "    }\n",
              "\n",
              "    .dataframe td {\n",
              "        white-space: pre;\n",
              "    }\n",
              "\n",
              "    .dataframe td {\n",
              "        padding-top: 0;\n",
              "    }\n",
              "\n",
              "    .dataframe td {\n",
              "        padding-bottom: 0;\n",
              "    }\n",
              "\n",
              "    .dataframe td {\n",
              "        line-height: 95%;\n",
              "    }\n",
              "</style>\n",
              "<table border=\"1\" class=\"dataframe\">\n",
              "<small>shape: (5, 2)</small>\n",
              "<thead>\n",
              "<tr>\n",
              "<th>\n",
              "session\n",
              "</th>\n",
              "<th>\n",
              "sentence\n",
              "</th>\n",
              "</tr>\n",
              "<tr>\n",
              "<td>\n",
              "i32\n",
              "</td>\n",
              "<td>\n",
              "list[i32]\n",
              "</td>\n",
              "</tr>\n",
              "</thead>\n",
              "<tbody>\n",
              "<tr>\n",
              "<td>\n",
              "585540\n",
              "</td>\n",
              "<td>\n",
              "[1390152, 450695, ... 1132355]\n",
              "</td>\n",
              "</tr>\n",
              "<tr>\n",
              "<td>\n",
              "1777864\n",
              "</td>\n",
              "<td>\n",
              "[1502122, 822934, ... 758858]\n",
              "</td>\n",
              "</tr>\n",
              "<tr>\n",
              "<td>\n",
              "8497000\n",
              "</td>\n",
              "<td>\n",
              "[1517086, 647838, ... 1448942]\n",
              "</td>\n",
              "</tr>\n",
              "<tr>\n",
              "<td>\n",
              "10937276\n",
              "</td>\n",
              "<td>\n",
              "[1843722, 1843722, ... 462858]\n",
              "</td>\n",
              "</tr>\n",
              "<tr>\n",
              "<td>\n",
              "12885164\n",
              "</td>\n",
              "<td>\n",
              "[100178, 1635884, ... 304832]\n",
              "</td>\n",
              "</tr>\n",
              "</tbody>\n",
              "</table>\n",
              "</div>"
            ],
            "text/plain": [
              "shape: (5, 2)\n",
              "┌──────────┬────────────────────────────────┐\n",
              "│ session  ┆ sentence                       │\n",
              "│ ---      ┆ ---                            │\n",
              "│ i32      ┆ list[i32]                      │\n",
              "╞══════════╪════════════════════════════════╡\n",
              "│ 585540   ┆ [1390152, 450695, ... 1132355] │\n",
              "├╌╌╌╌╌╌╌╌╌╌┼╌╌╌╌╌╌╌╌╌╌╌╌╌╌╌╌╌╌╌╌╌╌╌╌╌╌╌╌╌╌╌╌┤\n",
              "│ 1777864  ┆ [1502122, 822934, ... 758858]  │\n",
              "├╌╌╌╌╌╌╌╌╌╌┼╌╌╌╌╌╌╌╌╌╌╌╌╌╌╌╌╌╌╌╌╌╌╌╌╌╌╌╌╌╌╌╌┤\n",
              "│ 8497000  ┆ [1517086, 647838, ... 1448942] │\n",
              "├╌╌╌╌╌╌╌╌╌╌┼╌╌╌╌╌╌╌╌╌╌╌╌╌╌╌╌╌╌╌╌╌╌╌╌╌╌╌╌╌╌╌╌┤\n",
              "│ 10937276 ┆ [1843722, 1843722, ... 462858] │\n",
              "├╌╌╌╌╌╌╌╌╌╌┼╌╌╌╌╌╌╌╌╌╌╌╌╌╌╌╌╌╌╌╌╌╌╌╌╌╌╌╌╌╌╌╌┤\n",
              "│ 12885164 ┆ [100178, 1635884, ... 304832]  │\n",
              "└──────────┴────────────────────────────────┘"
            ]
          },
          "execution_count": 9,
          "metadata": {},
          "output_type": "execute_result"
        }
      ],
      "source": [
        "sentences_df.head()"
      ]
    },
    {
      "cell_type": "markdown",
      "id": "76e6f3f9",
      "metadata": {
        "papermill": {
          "duration": 0.015249,
          "end_time": "2022-12-26T12:14:43.016274",
          "exception": false,
          "start_time": "2022-12-26T12:14:43.001025",
          "status": "completed"
        },
        "tags": [],
        "id": "76e6f3f9"
      },
      "source": [
        "**🟦EN** Modify the data to imporve the results of the model.\n",
        "\n"
      ]
    },
    {
      "cell_type": "code",
      "execution_count": null,
      "id": "e4b61ecf",
      "metadata": {
        "execution": {
          "iopub.execute_input": "2022-12-26T12:14:43.051015Z",
          "iopub.status.busy": "2022-12-26T12:14:43.050121Z",
          "iopub.status.idle": "2022-12-26T12:14:43.743924Z",
          "shell.execute_reply": "2022-12-26T12:14:43.742896Z"
        },
        "papermill": {
          "duration": 0.714533,
          "end_time": "2022-12-26T12:14:43.746403",
          "exception": false,
          "start_time": "2022-12-26T12:14:43.031870",
          "status": "completed"
        },
        "tags": [],
        "id": "e4b61ecf",
        "outputId": "fea368f0-e7cc-4150-a8b6-dc224061528a"
      },
      "outputs": [
        {
          "data": {
            "text/html": [
              "<div>\n",
              "<style scoped>\n",
              "    .dataframe tbody tr th:only-of-type {\n",
              "        vertical-align: middle;\n",
              "    }\n",
              "\n",
              "    .dataframe tbody tr th {\n",
              "        vertical-align: top;\n",
              "    }\n",
              "\n",
              "    .dataframe thead th {\n",
              "        text-align: right;\n",
              "    }\n",
              "\n",
              "    .dataframe td {\n",
              "        white-space: pre;\n",
              "    }\n",
              "\n",
              "    .dataframe td {\n",
              "        padding-top: 0;\n",
              "    }\n",
              "\n",
              "    .dataframe td {\n",
              "        padding-bottom: 0;\n",
              "    }\n",
              "\n",
              "    .dataframe td {\n",
              "        line-height: 95%;\n",
              "    }\n",
              "</style>\n",
              "<table border=\"1\" class=\"dataframe\">\n",
              "<small>shape: (5, 2)</small>\n",
              "<thead>\n",
              "<tr>\n",
              "<th>\n",
              "session\n",
              "</th>\n",
              "<th>\n",
              "sentence\n",
              "</th>\n",
              "</tr>\n",
              "<tr>\n",
              "<td>\n",
              "i32\n",
              "</td>\n",
              "<td>\n",
              "list[i32]\n",
              "</td>\n",
              "</tr>\n",
              "</thead>\n",
              "<tbody>\n",
              "<tr>\n",
              "<td>\n",
              "13173732\n",
              "</td>\n",
              "<td>\n",
              "[176502, 176502, ... 1716698]\n",
              "</td>\n",
              "</tr>\n",
              "<tr>\n",
              "<td>\n",
              "13198020\n",
              "</td>\n",
              "<td>\n",
              "[79595, 268265]\n",
              "</td>\n",
              "</tr>\n",
              "<tr>\n",
              "<td>\n",
              "14279316\n",
              "</td>\n",
              "<td>\n",
              "[1157167, 1793236]\n",
              "</td>\n",
              "</tr>\n",
              "<tr>\n",
              "<td>\n",
              "13230216\n",
              "</td>\n",
              "<td>\n",
              "[1289949]\n",
              "</td>\n",
              "</tr>\n",
              "<tr>\n",
              "<td>\n",
              "13539380\n",
              "</td>\n",
              "<td>\n",
              "[465861, 579690, 1296039]\n",
              "</td>\n",
              "</tr>\n",
              "</tbody>\n",
              "</table>\n",
              "</div>"
            ],
            "text/plain": [
              "shape: (5, 2)\n",
              "┌──────────┬───────────────────────────────┐\n",
              "│ session  ┆ sentence                      │\n",
              "│ ---      ┆ ---                           │\n",
              "│ i32      ┆ list[i32]                     │\n",
              "╞══════════╪═══════════════════════════════╡\n",
              "│ 13173732 ┆ [176502, 176502, ... 1716698] │\n",
              "├╌╌╌╌╌╌╌╌╌╌┼╌╌╌╌╌╌╌╌╌╌╌╌╌╌╌╌╌╌╌╌╌╌╌╌╌╌╌╌╌╌╌┤\n",
              "│ 13198020 ┆ [79595, 268265]               │\n",
              "├╌╌╌╌╌╌╌╌╌╌┼╌╌╌╌╌╌╌╌╌╌╌╌╌╌╌╌╌╌╌╌╌╌╌╌╌╌╌╌╌╌╌┤\n",
              "│ 14279316 ┆ [1157167, 1793236]            │\n",
              "├╌╌╌╌╌╌╌╌╌╌┼╌╌╌╌╌╌╌╌╌╌╌╌╌╌╌╌╌╌╌╌╌╌╌╌╌╌╌╌╌╌╌┤\n",
              "│ 13230216 ┆ [1289949]                     │\n",
              "├╌╌╌╌╌╌╌╌╌╌┼╌╌╌╌╌╌╌╌╌╌╌╌╌╌╌╌╌╌╌╌╌╌╌╌╌╌╌╌╌╌╌┤\n",
              "│ 13539380 ┆ [465861, 579690, 1296039]     │\n",
              "└──────────┴───────────────────────────────┘"
            ]
          },
          "execution_count": 10,
          "metadata": {},
          "output_type": "execute_result"
        }
      ],
      "source": [
        "test_pred_df = pl.concat([test_df]).groupby(\"session\").agg(pl.col(\"aid\").alias(\"sentence\"))\n",
        "test_pred_df.head()"
      ]
    },
    {
      "cell_type": "code",
      "execution_count": null,
      "id": "1171aeb0",
      "metadata": {
        "execution": {
          "iopub.execute_input": "2022-12-26T12:14:43.781450Z",
          "iopub.status.busy": "2022-12-26T12:14:43.780574Z",
          "iopub.status.idle": "2022-12-26T12:14:43.788327Z",
          "shell.execute_reply": "2022-12-26T12:14:43.787369Z"
        },
        "papermill": {
          "duration": 0.028122,
          "end_time": "2022-12-26T12:14:43.790804",
          "exception": false,
          "start_time": "2022-12-26T12:14:43.762682",
          "status": "completed"
        },
        "tags": [],
        "id": "1171aeb0",
        "outputId": "6ca8c6ef-15d5-45cf-a66f-7c0f6ce16548"
      },
      "outputs": [
        {
          "data": {
            "text/html": [
              "<div>\n",
              "<style scoped>\n",
              "    .dataframe tbody tr th:only-of-type {\n",
              "        vertical-align: middle;\n",
              "    }\n",
              "\n",
              "    .dataframe tbody tr th {\n",
              "        vertical-align: top;\n",
              "    }\n",
              "\n",
              "    .dataframe thead th {\n",
              "        text-align: right;\n",
              "    }\n",
              "\n",
              "    .dataframe td {\n",
              "        white-space: pre;\n",
              "    }\n",
              "\n",
              "    .dataframe td {\n",
              "        padding-top: 0;\n",
              "    }\n",
              "\n",
              "    .dataframe td {\n",
              "        padding-bottom: 0;\n",
              "    }\n",
              "\n",
              "    .dataframe td {\n",
              "        line-height: 95%;\n",
              "    }\n",
              "</style>\n",
              "<table border=\"1\" class=\"dataframe\">\n",
              "<small>shape: (5, 2)</small>\n",
              "<thead>\n",
              "<tr>\n",
              "<th>\n",
              "session\n",
              "</th>\n",
              "<th>\n",
              "sentence\n",
              "</th>\n",
              "</tr>\n",
              "<tr>\n",
              "<td>\n",
              "i32\n",
              "</td>\n",
              "<td>\n",
              "list[i32]\n",
              "</td>\n",
              "</tr>\n",
              "</thead>\n",
              "<tbody>\n",
              "<tr>\n",
              "<td>\n",
              "585540\n",
              "</td>\n",
              "<td>\n",
              "[1390152, 450695, ... 1132355]\n",
              "</td>\n",
              "</tr>\n",
              "<tr>\n",
              "<td>\n",
              "1777864\n",
              "</td>\n",
              "<td>\n",
              "[1502122, 822934, ... 758858]\n",
              "</td>\n",
              "</tr>\n",
              "<tr>\n",
              "<td>\n",
              "8497000\n",
              "</td>\n",
              "<td>\n",
              "[1517086, 647838, ... 1448942]\n",
              "</td>\n",
              "</tr>\n",
              "<tr>\n",
              "<td>\n",
              "10937276\n",
              "</td>\n",
              "<td>\n",
              "[1843722, 1843722, ... 462858]\n",
              "</td>\n",
              "</tr>\n",
              "<tr>\n",
              "<td>\n",
              "12885164\n",
              "</td>\n",
              "<td>\n",
              "[100178, 1635884, ... 304832]\n",
              "</td>\n",
              "</tr>\n",
              "</tbody>\n",
              "</table>\n",
              "</div>"
            ],
            "text/plain": [
              "shape: (5, 2)\n",
              "┌──────────┬────────────────────────────────┐\n",
              "│ session  ┆ sentence                       │\n",
              "│ ---      ┆ ---                            │\n",
              "│ i32      ┆ list[i32]                      │\n",
              "╞══════════╪════════════════════════════════╡\n",
              "│ 585540   ┆ [1390152, 450695, ... 1132355] │\n",
              "├╌╌╌╌╌╌╌╌╌╌┼╌╌╌╌╌╌╌╌╌╌╌╌╌╌╌╌╌╌╌╌╌╌╌╌╌╌╌╌╌╌╌╌┤\n",
              "│ 1777864  ┆ [1502122, 822934, ... 758858]  │\n",
              "├╌╌╌╌╌╌╌╌╌╌┼╌╌╌╌╌╌╌╌╌╌╌╌╌╌╌╌╌╌╌╌╌╌╌╌╌╌╌╌╌╌╌╌┤\n",
              "│ 8497000  ┆ [1517086, 647838, ... 1448942] │\n",
              "├╌╌╌╌╌╌╌╌╌╌┼╌╌╌╌╌╌╌╌╌╌╌╌╌╌╌╌╌╌╌╌╌╌╌╌╌╌╌╌╌╌╌╌┤\n",
              "│ 10937276 ┆ [1843722, 1843722, ... 462858] │\n",
              "├╌╌╌╌╌╌╌╌╌╌┼╌╌╌╌╌╌╌╌╌╌╌╌╌╌╌╌╌╌╌╌╌╌╌╌╌╌╌╌╌╌╌╌┤\n",
              "│ 12885164 ┆ [100178, 1635884, ... 304832]  │\n",
              "└──────────┴────────────────────────────────┘"
            ]
          },
          "execution_count": 11,
          "metadata": {},
          "output_type": "execute_result"
        }
      ],
      "source": [
        "sentences_df.head()"
      ]
    },
    {
      "cell_type": "code",
      "execution_count": null,
      "id": "934bfb41",
      "metadata": {
        "execution": {
          "iopub.execute_input": "2022-12-26T12:14:43.826252Z",
          "iopub.status.busy": "2022-12-26T12:14:43.825356Z",
          "iopub.status.idle": "2022-12-26T12:14:46.052556Z",
          "shell.execute_reply": "2022-12-26T12:14:46.051469Z"
        },
        "papermill": {
          "duration": 2.248144,
          "end_time": "2022-12-26T12:14:46.055440",
          "exception": false,
          "start_time": "2022-12-26T12:14:43.807296",
          "status": "completed"
        },
        "tags": [],
        "id": "934bfb41"
      },
      "outputs": [],
      "source": [
        "test_pred_df = test_pred_df.to_pandas().rename(columns={'sentence':'labels'})\n",
        "\n",
        "sentences_df_clicks = pl.concat([test_df]).filter(pl.col('type') == 0)\n",
        "sentences_df_carts = pl.concat([test_df]).filter(pl.col('type') == 1)\n",
        "sentences_df_orders = pl.concat([test_df]).filter(pl.col('type') == 2)\n",
        "\n",
        "sentences_df_clicks = sentences_df_clicks.groupby('session').agg(pl.col('aid').alias('sentence'))\n",
        "sentences_df_carts = sentences_df_carts.groupby('session').agg(pl.col('aid').alias('sentence'))\n",
        "sentences_df_orders = sentences_df_orders.groupby('session').agg(pl.col('aid').alias('sentence'))\n",
        "\n",
        "sentences_df_clicks = sentences_df_clicks.to_pandas().rename(columns={'sentence':'labels_clicks'})\n",
        "sentences_df_carts = sentences_df_carts.to_pandas().rename(columns={'sentence':'labels_carts'})\n",
        "sentences_df_orders = sentences_df_orders.to_pandas().rename(columns={'sentence':'labels_orders'})"
      ]
    },
    {
      "cell_type": "code",
      "execution_count": null,
      "id": "78d961e9",
      "metadata": {
        "execution": {
          "iopub.execute_input": "2022-12-26T12:14:46.085632Z",
          "iopub.status.busy": "2022-12-26T12:14:46.085226Z",
          "iopub.status.idle": "2022-12-26T12:14:49.094450Z",
          "shell.execute_reply": "2022-12-26T12:14:49.093164Z"
        },
        "papermill": {
          "duration": 3.025436,
          "end_time": "2022-12-26T12:14:49.097154",
          "exception": false,
          "start_time": "2022-12-26T12:14:46.071718",
          "status": "completed"
        },
        "tags": [],
        "id": "78d961e9",
        "outputId": "b7dbebf3-4495-45be-ea91-d06b7a8e1ebb"
      },
      "outputs": [
        {
          "data": {
            "text/html": [
              "<div>\n",
              "<style scoped>\n",
              "    .dataframe tbody tr th:only-of-type {\n",
              "        vertical-align: middle;\n",
              "    }\n",
              "\n",
              "    .dataframe tbody tr th {\n",
              "        vertical-align: top;\n",
              "    }\n",
              "\n",
              "    .dataframe thead th {\n",
              "        text-align: right;\n",
              "    }\n",
              "</style>\n",
              "<table border=\"1\" class=\"dataframe\">\n",
              "  <thead>\n",
              "    <tr style=\"text-align: right;\">\n",
              "      <th></th>\n",
              "      <th>session</th>\n",
              "      <th>labels</th>\n",
              "      <th>labels_clicks</th>\n",
              "      <th>labels_carts</th>\n",
              "      <th>labels_orders</th>\n",
              "    </tr>\n",
              "  </thead>\n",
              "  <tbody>\n",
              "    <tr>\n",
              "      <th>0</th>\n",
              "      <td>13173732</td>\n",
              "      <td>[176502, 176502, 964381, 964381, 1334074, 1334...</td>\n",
              "      <td>[176502, 176502, 964381, 964381, 1334074, 1334...</td>\n",
              "      <td>NaN</td>\n",
              "      <td>NaN</td>\n",
              "    </tr>\n",
              "    <tr>\n",
              "      <th>1</th>\n",
              "      <td>13198020</td>\n",
              "      <td>[79595, 268265]</td>\n",
              "      <td>[79595, 268265]</td>\n",
              "      <td>NaN</td>\n",
              "      <td>NaN</td>\n",
              "    </tr>\n",
              "    <tr>\n",
              "      <th>2</th>\n",
              "      <td>14279316</td>\n",
              "      <td>[1157167, 1793236]</td>\n",
              "      <td>[1157167, 1793236]</td>\n",
              "      <td>NaN</td>\n",
              "      <td>NaN</td>\n",
              "    </tr>\n",
              "    <tr>\n",
              "      <th>3</th>\n",
              "      <td>13230216</td>\n",
              "      <td>[1289949]</td>\n",
              "      <td>[1289949]</td>\n",
              "      <td>NaN</td>\n",
              "      <td>NaN</td>\n",
              "    </tr>\n",
              "    <tr>\n",
              "      <th>4</th>\n",
              "      <td>13539380</td>\n",
              "      <td>[465861, 579690, 1296039]</td>\n",
              "      <td>[465861, 579690, 1296039]</td>\n",
              "      <td>NaN</td>\n",
              "      <td>NaN</td>\n",
              "    </tr>\n",
              "  </tbody>\n",
              "</table>\n",
              "</div>"
            ],
            "text/plain": [
              "    session                                             labels  \\\n",
              "0  13173732  [176502, 176502, 964381, 964381, 1334074, 1334...   \n",
              "1  13198020                                    [79595, 268265]   \n",
              "2  14279316                                 [1157167, 1793236]   \n",
              "3  13230216                                          [1289949]   \n",
              "4  13539380                          [465861, 579690, 1296039]   \n",
              "\n",
              "                                       labels_clicks labels_carts  \\\n",
              "0  [176502, 176502, 964381, 964381, 1334074, 1334...          NaN   \n",
              "1                                    [79595, 268265]          NaN   \n",
              "2                                 [1157167, 1793236]          NaN   \n",
              "3                                          [1289949]          NaN   \n",
              "4                          [465861, 579690, 1296039]          NaN   \n",
              "\n",
              "  labels_orders  \n",
              "0           NaN  \n",
              "1           NaN  \n",
              "2           NaN  \n",
              "3           NaN  \n",
              "4           NaN  "
            ]
          },
          "execution_count": 13,
          "metadata": {},
          "output_type": "execute_result"
        }
      ],
      "source": [
        "test_pred_df = test_pred_df.merge(sentences_df_clicks, how='left', on='session') \\\n",
        "                           .merge(sentences_df_carts, how='left', on='session') \\\n",
        "                           .merge(sentences_df_orders, how='left', on='session') \n",
        "test_pred_df.head()"
      ]
    },
    {
      "cell_type": "code",
      "execution_count": null,
      "id": "938ea9b6",
      "metadata": {
        "execution": {
          "iopub.execute_input": "2022-12-26T12:14:49.122847Z",
          "iopub.status.busy": "2022-12-26T12:14:49.122435Z",
          "iopub.status.idle": "2022-12-26T12:15:27.235729Z",
          "shell.execute_reply": "2022-12-26T12:15:27.234464Z"
        },
        "papermill": {
          "duration": 38.137037,
          "end_time": "2022-12-26T12:15:27.246089",
          "exception": false,
          "start_time": "2022-12-26T12:14:49.109052",
          "status": "completed"
        },
        "tags": [],
        "id": "938ea9b6"
      },
      "outputs": [],
      "source": [
        "sentences_list = sentences_df['sentence'].to_list()"
      ]
    },
    {
      "cell_type": "code",
      "execution_count": null,
      "id": "011cdf32",
      "metadata": {
        "execution": {
          "iopub.execute_input": "2022-12-26T12:15:27.270764Z",
          "iopub.status.busy": "2022-12-26T12:15:27.270371Z",
          "iopub.status.idle": "2022-12-26T12:52:40.856660Z",
          "shell.execute_reply": "2022-12-26T12:52:40.855523Z"
        },
        "papermill": {
          "duration": 2233.602008,
          "end_time": "2022-12-26T12:52:40.859440",
          "exception": false,
          "start_time": "2022-12-26T12:15:27.257432",
          "status": "completed"
        },
        "tags": [],
        "id": "011cdf32"
      },
      "outputs": [],
      "source": [
        "n_cores = multiprocessing.cpu_count() - 1\n",
        "w2v = Word2Vec(\n",
        "    sentences = sentences_list,\n",
        "    vector_size = 100,\n",
        "    alpha = 0.02,\n",
        "    min_alpha = 0.01,\n",
        "    min_count = 1,\n",
        "    workers = n_cores)"
      ]
    },
    {
      "cell_type": "markdown",
      "id": "6db7e74c",
      "metadata": {
        "papermill": {
          "duration": 0.011689,
          "end_time": "2022-12-26T12:52:40.883152",
          "exception": false,
          "start_time": "2022-12-26T12:52:40.871463",
          "status": "completed"
        },
        "tags": [],
        "id": "6db7e74c"
      },
      "source": [
        "**🟦EN** We load the model we have downloaded to predict the results.\n",
        "\n"
      ]
    },
    {
      "cell_type": "code",
      "execution_count": null,
      "id": "ed0bd538",
      "metadata": {
        "execution": {
          "iopub.execute_input": "2022-12-26T12:52:40.909268Z",
          "iopub.status.busy": "2022-12-26T12:52:40.908844Z",
          "iopub.status.idle": "2022-12-26T12:53:06.006400Z",
          "shell.execute_reply": "2022-12-26T12:53:06.004464Z"
        },
        "papermill": {
          "duration": 25.116605,
          "end_time": "2022-12-26T12:53:06.012129",
          "exception": false,
          "start_time": "2022-12-26T12:52:40.895524",
          "status": "completed"
        },
        "tags": [],
        "id": "ed0bd538"
      },
      "outputs": [],
      "source": [
        "w2v.save(\"w2vc.model\")\n",
        "model = Word2Vec.load(\"w2vc.model\")"
      ]
    },
    {
      "cell_type": "code",
      "execution_count": null,
      "id": "6d9b0c35",
      "metadata": {
        "execution": {
          "iopub.execute_input": "2022-12-26T12:53:06.042820Z",
          "iopub.status.busy": "2022-12-26T12:53:06.041486Z",
          "iopub.status.idle": "2022-12-26T12:55:45.258768Z",
          "shell.execute_reply": "2022-12-26T12:55:45.257030Z"
        },
        "papermill": {
          "duration": 159.252111,
          "end_time": "2022-12-26T12:55:45.279404",
          "exception": false,
          "start_time": "2022-12-26T12:53:06.027293",
          "status": "completed"
        },
        "tags": [],
        "id": "6d9b0c35",
        "outputId": "d4953932-afc4-4b5b-d8f7-a6bf2553e3b9"
      },
      "outputs": [
        {
          "data": {
            "text/plain": [
              "True"
            ]
          },
          "execution_count": 17,
          "metadata": {},
          "output_type": "execute_result"
        }
      ],
      "source": [
        "aid2idx = {aid: i for i, aid in enumerate(model.wv.index_to_key)}\n",
        "index = AnnoyIndex(100, 'angular')\n",
        "\n",
        "for aid, idx in aid2idx.items():\n",
        "    index.add_item(aid, model.wv.vectors[idx])\n",
        "    \n",
        "index.build(50)"
      ]
    },
    {
      "cell_type": "markdown",
      "id": "1338864f",
      "metadata": {
        "papermill": {
          "duration": 0.018864,
          "end_time": "2022-12-26T12:55:45.318757",
          "exception": false,
          "start_time": "2022-12-26T12:55:45.299893",
          "status": "completed"
        },
        "tags": [],
        "id": "1338864f"
      },
      "source": [
        "**🟦EN** Split the labels by carts, order r clicks.\n",
        "\n"
      ]
    },
    {
      "cell_type": "code",
      "execution_count": null,
      "id": "61e67c37",
      "metadata": {
        "execution": {
          "iopub.execute_input": "2022-12-26T12:55:45.356922Z",
          "iopub.status.busy": "2022-12-26T12:55:45.356415Z",
          "iopub.status.idle": "2022-12-26T12:55:46.284309Z",
          "shell.execute_reply": "2022-12-26T12:55:46.283203Z"
        },
        "papermill": {
          "duration": 0.950344,
          "end_time": "2022-12-26T12:55:46.287151",
          "exception": false,
          "start_time": "2022-12-26T12:55:45.336807",
          "status": "completed"
        },
        "tags": [],
        "id": "61e67c37"
      },
      "outputs": [],
      "source": [
        "test_pred_df['labels_carts'] = test_pred_df['labels_carts'].fillna(test_pred_df['labels'])\n",
        "test_pred_df['labels_orders'] = test_pred_df['labels_orders'].fillna(test_pred_df['labels'])\n",
        "test_pred_df['labels_clicks'] = test_pred_df['labels_clicks'].fillna(test_pred_df['labels'])"
      ]
    },
    {
      "cell_type": "code",
      "execution_count": null,
      "id": "5534773d",
      "metadata": {
        "execution": {
          "iopub.execute_input": "2022-12-26T12:55:46.314844Z",
          "iopub.status.busy": "2022-12-26T12:55:46.314420Z",
          "iopub.status.idle": "2022-12-26T13:16:26.626821Z",
          "shell.execute_reply": "2022-12-26T13:16:26.625644Z"
        },
        "papermill": {
          "duration": 1240.329621,
          "end_time": "2022-12-26T13:16:26.629780",
          "exception": false,
          "start_time": "2022-12-26T12:55:46.300159",
          "status": "completed"
        },
        "tags": [],
        "id": "5534773d"
      },
      "outputs": [],
      "source": [
        "test_pred_df['labels'] = test_pred_df.labels.apply(lambda x: list(set(x)))\n",
        "test_pred_df['labels'] = test_pred_df.labels.apply(lambda x: m20_mult(x, len(x)))\n",
        "test_pred_df['labels'] = test_pred_df.labels.apply(lambda x: \" \".join(map(str,x)))\n",
        "test_pred_df = test_pred_df.drop(['labels_clicks', 'labels_carts', 'labels_orders'], axis=1)\n",
        "clicks_pred_df = test_pred_df.copy()\n",
        "clicks_pred_df.session = clicks_pred_df.session.apply(lambda x: str(x) + '_clicks')\n",
        "orders_pred_df = test_pred_df.copy()\n",
        "orders_pred_df.session = orders_pred_df.session.apply(lambda x: str(x) + '_orders')\n",
        "carts_pred_df = test_pred_df.copy()\n",
        "carts_pred_df.session = carts_pred_df.session.apply(lambda x: str(x) + '_carts')"
      ]
    },
    {
      "cell_type": "code",
      "execution_count": null,
      "id": "217a9060",
      "metadata": {
        "execution": {
          "iopub.execute_input": "2022-12-26T13:16:26.656005Z",
          "iopub.status.busy": "2022-12-26T13:16:26.654945Z",
          "iopub.status.idle": "2022-12-26T13:16:26.909436Z",
          "shell.execute_reply": "2022-12-26T13:16:26.908344Z"
        },
        "papermill": {
          "duration": 0.269965,
          "end_time": "2022-12-26T13:16:26.912006",
          "exception": false,
          "start_time": "2022-12-26T13:16:26.642041",
          "status": "completed"
        },
        "tags": [],
        "id": "217a9060"
      },
      "outputs": [],
      "source": [
        "pred_df = pd.concat(\n",
        "    [clicks_pred_df, orders_pred_df, carts_pred_df]\n",
        ")\n",
        "pred_df.columns = ['session_type', 'labels']"
      ]
    },
    {
      "cell_type": "markdown",
      "id": "5d80d93e",
      "metadata": {
        "papermill": {
          "duration": 0.01167,
          "end_time": "2022-12-26T13:16:26.935663",
          "exception": false,
          "start_time": "2022-12-26T13:16:26.923993",
          "status": "completed"
        },
        "tags": [],
        "id": "5d80d93e"
      },
      "source": [
        "**🟦EN** Predict the results\n"
      ]
    },
    {
      "cell_type": "code",
      "execution_count": null,
      "id": "9c041146",
      "metadata": {
        "execution": {
          "iopub.execute_input": "2022-12-26T13:16:26.960716Z",
          "iopub.status.busy": "2022-12-26T13:16:26.960311Z",
          "iopub.status.idle": "2022-12-26T13:16:44.220878Z",
          "shell.execute_reply": "2022-12-26T13:16:44.219572Z"
        },
        "papermill": {
          "duration": 17.2766,
          "end_time": "2022-12-26T13:16:44.223971",
          "exception": false,
          "start_time": "2022-12-26T13:16:26.947371",
          "status": "completed"
        },
        "tags": [],
        "id": "9c041146"
      },
      "outputs": [],
      "source": [
        "pred_df = pred_df.sort_values(by='session_type').reset_index()\n",
        "pred_df = pred_df.drop('index', axis=1)"
      ]
    },
    {
      "cell_type": "markdown",
      "id": "95f1f07e",
      "metadata": {
        "papermill": {
          "duration": 0.011171,
          "end_time": "2022-12-26T13:16:44.247126",
          "exception": false,
          "start_time": "2022-12-26T13:16:44.235955",
          "status": "completed"
        },
        "tags": [],
        "id": "95f1f07e"
      },
      "source": [
        "## Submission 📤"
      ]
    },
    {
      "cell_type": "code",
      "execution_count": null,
      "id": "8a03a32d",
      "metadata": {
        "execution": {
          "iopub.execute_input": "2022-12-26T13:16:44.273092Z",
          "iopub.status.busy": "2022-12-26T13:16:44.272435Z",
          "iopub.status.idle": "2022-12-26T13:17:06.691152Z",
          "shell.execute_reply": "2022-12-26T13:17:06.689964Z"
        },
        "papermill": {
          "duration": 22.435008,
          "end_time": "2022-12-26T13:17:06.693825",
          "exception": false,
          "start_time": "2022-12-26T13:16:44.258817",
          "status": "completed"
        },
        "tags": [],
        "id": "8a03a32d"
      },
      "outputs": [],
      "source": [
        "pred_df.to_csv(\"submission.csv\", index=False)"
      ]
    }
  ],
  "metadata": {
    "kernelspec": {
      "display_name": "Python 3",
      "language": "python",
      "name": "python3"
    },
    "language_info": {
      "codemirror_mode": {
        "name": "ipython",
        "version": 3
      },
      "file_extension": ".py",
      "mimetype": "text/x-python",
      "name": "python",
      "nbconvert_exporter": "python",
      "pygments_lexer": "ipython3",
      "version": "3.7.12"
    },
    "papermill": {
      "default_parameters": {},
      "duration": 3801.78005,
      "end_time": "2022-12-26T13:17:10.951992",
      "environment_variables": {},
      "exception": null,
      "input_path": "__notebook__.ipynb",
      "output_path": "__notebook__.ipynb",
      "parameters": {},
      "start_time": "2022-12-26T12:13:49.171942",
      "version": "2.3.4"
    },
    "colab": {
      "provenance": []
    }
  },
  "nbformat": 4,
  "nbformat_minor": 5
}